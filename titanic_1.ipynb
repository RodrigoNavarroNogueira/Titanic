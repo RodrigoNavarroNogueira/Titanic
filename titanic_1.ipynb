{
 "cells": [
  {
   "cell_type": "markdown",
   "id": "e9b8605c-628b-41bc-bf15-2bff2cc61e27",
   "metadata": {},
   "source": [
    "# Titanic - Machine Learning from Disaster"
   ]
  },
  {
   "cell_type": "markdown",
   "id": "cd06e657-9425-45f1-a9eb-7a1858acc086",
   "metadata": {
    "tags": []
   },
   "source": [
    "<img src=\"img/titanic1.webp\">"
   ]
  },
  {
   "cell_type": "markdown",
   "id": "53cbb52b",
   "metadata": {},
   "source": [
    "# Projeto Titanic - Parte 1\n",
    "Este projeto foi separado em 2 partes, espero mostrar como um cientista de dados agiria para resolver um problema. O objetivo é prever corretamente se alguém sobreviveu ao naufrágio do Titanic.\n",
    "\n",
    "- Parte 2: [Clique aqui](titanic_2.ipynb)\n",
    "\n",
    "Nessa primeira parte iremos fazer toda a EDA e data cleaning juntos, visulizando e tratando os dados. Depois criamos features e fazemos todo o pré-processamento, por fim salvando todo o progresso para iniciar o treinamento de modelos na parte 2\n",
    "\n",
    "**Melhores resultados: 78.468% de precisão**\n",
    "\n",
    "## Overview \n",
    "- ### Exploratory Data Analysis (EDA)\n",
    "    - [Data Exploration](https://github.com/RodrigoNavarroNogueira/Titanic/blob/master/titanic_1.ipynb#Data-Exploration)\n",
    "    - [Data Visualization](#Data-Visualization)\n",
    "    - [Inconsistent Values](#Inconsistent-Values)\n",
    "    - [Missing Data](#Missing-Data)\n",
    "    - [Pclass](#Pclass)\n",
    "    - [Sex](#Sex)\n",
    "    - [Sibsp/Parch](#SibSp/Parch)\n",
    "    - [Fare](#Fare)\n",
    "    - [Embarked](#Embarked)\n",
    "    - [Cabin](#Cabin)\n",
    "    - [Age](#Age)\n",
    "    - [Data Cleaning](#Data-Cleaning)\n",
    "- ### Feature Engineering\n",
    "    - [Title](#Title)\n",
    "    - [Relatives](#Relatives)\n",
    "    - [Alone](#Alone)\n",
    "- ### Data Preprocessing for Model\n",
    "    - [Pre Processing](#Pre-Processing)\n",
    "    - [Feature Transformation](#Feature-Transformation)\n",
    "    - [Attribute Scaling](#Attribute-Scaling)\n",
    "    - [Final Considerations](#Final-Considerations)\n"
   ]
  },
  {
   "cell_type": "code",
   "execution_count": 1,
   "id": "8d0de113-1205-483a-b7ec-f31da880b9dd",
   "metadata": {
    "tags": []
   },
   "outputs": [],
   "source": [
    "# Importando todas as bibliotecas que serão necessárias\n",
    "import pickle\n",
    "import numpy as np\n",
    "import pandas as pd\n",
    "import seaborn as sns\n",
    "import matplotlib.pyplot as plt\n",
    "from scipy.stats import shapiro\n",
    "from sklearn.preprocessing import OneHotEncoder, OrdinalEncoder, StandardScaler\n",
    "from sklearn.compose import ColumnTransformer\n",
    "from sklearn.model_selection import train_test_split"
   ]
  },
  {
   "cell_type": "code",
   "execution_count": 2,
   "id": "f2adcf12-b0cd-45af-a2b7-5c01c4fb6f3a",
   "metadata": {
    "tags": []
   },
   "outputs": [],
   "source": [
    "# Carregando as bases de dados\n",
    "train = pd.read_csv('train.csv')\n",
    "test = pd.read_csv('test.csv')"
   ]
  },
  {
   "cell_type": "markdown",
   "id": "01405a93",
   "metadata": {},
   "source": [
    "# EDA\n",
    "#### Análise Exploratória de Dados\n",
    "\n",
    "- Vamos obter uma compreensão geral do conjunto de dados, incluindo o número de amostras, características disponíveis, tipos de dados, distribuição das características e resumo estatístico.\n",
    "    - Visualização dos dados\n",
    "    - Valores inconsistentes\n",
    "    - Valores faltantes"
   ]
  },
  {
   "cell_type": "markdown",
   "id": "92fb5182-3ea9-4588-9cc6-c1762af890f7",
   "metadata": {},
   "source": [
    "## Data Exploration"
   ]
  },
  {
   "cell_type": "code",
   "execution_count": 3,
   "id": "28ba8f9c-daa8-445f-9af3-d97935beac4c",
   "metadata": {
    "tags": []
   },
   "outputs": [
    {
     "data": {
      "text/plain": [
       "(array([0, 1], dtype=int64), array([549, 342], dtype=int64))"
      ]
     },
     "execution_count": 3,
     "metadata": {},
     "output_type": "execute_result"
    }
   ],
   "source": [
    "# Survival 0 = No, 1 = Yes\n",
    "# Verificando quais são as classes e a quantidade\n",
    "np.unique(train['Survived'], return_counts=True)"
   ]
  },
  {
   "cell_type": "code",
   "execution_count": 4,
   "id": "ab23662a-6b1f-4ded-b839-93417d35f2ff",
   "metadata": {
    "tags": []
   },
   "outputs": [],
   "source": [
    "# Juntando os DataFrames train e test, para fazer todo o pre-processamento uma unica vez\n",
    "df_full = pd.concat([train, test]).reset_index(drop=True)"
   ]
  },
  {
   "cell_type": "code",
   "execution_count": 5,
   "id": "03756d22-a996-4753-b086-bf777ac49ab6",
   "metadata": {
    "tags": []
   },
   "outputs": [
    {
     "data": {
      "text/html": [
       "<div>\n",
       "<style scoped>\n",
       "    .dataframe tbody tr th:only-of-type {\n",
       "        vertical-align: middle;\n",
       "    }\n",
       "\n",
       "    .dataframe tbody tr th {\n",
       "        vertical-align: top;\n",
       "    }\n",
       "\n",
       "    .dataframe thead th {\n",
       "        text-align: right;\n",
       "    }\n",
       "</style>\n",
       "<table border=\"1\" class=\"dataframe\">\n",
       "  <thead>\n",
       "    <tr style=\"text-align: right;\">\n",
       "      <th></th>\n",
       "      <th>PassengerId</th>\n",
       "      <th>Survived</th>\n",
       "      <th>Pclass</th>\n",
       "      <th>Name</th>\n",
       "      <th>Sex</th>\n",
       "      <th>Age</th>\n",
       "      <th>SibSp</th>\n",
       "      <th>Parch</th>\n",
       "      <th>Ticket</th>\n",
       "      <th>Fare</th>\n",
       "      <th>Cabin</th>\n",
       "      <th>Embarked</th>\n",
       "    </tr>\n",
       "  </thead>\n",
       "  <tbody>\n",
       "    <tr>\n",
       "      <th>0</th>\n",
       "      <td>1</td>\n",
       "      <td>0.0</td>\n",
       "      <td>3</td>\n",
       "      <td>Braund, Mr. Owen Harris</td>\n",
       "      <td>male</td>\n",
       "      <td>22.0</td>\n",
       "      <td>1</td>\n",
       "      <td>0</td>\n",
       "      <td>A/5 21171</td>\n",
       "      <td>7.2500</td>\n",
       "      <td>NaN</td>\n",
       "      <td>S</td>\n",
       "    </tr>\n",
       "    <tr>\n",
       "      <th>1</th>\n",
       "      <td>2</td>\n",
       "      <td>1.0</td>\n",
       "      <td>1</td>\n",
       "      <td>Cumings, Mrs. John Bradley (Florence Briggs Th...</td>\n",
       "      <td>female</td>\n",
       "      <td>38.0</td>\n",
       "      <td>1</td>\n",
       "      <td>0</td>\n",
       "      <td>PC 17599</td>\n",
       "      <td>71.2833</td>\n",
       "      <td>C85</td>\n",
       "      <td>C</td>\n",
       "    </tr>\n",
       "    <tr>\n",
       "      <th>2</th>\n",
       "      <td>3</td>\n",
       "      <td>1.0</td>\n",
       "      <td>3</td>\n",
       "      <td>Heikkinen, Miss. Laina</td>\n",
       "      <td>female</td>\n",
       "      <td>26.0</td>\n",
       "      <td>0</td>\n",
       "      <td>0</td>\n",
       "      <td>STON/O2. 3101282</td>\n",
       "      <td>7.9250</td>\n",
       "      <td>NaN</td>\n",
       "      <td>S</td>\n",
       "    </tr>\n",
       "    <tr>\n",
       "      <th>3</th>\n",
       "      <td>4</td>\n",
       "      <td>1.0</td>\n",
       "      <td>1</td>\n",
       "      <td>Futrelle, Mrs. Jacques Heath (Lily May Peel)</td>\n",
       "      <td>female</td>\n",
       "      <td>35.0</td>\n",
       "      <td>1</td>\n",
       "      <td>0</td>\n",
       "      <td>113803</td>\n",
       "      <td>53.1000</td>\n",
       "      <td>C123</td>\n",
       "      <td>S</td>\n",
       "    </tr>\n",
       "    <tr>\n",
       "      <th>4</th>\n",
       "      <td>5</td>\n",
       "      <td>0.0</td>\n",
       "      <td>3</td>\n",
       "      <td>Allen, Mr. William Henry</td>\n",
       "      <td>male</td>\n",
       "      <td>35.0</td>\n",
       "      <td>0</td>\n",
       "      <td>0</td>\n",
       "      <td>373450</td>\n",
       "      <td>8.0500</td>\n",
       "      <td>NaN</td>\n",
       "      <td>S</td>\n",
       "    </tr>\n",
       "  </tbody>\n",
       "</table>\n",
       "</div>"
      ],
      "text/plain": [
       "   PassengerId  Survived  Pclass  \\\n",
       "0            1       0.0       3   \n",
       "1            2       1.0       1   \n",
       "2            3       1.0       3   \n",
       "3            4       1.0       1   \n",
       "4            5       0.0       3   \n",
       "\n",
       "                                                Name     Sex   Age  SibSp  \\\n",
       "0                            Braund, Mr. Owen Harris    male  22.0      1   \n",
       "1  Cumings, Mrs. John Bradley (Florence Briggs Th...  female  38.0      1   \n",
       "2                             Heikkinen, Miss. Laina  female  26.0      0   \n",
       "3       Futrelle, Mrs. Jacques Heath (Lily May Peel)  female  35.0      1   \n",
       "4                           Allen, Mr. William Henry    male  35.0      0   \n",
       "\n",
       "   Parch            Ticket     Fare Cabin Embarked  \n",
       "0      0         A/5 21171   7.2500   NaN        S  \n",
       "1      0          PC 17599  71.2833   C85        C  \n",
       "2      0  STON/O2. 3101282   7.9250   NaN        S  \n",
       "3      0            113803  53.1000  C123        S  \n",
       "4      0            373450   8.0500   NaN        S  "
      ]
     },
     "execution_count": 5,
     "metadata": {},
     "output_type": "execute_result"
    }
   ],
   "source": [
    "# Visualizando os 5 primeiros registros do DataFrame criado\n",
    "df_full.head()"
   ]
  },
  {
   "cell_type": "code",
   "execution_count": 6,
   "id": "8c7c11b7-08d0-42df-8073-1bc80ab1a230",
   "metadata": {
    "tags": []
   },
   "outputs": [
    {
     "data": {
      "text/html": [
       "<div>\n",
       "<style scoped>\n",
       "    .dataframe tbody tr th:only-of-type {\n",
       "        vertical-align: middle;\n",
       "    }\n",
       "\n",
       "    .dataframe tbody tr th {\n",
       "        vertical-align: top;\n",
       "    }\n",
       "\n",
       "    .dataframe thead th {\n",
       "        text-align: right;\n",
       "    }\n",
       "</style>\n",
       "<table border=\"1\" class=\"dataframe\">\n",
       "  <thead>\n",
       "    <tr style=\"text-align: right;\">\n",
       "      <th></th>\n",
       "      <th>PassengerId</th>\n",
       "      <th>Survived</th>\n",
       "      <th>Pclass</th>\n",
       "      <th>Name</th>\n",
       "      <th>Sex</th>\n",
       "      <th>Age</th>\n",
       "      <th>SibSp</th>\n",
       "      <th>Parch</th>\n",
       "      <th>Ticket</th>\n",
       "      <th>Fare</th>\n",
       "      <th>Cabin</th>\n",
       "      <th>Embarked</th>\n",
       "    </tr>\n",
       "  </thead>\n",
       "  <tbody>\n",
       "    <tr>\n",
       "      <th>1304</th>\n",
       "      <td>1305</td>\n",
       "      <td>NaN</td>\n",
       "      <td>3</td>\n",
       "      <td>Spector, Mr. Woolf</td>\n",
       "      <td>male</td>\n",
       "      <td>NaN</td>\n",
       "      <td>0</td>\n",
       "      <td>0</td>\n",
       "      <td>A.5. 3236</td>\n",
       "      <td>8.0500</td>\n",
       "      <td>NaN</td>\n",
       "      <td>S</td>\n",
       "    </tr>\n",
       "    <tr>\n",
       "      <th>1305</th>\n",
       "      <td>1306</td>\n",
       "      <td>NaN</td>\n",
       "      <td>1</td>\n",
       "      <td>Oliva y Ocana, Dona. Fermina</td>\n",
       "      <td>female</td>\n",
       "      <td>39.0</td>\n",
       "      <td>0</td>\n",
       "      <td>0</td>\n",
       "      <td>PC 17758</td>\n",
       "      <td>108.9000</td>\n",
       "      <td>C105</td>\n",
       "      <td>C</td>\n",
       "    </tr>\n",
       "    <tr>\n",
       "      <th>1306</th>\n",
       "      <td>1307</td>\n",
       "      <td>NaN</td>\n",
       "      <td>3</td>\n",
       "      <td>Saether, Mr. Simon Sivertsen</td>\n",
       "      <td>male</td>\n",
       "      <td>38.5</td>\n",
       "      <td>0</td>\n",
       "      <td>0</td>\n",
       "      <td>SOTON/O.Q. 3101262</td>\n",
       "      <td>7.2500</td>\n",
       "      <td>NaN</td>\n",
       "      <td>S</td>\n",
       "    </tr>\n",
       "    <tr>\n",
       "      <th>1307</th>\n",
       "      <td>1308</td>\n",
       "      <td>NaN</td>\n",
       "      <td>3</td>\n",
       "      <td>Ware, Mr. Frederick</td>\n",
       "      <td>male</td>\n",
       "      <td>NaN</td>\n",
       "      <td>0</td>\n",
       "      <td>0</td>\n",
       "      <td>359309</td>\n",
       "      <td>8.0500</td>\n",
       "      <td>NaN</td>\n",
       "      <td>S</td>\n",
       "    </tr>\n",
       "    <tr>\n",
       "      <th>1308</th>\n",
       "      <td>1309</td>\n",
       "      <td>NaN</td>\n",
       "      <td>3</td>\n",
       "      <td>Peter, Master. Michael J</td>\n",
       "      <td>male</td>\n",
       "      <td>NaN</td>\n",
       "      <td>1</td>\n",
       "      <td>1</td>\n",
       "      <td>2668</td>\n",
       "      <td>22.3583</td>\n",
       "      <td>NaN</td>\n",
       "      <td>C</td>\n",
       "    </tr>\n",
       "  </tbody>\n",
       "</table>\n",
       "</div>"
      ],
      "text/plain": [
       "      PassengerId  Survived  Pclass                          Name     Sex  \\\n",
       "1304         1305       NaN       3            Spector, Mr. Woolf    male   \n",
       "1305         1306       NaN       1  Oliva y Ocana, Dona. Fermina  female   \n",
       "1306         1307       NaN       3  Saether, Mr. Simon Sivertsen    male   \n",
       "1307         1308       NaN       3           Ware, Mr. Frederick    male   \n",
       "1308         1309       NaN       3      Peter, Master. Michael J    male   \n",
       "\n",
       "       Age  SibSp  Parch              Ticket      Fare Cabin Embarked  \n",
       "1304   NaN      0      0           A.5. 3236    8.0500   NaN        S  \n",
       "1305  39.0      0      0            PC 17758  108.9000  C105        C  \n",
       "1306  38.5      0      0  SOTON/O.Q. 3101262    7.2500   NaN        S  \n",
       "1307   NaN      0      0              359309    8.0500   NaN        S  \n",
       "1308   NaN      1      1                2668   22.3583   NaN        C  "
      ]
     },
     "execution_count": 6,
     "metadata": {},
     "output_type": "execute_result"
    }
   ],
   "source": [
    "# Visualizando os 5 ultimos registros\n",
    "df_full.tail()"
   ]
  },
  {
   "cell_type": "code",
   "execution_count": 7,
   "id": "942fab30-c916-477c-88ea-f9e902d67326",
   "metadata": {
    "tags": []
   },
   "outputs": [
    {
     "name": "stdout",
     "output_type": "stream",
     "text": [
      "<class 'pandas.core.frame.DataFrame'>\n",
      "RangeIndex: 1309 entries, 0 to 1308\n",
      "Data columns (total 12 columns):\n",
      " #   Column       Non-Null Count  Dtype  \n",
      "---  ------       --------------  -----  \n",
      " 0   PassengerId  1309 non-null   int64  \n",
      " 1   Survived     891 non-null    float64\n",
      " 2   Pclass       1309 non-null   int64  \n",
      " 3   Name         1309 non-null   object \n",
      " 4   Sex          1309 non-null   object \n",
      " 5   Age          1046 non-null   float64\n",
      " 6   SibSp        1309 non-null   int64  \n",
      " 7   Parch        1309 non-null   int64  \n",
      " 8   Ticket       1309 non-null   object \n",
      " 9   Fare         1308 non-null   float64\n",
      " 10  Cabin        295 non-null    object \n",
      " 11  Embarked     1307 non-null   object \n",
      "dtypes: float64(3), int64(4), object(5)\n",
      "memory usage: 122.8+ KB\n"
     ]
    }
   ],
   "source": [
    "# Visualizando quais features são categoricas e numéricas\n",
    "df_full.info()"
   ]
  },
  {
   "cell_type": "code",
   "execution_count": 8,
   "id": "6b20db01-b8ea-495c-b9c1-40e0ff3b61f3",
   "metadata": {
    "tags": []
   },
   "outputs": [
    {
     "data": {
      "text/html": [
       "<div>\n",
       "<style scoped>\n",
       "    .dataframe tbody tr th:only-of-type {\n",
       "        vertical-align: middle;\n",
       "    }\n",
       "\n",
       "    .dataframe tbody tr th {\n",
       "        vertical-align: top;\n",
       "    }\n",
       "\n",
       "    .dataframe thead th {\n",
       "        text-align: right;\n",
       "    }\n",
       "</style>\n",
       "<table border=\"1\" class=\"dataframe\">\n",
       "  <thead>\n",
       "    <tr style=\"text-align: right;\">\n",
       "      <th></th>\n",
       "      <th>PassengerId</th>\n",
       "      <th>Survived</th>\n",
       "      <th>Pclass</th>\n",
       "      <th>Age</th>\n",
       "      <th>SibSp</th>\n",
       "      <th>Parch</th>\n",
       "      <th>Fare</th>\n",
       "    </tr>\n",
       "  </thead>\n",
       "  <tbody>\n",
       "    <tr>\n",
       "      <th>count</th>\n",
       "      <td>1309.000000</td>\n",
       "      <td>891.000000</td>\n",
       "      <td>1309.000000</td>\n",
       "      <td>1046.000000</td>\n",
       "      <td>1309.000000</td>\n",
       "      <td>1309.000000</td>\n",
       "      <td>1308.000000</td>\n",
       "    </tr>\n",
       "    <tr>\n",
       "      <th>mean</th>\n",
       "      <td>655.000000</td>\n",
       "      <td>0.383838</td>\n",
       "      <td>2.294882</td>\n",
       "      <td>29.881138</td>\n",
       "      <td>0.498854</td>\n",
       "      <td>0.385027</td>\n",
       "      <td>33.295479</td>\n",
       "    </tr>\n",
       "    <tr>\n",
       "      <th>std</th>\n",
       "      <td>378.020061</td>\n",
       "      <td>0.486592</td>\n",
       "      <td>0.837836</td>\n",
       "      <td>14.413493</td>\n",
       "      <td>1.041658</td>\n",
       "      <td>0.865560</td>\n",
       "      <td>51.758668</td>\n",
       "    </tr>\n",
       "    <tr>\n",
       "      <th>min</th>\n",
       "      <td>1.000000</td>\n",
       "      <td>0.000000</td>\n",
       "      <td>1.000000</td>\n",
       "      <td>0.170000</td>\n",
       "      <td>0.000000</td>\n",
       "      <td>0.000000</td>\n",
       "      <td>0.000000</td>\n",
       "    </tr>\n",
       "    <tr>\n",
       "      <th>25%</th>\n",
       "      <td>328.000000</td>\n",
       "      <td>0.000000</td>\n",
       "      <td>2.000000</td>\n",
       "      <td>21.000000</td>\n",
       "      <td>0.000000</td>\n",
       "      <td>0.000000</td>\n",
       "      <td>7.895800</td>\n",
       "    </tr>\n",
       "    <tr>\n",
       "      <th>50%</th>\n",
       "      <td>655.000000</td>\n",
       "      <td>0.000000</td>\n",
       "      <td>3.000000</td>\n",
       "      <td>28.000000</td>\n",
       "      <td>0.000000</td>\n",
       "      <td>0.000000</td>\n",
       "      <td>14.454200</td>\n",
       "    </tr>\n",
       "    <tr>\n",
       "      <th>75%</th>\n",
       "      <td>982.000000</td>\n",
       "      <td>1.000000</td>\n",
       "      <td>3.000000</td>\n",
       "      <td>39.000000</td>\n",
       "      <td>1.000000</td>\n",
       "      <td>0.000000</td>\n",
       "      <td>31.275000</td>\n",
       "    </tr>\n",
       "    <tr>\n",
       "      <th>max</th>\n",
       "      <td>1309.000000</td>\n",
       "      <td>1.000000</td>\n",
       "      <td>3.000000</td>\n",
       "      <td>80.000000</td>\n",
       "      <td>8.000000</td>\n",
       "      <td>9.000000</td>\n",
       "      <td>512.329200</td>\n",
       "    </tr>\n",
       "  </tbody>\n",
       "</table>\n",
       "</div>"
      ],
      "text/plain": [
       "       PassengerId    Survived       Pclass          Age        SibSp  \\\n",
       "count  1309.000000  891.000000  1309.000000  1046.000000  1309.000000   \n",
       "mean    655.000000    0.383838     2.294882    29.881138     0.498854   \n",
       "std     378.020061    0.486592     0.837836    14.413493     1.041658   \n",
       "min       1.000000    0.000000     1.000000     0.170000     0.000000   \n",
       "25%     328.000000    0.000000     2.000000    21.000000     0.000000   \n",
       "50%     655.000000    0.000000     3.000000    28.000000     0.000000   \n",
       "75%     982.000000    1.000000     3.000000    39.000000     1.000000   \n",
       "max    1309.000000    1.000000     3.000000    80.000000     8.000000   \n",
       "\n",
       "             Parch         Fare  \n",
       "count  1309.000000  1308.000000  \n",
       "mean      0.385027    33.295479  \n",
       "std       0.865560    51.758668  \n",
       "min       0.000000     0.000000  \n",
       "25%       0.000000     7.895800  \n",
       "50%       0.000000    14.454200  \n",
       "75%       0.000000    31.275000  \n",
       "max       9.000000   512.329200  "
      ]
     },
     "execution_count": 8,
     "metadata": {},
     "output_type": "execute_result"
    }
   ],
   "source": [
    "# Resumo estatistico das features numéricas\n",
    "df_full.describe()"
   ]
  },
  {
   "cell_type": "code",
   "execution_count": 9,
   "id": "b8fc6a00-8c69-4140-82a8-4e7e1c418bca",
   "metadata": {
    "tags": []
   },
   "outputs": [
    {
     "data": {
      "text/plain": [
       "(1309, 12)"
      ]
     },
     "execution_count": 9,
     "metadata": {},
     "output_type": "execute_result"
    }
   ],
   "source": [
    "# Formato do Dataframe, 1309 registros e 12 features\n",
    "df_full.shape"
   ]
  },
  {
   "cell_type": "markdown",
   "id": "dce75097-392f-4572-99e2-40d56a553a08",
   "metadata": {
    "tags": []
   },
   "source": [
    "# Data Visualization"
   ]
  },
  {
   "cell_type": "code",
   "execution_count": 10,
   "id": "75eca90d-0252-41d1-8a7f-a0f574c29bab",
   "metadata": {
    "tags": []
   },
   "outputs": [
    {
     "data": {
      "image/png": "[encoded data removed]",
      "text/plain": [
       "<Figure size 640x480 with 1 Axes>"
      ]
     },
     "metadata": {},
     "output_type": "display_data"
    }
   ],
   "source": [
    "# Criando um gráfico de barras\n",
    "sns.countplot(x = train['Survived']);"
   ]
  },
  {
   "cell_type": "code",
   "execution_count": 11,
   "id": "76d30828-5ed5-44c6-8b38-58736647f9f8",
   "metadata": {
    "tags": []
   },
   "outputs": [
    {
     "data": {
      "image/png": "[encoded data removed]",
      "text/plain": [
       "<Figure size 640x480 with 1 Axes>"
      ]
     },
     "metadata": {},
     "output_type": "display_data"
    }
   ],
   "source": [
    "# Histograma da idade dos passageiros\n",
    "plt.hist(x = df_full['Age']);"
   ]
  },
  {
   "cell_type": "code",
   "execution_count": 12,
   "id": "7118b5fb-bc65-4720-8bc3-18857dc71639",
   "metadata": {
    "tags": []
   },
   "outputs": [
    {
     "data": {
      "image/png": "[encoded data removed]",
      "text/plain": [
       "<Figure size 640x480 with 1 Axes>"
      ]
     },
     "metadata": {},
     "output_type": "display_data"
    }
   ],
   "source": [
    "# Histograma dos valores pagos pelos passageiros\n",
    "plt.hist(x = df_full['Fare']);"
   ]
  },
  {
   "cell_type": "code",
   "execution_count": 13,
   "id": "58a89ce5-06ab-4e0d-ac34-6a3757baa7cc",
   "metadata": {
    "tags": []
   },
   "outputs": [
    {
     "data": {
      "image/png": "[encoded data removed]",
      "text/plain": [
       "<Figure size 640x480 with 1 Axes>"
      ]
     },
     "metadata": {},
     "output_type": "display_data"
    }
   ],
   "source": [
    "# Histograma de pais/filhos\n",
    "plt.hist(x = df_full['SibSp']);"
   ]
  },
  {
   "cell_type": "code",
   "execution_count": 14,
   "id": "1434aac3-191e-4572-80dc-31c30d1726e0",
   "metadata": {
    "tags": []
   },
   "outputs": [
    {
     "data": {
      "image/png": "[encoded data removed]",
      "text/plain": [
       "<Figure size 640x480 with 1 Axes>"
      ]
     },
     "metadata": {},
     "output_type": "display_data"
    }
   ],
   "source": [
    "# Histograma de irmãos/cônjuges\n",
    "plt.hist(x = df_full['Parch']);"
   ]
  },
  {
   "cell_type": "code",
   "execution_count": 15,
   "id": "83fc98b2-f1a4-4c19-a09d-28e11ae909f8",
   "metadata": {
    "tags": []
   },
   "outputs": [
    {
     "data": {
      "image/png": "[encoded data removed]",
      "text/plain": [
       "<Figure size 640x480 with 1 Axes>"
      ]
     },
     "metadata": {},
     "output_type": "display_data"
    }
   ],
   "source": [
    "# Boxplot da feature Age com matplotlib\n",
    "plt.boxplot(df_full['Age'].dropna())\n",
    "plt.xlabel('Idade')\n",
    "plt.title('Boxplot da Idade')\n",
    "plt.show()"
   ]
  },
  {
   "cell_type": "code",
   "execution_count": 16,
   "id": "9b85e340-e8ac-4b0e-8951-928452087655",
   "metadata": {
    "tags": []
   },
   "outputs": [
    {
     "data": {
      "image/png": "[encoded data removed]",
      "text/plain": [
       "<Figure size 640x480 with 1 Axes>"
      ]
     },
     "metadata": {},
     "output_type": "display_data"
    }
   ],
   "source": [
    "# Boxplot da feature Fare com matplotlib\n",
    "plt.boxplot(df_full['Fare'].dropna())\n",
    "plt.xlabel('Preço')\n",
    "plt.title('Boxplot dos preços')\n",
    "plt.show()"
   ]
  },
  {
   "cell_type": "code",
   "execution_count": 17,
   "id": "0dcce4d8-1527-4325-b801-bf32e9053a8d",
   "metadata": {
    "tags": []
   },
   "outputs": [
    {
     "data": {
      "image/png": "[encoded data removed]",
      "text/plain": [
       "<Figure size 640x480 with 1 Axes>"
      ]
     },
     "metadata": {},
     "output_type": "display_data"
    }
   ],
   "source": [
    "# Boxplot para as features 'Age' e 'Fare' com seaborn\n",
    "# Selecionando apenas as colunas 'Age' e 'Fare'\n",
    "age_fare = df_full[['Age', 'Fare']].dropna()\n",
    "\n",
    "sns.boxplot(data=age_fare)\n",
    "plt.title('Age e Fare')\n",
    "plt.show()"
   ]
  },
  {
   "cell_type": "code",
   "execution_count": 18,
   "id": "1ff9a806-7ce0-48fd-b7eb-98453865ab93",
   "metadata": {
    "tags": []
   },
   "outputs": [
    {
     "data": {
      "image/png": "[encoded data removed]",
      "text/plain": [
       "<Figure size 800x600 with 1 Axes>"
      ]
     },
     "metadata": {},
     "output_type": "display_data"
    }
   ],
   "source": [
    "# Criando o gráfico de pizza para a coluna 'Pclass'\n",
    "plt.figure(figsize=(8, 6))\n",
    "sns.countplot(x='Pclass', data=df_full)\n",
    "plt.title('Distribuição da Classe')\n",
    "plt.xlabel('Classe')\n",
    "plt.ylabel('Contagem')\n",
    "plt.show()"
   ]
  },
  {
   "cell_type": "code",
   "execution_count": 19,
   "id": "ad60b691-1b8b-43e7-9139-64ac0fe0cd91",
   "metadata": {
    "tags": []
   },
   "outputs": [
    {
     "data": {
      "image/png": "[encoded data removed]",
      "text/plain": [
       "<Figure size 800x600 with 1 Axes>"
      ]
     },
     "metadata": {},
     "output_type": "display_data"
    }
   ],
   "source": [
    "# Criando o gráfico de pizza para a coluna 'Sex'\n",
    "plt.figure(figsize=(8, 6))\n",
    "sns.countplot(x='Sex', data=df_full)\n",
    "plt.title('Distribuição do Sexo')\n",
    "plt.xlabel('Sexo')\n",
    "plt.ylabel('Contagem')\n",
    "plt.show()"
   ]
  },
  {
   "cell_type": "code",
   "execution_count": 20,
   "id": "c3a56fb6-ee5c-4c79-bec8-e175ae828281",
   "metadata": {
    "tags": []
   },
   "outputs": [
    {
     "data": {
      "image/png": "[encoded data removed]",
      "text/plain": [
       "<Figure size 800x600 with 1 Axes>"
      ]
     },
     "metadata": {},
     "output_type": "display_data"
    }
   ],
   "source": [
    "# Criando o gráfico de pizza para a coluna 'Embarked'\n",
    "plt.figure(figsize=(8, 6))\n",
    "sns.countplot(x='Embarked', data=df_full)\n",
    "plt.title('Distribuição dos Portos')\n",
    "plt.xlabel('Porto')\n",
    "plt.ylabel('Contagem')\n",
    "plt.show()"
   ]
  },
  {
   "cell_type": "markdown",
   "id": "59f7ce2d-d221-4907-a94b-982c0655b57a",
   "metadata": {},
   "source": [
    "# Inconsistent Values\n",
    "- #### Como podemos ver nos graficos acima o DataFrame não possui valores inconsistentes, como uma idade negativa, ou um preço de uma passagem negativo, ou um numero negativo de parentes a bordo\n",
    "- #### Porém observando a feature Fare existem outliers"
   ]
  },
  {
   "cell_type": "code",
   "execution_count": 21,
   "id": "62087eb7-5025-4c09-a2a7-f23ce076d93c",
   "metadata": {
    "tags": []
   },
   "outputs": [
    {
     "data": {
      "text/html": [
       "<div>\n",
       "<style scoped>\n",
       "    .dataframe tbody tr th:only-of-type {\n",
       "        vertical-align: middle;\n",
       "    }\n",
       "\n",
       "    .dataframe tbody tr th {\n",
       "        vertical-align: top;\n",
       "    }\n",
       "\n",
       "    .dataframe thead th {\n",
       "        text-align: right;\n",
       "    }\n",
       "</style>\n",
       "<table border=\"1\" class=\"dataframe\">\n",
       "  <thead>\n",
       "    <tr style=\"text-align: right;\">\n",
       "      <th></th>\n",
       "      <th>PassengerId</th>\n",
       "      <th>Survived</th>\n",
       "      <th>Pclass</th>\n",
       "      <th>Name</th>\n",
       "      <th>Sex</th>\n",
       "      <th>Age</th>\n",
       "      <th>SibSp</th>\n",
       "      <th>Parch</th>\n",
       "      <th>Ticket</th>\n",
       "      <th>Fare</th>\n",
       "      <th>Cabin</th>\n",
       "      <th>Embarked</th>\n",
       "    </tr>\n",
       "  </thead>\n",
       "  <tbody>\n",
       "  </tbody>\n",
       "</table>\n",
       "</div>"
      ],
      "text/plain": [
       "Empty DataFrame\n",
       "Columns: [PassengerId, Survived, Pclass, Name, Sex, Age, SibSp, Parch, Ticket, Fare, Cabin, Embarked]\n",
       "Index: []"
      ]
     },
     "execution_count": 21,
     "metadata": {},
     "output_type": "execute_result"
    }
   ],
   "source": [
    "# Verificando se existe algum registro com idade negativa\n",
    "df_full.loc[df_full['Age'] < 0]"
   ]
  },
  {
   "cell_type": "code",
   "execution_count": 22,
   "id": "c8db5930-468c-4f7d-a2eb-526434faa99f",
   "metadata": {
    "tags": []
   },
   "outputs": [
    {
     "data": {
      "text/html": [
       "<div>\n",
       "<style scoped>\n",
       "    .dataframe tbody tr th:only-of-type {\n",
       "        vertical-align: middle;\n",
       "    }\n",
       "\n",
       "    .dataframe tbody tr th {\n",
       "        vertical-align: top;\n",
       "    }\n",
       "\n",
       "    .dataframe thead th {\n",
       "        text-align: right;\n",
       "    }\n",
       "</style>\n",
       "<table border=\"1\" class=\"dataframe\">\n",
       "  <thead>\n",
       "    <tr style=\"text-align: right;\">\n",
       "      <th></th>\n",
       "      <th>PassengerId</th>\n",
       "      <th>Survived</th>\n",
       "      <th>Pclass</th>\n",
       "      <th>Name</th>\n",
       "      <th>Sex</th>\n",
       "      <th>Age</th>\n",
       "      <th>SibSp</th>\n",
       "      <th>Parch</th>\n",
       "      <th>Ticket</th>\n",
       "      <th>Fare</th>\n",
       "      <th>Cabin</th>\n",
       "      <th>Embarked</th>\n",
       "    </tr>\n",
       "  </thead>\n",
       "  <tbody>\n",
       "  </tbody>\n",
       "</table>\n",
       "</div>"
      ],
      "text/plain": [
       "Empty DataFrame\n",
       "Columns: [PassengerId, Survived, Pclass, Name, Sex, Age, SibSp, Parch, Ticket, Fare, Cabin, Embarked]\n",
       "Index: []"
      ]
     },
     "execution_count": 22,
     "metadata": {},
     "output_type": "execute_result"
    }
   ],
   "source": [
    "# Verificando se existe algum registro com Fare negativo\n",
    "df_full.loc[df_full['Fare'] < 0]"
   ]
  },
  {
   "cell_type": "markdown",
   "id": "fd5ea774-df34-4428-b1a9-46e9cd2b0a0e",
   "metadata": {},
   "source": [
    "# Missing Data\n",
    "- #### Vamos visualizar os dados nulos, para preenche-los separadamente por feature\n",
    "    - #### Desconsiderar o valor de Survived pois é a classe, isso aconteceu pois juntamos os DataFrames\n",
    "    - #### Vamos criar um DataFrame final para inserirmos as features que serão usadas no pré-processamento\n",
    "    - #### Não será adicionado nesse DataFrame as features PassengerId, Name e Ticket. Pois são dados categoricos e possuem alta cardinalidade, sendo assim não irão ajudar na previsão do modelo"
   ]
  },
  {
   "cell_type": "code",
   "execution_count": 23,
   "id": "5fd5bae9-7feb-4f26-ab87-338534d535a6",
   "metadata": {
    "tags": []
   },
   "outputs": [
    {
     "data": {
      "text/plain": [
       "Cabin          1014\n",
       "Survived        418\n",
       "Age             263\n",
       "Embarked          2\n",
       "Fare              1\n",
       "PassengerId       0\n",
       "Pclass            0\n",
       "Name              0\n",
       "Sex               0\n",
       "SibSp             0\n",
       "Parch             0\n",
       "Ticket            0\n",
       "dtype: int64"
      ]
     },
     "execution_count": 23,
     "metadata": {},
     "output_type": "execute_result"
    }
   ],
   "source": [
    "# Visualizando a quantidade de dados nulos do maior para o menor\n",
    "df_full.isnull().sum().sort_values(ascending=False).head(12)"
   ]
  },
  {
   "cell_type": "code",
   "execution_count": 24,
   "id": "a5e3a94f-2961-419f-9d60-dbd360b90650",
   "metadata": {
    "tags": []
   },
   "outputs": [
    {
     "data": {
      "text/plain": [
       "Cabin          77.463713\n",
       "Survived       31.932773\n",
       "Age            20.091673\n",
       "Embarked        0.152788\n",
       "Fare            0.076394\n",
       "PassengerId     0.000000\n",
       "Pclass          0.000000\n",
       "Name            0.000000\n",
       "Sex             0.000000\n",
       "SibSp           0.000000\n",
       "Parch           0.000000\n",
       "Ticket          0.000000\n",
       "dtype: float64"
      ]
     },
     "execution_count": 24,
     "metadata": {},
     "output_type": "execute_result"
    }
   ],
   "source": [
    "# Quantidade de dados nulos em porcentagem\n",
    "(df_full.isnull().mean() * 100).sort_values(ascending=False).head(12)"
   ]
  },
  {
   "cell_type": "code",
   "execution_count": 25,
   "id": "dcd25881-db8b-4279-b7c4-b2d1ebdb6056",
   "metadata": {
    "tags": []
   },
   "outputs": [
    {
     "data": {
      "text/plain": [
       "PassengerId    1309\n",
       "Name           1307\n",
       "Ticket          929\n",
       "Fare            281\n",
       "Cabin           186\n",
       "Age              98\n",
       "Parch             8\n",
       "SibSp             7\n",
       "Pclass            3\n",
       "Embarked          3\n",
       "Survived          2\n",
       "Sex               2\n",
       "dtype: int64"
      ]
     },
     "execution_count": 25,
     "metadata": {},
     "output_type": "execute_result"
    }
   ],
   "source": [
    "# Visualizando a cardinalidade dos dados (valores únicos)\n",
    "df_full.nunique().sort_values(ascending=False).head(12)"
   ]
  },
  {
   "cell_type": "code",
   "execution_count": 26,
   "id": "434424a2-911c-436a-8f88-7700b5d9de35",
   "metadata": {
    "tags": []
   },
   "outputs": [
    {
     "data": {
      "text/html": [
       "<div>\n",
       "<style scoped>\n",
       "    .dataframe tbody tr th:only-of-type {\n",
       "        vertical-align: middle;\n",
       "    }\n",
       "\n",
       "    .dataframe tbody tr th {\n",
       "        vertical-align: top;\n",
       "    }\n",
       "\n",
       "    .dataframe thead th {\n",
       "        text-align: right;\n",
       "    }\n",
       "</style>\n",
       "<table border=\"1\" class=\"dataframe\">\n",
       "  <thead>\n",
       "    <tr style=\"text-align: right;\">\n",
       "      <th></th>\n",
       "      <th>Survived</th>\n",
       "    </tr>\n",
       "  </thead>\n",
       "  <tbody>\n",
       "    <tr>\n",
       "      <th>0</th>\n",
       "      <td>0.0</td>\n",
       "    </tr>\n",
       "    <tr>\n",
       "      <th>1</th>\n",
       "      <td>1.0</td>\n",
       "    </tr>\n",
       "    <tr>\n",
       "      <th>2</th>\n",
       "      <td>1.0</td>\n",
       "    </tr>\n",
       "    <tr>\n",
       "      <th>3</th>\n",
       "      <td>1.0</td>\n",
       "    </tr>\n",
       "    <tr>\n",
       "      <th>4</th>\n",
       "      <td>0.0</td>\n",
       "    </tr>\n",
       "    <tr>\n",
       "      <th>...</th>\n",
       "      <td>...</td>\n",
       "    </tr>\n",
       "    <tr>\n",
       "      <th>1304</th>\n",
       "      <td>NaN</td>\n",
       "    </tr>\n",
       "    <tr>\n",
       "      <th>1305</th>\n",
       "      <td>NaN</td>\n",
       "    </tr>\n",
       "    <tr>\n",
       "      <th>1306</th>\n",
       "      <td>NaN</td>\n",
       "    </tr>\n",
       "    <tr>\n",
       "      <th>1307</th>\n",
       "      <td>NaN</td>\n",
       "    </tr>\n",
       "    <tr>\n",
       "      <th>1308</th>\n",
       "      <td>NaN</td>\n",
       "    </tr>\n",
       "  </tbody>\n",
       "</table>\n",
       "<p>1309 rows × 1 columns</p>\n",
       "</div>"
      ],
      "text/plain": [
       "      Survived\n",
       "0          0.0\n",
       "1          1.0\n",
       "2          1.0\n",
       "3          1.0\n",
       "4          0.0\n",
       "...        ...\n",
       "1304       NaN\n",
       "1305       NaN\n",
       "1306       NaN\n",
       "1307       NaN\n",
       "1308       NaN\n",
       "\n",
       "[1309 rows x 1 columns]"
      ]
     },
     "execution_count": 26,
     "metadata": {},
     "output_type": "execute_result"
    }
   ],
   "source": [
    "# Criando o DataFrame\n",
    "df = pd.DataFrame()\n",
    "# Passando a coluna para o DataFrame final\n",
    "df['Survived'] = df_full['Survived']\n",
    "# Visualizando\n",
    "df"
   ]
  },
  {
   "cell_type": "code",
   "execution_count": 27,
   "id": "09f1f5c5-3a7d-494f-99e4-e03331499ff4",
   "metadata": {
    "tags": []
   },
   "outputs": [],
   "source": [
    "# Função para visualizar automaticamente as principais informações de cada feature\n",
    "# Gera um gráfico de acordo com o tipo da variavel da feature\n",
    "def check_feature(df, feature):\n",
    "    qtd_unicos = df[feature].nunique()\n",
    "    valores = df[feature].unique().tolist()\n",
    "    qtd_nulos = df[feature].isnull().sum()\n",
    "    qtd_valores = df[feature].value_counts()\n",
    "    dtype = df[feature].dtype\n",
    "    if dtype == 'O':\n",
    "        if feature == 'Embarked' or feature == 'Cabin' or feature == 'Title':\n",
    "            if feature == 'Title':\n",
    "                sns.displot(df[feature], kde=True)\n",
    "                plt.xticks(rotation=50)\n",
    "            else:\n",
    "                sns.displot(df[feature], kde=True)\n",
    "        else:\n",
    "            sns.countplot(data = df, x = feature, hue = 'Survived')\n",
    "    elif dtype in ['int64', 'float64']:\n",
    "        if qtd_unicos <= 10:\n",
    "            sns.countplot(data = df, x = feature, hue = 'Survived')\n",
    "        else:\n",
    "            sns.displot(df[feature], kde = True)\n",
    "    \n",
    "    print(f\"\"\"Quantidade de valores únicos: {qtd_unicos}\n",
    "\n",
    "Quais são os valores únicos: {', '.join(map(str, valores))}\n",
    "\n",
    "Quantidade de valores nulos: {qtd_nulos}\n",
    "\n",
    "Quantidade por valor: \\n{qtd_valores}\"\"\")"
   ]
  },
  {
   "cell_type": "code",
   "execution_count": 28,
   "id": "2277e5ee-187e-44ef-90a6-09d1714a0d55",
   "metadata": {
    "tags": []
   },
   "outputs": [
    {
     "name": "stdout",
     "output_type": "stream",
     "text": [
      "Quantidade de valores únicos: 2\n",
      "\n",
      "Quais são os valores únicos: 0.0, 1.0, nan\n",
      "\n",
      "Quantidade de valores nulos: 418\n",
      "\n",
      "Quantidade por valor: \n",
      "Survived\n",
      "0.0    549\n",
      "1.0    342\n",
      "Name: count, dtype: int64\n"
     ]
    },
    {
     "data": {
      "image/png": "[encoded data removed]",
      "text/plain": [
       "<Figure size 640x480 with 1 Axes>"
      ]
     },
     "metadata": {},
     "output_type": "display_data"
    }
   ],
   "source": [
    "# 0 = Não sobreviveu, 1 = Sobreviveu\n",
    "# Visualizando a classe (não existem dados nulos)\n",
    "check_feature(df_full, 'Survived')"
   ]
  },
  {
   "cell_type": "markdown",
   "id": "8dde7932-c9e2-4e02-8953-db659400f382",
   "metadata": {},
   "source": [
    "# Pclass\n",
    "#### Entendendo a coluna Pclass\n",
    "- **Pclass**: Classes dos passageiros\n",
    "    - Não possui valores inconsistentes e nem nulos, portanto iremos adiciona-lo no DataFrame novo"
   ]
  },
  {
   "cell_type": "code",
   "execution_count": 29,
   "id": "8765db9a-f799-4dbf-a71e-3abacce2b9ab",
   "metadata": {
    "tags": []
   },
   "outputs": [
    {
     "name": "stdout",
     "output_type": "stream",
     "text": [
      "Quantidade de valores únicos: 3\n",
      "\n",
      "Quais são os valores únicos: 3, 1, 2\n",
      "\n",
      "Quantidade de valores nulos: 0\n",
      "\n",
      "Quantidade por valor: \n",
      "Pclass\n",
      "3    709\n",
      "1    323\n",
      "2    277\n",
      "Name: count, dtype: int64\n"
     ]
    },
    {
     "data": {
      "image/png": "[encoded data removed]",
      "text/plain": [
       "<Figure size 640x480 with 1 Axes>"
      ]
     },
     "metadata": {},
     "output_type": "display_data"
    }
   ],
   "source": [
    "# Aplicando a função para ver as principais informações da coluna\n",
    "check_feature(df_full, 'Pclass')"
   ]
  },
  {
   "cell_type": "code",
   "execution_count": 30,
   "id": "521d0455-ad31-4bd6-8ea5-ace4b1ef1349",
   "metadata": {
    "tags": []
   },
   "outputs": [
    {
     "data": {
      "text/html": [
       "<div>\n",
       "<style scoped>\n",
       "    .dataframe tbody tr th:only-of-type {\n",
       "        vertical-align: middle;\n",
       "    }\n",
       "\n",
       "    .dataframe tbody tr th {\n",
       "        vertical-align: top;\n",
       "    }\n",
       "\n",
       "    .dataframe thead th {\n",
       "        text-align: right;\n",
       "    }\n",
       "</style>\n",
       "<table border=\"1\" class=\"dataframe\">\n",
       "  <thead>\n",
       "    <tr style=\"text-align: right;\">\n",
       "      <th></th>\n",
       "      <th>Survived</th>\n",
       "      <th>Pclass</th>\n",
       "    </tr>\n",
       "  </thead>\n",
       "  <tbody>\n",
       "    <tr>\n",
       "      <th>0</th>\n",
       "      <td>0.0</td>\n",
       "      <td>3</td>\n",
       "    </tr>\n",
       "    <tr>\n",
       "      <th>1</th>\n",
       "      <td>1.0</td>\n",
       "      <td>1</td>\n",
       "    </tr>\n",
       "    <tr>\n",
       "      <th>2</th>\n",
       "      <td>1.0</td>\n",
       "      <td>3</td>\n",
       "    </tr>\n",
       "    <tr>\n",
       "      <th>3</th>\n",
       "      <td>1.0</td>\n",
       "      <td>1</td>\n",
       "    </tr>\n",
       "    <tr>\n",
       "      <th>4</th>\n",
       "      <td>0.0</td>\n",
       "      <td>3</td>\n",
       "    </tr>\n",
       "  </tbody>\n",
       "</table>\n",
       "</div>"
      ],
      "text/plain": [
       "   Survived  Pclass\n",
       "0       0.0       3\n",
       "1       1.0       1\n",
       "2       1.0       3\n",
       "3       1.0       1\n",
       "4       0.0       3"
      ]
     },
     "execution_count": 30,
     "metadata": {},
     "output_type": "execute_result"
    }
   ],
   "source": [
    "# Adicionando a feature Pclass no DF final\n",
    "df['Pclass'] = df_full['Pclass']\n",
    "df.head()"
   ]
  },
  {
   "cell_type": "markdown",
   "id": "9211a01d-7b89-4b0e-b90d-537983d5e7ba",
   "metadata": {},
   "source": [
    "# Sex\n",
    "#### Entendendo a coluna Sex\n",
    "- **Sex**: Sexo dos passageiros\n",
    "    - Não possui valores inconsistentes e nem nulos, portanto iremos adiciona-lo no DataFrame novo"
   ]
  },
  {
   "cell_type": "code",
   "execution_count": 31,
   "id": "7fd936eb-32ba-4bbe-875e-828668c337df",
   "metadata": {
    "tags": []
   },
   "outputs": [
    {
     "name": "stdout",
     "output_type": "stream",
     "text": [
      "Quantidade de valores únicos: 2\n",
      "\n",
      "Quais são os valores únicos: male, female\n",
      "\n",
      "Quantidade de valores nulos: 0\n",
      "\n",
      "Quantidade por valor: \n",
      "Sex\n",
      "male      843\n",
      "female    466\n",
      "Name: count, dtype: int64\n"
     ]
    },
    {
     "data": {
      "image/png": "[encoded data removed]",
      "text/plain": [
       "<Figure size 640x480 with 1 Axes>"
      ]
     },
     "metadata": {},
     "output_type": "display_data"
    }
   ],
   "source": [
    "# Aplicando a função para ver as principais informações da coluna\n",
    "check_feature(df_full, 'Sex')"
   ]
  },
  {
   "cell_type": "code",
   "execution_count": 32,
   "id": "afb3fa7f-b37b-414a-99aa-6ee90a2e2a1d",
   "metadata": {
    "tags": []
   },
   "outputs": [
    {
     "data": {
      "text/html": [
       "<div>\n",
       "<style scoped>\n",
       "    .dataframe tbody tr th:only-of-type {\n",
       "        vertical-align: middle;\n",
       "    }\n",
       "\n",
       "    .dataframe tbody tr th {\n",
       "        vertical-align: top;\n",
       "    }\n",
       "\n",
       "    .dataframe thead th {\n",
       "        text-align: right;\n",
       "    }\n",
       "</style>\n",
       "<table border=\"1\" class=\"dataframe\">\n",
       "  <thead>\n",
       "    <tr style=\"text-align: right;\">\n",
       "      <th></th>\n",
       "      <th>Survived</th>\n",
       "      <th>Pclass</th>\n",
       "      <th>Sex</th>\n",
       "    </tr>\n",
       "  </thead>\n",
       "  <tbody>\n",
       "    <tr>\n",
       "      <th>0</th>\n",
       "      <td>0.0</td>\n",
       "      <td>3</td>\n",
       "      <td>male</td>\n",
       "    </tr>\n",
       "    <tr>\n",
       "      <th>1</th>\n",
       "      <td>1.0</td>\n",
       "      <td>1</td>\n",
       "      <td>female</td>\n",
       "    </tr>\n",
       "    <tr>\n",
       "      <th>2</th>\n",
       "      <td>1.0</td>\n",
       "      <td>3</td>\n",
       "      <td>female</td>\n",
       "    </tr>\n",
       "    <tr>\n",
       "      <th>3</th>\n",
       "      <td>1.0</td>\n",
       "      <td>1</td>\n",
       "      <td>female</td>\n",
       "    </tr>\n",
       "    <tr>\n",
       "      <th>4</th>\n",
       "      <td>0.0</td>\n",
       "      <td>3</td>\n",
       "      <td>male</td>\n",
       "    </tr>\n",
       "  </tbody>\n",
       "</table>\n",
       "</div>"
      ],
      "text/plain": [
       "   Survived  Pclass     Sex\n",
       "0       0.0       3    male\n",
       "1       1.0       1  female\n",
       "2       1.0       3  female\n",
       "3       1.0       1  female\n",
       "4       0.0       3    male"
      ]
     },
     "execution_count": 32,
     "metadata": {},
     "output_type": "execute_result"
    }
   ],
   "source": [
    "# Adicionando a feature Sex no DF final\n",
    "df['Sex'] = df_full['Sex']\n",
    "df.head()"
   ]
  },
  {
   "cell_type": "markdown",
   "id": "3581bb96-134e-4fa5-abea-84a00241821b",
   "metadata": {},
   "source": [
    "# SibSp/Parch\n",
    "#### Entendendo as colunas SibSp e Parch\n",
    "\n",
    "- **SibSp**: Nº de irmãos/cônjuges a bordo do Titanic\n",
    "- **Parch**: Nº de pais/filhos a bordo do Titanic\n",
    "    - Iremos adicionar o SibSp e Parch no dataframe final, pois iremos fazer o Feature Engineering posteriormente"
   ]
  },
  {
   "cell_type": "code",
   "execution_count": 33,
   "id": "25b59ea0-6f9d-4770-b7cc-23a6f222a68d",
   "metadata": {
    "tags": []
   },
   "outputs": [
    {
     "name": "stdout",
     "output_type": "stream",
     "text": [
      "Quantidade de valores únicos: 7\n",
      "\n",
      "Quais são os valores únicos: 1, 0, 3, 4, 2, 5, 8\n",
      "\n",
      "Quantidade de valores nulos: 0\n",
      "\n",
      "Quantidade por valor: \n",
      "SibSp\n",
      "0    891\n",
      "1    319\n",
      "2     42\n",
      "4     22\n",
      "3     20\n",
      "8      9\n",
      "5      6\n",
      "Name: count, dtype: int64\n"
     ]
    },
    {
     "data": {
      "image/png": "[encoded data removed]",
      "text/plain": [
       "<Figure size 640x480 with 1 Axes>"
      ]
     },
     "metadata": {},
     "output_type": "display_data"
    }
   ],
   "source": [
    "check_feature(df_full, 'SibSp')"
   ]
  },
  {
   "cell_type": "code",
   "execution_count": 34,
   "id": "6a5f9306-8c76-4fa5-a0d9-808d978b931b",
   "metadata": {
    "tags": []
   },
   "outputs": [
    {
     "data": {
      "text/html": [
       "<div>\n",
       "<style scoped>\n",
       "    .dataframe tbody tr th:only-of-type {\n",
       "        vertical-align: middle;\n",
       "    }\n",
       "\n",
       "    .dataframe tbody tr th {\n",
       "        vertical-align: top;\n",
       "    }\n",
       "\n",
       "    .dataframe thead th {\n",
       "        text-align: right;\n",
       "    }\n",
       "</style>\n",
       "<table border=\"1\" class=\"dataframe\">\n",
       "  <thead>\n",
       "    <tr style=\"text-align: right;\">\n",
       "      <th></th>\n",
       "      <th>Survived</th>\n",
       "      <th>Pclass</th>\n",
       "      <th>Sex</th>\n",
       "      <th>SibSp</th>\n",
       "    </tr>\n",
       "  </thead>\n",
       "  <tbody>\n",
       "    <tr>\n",
       "      <th>0</th>\n",
       "      <td>0.0</td>\n",
       "      <td>3</td>\n",
       "      <td>male</td>\n",
       "      <td>1</td>\n",
       "    </tr>\n",
       "    <tr>\n",
       "      <th>1</th>\n",
       "      <td>1.0</td>\n",
       "      <td>1</td>\n",
       "      <td>female</td>\n",
       "      <td>1</td>\n",
       "    </tr>\n",
       "    <tr>\n",
       "      <th>2</th>\n",
       "      <td>1.0</td>\n",
       "      <td>3</td>\n",
       "      <td>female</td>\n",
       "      <td>0</td>\n",
       "    </tr>\n",
       "    <tr>\n",
       "      <th>3</th>\n",
       "      <td>1.0</td>\n",
       "      <td>1</td>\n",
       "      <td>female</td>\n",
       "      <td>1</td>\n",
       "    </tr>\n",
       "    <tr>\n",
       "      <th>4</th>\n",
       "      <td>0.0</td>\n",
       "      <td>3</td>\n",
       "      <td>male</td>\n",
       "      <td>0</td>\n",
       "    </tr>\n",
       "  </tbody>\n",
       "</table>\n",
       "</div>"
      ],
      "text/plain": [
       "   Survived  Pclass     Sex  SibSp\n",
       "0       0.0       3    male      1\n",
       "1       1.0       1  female      1\n",
       "2       1.0       3  female      0\n",
       "3       1.0       1  female      1\n",
       "4       0.0       3    male      0"
      ]
     },
     "execution_count": 34,
     "metadata": {},
     "output_type": "execute_result"
    }
   ],
   "source": [
    "df['SibSp'] = df_full['SibSp']\n",
    "df.head()"
   ]
  },
  {
   "cell_type": "code",
   "execution_count": 35,
   "id": "6edac257-780a-45d8-917f-3d324a267914",
   "metadata": {
    "tags": []
   },
   "outputs": [
    {
     "name": "stdout",
     "output_type": "stream",
     "text": [
      "Quantidade de valores únicos: 8\n",
      "\n",
      "Quais são os valores únicos: 0, 1, 2, 5, 3, 4, 6, 9\n",
      "\n",
      "Quantidade de valores nulos: 0\n",
      "\n",
      "Quantidade por valor: \n",
      "Parch\n",
      "0    1002\n",
      "1     170\n",
      "2     113\n",
      "3       8\n",
      "5       6\n",
      "4       6\n",
      "6       2\n",
      "9       2\n",
      "Name: count, dtype: int64\n"
     ]
    },
    {
     "data": {
      "image/png": "[encoded data removed]",
      "text/plain": [
       "<Figure size 640x480 with 1 Axes>"
      ]
     },
     "metadata": {},
     "output_type": "display_data"
    }
   ],
   "source": [
    "check_feature(df_full, 'Parch')"
   ]
  },
  {
   "cell_type": "code",
   "execution_count": 36,
   "id": "32bef879-15b6-4656-b935-4871a5fd9fea",
   "metadata": {
    "tags": []
   },
   "outputs": [
    {
     "data": {
      "text/html": [
       "<div>\n",
       "<style scoped>\n",
       "    .dataframe tbody tr th:only-of-type {\n",
       "        vertical-align: middle;\n",
       "    }\n",
       "\n",
       "    .dataframe tbody tr th {\n",
       "        vertical-align: top;\n",
       "    }\n",
       "\n",
       "    .dataframe thead th {\n",
       "        text-align: right;\n",
       "    }\n",
       "</style>\n",
       "<table border=\"1\" class=\"dataframe\">\n",
       "  <thead>\n",
       "    <tr style=\"text-align: right;\">\n",
       "      <th></th>\n",
       "      <th>Survived</th>\n",
       "      <th>Pclass</th>\n",
       "      <th>Sex</th>\n",
       "      <th>SibSp</th>\n",
       "      <th>Parch</th>\n",
       "    </tr>\n",
       "  </thead>\n",
       "  <tbody>\n",
       "    <tr>\n",
       "      <th>0</th>\n",
       "      <td>0.0</td>\n",
       "      <td>3</td>\n",
       "      <td>male</td>\n",
       "      <td>1</td>\n",
       "      <td>0</td>\n",
       "    </tr>\n",
       "    <tr>\n",
       "      <th>1</th>\n",
       "      <td>1.0</td>\n",
       "      <td>1</td>\n",
       "      <td>female</td>\n",
       "      <td>1</td>\n",
       "      <td>0</td>\n",
       "    </tr>\n",
       "    <tr>\n",
       "      <th>2</th>\n",
       "      <td>1.0</td>\n",
       "      <td>3</td>\n",
       "      <td>female</td>\n",
       "      <td>0</td>\n",
       "      <td>0</td>\n",
       "    </tr>\n",
       "    <tr>\n",
       "      <th>3</th>\n",
       "      <td>1.0</td>\n",
       "      <td>1</td>\n",
       "      <td>female</td>\n",
       "      <td>1</td>\n",
       "      <td>0</td>\n",
       "    </tr>\n",
       "    <tr>\n",
       "      <th>4</th>\n",
       "      <td>0.0</td>\n",
       "      <td>3</td>\n",
       "      <td>male</td>\n",
       "      <td>0</td>\n",
       "      <td>0</td>\n",
       "    </tr>\n",
       "  </tbody>\n",
       "</table>\n",
       "</div>"
      ],
      "text/plain": [
       "   Survived  Pclass     Sex  SibSp  Parch\n",
       "0       0.0       3    male      1      0\n",
       "1       1.0       1  female      1      0\n",
       "2       1.0       3  female      0      0\n",
       "3       1.0       1  female      1      0\n",
       "4       0.0       3    male      0      0"
      ]
     },
     "execution_count": 36,
     "metadata": {},
     "output_type": "execute_result"
    }
   ],
   "source": [
    "df['Parch'] = df_full['Parch']\n",
    "df.head()"
   ]
  },
  {
   "cell_type": "markdown",
   "id": "07a10da6-da6c-4c38-9987-2eb9762ea911",
   "metadata": {},
   "source": [
    "# Fare\n",
    "#### Entendendo as coluna Fare\n",
    "\n",
    "- **Fare**: Valor pago nos tickets do Titanic\n",
    "    - Há apenas um passageiro sem valor `Fare`. Podemos assumir que `Fare` está relacionado ao tamanho da família (`Parch` e `SibSp`) e às características de `Pclass`. O valor médio da `tarifa` de um homem com passagem de terceira classe e sem família é uma escolha lógica para preencher o valor faltante.\n",
    "    - Preenchendo o valor nulo com a mediana dos passageiros que são da 3° classe, embarcaram no portão de Southampton, são homens e estão sozinhos"
   ]
  },
  {
   "cell_type": "code",
   "execution_count": 37,
   "id": "ebe39046-2123-4055-8ab1-75e723e98b16",
   "metadata": {
    "tags": []
   },
   "outputs": [
    {
     "name": "stdout",
     "output_type": "stream",
     "text": [
      "Quantidade de valores únicos: 281\n",
      "\n",
      "Quais são os valores únicos: 7.25, 71.2833, 7.925, 53.1, 8.05, 8.4583, 51.8625, 21.075, 11.1333, 30.0708, 16.7, 26.55, 31.275, 7.8542, 16.0, 29.125, 13.0, 18.0, 7.225, 26.0, 8.0292, 35.5, 31.3875, 263.0, 7.8792, 7.8958, 27.7208, 146.5208, 7.75, 10.5, 82.1708, 52.0, 7.2292, 11.2417, 9.475, 21.0, 41.5792, 15.5, 21.6792, 17.8, 39.6875, 7.8, 76.7292, 61.9792, 27.75, 46.9, 80.0, 83.475, 27.9, 15.2458, 8.1583, 8.6625, 73.5, 14.4542, 56.4958, 7.65, 29.0, 12.475, 9.0, 9.5, 7.7875, 47.1, 15.85, 34.375, 61.175, 20.575, 34.6542, 63.3583, 23.0, 77.2875, 8.6542, 7.775, 24.15, 9.825, 14.4583, 247.5208, 7.1417, 22.3583, 6.975, 7.05, 14.5, 15.0458, 26.2833, 9.2167, 79.2, 6.75, 11.5, 36.75, 7.7958, 12.525, 66.6, 7.3125, 61.3792, 7.7333, 69.55, 16.1, 15.75, 20.525, 55.0, 25.925, 33.5, 30.6958, 25.4667, 28.7125, 0.0, 15.05, 39.0, 22.025, 50.0, 8.4042, 6.4958, 10.4625, 18.7875, 31.0, 113.275, 27.0, 76.2917, 90.0, 9.35, 13.5, 7.55, 26.25, 12.275, 7.125, 52.5542, 20.2125, 86.5, 512.3292, 79.65, 153.4625, 135.6333, 19.5, 29.7, 77.9583, 20.25, 78.85, 91.0792, 12.875, 8.85, 151.55, 30.5, 23.25, 12.35, 110.8833, 108.9, 24.0, 56.9292, 83.1583, 262.375, 14.0, 164.8667, 134.5, 6.2375, 57.9792, 28.5, 133.65, 15.9, 9.225, 35.0, 75.25, 69.3, 55.4417, 211.5, 4.0125, 227.525, 15.7417, 7.7292, 12.0, 120.0, 12.65, 18.75, 6.8583, 32.5, 7.875, 14.4, 55.9, 8.1125, 81.8583, 19.2583, 19.9667, 89.1042, 38.5, 7.725, 13.7917, 9.8375, 7.0458, 7.5208, 12.2875, 9.5875, 49.5042, 78.2667, 15.1, 7.6292, 22.525, 26.2875, 59.4, 7.4958, 34.0208, 93.5, 221.7792, 106.425, 49.5, 71.0, 13.8625, 7.8292, 39.6, 17.4, 51.4792, 26.3875, 30.0, 40.125, 8.7125, 15.0, 33.0, 42.4, 15.55, 65.0, 32.3208, 7.0542, 8.4333, 25.5875, 9.8417, 8.1375, 10.1708, 211.3375, 57.0, 13.4167, 7.7417, 9.4833, 7.7375, 8.3625, 23.45, 25.9292, 8.6833, 8.5167, 7.8875, 37.0042, 6.45, 6.95, 8.3, 6.4375, 39.4, 14.1083, 13.8583, 50.4958, 5.0, 9.8458, 10.5167, 7.0, 9.6875, 82.2667, 3.1708, 31.6833, 31.5, 57.75, 7.85, 60.0, 15.0333, 15.5792, 28.5375, 25.7, 10.7083, 13.9, 7.8208, 7.7792, 31.6792, 7.2833, 75.2417, nan, 12.1833, 13.775, 8.9625, 25.7417, 42.5, 27.4458, 136.7792, 9.325, 12.7375, 45.5, 7.575, 7.5792, 7.7208\n",
      "\n",
      "Quantidade de valores nulos: 1\n",
      "\n",
      "Quantidade por valor: \n",
      "Fare\n",
      "8.0500     60\n",
      "13.0000    59\n",
      "7.7500     55\n",
      "26.0000    50\n",
      "7.8958     49\n",
      "           ..\n",
      "7.7417      1\n",
      "8.1583      1\n",
      "8.4583      1\n",
      "7.8000      1\n",
      "7.7208      1\n",
      "Name: count, Length: 281, dtype: int64\n"
     ]
    },
    {
     "data": {
      "image/png": "[encoded data removed]",
      "text/plain": [
       "<Figure size 500x500 with 1 Axes>"
      ]
     },
     "metadata": {},
     "output_type": "display_data"
    }
   ],
   "source": [
    "check_feature(df_full, 'Fare')"
   ]
  },
  {
   "cell_type": "code",
   "execution_count": 38,
   "id": "04fa7342-f3db-4975-bced-e5d05191bd18",
   "metadata": {
    "tags": []
   },
   "outputs": [
    {
     "data": {
      "text/html": [
       "<div>\n",
       "<style scoped>\n",
       "    .dataframe tbody tr th:only-of-type {\n",
       "        vertical-align: middle;\n",
       "    }\n",
       "\n",
       "    .dataframe tbody tr th {\n",
       "        vertical-align: top;\n",
       "    }\n",
       "\n",
       "    .dataframe thead th {\n",
       "        text-align: right;\n",
       "    }\n",
       "</style>\n",
       "<table border=\"1\" class=\"dataframe\">\n",
       "  <thead>\n",
       "    <tr style=\"text-align: right;\">\n",
       "      <th></th>\n",
       "      <th>PassengerId</th>\n",
       "      <th>Survived</th>\n",
       "      <th>Pclass</th>\n",
       "      <th>Name</th>\n",
       "      <th>Sex</th>\n",
       "      <th>Age</th>\n",
       "      <th>SibSp</th>\n",
       "      <th>Parch</th>\n",
       "      <th>Ticket</th>\n",
       "      <th>Fare</th>\n",
       "      <th>Cabin</th>\n",
       "      <th>Embarked</th>\n",
       "    </tr>\n",
       "  </thead>\n",
       "  <tbody>\n",
       "    <tr>\n",
       "      <th>1043</th>\n",
       "      <td>1044</td>\n",
       "      <td>NaN</td>\n",
       "      <td>3</td>\n",
       "      <td>Storey, Mr. Thomas</td>\n",
       "      <td>male</td>\n",
       "      <td>60.5</td>\n",
       "      <td>0</td>\n",
       "      <td>0</td>\n",
       "      <td>3701</td>\n",
       "      <td>NaN</td>\n",
       "      <td>NaN</td>\n",
       "      <td>S</td>\n",
       "    </tr>\n",
       "  </tbody>\n",
       "</table>\n",
       "</div>"
      ],
      "text/plain": [
       "      PassengerId  Survived  Pclass                Name   Sex   Age  SibSp  \\\n",
       "1043         1044       NaN       3  Storey, Mr. Thomas  male  60.5      0   \n",
       "\n",
       "      Parch Ticket  Fare Cabin Embarked  \n",
       "1043      0   3701   NaN   NaN        S  "
      ]
     },
     "execution_count": 38,
     "metadata": {},
     "output_type": "execute_result"
    }
   ],
   "source": [
    "# Visualizando o unico registro com dado nulo na feature 'Fare'\n",
    "df_full[df_full['Fare'].isnull()]"
   ]
  },
  {
   "cell_type": "code",
   "execution_count": 39,
   "id": "fd350251",
   "metadata": {},
   "outputs": [
    {
     "data": {
      "text/html": [
       "<div>\n",
       "<style scoped>\n",
       "    .dataframe tbody tr th:only-of-type {\n",
       "        vertical-align: middle;\n",
       "    }\n",
       "\n",
       "    .dataframe tbody tr th {\n",
       "        vertical-align: top;\n",
       "    }\n",
       "\n",
       "    .dataframe thead th {\n",
       "        text-align: right;\n",
       "    }\n",
       "</style>\n",
       "<table border=\"1\" class=\"dataframe\">\n",
       "  <thead>\n",
       "    <tr style=\"text-align: right;\">\n",
       "      <th></th>\n",
       "      <th>count</th>\n",
       "      <th>mean</th>\n",
       "      <th>std</th>\n",
       "      <th>min</th>\n",
       "      <th>25%</th>\n",
       "      <th>50%</th>\n",
       "      <th>75%</th>\n",
       "      <th>max</th>\n",
       "    </tr>\n",
       "    <tr>\n",
       "      <th>Pclass</th>\n",
       "      <th></th>\n",
       "      <th></th>\n",
       "      <th></th>\n",
       "      <th></th>\n",
       "      <th></th>\n",
       "      <th></th>\n",
       "      <th></th>\n",
       "      <th></th>\n",
       "    </tr>\n",
       "  </thead>\n",
       "  <tbody>\n",
       "    <tr>\n",
       "      <th>1</th>\n",
       "      <td>323.0</td>\n",
       "      <td>87.508992</td>\n",
       "      <td>80.447178</td>\n",
       "      <td>0.0</td>\n",
       "      <td>30.6958</td>\n",
       "      <td>60.0000</td>\n",
       "      <td>107.6625</td>\n",
       "      <td>512.3292</td>\n",
       "    </tr>\n",
       "    <tr>\n",
       "      <th>2</th>\n",
       "      <td>277.0</td>\n",
       "      <td>21.179196</td>\n",
       "      <td>13.607122</td>\n",
       "      <td>0.0</td>\n",
       "      <td>13.0000</td>\n",
       "      <td>15.0458</td>\n",
       "      <td>26.0000</td>\n",
       "      <td>73.5000</td>\n",
       "    </tr>\n",
       "    <tr>\n",
       "      <th>3</th>\n",
       "      <td>708.0</td>\n",
       "      <td>13.302889</td>\n",
       "      <td>11.494358</td>\n",
       "      <td>0.0</td>\n",
       "      <td>7.7500</td>\n",
       "      <td>8.0500</td>\n",
       "      <td>15.2458</td>\n",
       "      <td>69.5500</td>\n",
       "    </tr>\n",
       "  </tbody>\n",
       "</table>\n",
       "</div>"
      ],
      "text/plain": [
       "        count       mean        std  min      25%      50%       75%       max\n",
       "Pclass                                                                        \n",
       "1       323.0  87.508992  80.447178  0.0  30.6958  60.0000  107.6625  512.3292\n",
       "2       277.0  21.179196  13.607122  0.0  13.0000  15.0458   26.0000   73.5000\n",
       "3       708.0  13.302889  11.494358  0.0   7.7500   8.0500   15.2458   69.5500"
      ]
     },
     "execution_count": 39,
     "metadata": {},
     "output_type": "execute_result"
    }
   ],
   "source": [
    "# Verificando a mediana por classe\n",
    "df_full.groupby('Pclass').Fare.describe()"
   ]
  },
  {
   "cell_type": "code",
   "execution_count": 40,
   "id": "086045c2",
   "metadata": {},
   "outputs": [],
   "source": [
    "# Pegando o valor da mediana\n",
    "med_fare = df_full.groupby(['Pclass', 'Parch', 'SibSp', 'Sex', 'Embarked']).Fare.median()[3][0][0]['male']['S']"
   ]
  },
  {
   "cell_type": "code",
   "execution_count": 41,
   "id": "a0bd95b7-dc4b-4f68-aaf1-ce085d183467",
   "metadata": {
    "tags": []
   },
   "outputs": [],
   "source": [
    "# Preenchendo o valor nulo\n",
    "df_full['Fare'] = df_full['Fare'].fillna(med_fare)"
   ]
  },
  {
   "cell_type": "code",
   "execution_count": 42,
   "id": "ceb93a87-f47c-415b-9a5d-b60757e481fb",
   "metadata": {
    "tags": []
   },
   "outputs": [
    {
     "data": {
      "text/plain": [
       "0"
      ]
     },
     "execution_count": 42,
     "metadata": {},
     "output_type": "execute_result"
    }
   ],
   "source": [
    "# Verificando se ainda existem valores nulos na feature\n",
    "df_full['Fare'].isnull().sum()"
   ]
  },
  {
   "cell_type": "code",
   "execution_count": 43,
   "id": "c4e6530f-0b88-466f-b12a-a38739c7d7bb",
   "metadata": {
    "tags": []
   },
   "outputs": [
    {
     "data": {
      "text/html": [
       "<div>\n",
       "<style scoped>\n",
       "    .dataframe tbody tr th:only-of-type {\n",
       "        vertical-align: middle;\n",
       "    }\n",
       "\n",
       "    .dataframe tbody tr th {\n",
       "        vertical-align: top;\n",
       "    }\n",
       "\n",
       "    .dataframe thead th {\n",
       "        text-align: right;\n",
       "    }\n",
       "</style>\n",
       "<table border=\"1\" class=\"dataframe\">\n",
       "  <thead>\n",
       "    <tr style=\"text-align: right;\">\n",
       "      <th></th>\n",
       "      <th>PassengerId</th>\n",
       "      <th>Survived</th>\n",
       "      <th>Pclass</th>\n",
       "      <th>Name</th>\n",
       "      <th>Sex</th>\n",
       "      <th>Age</th>\n",
       "      <th>SibSp</th>\n",
       "      <th>Parch</th>\n",
       "      <th>Ticket</th>\n",
       "      <th>Fare</th>\n",
       "      <th>Cabin</th>\n",
       "      <th>Embarked</th>\n",
       "    </tr>\n",
       "  </thead>\n",
       "  <tbody>\n",
       "    <tr>\n",
       "      <th>1043</th>\n",
       "      <td>1044</td>\n",
       "      <td>NaN</td>\n",
       "      <td>3</td>\n",
       "      <td>Storey, Mr. Thomas</td>\n",
       "      <td>male</td>\n",
       "      <td>60.5</td>\n",
       "      <td>0</td>\n",
       "      <td>0</td>\n",
       "      <td>3701</td>\n",
       "      <td>7.8958</td>\n",
       "      <td>NaN</td>\n",
       "      <td>S</td>\n",
       "    </tr>\n",
       "  </tbody>\n",
       "</table>\n",
       "</div>"
      ],
      "text/plain": [
       "     PassengerId Survived Pclass                Name   Sex   Age SibSp Parch  \\\n",
       "1043        1044      NaN      3  Storey, Mr. Thomas  male  60.5     0     0   \n",
       "\n",
       "     Ticket    Fare Cabin Embarked  \n",
       "1043   3701  7.8958   NaN        S  "
      ]
     },
     "execution_count": 43,
     "metadata": {},
     "output_type": "execute_result"
    }
   ],
   "source": [
    "# Verificando o registro se consta o valor que preenchemos\n",
    "df_full.iloc[1043].to_frame().T"
   ]
  },
  {
   "cell_type": "code",
   "execution_count": 44,
   "id": "c511aac8-c997-4e11-94b0-01e2a8006069",
   "metadata": {
    "tags": []
   },
   "outputs": [],
   "source": [
    "# Ajustar os valores de Fare para apenas 2 casas decimais\n",
    "df_full['Fare'] = df_full['Fare'].round(2)"
   ]
  },
  {
   "cell_type": "code",
   "execution_count": 45,
   "id": "b7eadc94-c6c5-4458-a81e-f16f4e77f67e",
   "metadata": {
    "tags": []
   },
   "outputs": [
    {
     "data": {
      "text/html": [
       "<div>\n",
       "<style scoped>\n",
       "    .dataframe tbody tr th:only-of-type {\n",
       "        vertical-align: middle;\n",
       "    }\n",
       "\n",
       "    .dataframe tbody tr th {\n",
       "        vertical-align: top;\n",
       "    }\n",
       "\n",
       "    .dataframe thead th {\n",
       "        text-align: right;\n",
       "    }\n",
       "</style>\n",
       "<table border=\"1\" class=\"dataframe\">\n",
       "  <thead>\n",
       "    <tr style=\"text-align: right;\">\n",
       "      <th></th>\n",
       "      <th>Survived</th>\n",
       "      <th>Pclass</th>\n",
       "      <th>Sex</th>\n",
       "      <th>SibSp</th>\n",
       "      <th>Parch</th>\n",
       "      <th>Fare</th>\n",
       "    </tr>\n",
       "  </thead>\n",
       "  <tbody>\n",
       "    <tr>\n",
       "      <th>0</th>\n",
       "      <td>0.0</td>\n",
       "      <td>3</td>\n",
       "      <td>male</td>\n",
       "      <td>1</td>\n",
       "      <td>0</td>\n",
       "      <td>7.25</td>\n",
       "    </tr>\n",
       "    <tr>\n",
       "      <th>1</th>\n",
       "      <td>1.0</td>\n",
       "      <td>1</td>\n",
       "      <td>female</td>\n",
       "      <td>1</td>\n",
       "      <td>0</td>\n",
       "      <td>71.28</td>\n",
       "    </tr>\n",
       "    <tr>\n",
       "      <th>2</th>\n",
       "      <td>1.0</td>\n",
       "      <td>3</td>\n",
       "      <td>female</td>\n",
       "      <td>0</td>\n",
       "      <td>0</td>\n",
       "      <td>7.92</td>\n",
       "    </tr>\n",
       "    <tr>\n",
       "      <th>3</th>\n",
       "      <td>1.0</td>\n",
       "      <td>1</td>\n",
       "      <td>female</td>\n",
       "      <td>1</td>\n",
       "      <td>0</td>\n",
       "      <td>53.10</td>\n",
       "    </tr>\n",
       "    <tr>\n",
       "      <th>4</th>\n",
       "      <td>0.0</td>\n",
       "      <td>3</td>\n",
       "      <td>male</td>\n",
       "      <td>0</td>\n",
       "      <td>0</td>\n",
       "      <td>8.05</td>\n",
       "    </tr>\n",
       "  </tbody>\n",
       "</table>\n",
       "</div>"
      ],
      "text/plain": [
       "   Survived  Pclass     Sex  SibSp  Parch   Fare\n",
       "0       0.0       3    male      1      0   7.25\n",
       "1       1.0       1  female      1      0  71.28\n",
       "2       1.0       3  female      0      0   7.92\n",
       "3       1.0       1  female      1      0  53.10\n",
       "4       0.0       3    male      0      0   8.05"
      ]
     },
     "execution_count": 45,
     "metadata": {},
     "output_type": "execute_result"
    }
   ],
   "source": [
    "# Adicionando a feature Fare no DF final\n",
    "df['Fare'] = df_full['Fare']\n",
    "df.head()"
   ]
  },
  {
   "cell_type": "markdown",
   "id": "430bb594-4b08-4faf-a45d-4ffb3e2aef03",
   "metadata": {},
   "source": [
    "# Embarked\n",
    "#### Entendendo as coluna Embarked\n",
    "\n",
    "- **Embarked**: Portão de embarque (C = Cherbourg; Q = Queenstown; S = Southampton)\n",
    "    - Iremos preencher os dois valores nulos com a moda e inserir no DataFrame final"
   ]
  },
  {
   "cell_type": "code",
   "execution_count": 46,
   "id": "bfd09d8c-9ed0-4f18-9a68-404c8f39f430",
   "metadata": {
    "tags": []
   },
   "outputs": [
    {
     "name": "stdout",
     "output_type": "stream",
     "text": [
      "Quantidade de valores únicos: 3\n",
      "\n",
      "Quais são os valores únicos: S, C, Q, nan\n",
      "\n",
      "Quantidade de valores nulos: 2\n",
      "\n",
      "Quantidade por valor: \n",
      "Embarked\n",
      "S    914\n",
      "C    270\n",
      "Q    123\n",
      "Name: count, dtype: int64\n"
     ]
    },
    {
     "data": {
      "image/png": "[encoded data removed]",
      "text/plain": [
       "<Figure size 500x500 with 1 Axes>"
      ]
     },
     "metadata": {},
     "output_type": "display_data"
    }
   ],
   "source": [
    "check_feature(df_full, 'Embarked')"
   ]
  },
  {
   "cell_type": "code",
   "execution_count": 47,
   "id": "1c8564c0-a19b-4e0e-9f36-83641ed4b9f3",
   "metadata": {
    "tags": []
   },
   "outputs": [
    {
     "data": {
      "text/html": [
       "<div>\n",
       "<style scoped>\n",
       "    .dataframe tbody tr th:only-of-type {\n",
       "        vertical-align: middle;\n",
       "    }\n",
       "\n",
       "    .dataframe tbody tr th {\n",
       "        vertical-align: top;\n",
       "    }\n",
       "\n",
       "    .dataframe thead th {\n",
       "        text-align: right;\n",
       "    }\n",
       "</style>\n",
       "<table border=\"1\" class=\"dataframe\">\n",
       "  <thead>\n",
       "    <tr style=\"text-align: right;\">\n",
       "      <th></th>\n",
       "      <th>PassengerId</th>\n",
       "      <th>Survived</th>\n",
       "      <th>Pclass</th>\n",
       "      <th>Name</th>\n",
       "      <th>Sex</th>\n",
       "      <th>Age</th>\n",
       "      <th>SibSp</th>\n",
       "      <th>Parch</th>\n",
       "      <th>Ticket</th>\n",
       "      <th>Fare</th>\n",
       "      <th>Cabin</th>\n",
       "      <th>Embarked</th>\n",
       "    </tr>\n",
       "  </thead>\n",
       "  <tbody>\n",
       "    <tr>\n",
       "      <th>61</th>\n",
       "      <td>62</td>\n",
       "      <td>1.0</td>\n",
       "      <td>1</td>\n",
       "      <td>Icard, Miss. Amelie</td>\n",
       "      <td>female</td>\n",
       "      <td>38.0</td>\n",
       "      <td>0</td>\n",
       "      <td>0</td>\n",
       "      <td>113572</td>\n",
       "      <td>80.0</td>\n",
       "      <td>B28</td>\n",
       "      <td>NaN</td>\n",
       "    </tr>\n",
       "    <tr>\n",
       "      <th>829</th>\n",
       "      <td>830</td>\n",
       "      <td>1.0</td>\n",
       "      <td>1</td>\n",
       "      <td>Stone, Mrs. George Nelson (Martha Evelyn)</td>\n",
       "      <td>female</td>\n",
       "      <td>62.0</td>\n",
       "      <td>0</td>\n",
       "      <td>0</td>\n",
       "      <td>113572</td>\n",
       "      <td>80.0</td>\n",
       "      <td>B28</td>\n",
       "      <td>NaN</td>\n",
       "    </tr>\n",
       "  </tbody>\n",
       "</table>\n",
       "</div>"
      ],
      "text/plain": [
       "     PassengerId  Survived  Pclass                                       Name  \\\n",
       "61            62       1.0       1                        Icard, Miss. Amelie   \n",
       "829          830       1.0       1  Stone, Mrs. George Nelson (Martha Evelyn)   \n",
       "\n",
       "        Sex   Age  SibSp  Parch  Ticket  Fare Cabin Embarked  \n",
       "61   female  38.0      0      0  113572  80.0   B28      NaN  \n",
       "829  female  62.0      0      0  113572  80.0   B28      NaN  "
      ]
     },
     "execution_count": 47,
     "metadata": {},
     "output_type": "execute_result"
    }
   ],
   "source": [
    "# Visualizando os registros que são nulos na feature 'Embarked'\n",
    "df_full[df_full['Embarked'].isnull()]"
   ]
  },
  {
   "cell_type": "code",
   "execution_count": 48,
   "id": "447bfde5-119e-4d6d-9e4f-d470e7a1a174",
   "metadata": {
    "tags": []
   },
   "outputs": [
    {
     "data": {
      "text/plain": [
       "Embarked\n",
       "C    0.553571\n",
       "Q    0.389610\n",
       "S    0.336957\n",
       "Name: Survived, dtype: float64"
      ]
     },
     "execution_count": 48,
     "metadata": {},
     "output_type": "execute_result"
    }
   ],
   "source": [
    "# Media de sobrevivencia por portão\n",
    "df_full.groupby('Embarked').Survived.mean()"
   ]
  },
  {
   "cell_type": "code",
   "execution_count": 49,
   "id": "582707fd-de92-4a9f-91d9-cd31ec6459e6",
   "metadata": {
    "tags": []
   },
   "outputs": [
    {
     "data": {
      "text/plain": [
       "Embarked\n",
       "C    1.851852\n",
       "Q    2.894309\n",
       "S    2.347921\n",
       "Name: Pclass, dtype: float64"
      ]
     },
     "execution_count": 49,
     "metadata": {},
     "output_type": "execute_result"
    }
   ],
   "source": [
    "# Media de classe que embarcaram por portão\n",
    "df_full.groupby('Embarked').Pclass.mean()"
   ]
  },
  {
   "cell_type": "code",
   "execution_count": 50,
   "id": "485669fe-5a5d-444c-ae7d-4c31af2189ed",
   "metadata": {
    "tags": []
   },
   "outputs": [],
   "source": [
    "# Como são apenas 2 registros nulos vamos preenche-lo com a moda\n",
    "df_full['Embarked'] = df_full['Embarked'].fillna('S')"
   ]
  },
  {
   "cell_type": "code",
   "execution_count": 51,
   "id": "e2ba90ba-430b-4bea-8302-4281b653b7fd",
   "metadata": {
    "tags": []
   },
   "outputs": [
    {
     "data": {
      "text/plain": [
       "0"
      ]
     },
     "execution_count": 51,
     "metadata": {},
     "output_type": "execute_result"
    }
   ],
   "source": [
    "# Verificando se ainda existem valores nulos na feature\n",
    "df_full['Embarked'].isnull().sum()"
   ]
  },
  {
   "cell_type": "code",
   "execution_count": 52,
   "id": "4b79ac6a-d6d2-4014-8112-3a69373092aa",
   "metadata": {
    "tags": []
   },
   "outputs": [
    {
     "data": {
      "text/html": [
       "<div>\n",
       "<style scoped>\n",
       "    .dataframe tbody tr th:only-of-type {\n",
       "        vertical-align: middle;\n",
       "    }\n",
       "\n",
       "    .dataframe tbody tr th {\n",
       "        vertical-align: top;\n",
       "    }\n",
       "\n",
       "    .dataframe thead th {\n",
       "        text-align: right;\n",
       "    }\n",
       "</style>\n",
       "<table border=\"1\" class=\"dataframe\">\n",
       "  <thead>\n",
       "    <tr style=\"text-align: right;\">\n",
       "      <th></th>\n",
       "      <th>PassengerId</th>\n",
       "      <th>Survived</th>\n",
       "      <th>Pclass</th>\n",
       "      <th>Name</th>\n",
       "      <th>Sex</th>\n",
       "      <th>Age</th>\n",
       "      <th>SibSp</th>\n",
       "      <th>Parch</th>\n",
       "      <th>Ticket</th>\n",
       "      <th>Fare</th>\n",
       "      <th>Cabin</th>\n",
       "      <th>Embarked</th>\n",
       "    </tr>\n",
       "  </thead>\n",
       "  <tbody>\n",
       "    <tr>\n",
       "      <th>61</th>\n",
       "      <td>62</td>\n",
       "      <td>1.0</td>\n",
       "      <td>1</td>\n",
       "      <td>Icard, Miss. Amelie</td>\n",
       "      <td>female</td>\n",
       "      <td>38.0</td>\n",
       "      <td>0</td>\n",
       "      <td>0</td>\n",
       "      <td>113572</td>\n",
       "      <td>80.0</td>\n",
       "      <td>B28</td>\n",
       "      <td>S</td>\n",
       "    </tr>\n",
       "  </tbody>\n",
       "</table>\n",
       "</div>"
      ],
      "text/plain": [
       "   PassengerId Survived Pclass                 Name     Sex   Age SibSp Parch  \\\n",
       "61          62      1.0      1  Icard, Miss. Amelie  female  38.0     0     0   \n",
       "\n",
       "    Ticket  Fare Cabin Embarked  \n",
       "61  113572  80.0   B28        S  "
      ]
     },
     "execution_count": 52,
     "metadata": {},
     "output_type": "execute_result"
    }
   ],
   "source": [
    "# Verificando o registro se consta o valor que preenchemos\n",
    "df_full.iloc[61].to_frame().T"
   ]
  },
  {
   "cell_type": "code",
   "execution_count": 53,
   "id": "363810f3-4217-4a60-b570-54102a66cae1",
   "metadata": {
    "tags": []
   },
   "outputs": [
    {
     "data": {
      "text/html": [
       "<div>\n",
       "<style scoped>\n",
       "    .dataframe tbody tr th:only-of-type {\n",
       "        vertical-align: middle;\n",
       "    }\n",
       "\n",
       "    .dataframe tbody tr th {\n",
       "        vertical-align: top;\n",
       "    }\n",
       "\n",
       "    .dataframe thead th {\n",
       "        text-align: right;\n",
       "    }\n",
       "</style>\n",
       "<table border=\"1\" class=\"dataframe\">\n",
       "  <thead>\n",
       "    <tr style=\"text-align: right;\">\n",
       "      <th></th>\n",
       "      <th>PassengerId</th>\n",
       "      <th>Survived</th>\n",
       "      <th>Pclass</th>\n",
       "      <th>Name</th>\n",
       "      <th>Sex</th>\n",
       "      <th>Age</th>\n",
       "      <th>SibSp</th>\n",
       "      <th>Parch</th>\n",
       "      <th>Ticket</th>\n",
       "      <th>Fare</th>\n",
       "      <th>Cabin</th>\n",
       "      <th>Embarked</th>\n",
       "    </tr>\n",
       "  </thead>\n",
       "  <tbody>\n",
       "    <tr>\n",
       "      <th>829</th>\n",
       "      <td>830</td>\n",
       "      <td>1.0</td>\n",
       "      <td>1</td>\n",
       "      <td>Stone, Mrs. George Nelson (Martha Evelyn)</td>\n",
       "      <td>female</td>\n",
       "      <td>62.0</td>\n",
       "      <td>0</td>\n",
       "      <td>0</td>\n",
       "      <td>113572</td>\n",
       "      <td>80.0</td>\n",
       "      <td>B28</td>\n",
       "      <td>S</td>\n",
       "    </tr>\n",
       "  </tbody>\n",
       "</table>\n",
       "</div>"
      ],
      "text/plain": [
       "    PassengerId Survived Pclass                                       Name  \\\n",
       "829         830      1.0      1  Stone, Mrs. George Nelson (Martha Evelyn)   \n",
       "\n",
       "        Sex   Age SibSp Parch  Ticket  Fare Cabin Embarked  \n",
       "829  female  62.0     0     0  113572  80.0   B28        S  "
      ]
     },
     "execution_count": 53,
     "metadata": {},
     "output_type": "execute_result"
    }
   ],
   "source": [
    "# Verificando o registro se consta o valor que preenchemos\n",
    "df_full.iloc[829].to_frame().T"
   ]
  },
  {
   "cell_type": "code",
   "execution_count": 54,
   "id": "91157bf7-2fc7-4797-b0a2-1c6cd4529629",
   "metadata": {
    "tags": []
   },
   "outputs": [
    {
     "data": {
      "text/html": [
       "<div>\n",
       "<style scoped>\n",
       "    .dataframe tbody tr th:only-of-type {\n",
       "        vertical-align: middle;\n",
       "    }\n",
       "\n",
       "    .dataframe tbody tr th {\n",
       "        vertical-align: top;\n",
       "    }\n",
       "\n",
       "    .dataframe thead th {\n",
       "        text-align: right;\n",
       "    }\n",
       "</style>\n",
       "<table border=\"1\" class=\"dataframe\">\n",
       "  <thead>\n",
       "    <tr style=\"text-align: right;\">\n",
       "      <th></th>\n",
       "      <th>Survived</th>\n",
       "      <th>Pclass</th>\n",
       "      <th>Sex</th>\n",
       "      <th>SibSp</th>\n",
       "      <th>Parch</th>\n",
       "      <th>Fare</th>\n",
       "      <th>Embarked</th>\n",
       "    </tr>\n",
       "  </thead>\n",
       "  <tbody>\n",
       "    <tr>\n",
       "      <th>0</th>\n",
       "      <td>0.0</td>\n",
       "      <td>3</td>\n",
       "      <td>male</td>\n",
       "      <td>1</td>\n",
       "      <td>0</td>\n",
       "      <td>7.25</td>\n",
       "      <td>S</td>\n",
       "    </tr>\n",
       "    <tr>\n",
       "      <th>1</th>\n",
       "      <td>1.0</td>\n",
       "      <td>1</td>\n",
       "      <td>female</td>\n",
       "      <td>1</td>\n",
       "      <td>0</td>\n",
       "      <td>71.28</td>\n",
       "      <td>C</td>\n",
       "    </tr>\n",
       "    <tr>\n",
       "      <th>2</th>\n",
       "      <td>1.0</td>\n",
       "      <td>3</td>\n",
       "      <td>female</td>\n",
       "      <td>0</td>\n",
       "      <td>0</td>\n",
       "      <td>7.92</td>\n",
       "      <td>S</td>\n",
       "    </tr>\n",
       "    <tr>\n",
       "      <th>3</th>\n",
       "      <td>1.0</td>\n",
       "      <td>1</td>\n",
       "      <td>female</td>\n",
       "      <td>1</td>\n",
       "      <td>0</td>\n",
       "      <td>53.10</td>\n",
       "      <td>S</td>\n",
       "    </tr>\n",
       "    <tr>\n",
       "      <th>4</th>\n",
       "      <td>0.0</td>\n",
       "      <td>3</td>\n",
       "      <td>male</td>\n",
       "      <td>0</td>\n",
       "      <td>0</td>\n",
       "      <td>8.05</td>\n",
       "      <td>S</td>\n",
       "    </tr>\n",
       "  </tbody>\n",
       "</table>\n",
       "</div>"
      ],
      "text/plain": [
       "   Survived  Pclass     Sex  SibSp  Parch   Fare Embarked\n",
       "0       0.0       3    male      1      0   7.25        S\n",
       "1       1.0       1  female      1      0  71.28        C\n",
       "2       1.0       3  female      0      0   7.92        S\n",
       "3       1.0       1  female      1      0  53.10        S\n",
       "4       0.0       3    male      0      0   8.05        S"
      ]
     },
     "execution_count": 54,
     "metadata": {},
     "output_type": "execute_result"
    }
   ],
   "source": [
    "# Adicionando a feature Embarked no DF final\n",
    "df['Embarked'] = df_full['Embarked']\n",
    "df.head()"
   ]
  },
  {
   "cell_type": "markdown",
   "id": "dafc3927",
   "metadata": {},
   "source": [
    "# Cabin\n",
    "#### Entendendo as coluna Cabin\n",
    "\n",
    "- **Cabin**: Cabine de cada passageiro\n",
    "    - Grande parte da feature `Cabin` está faltando, apesar de ser recomendado excluir uma feature que possue uma quantidade grande de valores nulos o recurso em si não pode ser completamente ignorado porque algumas cabines podem ter taxas de sobrevivência mais altas\n",
    "    - Acontece que a primeira letra dos valores `Cabin` são os decks nos quais as cabines estão localizadas. Esses conveses eram separados principalmente para uma classe de passageiros, mas alguns deles eram usados por várias classes de passageiros.\n",
    "    - Vamos preencher os valores ausentes de acordo com o `Pclass`, formando 3 subgrupos que correspodem os decks que cada classe estava a bordo."
   ]
  },
  {
   "cell_type": "markdown",
   "id": "99ae7a7d",
   "metadata": {},
   "source": [
    "<img src=\"img/Titanic_side_plan.webp\">"
   ]
  },
  {
   "cell_type": "code",
   "execution_count": 55,
   "id": "e7fc530b",
   "metadata": {},
   "outputs": [
    {
     "data": {
      "text/html": [
       "<div>\n",
       "<style scoped>\n",
       "    .dataframe tbody tr th:only-of-type {\n",
       "        vertical-align: middle;\n",
       "    }\n",
       "\n",
       "    .dataframe tbody tr th {\n",
       "        vertical-align: top;\n",
       "    }\n",
       "\n",
       "    .dataframe thead th {\n",
       "        text-align: right;\n",
       "    }\n",
       "</style>\n",
       "<table border=\"1\" class=\"dataframe\">\n",
       "  <thead>\n",
       "    <tr style=\"text-align: right;\">\n",
       "      <th></th>\n",
       "      <th>PassengerId</th>\n",
       "      <th>Survived</th>\n",
       "      <th>Pclass</th>\n",
       "      <th>Name</th>\n",
       "      <th>Sex</th>\n",
       "      <th>Age</th>\n",
       "      <th>SibSp</th>\n",
       "      <th>Parch</th>\n",
       "      <th>Ticket</th>\n",
       "      <th>Fare</th>\n",
       "      <th>Cabin</th>\n",
       "      <th>Embarked</th>\n",
       "      <th>Deck</th>\n",
       "    </tr>\n",
       "  </thead>\n",
       "  <tbody>\n",
       "    <tr>\n",
       "      <th>0</th>\n",
       "      <td>1</td>\n",
       "      <td>0.0</td>\n",
       "      <td>3</td>\n",
       "      <td>Braund, Mr. Owen Harris</td>\n",
       "      <td>male</td>\n",
       "      <td>22.0</td>\n",
       "      <td>1</td>\n",
       "      <td>0</td>\n",
       "      <td>A/5 21171</td>\n",
       "      <td>7.25</td>\n",
       "      <td>NaN</td>\n",
       "      <td>S</td>\n",
       "      <td>M</td>\n",
       "    </tr>\n",
       "    <tr>\n",
       "      <th>1</th>\n",
       "      <td>2</td>\n",
       "      <td>1.0</td>\n",
       "      <td>1</td>\n",
       "      <td>Cumings, Mrs. John Bradley (Florence Briggs Th...</td>\n",
       "      <td>female</td>\n",
       "      <td>38.0</td>\n",
       "      <td>1</td>\n",
       "      <td>0</td>\n",
       "      <td>PC 17599</td>\n",
       "      <td>71.28</td>\n",
       "      <td>C85</td>\n",
       "      <td>C</td>\n",
       "      <td>C</td>\n",
       "    </tr>\n",
       "    <tr>\n",
       "      <th>2</th>\n",
       "      <td>3</td>\n",
       "      <td>1.0</td>\n",
       "      <td>3</td>\n",
       "      <td>Heikkinen, Miss. Laina</td>\n",
       "      <td>female</td>\n",
       "      <td>26.0</td>\n",
       "      <td>0</td>\n",
       "      <td>0</td>\n",
       "      <td>STON/O2. 3101282</td>\n",
       "      <td>7.92</td>\n",
       "      <td>NaN</td>\n",
       "      <td>S</td>\n",
       "      <td>M</td>\n",
       "    </tr>\n",
       "    <tr>\n",
       "      <th>3</th>\n",
       "      <td>4</td>\n",
       "      <td>1.0</td>\n",
       "      <td>1</td>\n",
       "      <td>Futrelle, Mrs. Jacques Heath (Lily May Peel)</td>\n",
       "      <td>female</td>\n",
       "      <td>35.0</td>\n",
       "      <td>1</td>\n",
       "      <td>0</td>\n",
       "      <td>113803</td>\n",
       "      <td>53.10</td>\n",
       "      <td>C123</td>\n",
       "      <td>S</td>\n",
       "      <td>C</td>\n",
       "    </tr>\n",
       "    <tr>\n",
       "      <th>4</th>\n",
       "      <td>5</td>\n",
       "      <td>0.0</td>\n",
       "      <td>3</td>\n",
       "      <td>Allen, Mr. William Henry</td>\n",
       "      <td>male</td>\n",
       "      <td>35.0</td>\n",
       "      <td>0</td>\n",
       "      <td>0</td>\n",
       "      <td>373450</td>\n",
       "      <td>8.05</td>\n",
       "      <td>NaN</td>\n",
       "      <td>S</td>\n",
       "      <td>M</td>\n",
       "    </tr>\n",
       "    <tr>\n",
       "      <th>...</th>\n",
       "      <td>...</td>\n",
       "      <td>...</td>\n",
       "      <td>...</td>\n",
       "      <td>...</td>\n",
       "      <td>...</td>\n",
       "      <td>...</td>\n",
       "      <td>...</td>\n",
       "      <td>...</td>\n",
       "      <td>...</td>\n",
       "      <td>...</td>\n",
       "      <td>...</td>\n",
       "      <td>...</td>\n",
       "      <td>...</td>\n",
       "    </tr>\n",
       "    <tr>\n",
       "      <th>1304</th>\n",
       "      <td>1305</td>\n",
       "      <td>NaN</td>\n",
       "      <td>3</td>\n",
       "      <td>Spector, Mr. Woolf</td>\n",
       "      <td>male</td>\n",
       "      <td>NaN</td>\n",
       "      <td>0</td>\n",
       "      <td>0</td>\n",
       "      <td>A.5. 3236</td>\n",
       "      <td>8.05</td>\n",
       "      <td>NaN</td>\n",
       "      <td>S</td>\n",
       "      <td>M</td>\n",
       "    </tr>\n",
       "    <tr>\n",
       "      <th>1305</th>\n",
       "      <td>1306</td>\n",
       "      <td>NaN</td>\n",
       "      <td>1</td>\n",
       "      <td>Oliva y Ocana, Dona. Fermina</td>\n",
       "      <td>female</td>\n",
       "      <td>39.0</td>\n",
       "      <td>0</td>\n",
       "      <td>0</td>\n",
       "      <td>PC 17758</td>\n",
       "      <td>108.90</td>\n",
       "      <td>C105</td>\n",
       "      <td>C</td>\n",
       "      <td>C</td>\n",
       "    </tr>\n",
       "    <tr>\n",
       "      <th>1306</th>\n",
       "      <td>1307</td>\n",
       "      <td>NaN</td>\n",
       "      <td>3</td>\n",
       "      <td>Saether, Mr. Simon Sivertsen</td>\n",
       "      <td>male</td>\n",
       "      <td>38.5</td>\n",
       "      <td>0</td>\n",
       "      <td>0</td>\n",
       "      <td>SOTON/O.Q. 3101262</td>\n",
       "      <td>7.25</td>\n",
       "      <td>NaN</td>\n",
       "      <td>S</td>\n",
       "      <td>M</td>\n",
       "    </tr>\n",
       "    <tr>\n",
       "      <th>1307</th>\n",
       "      <td>1308</td>\n",
       "      <td>NaN</td>\n",
       "      <td>3</td>\n",
       "      <td>Ware, Mr. Frederick</td>\n",
       "      <td>male</td>\n",
       "      <td>NaN</td>\n",
       "      <td>0</td>\n",
       "      <td>0</td>\n",
       "      <td>359309</td>\n",
       "      <td>8.05</td>\n",
       "      <td>NaN</td>\n",
       "      <td>S</td>\n",
       "      <td>M</td>\n",
       "    </tr>\n",
       "    <tr>\n",
       "      <th>1308</th>\n",
       "      <td>1309</td>\n",
       "      <td>NaN</td>\n",
       "      <td>3</td>\n",
       "      <td>Peter, Master. Michael J</td>\n",
       "      <td>male</td>\n",
       "      <td>NaN</td>\n",
       "      <td>1</td>\n",
       "      <td>1</td>\n",
       "      <td>2668</td>\n",
       "      <td>22.36</td>\n",
       "      <td>NaN</td>\n",
       "      <td>C</td>\n",
       "      <td>M</td>\n",
       "    </tr>\n",
       "  </tbody>\n",
       "</table>\n",
       "<p>1309 rows × 13 columns</p>\n",
       "</div>"
      ],
      "text/plain": [
       "      PassengerId  Survived  Pclass  \\\n",
       "0               1       0.0       3   \n",
       "1               2       1.0       1   \n",
       "2               3       1.0       3   \n",
       "3               4       1.0       1   \n",
       "4               5       0.0       3   \n",
       "...           ...       ...     ...   \n",
       "1304         1305       NaN       3   \n",
       "1305         1306       NaN       1   \n",
       "1306         1307       NaN       3   \n",
       "1307         1308       NaN       3   \n",
       "1308         1309       NaN       3   \n",
       "\n",
       "                                                   Name     Sex   Age  SibSp  \\\n",
       "0                               Braund, Mr. Owen Harris    male  22.0      1   \n",
       "1     Cumings, Mrs. John Bradley (Florence Briggs Th...  female  38.0      1   \n",
       "2                                Heikkinen, Miss. Laina  female  26.0      0   \n",
       "3          Futrelle, Mrs. Jacques Heath (Lily May Peel)  female  35.0      1   \n",
       "4                              Allen, Mr. William Henry    male  35.0      0   \n",
       "...                                                 ...     ...   ...    ...   \n",
       "1304                                 Spector, Mr. Woolf    male   NaN      0   \n",
       "1305                       Oliva y Ocana, Dona. Fermina  female  39.0      0   \n",
       "1306                       Saether, Mr. Simon Sivertsen    male  38.5      0   \n",
       "1307                                Ware, Mr. Frederick    male   NaN      0   \n",
       "1308                           Peter, Master. Michael J    male   NaN      1   \n",
       "\n",
       "      Parch              Ticket    Fare Cabin Embarked Deck  \n",
       "0         0           A/5 21171    7.25   NaN        S    M  \n",
       "1         0            PC 17599   71.28   C85        C    C  \n",
       "2         0    STON/O2. 3101282    7.92   NaN        S    M  \n",
       "3         0              113803   53.10  C123        S    C  \n",
       "4         0              373450    8.05   NaN        S    M  \n",
       "...     ...                 ...     ...   ...      ...  ...  \n",
       "1304      0           A.5. 3236    8.05   NaN        S    M  \n",
       "1305      0            PC 17758  108.90  C105        C    C  \n",
       "1306      0  SOTON/O.Q. 3101262    7.25   NaN        S    M  \n",
       "1307      0              359309    8.05   NaN        S    M  \n",
       "1308      1                2668   22.36   NaN        C    M  \n",
       "\n",
       "[1309 rows x 13 columns]"
      ]
     },
     "execution_count": 55,
     "metadata": {},
     "output_type": "execute_result"
    }
   ],
   "source": [
    "# Criando a Feature Deck\n",
    "# M, C, E, G, D, A, B, F, T\n",
    "# M para valores faltantes\n",
    "df_full['Deck'] = df_full['Cabin'].apply(lambda s: s[0] if pd.notnull(s) else 'M')\n",
    "df_full"
   ]
  },
  {
   "cell_type": "code",
   "execution_count": 56,
   "id": "c4f26c9c",
   "metadata": {},
   "outputs": [
    {
     "name": "stdout",
     "output_type": "stream",
     "text": [
      "Quantidade de valores únicos: 9\n",
      "\n",
      "Quais são os valores únicos: M, C, E, G, D, A, B, F, T\n",
      "\n",
      "Quantidade de valores nulos: 0\n",
      "\n",
      "Quantidade por valor: \n",
      "Deck\n",
      "M    1014\n",
      "C      94\n",
      "B      65\n",
      "D      46\n",
      "E      41\n",
      "A      22\n",
      "F      21\n",
      "G       5\n",
      "T       1\n",
      "Name: count, dtype: int64\n"
     ]
    },
    {
     "data": {
      "image/png": "[encoded data removed]",
      "text/plain": [
       "<Figure size 640x480 with 1 Axes>"
      ]
     },
     "metadata": {},
     "output_type": "display_data"
    }
   ],
   "source": [
    "check_feature(df_full, 'Deck')"
   ]
  },
  {
   "cell_type": "code",
   "execution_count": 57,
   "id": "62e9447c",
   "metadata": {},
   "outputs": [
    {
     "data": {
      "text/html": [
       "<div>\n",
       "<style scoped>\n",
       "    .dataframe tbody tr th:only-of-type {\n",
       "        vertical-align: middle;\n",
       "    }\n",
       "\n",
       "    .dataframe tbody tr th {\n",
       "        vertical-align: top;\n",
       "    }\n",
       "\n",
       "    .dataframe thead th {\n",
       "        text-align: right;\n",
       "    }\n",
       "</style>\n",
       "<table border=\"1\" class=\"dataframe\">\n",
       "  <thead>\n",
       "    <tr style=\"text-align: right;\">\n",
       "      <th></th>\n",
       "      <th>Deck</th>\n",
       "      <th>Pclass</th>\n",
       "      <th>Count</th>\n",
       "    </tr>\n",
       "  </thead>\n",
       "  <tbody>\n",
       "    <tr>\n",
       "      <th>0</th>\n",
       "      <td>A</td>\n",
       "      <td>1</td>\n",
       "      <td>22</td>\n",
       "    </tr>\n",
       "    <tr>\n",
       "      <th>1</th>\n",
       "      <td>B</td>\n",
       "      <td>1</td>\n",
       "      <td>65</td>\n",
       "    </tr>\n",
       "    <tr>\n",
       "      <th>2</th>\n",
       "      <td>C</td>\n",
       "      <td>1</td>\n",
       "      <td>94</td>\n",
       "    </tr>\n",
       "    <tr>\n",
       "      <th>3</th>\n",
       "      <td>D</td>\n",
       "      <td>1</td>\n",
       "      <td>40</td>\n",
       "    </tr>\n",
       "    <tr>\n",
       "      <th>4</th>\n",
       "      <td>D</td>\n",
       "      <td>2</td>\n",
       "      <td>6</td>\n",
       "    </tr>\n",
       "    <tr>\n",
       "      <th>5</th>\n",
       "      <td>E</td>\n",
       "      <td>1</td>\n",
       "      <td>34</td>\n",
       "    </tr>\n",
       "    <tr>\n",
       "      <th>6</th>\n",
       "      <td>E</td>\n",
       "      <td>2</td>\n",
       "      <td>4</td>\n",
       "    </tr>\n",
       "    <tr>\n",
       "      <th>7</th>\n",
       "      <td>E</td>\n",
       "      <td>3</td>\n",
       "      <td>3</td>\n",
       "    </tr>\n",
       "    <tr>\n",
       "      <th>8</th>\n",
       "      <td>F</td>\n",
       "      <td>2</td>\n",
       "      <td>13</td>\n",
       "    </tr>\n",
       "    <tr>\n",
       "      <th>9</th>\n",
       "      <td>F</td>\n",
       "      <td>3</td>\n",
       "      <td>8</td>\n",
       "    </tr>\n",
       "    <tr>\n",
       "      <th>10</th>\n",
       "      <td>G</td>\n",
       "      <td>3</td>\n",
       "      <td>5</td>\n",
       "    </tr>\n",
       "    <tr>\n",
       "      <th>11</th>\n",
       "      <td>M</td>\n",
       "      <td>1</td>\n",
       "      <td>67</td>\n",
       "    </tr>\n",
       "    <tr>\n",
       "      <th>12</th>\n",
       "      <td>M</td>\n",
       "      <td>2</td>\n",
       "      <td>254</td>\n",
       "    </tr>\n",
       "    <tr>\n",
       "      <th>13</th>\n",
       "      <td>M</td>\n",
       "      <td>3</td>\n",
       "      <td>693</td>\n",
       "    </tr>\n",
       "    <tr>\n",
       "      <th>14</th>\n",
       "      <td>T</td>\n",
       "      <td>1</td>\n",
       "      <td>1</td>\n",
       "    </tr>\n",
       "  </tbody>\n",
       "</table>\n",
       "</div>"
      ],
      "text/plain": [
       "   Deck  Pclass  Count\n",
       "0     A       1     22\n",
       "1     B       1     65\n",
       "2     C       1     94\n",
       "3     D       1     40\n",
       "4     D       2      6\n",
       "5     E       1     34\n",
       "6     E       2      4\n",
       "7     E       3      3\n",
       "8     F       2     13\n",
       "9     F       3      8\n",
       "10    G       3      5\n",
       "11    M       1     67\n",
       "12    M       2    254\n",
       "13    M       3    693\n",
       "14    T       1      1"
      ]
     },
     "execution_count": 57,
     "metadata": {},
     "output_type": "execute_result"
    }
   ],
   "source": [
    "# Contagem dos passageiros por deck e classe\n",
    "count = df_full.groupby(['Deck', 'Pclass']).size().reset_index(name='Count')\n",
    "count"
   ]
  },
  {
   "cell_type": "code",
   "execution_count": 58,
   "id": "a25e0817",
   "metadata": {
    "tags": []
   },
   "outputs": [
    {
     "data": {
      "text/html": [
       "<div>\n",
       "<style scoped>\n",
       "    .dataframe tbody tr th:only-of-type {\n",
       "        vertical-align: middle;\n",
       "    }\n",
       "\n",
       "    .dataframe tbody tr th {\n",
       "        vertical-align: top;\n",
       "    }\n",
       "\n",
       "    .dataframe thead th {\n",
       "        text-align: right;\n",
       "    }\n",
       "</style>\n",
       "<table border=\"1\" class=\"dataframe\">\n",
       "  <thead>\n",
       "    <tr style=\"text-align: right;\">\n",
       "      <th></th>\n",
       "      <th>Deck</th>\n",
       "      <th>Pclass</th>\n",
       "      <th>Count</th>\n",
       "      <th>Percentage</th>\n",
       "    </tr>\n",
       "  </thead>\n",
       "  <tbody>\n",
       "    <tr>\n",
       "      <th>0</th>\n",
       "      <td>A</td>\n",
       "      <td>1</td>\n",
       "      <td>22</td>\n",
       "      <td>100.000000</td>\n",
       "    </tr>\n",
       "    <tr>\n",
       "      <th>1</th>\n",
       "      <td>B</td>\n",
       "      <td>1</td>\n",
       "      <td>65</td>\n",
       "      <td>100.000000</td>\n",
       "    </tr>\n",
       "    <tr>\n",
       "      <th>2</th>\n",
       "      <td>C</td>\n",
       "      <td>1</td>\n",
       "      <td>94</td>\n",
       "      <td>100.000000</td>\n",
       "    </tr>\n",
       "    <tr>\n",
       "      <th>3</th>\n",
       "      <td>D</td>\n",
       "      <td>1</td>\n",
       "      <td>40</td>\n",
       "      <td>86.956522</td>\n",
       "    </tr>\n",
       "    <tr>\n",
       "      <th>4</th>\n",
       "      <td>D</td>\n",
       "      <td>2</td>\n",
       "      <td>6</td>\n",
       "      <td>13.043478</td>\n",
       "    </tr>\n",
       "    <tr>\n",
       "      <th>5</th>\n",
       "      <td>E</td>\n",
       "      <td>1</td>\n",
       "      <td>34</td>\n",
       "      <td>82.926829</td>\n",
       "    </tr>\n",
       "    <tr>\n",
       "      <th>6</th>\n",
       "      <td>E</td>\n",
       "      <td>2</td>\n",
       "      <td>4</td>\n",
       "      <td>9.756098</td>\n",
       "    </tr>\n",
       "    <tr>\n",
       "      <th>7</th>\n",
       "      <td>E</td>\n",
       "      <td>3</td>\n",
       "      <td>3</td>\n",
       "      <td>7.317073</td>\n",
       "    </tr>\n",
       "    <tr>\n",
       "      <th>8</th>\n",
       "      <td>F</td>\n",
       "      <td>2</td>\n",
       "      <td>13</td>\n",
       "      <td>61.904762</td>\n",
       "    </tr>\n",
       "    <tr>\n",
       "      <th>9</th>\n",
       "      <td>F</td>\n",
       "      <td>3</td>\n",
       "      <td>8</td>\n",
       "      <td>38.095238</td>\n",
       "    </tr>\n",
       "    <tr>\n",
       "      <th>10</th>\n",
       "      <td>G</td>\n",
       "      <td>3</td>\n",
       "      <td>5</td>\n",
       "      <td>100.000000</td>\n",
       "    </tr>\n",
       "    <tr>\n",
       "      <th>11</th>\n",
       "      <td>M</td>\n",
       "      <td>1</td>\n",
       "      <td>67</td>\n",
       "      <td>6.607495</td>\n",
       "    </tr>\n",
       "    <tr>\n",
       "      <th>12</th>\n",
       "      <td>M</td>\n",
       "      <td>2</td>\n",
       "      <td>254</td>\n",
       "      <td>25.049310</td>\n",
       "    </tr>\n",
       "    <tr>\n",
       "      <th>13</th>\n",
       "      <td>M</td>\n",
       "      <td>3</td>\n",
       "      <td>693</td>\n",
       "      <td>68.343195</td>\n",
       "    </tr>\n",
       "    <tr>\n",
       "      <th>14</th>\n",
       "      <td>T</td>\n",
       "      <td>1</td>\n",
       "      <td>1</td>\n",
       "      <td>100.000000</td>\n",
       "    </tr>\n",
       "  </tbody>\n",
       "</table>\n",
       "</div>"
      ],
      "text/plain": [
       "   Deck  Pclass  Count  Percentage\n",
       "0     A       1     22  100.000000\n",
       "1     B       1     65  100.000000\n",
       "2     C       1     94  100.000000\n",
       "3     D       1     40   86.956522\n",
       "4     D       2      6   13.043478\n",
       "5     E       1     34   82.926829\n",
       "6     E       2      4    9.756098\n",
       "7     E       3      3    7.317073\n",
       "8     F       2     13   61.904762\n",
       "9     F       3      8   38.095238\n",
       "10    G       3      5  100.000000\n",
       "11    M       1     67    6.607495\n",
       "12    M       2    254   25.049310\n",
       "13    M       3    693   68.343195\n",
       "14    T       1      1  100.000000"
      ]
     },
     "execution_count": 58,
     "metadata": {},
     "output_type": "execute_result"
    }
   ],
   "source": [
    "# Calcular a porcentagem por deck\n",
    "count['Percentage'] = count.groupby('Deck')['Count'].transform(lambda x: (x / x.sum()) * 100)\n",
    "count"
   ]
  },
  {
   "cell_type": "markdown",
   "id": "c0d33eb0",
   "metadata": {},
   "source": [
    "- #### Pclass 1: Decks A, B, C, D, E, M\n",
    "    - #### Decks ABC são 100% da primeira classe\n",
    "- #### Pclass 2: Decks D, E, F, M\n",
    "    - #### 13% no Deck D, 9% no Deck E, 61% Deck F\n",
    "- #### Pclass 3: Decks E, F, G, M\n",
    "    - #### 7% no Deck D, 38% Deck F, 100% Deck G, 68% Deck M"
   ]
  },
  {
   "cell_type": "code",
   "execution_count": 59,
   "id": "8a3c4f5b",
   "metadata": {},
   "outputs": [
    {
     "data": {
      "text/html": [
       "<div>\n",
       "<style scoped>\n",
       "    .dataframe tbody tr th:only-of-type {\n",
       "        vertical-align: middle;\n",
       "    }\n",
       "\n",
       "    .dataframe tbody tr th {\n",
       "        vertical-align: top;\n",
       "    }\n",
       "\n",
       "    .dataframe thead th {\n",
       "        text-align: right;\n",
       "    }\n",
       "</style>\n",
       "<table border=\"1\" class=\"dataframe\">\n",
       "  <thead>\n",
       "    <tr style=\"text-align: right;\">\n",
       "      <th></th>\n",
       "      <th>PassengerId</th>\n",
       "      <th>Survived</th>\n",
       "      <th>Pclass</th>\n",
       "      <th>Name</th>\n",
       "      <th>Sex</th>\n",
       "      <th>Age</th>\n",
       "      <th>SibSp</th>\n",
       "      <th>Parch</th>\n",
       "      <th>Ticket</th>\n",
       "      <th>Fare</th>\n",
       "      <th>Cabin</th>\n",
       "      <th>Embarked</th>\n",
       "      <th>Deck</th>\n",
       "    </tr>\n",
       "  </thead>\n",
       "  <tbody>\n",
       "    <tr>\n",
       "      <th>0</th>\n",
       "      <td>1</td>\n",
       "      <td>0.0</td>\n",
       "      <td>3</td>\n",
       "      <td>Braund, Mr. Owen Harris</td>\n",
       "      <td>male</td>\n",
       "      <td>22.0</td>\n",
       "      <td>1</td>\n",
       "      <td>0</td>\n",
       "      <td>A/5 21171</td>\n",
       "      <td>7.25</td>\n",
       "      <td>NaN</td>\n",
       "      <td>S</td>\n",
       "      <td>EFG</td>\n",
       "    </tr>\n",
       "    <tr>\n",
       "      <th>1</th>\n",
       "      <td>2</td>\n",
       "      <td>1.0</td>\n",
       "      <td>1</td>\n",
       "      <td>Cumings, Mrs. John Bradley (Florence Briggs Th...</td>\n",
       "      <td>female</td>\n",
       "      <td>38.0</td>\n",
       "      <td>1</td>\n",
       "      <td>0</td>\n",
       "      <td>PC 17599</td>\n",
       "      <td>71.28</td>\n",
       "      <td>C85</td>\n",
       "      <td>C</td>\n",
       "      <td>ABCDE</td>\n",
       "    </tr>\n",
       "    <tr>\n",
       "      <th>2</th>\n",
       "      <td>3</td>\n",
       "      <td>1.0</td>\n",
       "      <td>3</td>\n",
       "      <td>Heikkinen, Miss. Laina</td>\n",
       "      <td>female</td>\n",
       "      <td>26.0</td>\n",
       "      <td>0</td>\n",
       "      <td>0</td>\n",
       "      <td>STON/O2. 3101282</td>\n",
       "      <td>7.92</td>\n",
       "      <td>NaN</td>\n",
       "      <td>S</td>\n",
       "      <td>EFG</td>\n",
       "    </tr>\n",
       "    <tr>\n",
       "      <th>3</th>\n",
       "      <td>4</td>\n",
       "      <td>1.0</td>\n",
       "      <td>1</td>\n",
       "      <td>Futrelle, Mrs. Jacques Heath (Lily May Peel)</td>\n",
       "      <td>female</td>\n",
       "      <td>35.0</td>\n",
       "      <td>1</td>\n",
       "      <td>0</td>\n",
       "      <td>113803</td>\n",
       "      <td>53.10</td>\n",
       "      <td>C123</td>\n",
       "      <td>S</td>\n",
       "      <td>ABCDE</td>\n",
       "    </tr>\n",
       "    <tr>\n",
       "      <th>4</th>\n",
       "      <td>5</td>\n",
       "      <td>0.0</td>\n",
       "      <td>3</td>\n",
       "      <td>Allen, Mr. William Henry</td>\n",
       "      <td>male</td>\n",
       "      <td>35.0</td>\n",
       "      <td>0</td>\n",
       "      <td>0</td>\n",
       "      <td>373450</td>\n",
       "      <td>8.05</td>\n",
       "      <td>NaN</td>\n",
       "      <td>S</td>\n",
       "      <td>EFG</td>\n",
       "    </tr>\n",
       "    <tr>\n",
       "      <th>...</th>\n",
       "      <td>...</td>\n",
       "      <td>...</td>\n",
       "      <td>...</td>\n",
       "      <td>...</td>\n",
       "      <td>...</td>\n",
       "      <td>...</td>\n",
       "      <td>...</td>\n",
       "      <td>...</td>\n",
       "      <td>...</td>\n",
       "      <td>...</td>\n",
       "      <td>...</td>\n",
       "      <td>...</td>\n",
       "      <td>...</td>\n",
       "    </tr>\n",
       "    <tr>\n",
       "      <th>1304</th>\n",
       "      <td>1305</td>\n",
       "      <td>NaN</td>\n",
       "      <td>3</td>\n",
       "      <td>Spector, Mr. Woolf</td>\n",
       "      <td>male</td>\n",
       "      <td>NaN</td>\n",
       "      <td>0</td>\n",
       "      <td>0</td>\n",
       "      <td>A.5. 3236</td>\n",
       "      <td>8.05</td>\n",
       "      <td>NaN</td>\n",
       "      <td>S</td>\n",
       "      <td>EFG</td>\n",
       "    </tr>\n",
       "    <tr>\n",
       "      <th>1305</th>\n",
       "      <td>1306</td>\n",
       "      <td>NaN</td>\n",
       "      <td>1</td>\n",
       "      <td>Oliva y Ocana, Dona. Fermina</td>\n",
       "      <td>female</td>\n",
       "      <td>39.0</td>\n",
       "      <td>0</td>\n",
       "      <td>0</td>\n",
       "      <td>PC 17758</td>\n",
       "      <td>108.90</td>\n",
       "      <td>C105</td>\n",
       "      <td>C</td>\n",
       "      <td>ABCDE</td>\n",
       "    </tr>\n",
       "    <tr>\n",
       "      <th>1306</th>\n",
       "      <td>1307</td>\n",
       "      <td>NaN</td>\n",
       "      <td>3</td>\n",
       "      <td>Saether, Mr. Simon Sivertsen</td>\n",
       "      <td>male</td>\n",
       "      <td>38.5</td>\n",
       "      <td>0</td>\n",
       "      <td>0</td>\n",
       "      <td>SOTON/O.Q. 3101262</td>\n",
       "      <td>7.25</td>\n",
       "      <td>NaN</td>\n",
       "      <td>S</td>\n",
       "      <td>EFG</td>\n",
       "    </tr>\n",
       "    <tr>\n",
       "      <th>1307</th>\n",
       "      <td>1308</td>\n",
       "      <td>NaN</td>\n",
       "      <td>3</td>\n",
       "      <td>Ware, Mr. Frederick</td>\n",
       "      <td>male</td>\n",
       "      <td>NaN</td>\n",
       "      <td>0</td>\n",
       "      <td>0</td>\n",
       "      <td>359309</td>\n",
       "      <td>8.05</td>\n",
       "      <td>NaN</td>\n",
       "      <td>S</td>\n",
       "      <td>EFG</td>\n",
       "    </tr>\n",
       "    <tr>\n",
       "      <th>1308</th>\n",
       "      <td>1309</td>\n",
       "      <td>NaN</td>\n",
       "      <td>3</td>\n",
       "      <td>Peter, Master. Michael J</td>\n",
       "      <td>male</td>\n",
       "      <td>NaN</td>\n",
       "      <td>1</td>\n",
       "      <td>1</td>\n",
       "      <td>2668</td>\n",
       "      <td>22.36</td>\n",
       "      <td>NaN</td>\n",
       "      <td>C</td>\n",
       "      <td>EFG</td>\n",
       "    </tr>\n",
       "  </tbody>\n",
       "</table>\n",
       "<p>1309 rows × 13 columns</p>\n",
       "</div>"
      ],
      "text/plain": [
       "      PassengerId  Survived  Pclass  \\\n",
       "0               1       0.0       3   \n",
       "1               2       1.0       1   \n",
       "2               3       1.0       3   \n",
       "3               4       1.0       1   \n",
       "4               5       0.0       3   \n",
       "...           ...       ...     ...   \n",
       "1304         1305       NaN       3   \n",
       "1305         1306       NaN       1   \n",
       "1306         1307       NaN       3   \n",
       "1307         1308       NaN       3   \n",
       "1308         1309       NaN       3   \n",
       "\n",
       "                                                   Name     Sex   Age  SibSp  \\\n",
       "0                               Braund, Mr. Owen Harris    male  22.0      1   \n",
       "1     Cumings, Mrs. John Bradley (Florence Briggs Th...  female  38.0      1   \n",
       "2                                Heikkinen, Miss. Laina  female  26.0      0   \n",
       "3          Futrelle, Mrs. Jacques Heath (Lily May Peel)  female  35.0      1   \n",
       "4                              Allen, Mr. William Henry    male  35.0      0   \n",
       "...                                                 ...     ...   ...    ...   \n",
       "1304                                 Spector, Mr. Woolf    male   NaN      0   \n",
       "1305                       Oliva y Ocana, Dona. Fermina  female  39.0      0   \n",
       "1306                       Saether, Mr. Simon Sivertsen    male  38.5      0   \n",
       "1307                                Ware, Mr. Frederick    male   NaN      0   \n",
       "1308                           Peter, Master. Michael J    male   NaN      1   \n",
       "\n",
       "      Parch              Ticket    Fare Cabin Embarked   Deck  \n",
       "0         0           A/5 21171    7.25   NaN        S    EFG  \n",
       "1         0            PC 17599   71.28   C85        C  ABCDE  \n",
       "2         0    STON/O2. 3101282    7.92   NaN        S    EFG  \n",
       "3         0              113803   53.10  C123        S  ABCDE  \n",
       "4         0              373450    8.05   NaN        S    EFG  \n",
       "...     ...                 ...     ...   ...      ...    ...  \n",
       "1304      0           A.5. 3236    8.05   NaN        S    EFG  \n",
       "1305      0            PC 17758  108.90  C105        C  ABCDE  \n",
       "1306      0  SOTON/O.Q. 3101262    7.25   NaN        S    EFG  \n",
       "1307      0              359309    8.05   NaN        S    EFG  \n",
       "1308      1                2668   22.36   NaN        C    EFG  \n",
       "\n",
       "[1309 rows x 13 columns]"
      ]
     },
     "execution_count": 59,
     "metadata": {},
     "output_type": "execute_result"
    }
   ],
   "source": [
    "# Pclass 1: Decks A, B, C, D, E\n",
    "# Pclass 2: Decks D, E, F\n",
    "# Pclass 3: Decks E, F, G\n",
    "# Função para mapear os decks de acordo com a classe do passageiro\n",
    "def mapear_decks(classe):\n",
    "    if classe == 1:\n",
    "        return 'ABCDE'\n",
    "    elif classe == 2:\n",
    "        return 'DEF'\n",
    "    elif classe == 3:\n",
    "        return 'EFG'\n",
    "    else:\n",
    "        return 'M'\n",
    "\n",
    "\n",
    "df_full['Deck'] = df_full['Pclass'].apply(mapear_decks)\n",
    "df_full"
   ]
  },
  {
   "cell_type": "code",
   "execution_count": 60,
   "id": "9d52722b",
   "metadata": {},
   "outputs": [
    {
     "name": "stdout",
     "output_type": "stream",
     "text": [
      "Quantidade de valores únicos: 3\n",
      "\n",
      "Quais são os valores únicos: EFG, ABCDE, DEF\n",
      "\n",
      "Quantidade de valores nulos: 0\n",
      "\n",
      "Quantidade por valor: \n",
      "Deck\n",
      "EFG      709\n",
      "ABCDE    323\n",
      "DEF      277\n",
      "Name: count, dtype: int64\n"
     ]
    },
    {
     "data": {
      "image/png": "[encoded data removed]",
      "text/plain": [
       "<Figure size 640x480 with 1 Axes>"
      ]
     },
     "metadata": {},
     "output_type": "display_data"
    }
   ],
   "source": [
    "check_feature(df_full, 'Deck')"
   ]
  },
  {
   "cell_type": "code",
   "execution_count": 61,
   "id": "211c52a4",
   "metadata": {},
   "outputs": [
    {
     "data": {
      "text/html": [
       "<div>\n",
       "<style scoped>\n",
       "    .dataframe tbody tr th:only-of-type {\n",
       "        vertical-align: middle;\n",
       "    }\n",
       "\n",
       "    .dataframe tbody tr th {\n",
       "        vertical-align: top;\n",
       "    }\n",
       "\n",
       "    .dataframe thead th {\n",
       "        text-align: right;\n",
       "    }\n",
       "</style>\n",
       "<table border=\"1\" class=\"dataframe\">\n",
       "  <thead>\n",
       "    <tr style=\"text-align: right;\">\n",
       "      <th></th>\n",
       "      <th>Survived</th>\n",
       "      <th>Pclass</th>\n",
       "      <th>Sex</th>\n",
       "      <th>SibSp</th>\n",
       "      <th>Parch</th>\n",
       "      <th>Fare</th>\n",
       "      <th>Embarked</th>\n",
       "      <th>Deck</th>\n",
       "    </tr>\n",
       "  </thead>\n",
       "  <tbody>\n",
       "    <tr>\n",
       "      <th>0</th>\n",
       "      <td>0.0</td>\n",
       "      <td>3</td>\n",
       "      <td>male</td>\n",
       "      <td>1</td>\n",
       "      <td>0</td>\n",
       "      <td>7.25</td>\n",
       "      <td>S</td>\n",
       "      <td>EFG</td>\n",
       "    </tr>\n",
       "    <tr>\n",
       "      <th>1</th>\n",
       "      <td>1.0</td>\n",
       "      <td>1</td>\n",
       "      <td>female</td>\n",
       "      <td>1</td>\n",
       "      <td>0</td>\n",
       "      <td>71.28</td>\n",
       "      <td>C</td>\n",
       "      <td>ABCDE</td>\n",
       "    </tr>\n",
       "    <tr>\n",
       "      <th>2</th>\n",
       "      <td>1.0</td>\n",
       "      <td>3</td>\n",
       "      <td>female</td>\n",
       "      <td>0</td>\n",
       "      <td>0</td>\n",
       "      <td>7.92</td>\n",
       "      <td>S</td>\n",
       "      <td>EFG</td>\n",
       "    </tr>\n",
       "    <tr>\n",
       "      <th>3</th>\n",
       "      <td>1.0</td>\n",
       "      <td>1</td>\n",
       "      <td>female</td>\n",
       "      <td>1</td>\n",
       "      <td>0</td>\n",
       "      <td>53.10</td>\n",
       "      <td>S</td>\n",
       "      <td>ABCDE</td>\n",
       "    </tr>\n",
       "    <tr>\n",
       "      <th>4</th>\n",
       "      <td>0.0</td>\n",
       "      <td>3</td>\n",
       "      <td>male</td>\n",
       "      <td>0</td>\n",
       "      <td>0</td>\n",
       "      <td>8.05</td>\n",
       "      <td>S</td>\n",
       "      <td>EFG</td>\n",
       "    </tr>\n",
       "  </tbody>\n",
       "</table>\n",
       "</div>"
      ],
      "text/plain": [
       "   Survived  Pclass     Sex  SibSp  Parch   Fare Embarked   Deck\n",
       "0       0.0       3    male      1      0   7.25        S    EFG\n",
       "1       1.0       1  female      1      0  71.28        C  ABCDE\n",
       "2       1.0       3  female      0      0   7.92        S    EFG\n",
       "3       1.0       1  female      1      0  53.10        S  ABCDE\n",
       "4       0.0       3    male      0      0   8.05        S    EFG"
      ]
     },
     "execution_count": 61,
     "metadata": {},
     "output_type": "execute_result"
    }
   ],
   "source": [
    "# Adicionando a feature Deck no DF novo\n",
    "df['Deck'] = df_full['Deck']\n",
    "df.head()"
   ]
  },
  {
   "cell_type": "markdown",
   "id": "1d42387b-f22d-442a-9c16-b7eb917e75c5",
   "metadata": {
    "tags": []
   },
   "source": [
    "# Title\n",
    "#### Entendendo as coluna Title\n",
    "\n",
    "- **Title**: Título de cada passageiro\n",
    "    - Será usada também para auxiliar no preenchimendo dos dados faltantes de Age\n",
    "    - Vamos deixar apenas 4 titulos, Mr, Master, Miss/Mrs/Ms e Dr/Military/Noble/Clergy"
   ]
  },
  {
   "cell_type": "code",
   "execution_count": 62,
   "id": "724d3229-ff7b-4322-9e6d-dd6809da1894",
   "metadata": {
    "tags": []
   },
   "outputs": [
    {
     "data": {
      "text/plain": [
       "0                                 Braund, Mr. Owen Harris\n",
       "1       Cumings, Mrs. John Bradley (Florence Briggs Th...\n",
       "2                                  Heikkinen, Miss. Laina\n",
       "3            Futrelle, Mrs. Jacques Heath (Lily May Peel)\n",
       "4                                Allen, Mr. William Henry\n",
       "                              ...                        \n",
       "1304                                   Spector, Mr. Woolf\n",
       "1305                         Oliva y Ocana, Dona. Fermina\n",
       "1306                         Saether, Mr. Simon Sivertsen\n",
       "1307                                  Ware, Mr. Frederick\n",
       "1308                             Peter, Master. Michael J\n",
       "Name: Name, Length: 1309, dtype: object"
      ]
     },
     "execution_count": 62,
     "metadata": {},
     "output_type": "execute_result"
    }
   ],
   "source": [
    "# Visualizando o formato dos nomes\n",
    "df_full['Name']"
   ]
  },
  {
   "cell_type": "code",
   "execution_count": 63,
   "id": "023aec0f-ef93-458c-85d9-4cfb46167ce8",
   "metadata": {
    "tags": []
   },
   "outputs": [],
   "source": [
    "# Função que retorna uma lista somente com os titulos de cada passageiro\n",
    "def pega_titulo(df, coluna):\n",
    "    lista = []\n",
    "    for nome in df[coluna]:\n",
    "        b = nome.split(',')\n",
    "        c = b[1][1::]\n",
    "        d = c.split('.')\n",
    "        titulo = d[0]\n",
    "        lista.append(titulo)\n",
    "    return lista"
   ]
  },
  {
   "cell_type": "code",
   "execution_count": 64,
   "id": "ab05b974-dff1-4602-aa40-5a9ceab6ef8f",
   "metadata": {
    "tags": []
   },
   "outputs": [],
   "source": [
    "# Aplicando a função\n",
    "lista = pega_titulo(df_full, 'Name')"
   ]
  },
  {
   "cell_type": "code",
   "execution_count": 65,
   "id": "cff196ad-ab0d-44ea-808e-6711f9ff9c93",
   "metadata": {
    "tags": []
   },
   "outputs": [],
   "source": [
    "# Criando a feature 'Title'\n",
    "df_full['Title'] = lista"
   ]
  },
  {
   "cell_type": "code",
   "execution_count": 66,
   "id": "af486ccd-6edc-41ee-9ea4-fddbf0468e74",
   "metadata": {
    "tags": []
   },
   "outputs": [
    {
     "data": {
      "text/html": [
       "<div>\n",
       "<style scoped>\n",
       "    .dataframe tbody tr th:only-of-type {\n",
       "        vertical-align: middle;\n",
       "    }\n",
       "\n",
       "    .dataframe tbody tr th {\n",
       "        vertical-align: top;\n",
       "    }\n",
       "\n",
       "    .dataframe thead th {\n",
       "        text-align: right;\n",
       "    }\n",
       "</style>\n",
       "<table border=\"1\" class=\"dataframe\">\n",
       "  <thead>\n",
       "    <tr style=\"text-align: right;\">\n",
       "      <th></th>\n",
       "      <th>PassengerId</th>\n",
       "      <th>Survived</th>\n",
       "      <th>Pclass</th>\n",
       "      <th>Name</th>\n",
       "      <th>Sex</th>\n",
       "      <th>Age</th>\n",
       "      <th>SibSp</th>\n",
       "      <th>Parch</th>\n",
       "      <th>Ticket</th>\n",
       "      <th>Fare</th>\n",
       "      <th>Cabin</th>\n",
       "      <th>Embarked</th>\n",
       "      <th>Deck</th>\n",
       "      <th>Title</th>\n",
       "    </tr>\n",
       "  </thead>\n",
       "  <tbody>\n",
       "    <tr>\n",
       "      <th>0</th>\n",
       "      <td>1</td>\n",
       "      <td>0.0</td>\n",
       "      <td>3</td>\n",
       "      <td>Braund, Mr. Owen Harris</td>\n",
       "      <td>male</td>\n",
       "      <td>22.0</td>\n",
       "      <td>1</td>\n",
       "      <td>0</td>\n",
       "      <td>A/5 21171</td>\n",
       "      <td>7.25</td>\n",
       "      <td>NaN</td>\n",
       "      <td>S</td>\n",
       "      <td>EFG</td>\n",
       "      <td>Mr</td>\n",
       "    </tr>\n",
       "    <tr>\n",
       "      <th>1</th>\n",
       "      <td>2</td>\n",
       "      <td>1.0</td>\n",
       "      <td>1</td>\n",
       "      <td>Cumings, Mrs. John Bradley (Florence Briggs Th...</td>\n",
       "      <td>female</td>\n",
       "      <td>38.0</td>\n",
       "      <td>1</td>\n",
       "      <td>0</td>\n",
       "      <td>PC 17599</td>\n",
       "      <td>71.28</td>\n",
       "      <td>C85</td>\n",
       "      <td>C</td>\n",
       "      <td>ABCDE</td>\n",
       "      <td>Mrs</td>\n",
       "    </tr>\n",
       "    <tr>\n",
       "      <th>2</th>\n",
       "      <td>3</td>\n",
       "      <td>1.0</td>\n",
       "      <td>3</td>\n",
       "      <td>Heikkinen, Miss. Laina</td>\n",
       "      <td>female</td>\n",
       "      <td>26.0</td>\n",
       "      <td>0</td>\n",
       "      <td>0</td>\n",
       "      <td>STON/O2. 3101282</td>\n",
       "      <td>7.92</td>\n",
       "      <td>NaN</td>\n",
       "      <td>S</td>\n",
       "      <td>EFG</td>\n",
       "      <td>Miss</td>\n",
       "    </tr>\n",
       "    <tr>\n",
       "      <th>3</th>\n",
       "      <td>4</td>\n",
       "      <td>1.0</td>\n",
       "      <td>1</td>\n",
       "      <td>Futrelle, Mrs. Jacques Heath (Lily May Peel)</td>\n",
       "      <td>female</td>\n",
       "      <td>35.0</td>\n",
       "      <td>1</td>\n",
       "      <td>0</td>\n",
       "      <td>113803</td>\n",
       "      <td>53.10</td>\n",
       "      <td>C123</td>\n",
       "      <td>S</td>\n",
       "      <td>ABCDE</td>\n",
       "      <td>Mrs</td>\n",
       "    </tr>\n",
       "    <tr>\n",
       "      <th>4</th>\n",
       "      <td>5</td>\n",
       "      <td>0.0</td>\n",
       "      <td>3</td>\n",
       "      <td>Allen, Mr. William Henry</td>\n",
       "      <td>male</td>\n",
       "      <td>35.0</td>\n",
       "      <td>0</td>\n",
       "      <td>0</td>\n",
       "      <td>373450</td>\n",
       "      <td>8.05</td>\n",
       "      <td>NaN</td>\n",
       "      <td>S</td>\n",
       "      <td>EFG</td>\n",
       "      <td>Mr</td>\n",
       "    </tr>\n",
       "    <tr>\n",
       "      <th>...</th>\n",
       "      <td>...</td>\n",
       "      <td>...</td>\n",
       "      <td>...</td>\n",
       "      <td>...</td>\n",
       "      <td>...</td>\n",
       "      <td>...</td>\n",
       "      <td>...</td>\n",
       "      <td>...</td>\n",
       "      <td>...</td>\n",
       "      <td>...</td>\n",
       "      <td>...</td>\n",
       "      <td>...</td>\n",
       "      <td>...</td>\n",
       "      <td>...</td>\n",
       "    </tr>\n",
       "    <tr>\n",
       "      <th>1304</th>\n",
       "      <td>1305</td>\n",
       "      <td>NaN</td>\n",
       "      <td>3</td>\n",
       "      <td>Spector, Mr. Woolf</td>\n",
       "      <td>male</td>\n",
       "      <td>NaN</td>\n",
       "      <td>0</td>\n",
       "      <td>0</td>\n",
       "      <td>A.5. 3236</td>\n",
       "      <td>8.05</td>\n",
       "      <td>NaN</td>\n",
       "      <td>S</td>\n",
       "      <td>EFG</td>\n",
       "      <td>Mr</td>\n",
       "    </tr>\n",
       "    <tr>\n",
       "      <th>1305</th>\n",
       "      <td>1306</td>\n",
       "      <td>NaN</td>\n",
       "      <td>1</td>\n",
       "      <td>Oliva y Ocana, Dona. Fermina</td>\n",
       "      <td>female</td>\n",
       "      <td>39.0</td>\n",
       "      <td>0</td>\n",
       "      <td>0</td>\n",
       "      <td>PC 17758</td>\n",
       "      <td>108.90</td>\n",
       "      <td>C105</td>\n",
       "      <td>C</td>\n",
       "      <td>ABCDE</td>\n",
       "      <td>Dona</td>\n",
       "    </tr>\n",
       "    <tr>\n",
       "      <th>1306</th>\n",
       "      <td>1307</td>\n",
       "      <td>NaN</td>\n",
       "      <td>3</td>\n",
       "      <td>Saether, Mr. Simon Sivertsen</td>\n",
       "      <td>male</td>\n",
       "      <td>38.5</td>\n",
       "      <td>0</td>\n",
       "      <td>0</td>\n",
       "      <td>SOTON/O.Q. 3101262</td>\n",
       "      <td>7.25</td>\n",
       "      <td>NaN</td>\n",
       "      <td>S</td>\n",
       "      <td>EFG</td>\n",
       "      <td>Mr</td>\n",
       "    </tr>\n",
       "    <tr>\n",
       "      <th>1307</th>\n",
       "      <td>1308</td>\n",
       "      <td>NaN</td>\n",
       "      <td>3</td>\n",
       "      <td>Ware, Mr. Frederick</td>\n",
       "      <td>male</td>\n",
       "      <td>NaN</td>\n",
       "      <td>0</td>\n",
       "      <td>0</td>\n",
       "      <td>359309</td>\n",
       "      <td>8.05</td>\n",
       "      <td>NaN</td>\n",
       "      <td>S</td>\n",
       "      <td>EFG</td>\n",
       "      <td>Mr</td>\n",
       "    </tr>\n",
       "    <tr>\n",
       "      <th>1308</th>\n",
       "      <td>1309</td>\n",
       "      <td>NaN</td>\n",
       "      <td>3</td>\n",
       "      <td>Peter, Master. Michael J</td>\n",
       "      <td>male</td>\n",
       "      <td>NaN</td>\n",
       "      <td>1</td>\n",
       "      <td>1</td>\n",
       "      <td>2668</td>\n",
       "      <td>22.36</td>\n",
       "      <td>NaN</td>\n",
       "      <td>C</td>\n",
       "      <td>EFG</td>\n",
       "      <td>Master</td>\n",
       "    </tr>\n",
       "  </tbody>\n",
       "</table>\n",
       "<p>1309 rows × 14 columns</p>\n",
       "</div>"
      ],
      "text/plain": [
       "      PassengerId  Survived  Pclass  \\\n",
       "0               1       0.0       3   \n",
       "1               2       1.0       1   \n",
       "2               3       1.0       3   \n",
       "3               4       1.0       1   \n",
       "4               5       0.0       3   \n",
       "...           ...       ...     ...   \n",
       "1304         1305       NaN       3   \n",
       "1305         1306       NaN       1   \n",
       "1306         1307       NaN       3   \n",
       "1307         1308       NaN       3   \n",
       "1308         1309       NaN       3   \n",
       "\n",
       "                                                   Name     Sex   Age  SibSp  \\\n",
       "0                               Braund, Mr. Owen Harris    male  22.0      1   \n",
       "1     Cumings, Mrs. John Bradley (Florence Briggs Th...  female  38.0      1   \n",
       "2                                Heikkinen, Miss. Laina  female  26.0      0   \n",
       "3          Futrelle, Mrs. Jacques Heath (Lily May Peel)  female  35.0      1   \n",
       "4                              Allen, Mr. William Henry    male  35.0      0   \n",
       "...                                                 ...     ...   ...    ...   \n",
       "1304                                 Spector, Mr. Woolf    male   NaN      0   \n",
       "1305                       Oliva y Ocana, Dona. Fermina  female  39.0      0   \n",
       "1306                       Saether, Mr. Simon Sivertsen    male  38.5      0   \n",
       "1307                                Ware, Mr. Frederick    male   NaN      0   \n",
       "1308                           Peter, Master. Michael J    male   NaN      1   \n",
       "\n",
       "      Parch              Ticket    Fare Cabin Embarked   Deck   Title  \n",
       "0         0           A/5 21171    7.25   NaN        S    EFG      Mr  \n",
       "1         0            PC 17599   71.28   C85        C  ABCDE     Mrs  \n",
       "2         0    STON/O2. 3101282    7.92   NaN        S    EFG    Miss  \n",
       "3         0              113803   53.10  C123        S  ABCDE     Mrs  \n",
       "4         0              373450    8.05   NaN        S    EFG      Mr  \n",
       "...     ...                 ...     ...   ...      ...    ...     ...  \n",
       "1304      0           A.5. 3236    8.05   NaN        S    EFG      Mr  \n",
       "1305      0            PC 17758  108.90  C105        C  ABCDE    Dona  \n",
       "1306      0  SOTON/O.Q. 3101262    7.25   NaN        S    EFG      Mr  \n",
       "1307      0              359309    8.05   NaN        S    EFG      Mr  \n",
       "1308      1                2668   22.36   NaN        C    EFG  Master  \n",
       "\n",
       "[1309 rows x 14 columns]"
      ]
     },
     "execution_count": 66,
     "metadata": {},
     "output_type": "execute_result"
    }
   ],
   "source": [
    "# Visualizando\n",
    "df_full"
   ]
  },
  {
   "cell_type": "code",
   "execution_count": 67,
   "id": "a38db439-e658-4cb0-b107-f9a7d6e8094c",
   "metadata": {
    "tags": []
   },
   "outputs": [
    {
     "name": "stdout",
     "output_type": "stream",
     "text": [
      "Quantidade de valores únicos: 18\n",
      "\n",
      "Quais são os valores únicos: Mr, Mrs, Miss, Master, Don, Rev, Dr, Mme, Ms, Major, Lady, Sir, Mlle, Col, Capt, the Countess, Jonkheer, Dona\n",
      "\n",
      "Quantidade de valores nulos: 0\n",
      "\n",
      "Quantidade por valor: \n",
      "Title\n",
      "Mr              757\n",
      "Miss            260\n",
      "Mrs             197\n",
      "Master           61\n",
      "Rev               8\n",
      "Dr                8\n",
      "Col               4\n",
      "Mlle              2\n",
      "Major             2\n",
      "Ms                2\n",
      "Lady              1\n",
      "Sir               1\n",
      "Mme               1\n",
      "Don               1\n",
      "Capt              1\n",
      "the Countess      1\n",
      "Jonkheer          1\n",
      "Dona              1\n",
      "Name: count, dtype: int64\n"
     ]
    },
    {
     "data": {
      "image/png": "[encoded data removed]",
      "text/plain": [
       "<Figure size 500x500 with 1 Axes>"
      ]
     },
     "metadata": {},
     "output_type": "display_data"
    }
   ],
   "source": [
    "# Visualizando\n",
    "check_feature(df_full, 'Title')"
   ]
  },
  {
   "cell_type": "markdown",
   "id": "7bde3568-c4ba-437a-a61d-e84828147704",
   "metadata": {},
   "source": [
    "# Entendendo os titulos\n",
    "- Mr: Homens, independente se são casados\n",
    "- Mrs: Mulheres casadas\n",
    "- Miss: Mulheres solteiras\n",
    "- Ms: Mulheres, tanto solteiras ou casadas\n",
    "- Master: Homens, com menos de 18 anos"
   ]
  },
  {
   "cell_type": "code",
   "execution_count": 68,
   "id": "47756f94-3ddb-43bc-94b3-b3b163407f44",
   "metadata": {
    "tags": []
   },
   "outputs": [
    {
     "data": {
      "text/html": [
       "<div>\n",
       "<style scoped>\n",
       "    .dataframe tbody tr th:only-of-type {\n",
       "        vertical-align: middle;\n",
       "    }\n",
       "\n",
       "    .dataframe tbody tr th {\n",
       "        vertical-align: top;\n",
       "    }\n",
       "\n",
       "    .dataframe thead th {\n",
       "        text-align: right;\n",
       "    }\n",
       "</style>\n",
       "<table border=\"1\" class=\"dataframe\">\n",
       "  <thead>\n",
       "    <tr style=\"text-align: right;\">\n",
       "      <th></th>\n",
       "      <th>PassengerId</th>\n",
       "      <th>Survived</th>\n",
       "      <th>Pclass</th>\n",
       "      <th>Name</th>\n",
       "      <th>Sex</th>\n",
       "      <th>Age</th>\n",
       "      <th>SibSp</th>\n",
       "      <th>Parch</th>\n",
       "      <th>Ticket</th>\n",
       "      <th>Fare</th>\n",
       "      <th>Cabin</th>\n",
       "      <th>Embarked</th>\n",
       "      <th>Deck</th>\n",
       "      <th>Title</th>\n",
       "    </tr>\n",
       "  </thead>\n",
       "  <tbody>\n",
       "    <tr>\n",
       "      <th>1305</th>\n",
       "      <td>1306</td>\n",
       "      <td>NaN</td>\n",
       "      <td>1</td>\n",
       "      <td>Oliva y Ocana, Dona. Fermina</td>\n",
       "      <td>female</td>\n",
       "      <td>39.0</td>\n",
       "      <td>0</td>\n",
       "      <td>0</td>\n",
       "      <td>PC 17758</td>\n",
       "      <td>108.9</td>\n",
       "      <td>C105</td>\n",
       "      <td>C</td>\n",
       "      <td>ABCDE</td>\n",
       "      <td>Dona</td>\n",
       "    </tr>\n",
       "  </tbody>\n",
       "</table>\n",
       "</div>"
      ],
      "text/plain": [
       "      PassengerId  Survived  Pclass                          Name     Sex  \\\n",
       "1305         1306       NaN       1  Oliva y Ocana, Dona. Fermina  female   \n",
       "\n",
       "       Age  SibSp  Parch    Ticket   Fare Cabin Embarked   Deck Title  \n",
       "1305  39.0      0      0  PC 17758  108.9  C105        C  ABCDE  Dona  "
      ]
     },
     "execution_count": 68,
     "metadata": {},
     "output_type": "execute_result"
    }
   ],
   "source": [
    "# Visualizando os registros que possuem 'Dona' na feature 'Title'\n",
    "df_full.loc[df_full.Title.isin(['Dona'])]"
   ]
  },
  {
   "cell_type": "code",
   "execution_count": 69,
   "id": "0f685695-4317-4d2f-970c-c8e8ab45cda4",
   "metadata": {
    "tags": []
   },
   "outputs": [
    {
     "data": {
      "text/plain": [
       "Title\n",
       "Capt            0.000000\n",
       "Col             0.500000\n",
       "Don             0.000000\n",
       "Dona                 NaN\n",
       "Dr              0.428571\n",
       "Jonkheer        0.000000\n",
       "Lady            1.000000\n",
       "Major           0.500000\n",
       "Master          0.575000\n",
       "Miss            0.697802\n",
       "Mlle            1.000000\n",
       "Mme             1.000000\n",
       "Mr              0.156673\n",
       "Mrs             0.792000\n",
       "Ms              1.000000\n",
       "Rev             0.000000\n",
       "Sir             1.000000\n",
       "the Countess    1.000000\n",
       "Name: Survived, dtype: float64"
      ]
     },
     "execution_count": 69,
     "metadata": {},
     "output_type": "execute_result"
    }
   ],
   "source": [
    "# Média de sobrevivencia por titulo\n",
    "df_full.groupby('Title').Survived.mean()"
   ]
  },
  {
   "cell_type": "code",
   "execution_count": 70,
   "id": "57bd7bb8-ee1b-4222-924c-6dd01b56198f",
   "metadata": {
    "tags": []
   },
   "outputs": [
    {
     "name": "stdout",
     "output_type": "stream",
     "text": [
      "A média de sobrevivencia das mulheres com titulo de Miss é 0.6978021978021978\n",
      "A média de sobrevivencia das mulheres com titulo de Mrs é 0.792\n",
      "A média de sobrevivencia das mulheres com titulo de Ms é 1.0\n"
     ]
    }
   ],
   "source": [
    "miss = df_full[df_full['Title'] == 'Miss']['Survived'].mean()\n",
    "mrs = df_full[df_full['Title'] == 'Mrs']['Survived'].mean()\n",
    "ms = df_full[df_full['Title'] == 'Ms']['Survived'].mean()\n",
    "\n",
    "print(f'A média de sobrevivencia das mulheres com titulo de Miss é {miss}')\n",
    "print(f'A média de sobrevivencia das mulheres com titulo de Mrs é {mrs}')\n",
    "print(f'A média de sobrevivencia das mulheres com titulo de Ms é {ms}')"
   ]
  },
  {
   "cell_type": "code",
   "execution_count": 71,
   "id": "a2835753-0c3e-43b9-9537-80585432c73e",
   "metadata": {
    "tags": []
   },
   "outputs": [
    {
     "data": {
      "text/html": [
       "<div>\n",
       "<style scoped>\n",
       "    .dataframe tbody tr th:only-of-type {\n",
       "        vertical-align: middle;\n",
       "    }\n",
       "\n",
       "    .dataframe tbody tr th {\n",
       "        vertical-align: top;\n",
       "    }\n",
       "\n",
       "    .dataframe thead th {\n",
       "        text-align: right;\n",
       "    }\n",
       "</style>\n",
       "<table border=\"1\" class=\"dataframe\">\n",
       "  <thead>\n",
       "    <tr style=\"text-align: right;\">\n",
       "      <th></th>\n",
       "      <th>PassengerId</th>\n",
       "      <th>Survived</th>\n",
       "      <th>Pclass</th>\n",
       "      <th>Name</th>\n",
       "      <th>Sex</th>\n",
       "      <th>Age</th>\n",
       "      <th>SibSp</th>\n",
       "      <th>Parch</th>\n",
       "      <th>Ticket</th>\n",
       "      <th>Fare</th>\n",
       "      <th>Cabin</th>\n",
       "      <th>Embarked</th>\n",
       "      <th>Deck</th>\n",
       "      <th>Title</th>\n",
       "    </tr>\n",
       "  </thead>\n",
       "  <tbody>\n",
       "    <tr>\n",
       "      <th>822</th>\n",
       "      <td>823</td>\n",
       "      <td>0.0</td>\n",
       "      <td>1</td>\n",
       "      <td>Reuchlin, Jonkheer. John George</td>\n",
       "      <td>male</td>\n",
       "      <td>38.0</td>\n",
       "      <td>0</td>\n",
       "      <td>0</td>\n",
       "      <td>19972</td>\n",
       "      <td>0.0</td>\n",
       "      <td>NaN</td>\n",
       "      <td>S</td>\n",
       "      <td>ABCDE</td>\n",
       "      <td>Jonkheer</td>\n",
       "    </tr>\n",
       "  </tbody>\n",
       "</table>\n",
       "</div>"
      ],
      "text/plain": [
       "     PassengerId  Survived  Pclass                             Name   Sex  \\\n",
       "822          823       0.0       1  Reuchlin, Jonkheer. John George  male   \n",
       "\n",
       "      Age  SibSp  Parch Ticket  Fare Cabin Embarked   Deck     Title  \n",
       "822  38.0      0      0  19972   0.0   NaN        S  ABCDE  Jonkheer  "
      ]
     },
     "execution_count": 71,
     "metadata": {},
     "output_type": "execute_result"
    }
   ],
   "source": [
    "# Visualizando os registros que possuem 'Jonkheer' na feature 'Title'\n",
    "df_full.loc[df_full.Title.isin(['Jonkheer'])]"
   ]
  },
  {
   "cell_type": "code",
   "execution_count": 72,
   "id": "3324b54f-dc5e-45e4-94c7-8c9f765304b2",
   "metadata": {
    "tags": []
   },
   "outputs": [
    {
     "data": {
      "text/html": [
       "<div>\n",
       "<style scoped>\n",
       "    .dataframe tbody tr th:only-of-type {\n",
       "        vertical-align: middle;\n",
       "    }\n",
       "\n",
       "    .dataframe tbody tr th {\n",
       "        vertical-align: top;\n",
       "    }\n",
       "\n",
       "    .dataframe thead th {\n",
       "        text-align: right;\n",
       "    }\n",
       "</style>\n",
       "<table border=\"1\" class=\"dataframe\">\n",
       "  <thead>\n",
       "    <tr style=\"text-align: right;\">\n",
       "      <th></th>\n",
       "      <th>PassengerId</th>\n",
       "      <th>Survived</th>\n",
       "      <th>Pclass</th>\n",
       "      <th>Name</th>\n",
       "      <th>Sex</th>\n",
       "      <th>Age</th>\n",
       "      <th>SibSp</th>\n",
       "      <th>Parch</th>\n",
       "      <th>Ticket</th>\n",
       "      <th>Fare</th>\n",
       "      <th>Cabin</th>\n",
       "      <th>Embarked</th>\n",
       "      <th>Deck</th>\n",
       "      <th>Title</th>\n",
       "    </tr>\n",
       "  </thead>\n",
       "  <tbody>\n",
       "    <tr>\n",
       "      <th>759</th>\n",
       "      <td>760</td>\n",
       "      <td>1.0</td>\n",
       "      <td>1</td>\n",
       "      <td>Rothes, the Countess. of (Lucy Noel Martha Dye...</td>\n",
       "      <td>female</td>\n",
       "      <td>33.0</td>\n",
       "      <td>0</td>\n",
       "      <td>0</td>\n",
       "      <td>110152</td>\n",
       "      <td>86.5</td>\n",
       "      <td>B77</td>\n",
       "      <td>S</td>\n",
       "      <td>ABCDE</td>\n",
       "      <td>the Countess</td>\n",
       "    </tr>\n",
       "  </tbody>\n",
       "</table>\n",
       "</div>"
      ],
      "text/plain": [
       "     PassengerId  Survived  Pclass  \\\n",
       "759          760       1.0       1   \n",
       "\n",
       "                                                  Name     Sex   Age  SibSp  \\\n",
       "759  Rothes, the Countess. of (Lucy Noel Martha Dye...  female  33.0      0   \n",
       "\n",
       "     Parch  Ticket  Fare Cabin Embarked   Deck         Title  \n",
       "759      0  110152  86.5   B77        S  ABCDE  the Countess  "
      ]
     },
     "execution_count": 72,
     "metadata": {},
     "output_type": "execute_result"
    }
   ],
   "source": [
    "df_full.loc[df_full.Title.isin(['the Countess'])]"
   ]
  },
  {
   "cell_type": "code",
   "execution_count": 73,
   "id": "c3ff62dc-31e4-47fd-b5a6-ad19a561c21b",
   "metadata": {
    "tags": []
   },
   "outputs": [
    {
     "data": {
      "text/html": [
       "<div>\n",
       "<style scoped>\n",
       "    .dataframe tbody tr th:only-of-type {\n",
       "        vertical-align: middle;\n",
       "    }\n",
       "\n",
       "    .dataframe tbody tr th {\n",
       "        vertical-align: top;\n",
       "    }\n",
       "\n",
       "    .dataframe thead th {\n",
       "        text-align: right;\n",
       "    }\n",
       "</style>\n",
       "<table border=\"1\" class=\"dataframe\">\n",
       "  <thead>\n",
       "    <tr style=\"text-align: right;\">\n",
       "      <th></th>\n",
       "      <th>PassengerId</th>\n",
       "      <th>Survived</th>\n",
       "      <th>Pclass</th>\n",
       "      <th>Name</th>\n",
       "      <th>Sex</th>\n",
       "      <th>Age</th>\n",
       "      <th>SibSp</th>\n",
       "      <th>Parch</th>\n",
       "      <th>Ticket</th>\n",
       "      <th>Fare</th>\n",
       "      <th>Cabin</th>\n",
       "      <th>Embarked</th>\n",
       "      <th>Deck</th>\n",
       "      <th>Title</th>\n",
       "    </tr>\n",
       "  </thead>\n",
       "  <tbody>\n",
       "    <tr>\n",
       "      <th>745</th>\n",
       "      <td>746</td>\n",
       "      <td>0.0</td>\n",
       "      <td>1</td>\n",
       "      <td>Crosby, Capt. Edward Gifford</td>\n",
       "      <td>male</td>\n",
       "      <td>70.0</td>\n",
       "      <td>1</td>\n",
       "      <td>1</td>\n",
       "      <td>WE/P 5735</td>\n",
       "      <td>71.0</td>\n",
       "      <td>B22</td>\n",
       "      <td>S</td>\n",
       "      <td>ABCDE</td>\n",
       "      <td>Capt</td>\n",
       "    </tr>\n",
       "  </tbody>\n",
       "</table>\n",
       "</div>"
      ],
      "text/plain": [
       "     PassengerId  Survived  Pclass                          Name   Sex   Age  \\\n",
       "745          746       0.0       1  Crosby, Capt. Edward Gifford  male  70.0   \n",
       "\n",
       "     SibSp  Parch     Ticket  Fare Cabin Embarked   Deck Title  \n",
       "745      1      1  WE/P 5735  71.0   B22        S  ABCDE  Capt  "
      ]
     },
     "execution_count": 73,
     "metadata": {},
     "output_type": "execute_result"
    }
   ],
   "source": [
    "df_full.loc[df_full.Title.isin(['Capt'])]"
   ]
  },
  {
   "cell_type": "code",
   "execution_count": 74,
   "id": "3a2d6437-4301-4134-9eed-e33637a4f112",
   "metadata": {
    "tags": []
   },
   "outputs": [
    {
     "data": {
      "text/html": [
       "<div>\n",
       "<style scoped>\n",
       "    .dataframe tbody tr th:only-of-type {\n",
       "        vertical-align: middle;\n",
       "    }\n",
       "\n",
       "    .dataframe tbody tr th {\n",
       "        vertical-align: top;\n",
       "    }\n",
       "\n",
       "    .dataframe thead th {\n",
       "        text-align: right;\n",
       "    }\n",
       "</style>\n",
       "<table border=\"1\" class=\"dataframe\">\n",
       "  <thead>\n",
       "    <tr style=\"text-align: right;\">\n",
       "      <th></th>\n",
       "      <th>PassengerId</th>\n",
       "      <th>Survived</th>\n",
       "      <th>Pclass</th>\n",
       "      <th>Name</th>\n",
       "      <th>Sex</th>\n",
       "      <th>Age</th>\n",
       "      <th>SibSp</th>\n",
       "      <th>Parch</th>\n",
       "      <th>Ticket</th>\n",
       "      <th>Fare</th>\n",
       "      <th>Cabin</th>\n",
       "      <th>Embarked</th>\n",
       "      <th>Deck</th>\n",
       "      <th>Title</th>\n",
       "    </tr>\n",
       "  </thead>\n",
       "  <tbody>\n",
       "    <tr>\n",
       "      <th>647</th>\n",
       "      <td>648</td>\n",
       "      <td>1.0</td>\n",
       "      <td>1</td>\n",
       "      <td>Simonius-Blumer, Col. Oberst Alfons</td>\n",
       "      <td>male</td>\n",
       "      <td>56.0</td>\n",
       "      <td>0</td>\n",
       "      <td>0</td>\n",
       "      <td>13213</td>\n",
       "      <td>35.50</td>\n",
       "      <td>A26</td>\n",
       "      <td>C</td>\n",
       "      <td>ABCDE</td>\n",
       "      <td>Col</td>\n",
       "    </tr>\n",
       "    <tr>\n",
       "      <th>694</th>\n",
       "      <td>695</td>\n",
       "      <td>0.0</td>\n",
       "      <td>1</td>\n",
       "      <td>Weir, Col. John</td>\n",
       "      <td>male</td>\n",
       "      <td>60.0</td>\n",
       "      <td>0</td>\n",
       "      <td>0</td>\n",
       "      <td>113800</td>\n",
       "      <td>26.55</td>\n",
       "      <td>NaN</td>\n",
       "      <td>S</td>\n",
       "      <td>ABCDE</td>\n",
       "      <td>Col</td>\n",
       "    </tr>\n",
       "    <tr>\n",
       "      <th>1022</th>\n",
       "      <td>1023</td>\n",
       "      <td>NaN</td>\n",
       "      <td>1</td>\n",
       "      <td>Gracie, Col. Archibald IV</td>\n",
       "      <td>male</td>\n",
       "      <td>53.0</td>\n",
       "      <td>0</td>\n",
       "      <td>0</td>\n",
       "      <td>113780</td>\n",
       "      <td>28.50</td>\n",
       "      <td>C51</td>\n",
       "      <td>C</td>\n",
       "      <td>ABCDE</td>\n",
       "      <td>Col</td>\n",
       "    </tr>\n",
       "    <tr>\n",
       "      <th>1093</th>\n",
       "      <td>1094</td>\n",
       "      <td>NaN</td>\n",
       "      <td>1</td>\n",
       "      <td>Astor, Col. John Jacob</td>\n",
       "      <td>male</td>\n",
       "      <td>47.0</td>\n",
       "      <td>1</td>\n",
       "      <td>0</td>\n",
       "      <td>PC 17757</td>\n",
       "      <td>227.52</td>\n",
       "      <td>C62 C64</td>\n",
       "      <td>C</td>\n",
       "      <td>ABCDE</td>\n",
       "      <td>Col</td>\n",
       "    </tr>\n",
       "  </tbody>\n",
       "</table>\n",
       "</div>"
      ],
      "text/plain": [
       "      PassengerId  Survived  Pclass                                 Name  \\\n",
       "647           648       1.0       1  Simonius-Blumer, Col. Oberst Alfons   \n",
       "694           695       0.0       1                      Weir, Col. John   \n",
       "1022         1023       NaN       1            Gracie, Col. Archibald IV   \n",
       "1093         1094       NaN       1               Astor, Col. John Jacob   \n",
       "\n",
       "       Sex   Age  SibSp  Parch    Ticket    Fare    Cabin Embarked   Deck  \\\n",
       "647   male  56.0      0      0     13213   35.50      A26        C  ABCDE   \n",
       "694   male  60.0      0      0    113800   26.55      NaN        S  ABCDE   \n",
       "1022  male  53.0      0      0    113780   28.50      C51        C  ABCDE   \n",
       "1093  male  47.0      1      0  PC 17757  227.52  C62 C64        C  ABCDE   \n",
       "\n",
       "     Title  \n",
       "647    Col  \n",
       "694    Col  \n",
       "1022   Col  \n",
       "1093   Col  "
      ]
     },
     "execution_count": 74,
     "metadata": {},
     "output_type": "execute_result"
    }
   ],
   "source": [
    "df_full.loc[df_full.Title.isin(['Col'])]"
   ]
  },
  {
   "cell_type": "code",
   "execution_count": 75,
   "id": "86ca2744-03e9-49ec-b087-cf5b999d6bb2",
   "metadata": {
    "tags": []
   },
   "outputs": [
    {
     "data": {
      "text/html": [
       "<div>\n",
       "<style scoped>\n",
       "    .dataframe tbody tr th:only-of-type {\n",
       "        vertical-align: middle;\n",
       "    }\n",
       "\n",
       "    .dataframe tbody tr th {\n",
       "        vertical-align: top;\n",
       "    }\n",
       "\n",
       "    .dataframe thead th {\n",
       "        text-align: right;\n",
       "    }\n",
       "</style>\n",
       "<table border=\"1\" class=\"dataframe\">\n",
       "  <thead>\n",
       "    <tr style=\"text-align: right;\">\n",
       "      <th></th>\n",
       "      <th>PassengerId</th>\n",
       "      <th>Survived</th>\n",
       "      <th>Pclass</th>\n",
       "      <th>Name</th>\n",
       "      <th>Sex</th>\n",
       "      <th>Age</th>\n",
       "      <th>SibSp</th>\n",
       "      <th>Parch</th>\n",
       "      <th>Ticket</th>\n",
       "      <th>Fare</th>\n",
       "      <th>Cabin</th>\n",
       "      <th>Embarked</th>\n",
       "      <th>Deck</th>\n",
       "      <th>Title</th>\n",
       "    </tr>\n",
       "  </thead>\n",
       "  <tbody>\n",
       "    <tr>\n",
       "      <th>641</th>\n",
       "      <td>642</td>\n",
       "      <td>1.0</td>\n",
       "      <td>1</td>\n",
       "      <td>Sagesser, Mlle. Emma</td>\n",
       "      <td>female</td>\n",
       "      <td>24.0</td>\n",
       "      <td>0</td>\n",
       "      <td>0</td>\n",
       "      <td>PC 17477</td>\n",
       "      <td>69.3</td>\n",
       "      <td>B35</td>\n",
       "      <td>C</td>\n",
       "      <td>ABCDE</td>\n",
       "      <td>Mlle</td>\n",
       "    </tr>\n",
       "    <tr>\n",
       "      <th>710</th>\n",
       "      <td>711</td>\n",
       "      <td>1.0</td>\n",
       "      <td>1</td>\n",
       "      <td>Mayne, Mlle. Berthe Antonine (\"Mrs de Villiers\")</td>\n",
       "      <td>female</td>\n",
       "      <td>24.0</td>\n",
       "      <td>0</td>\n",
       "      <td>0</td>\n",
       "      <td>PC 17482</td>\n",
       "      <td>49.5</td>\n",
       "      <td>C90</td>\n",
       "      <td>C</td>\n",
       "      <td>ABCDE</td>\n",
       "      <td>Mlle</td>\n",
       "    </tr>\n",
       "  </tbody>\n",
       "</table>\n",
       "</div>"
      ],
      "text/plain": [
       "     PassengerId  Survived  Pclass  \\\n",
       "641          642       1.0       1   \n",
       "710          711       1.0       1   \n",
       "\n",
       "                                                 Name     Sex   Age  SibSp  \\\n",
       "641                              Sagesser, Mlle. Emma  female  24.0      0   \n",
       "710  Mayne, Mlle. Berthe Antonine (\"Mrs de Villiers\")  female  24.0      0   \n",
       "\n",
       "     Parch    Ticket  Fare Cabin Embarked   Deck Title  \n",
       "641      0  PC 17477  69.3   B35        C  ABCDE  Mlle  \n",
       "710      0  PC 17482  49.5   C90        C  ABCDE  Mlle  "
      ]
     },
     "execution_count": 75,
     "metadata": {},
     "output_type": "execute_result"
    }
   ],
   "source": [
    "df_full.loc[df_full.Title.isin(['Mlle'])]"
   ]
  },
  {
   "cell_type": "code",
   "execution_count": 76,
   "id": "c068dc1c-7768-4e85-8584-86ac90cb8251",
   "metadata": {
    "tags": []
   },
   "outputs": [
    {
     "data": {
      "text/html": [
       "<div>\n",
       "<style scoped>\n",
       "    .dataframe tbody tr th:only-of-type {\n",
       "        vertical-align: middle;\n",
       "    }\n",
       "\n",
       "    .dataframe tbody tr th {\n",
       "        vertical-align: top;\n",
       "    }\n",
       "\n",
       "    .dataframe thead th {\n",
       "        text-align: right;\n",
       "    }\n",
       "</style>\n",
       "<table border=\"1\" class=\"dataframe\">\n",
       "  <thead>\n",
       "    <tr style=\"text-align: right;\">\n",
       "      <th></th>\n",
       "      <th>PassengerId</th>\n",
       "      <th>Survived</th>\n",
       "      <th>Pclass</th>\n",
       "      <th>Name</th>\n",
       "      <th>Sex</th>\n",
       "      <th>Age</th>\n",
       "      <th>SibSp</th>\n",
       "      <th>Parch</th>\n",
       "      <th>Ticket</th>\n",
       "      <th>Fare</th>\n",
       "      <th>Cabin</th>\n",
       "      <th>Embarked</th>\n",
       "      <th>Deck</th>\n",
       "      <th>Title</th>\n",
       "    </tr>\n",
       "  </thead>\n",
       "  <tbody>\n",
       "    <tr>\n",
       "      <th>599</th>\n",
       "      <td>600</td>\n",
       "      <td>1.0</td>\n",
       "      <td>1</td>\n",
       "      <td>Duff Gordon, Sir. Cosmo Edmund (\"Mr Morgan\")</td>\n",
       "      <td>male</td>\n",
       "      <td>49.0</td>\n",
       "      <td>1</td>\n",
       "      <td>0</td>\n",
       "      <td>PC 17485</td>\n",
       "      <td>56.93</td>\n",
       "      <td>A20</td>\n",
       "      <td>C</td>\n",
       "      <td>ABCDE</td>\n",
       "      <td>Sir</td>\n",
       "    </tr>\n",
       "  </tbody>\n",
       "</table>\n",
       "</div>"
      ],
      "text/plain": [
       "     PassengerId  Survived  Pclass  \\\n",
       "599          600       1.0       1   \n",
       "\n",
       "                                             Name   Sex   Age  SibSp  Parch  \\\n",
       "599  Duff Gordon, Sir. Cosmo Edmund (\"Mr Morgan\")  male  49.0      1      0   \n",
       "\n",
       "       Ticket   Fare Cabin Embarked   Deck Title  \n",
       "599  PC 17485  56.93   A20        C  ABCDE   Sir  "
      ]
     },
     "execution_count": 76,
     "metadata": {},
     "output_type": "execute_result"
    }
   ],
   "source": [
    "df_full.loc[df_full.Title.isin(['Sir'])]"
   ]
  },
  {
   "cell_type": "code",
   "execution_count": 77,
   "id": "4541cc60-0c3f-40b7-b34a-95b049fa167e",
   "metadata": {
    "tags": []
   },
   "outputs": [
    {
     "data": {
      "text/html": [
       "<div>\n",
       "<style scoped>\n",
       "    .dataframe tbody tr th:only-of-type {\n",
       "        vertical-align: middle;\n",
       "    }\n",
       "\n",
       "    .dataframe tbody tr th {\n",
       "        vertical-align: top;\n",
       "    }\n",
       "\n",
       "    .dataframe thead th {\n",
       "        text-align: right;\n",
       "    }\n",
       "</style>\n",
       "<table border=\"1\" class=\"dataframe\">\n",
       "  <thead>\n",
       "    <tr style=\"text-align: right;\">\n",
       "      <th></th>\n",
       "      <th>PassengerId</th>\n",
       "      <th>Survived</th>\n",
       "      <th>Pclass</th>\n",
       "      <th>Name</th>\n",
       "      <th>Sex</th>\n",
       "      <th>Age</th>\n",
       "      <th>SibSp</th>\n",
       "      <th>Parch</th>\n",
       "      <th>Ticket</th>\n",
       "      <th>Fare</th>\n",
       "      <th>Cabin</th>\n",
       "      <th>Embarked</th>\n",
       "      <th>Deck</th>\n",
       "      <th>Title</th>\n",
       "    </tr>\n",
       "  </thead>\n",
       "  <tbody>\n",
       "    <tr>\n",
       "      <th>556</th>\n",
       "      <td>557</td>\n",
       "      <td>1.0</td>\n",
       "      <td>1</td>\n",
       "      <td>Duff Gordon, Lady. (Lucille Christiana Sutherl...</td>\n",
       "      <td>female</td>\n",
       "      <td>48.0</td>\n",
       "      <td>1</td>\n",
       "      <td>0</td>\n",
       "      <td>11755</td>\n",
       "      <td>39.6</td>\n",
       "      <td>A16</td>\n",
       "      <td>C</td>\n",
       "      <td>ABCDE</td>\n",
       "      <td>Lady</td>\n",
       "    </tr>\n",
       "  </tbody>\n",
       "</table>\n",
       "</div>"
      ],
      "text/plain": [
       "     PassengerId  Survived  Pclass  \\\n",
       "556          557       1.0       1   \n",
       "\n",
       "                                                  Name     Sex   Age  SibSp  \\\n",
       "556  Duff Gordon, Lady. (Lucille Christiana Sutherl...  female  48.0      1   \n",
       "\n",
       "     Parch Ticket  Fare Cabin Embarked   Deck Title  \n",
       "556      0  11755  39.6   A16        C  ABCDE  Lady  "
      ]
     },
     "execution_count": 77,
     "metadata": {},
     "output_type": "execute_result"
    }
   ],
   "source": [
    "df_full.loc[df_full.Title.isin(['Lady'])]"
   ]
  },
  {
   "cell_type": "code",
   "execution_count": 78,
   "id": "ed7613c3-f95b-49a5-9c7c-3545fdf8ff7e",
   "metadata": {
    "tags": []
   },
   "outputs": [
    {
     "data": {
      "text/html": [
       "<div>\n",
       "<style scoped>\n",
       "    .dataframe tbody tr th:only-of-type {\n",
       "        vertical-align: middle;\n",
       "    }\n",
       "\n",
       "    .dataframe tbody tr th {\n",
       "        vertical-align: top;\n",
       "    }\n",
       "\n",
       "    .dataframe thead th {\n",
       "        text-align: right;\n",
       "    }\n",
       "</style>\n",
       "<table border=\"1\" class=\"dataframe\">\n",
       "  <thead>\n",
       "    <tr style=\"text-align: right;\">\n",
       "      <th></th>\n",
       "      <th>PassengerId</th>\n",
       "      <th>Survived</th>\n",
       "      <th>Pclass</th>\n",
       "      <th>Name</th>\n",
       "      <th>Sex</th>\n",
       "      <th>Age</th>\n",
       "      <th>SibSp</th>\n",
       "      <th>Parch</th>\n",
       "      <th>Ticket</th>\n",
       "      <th>Fare</th>\n",
       "      <th>Cabin</th>\n",
       "      <th>Embarked</th>\n",
       "      <th>Deck</th>\n",
       "      <th>Title</th>\n",
       "    </tr>\n",
       "  </thead>\n",
       "  <tbody>\n",
       "    <tr>\n",
       "      <th>449</th>\n",
       "      <td>450</td>\n",
       "      <td>1.0</td>\n",
       "      <td>1</td>\n",
       "      <td>Peuchen, Major. Arthur Godfrey</td>\n",
       "      <td>male</td>\n",
       "      <td>52.0</td>\n",
       "      <td>0</td>\n",
       "      <td>0</td>\n",
       "      <td>113786</td>\n",
       "      <td>30.50</td>\n",
       "      <td>C104</td>\n",
       "      <td>S</td>\n",
       "      <td>ABCDE</td>\n",
       "      <td>Major</td>\n",
       "    </tr>\n",
       "    <tr>\n",
       "      <th>536</th>\n",
       "      <td>537</td>\n",
       "      <td>0.0</td>\n",
       "      <td>1</td>\n",
       "      <td>Butt, Major. Archibald Willingham</td>\n",
       "      <td>male</td>\n",
       "      <td>45.0</td>\n",
       "      <td>0</td>\n",
       "      <td>0</td>\n",
       "      <td>113050</td>\n",
       "      <td>26.55</td>\n",
       "      <td>B38</td>\n",
       "      <td>S</td>\n",
       "      <td>ABCDE</td>\n",
       "      <td>Major</td>\n",
       "    </tr>\n",
       "  </tbody>\n",
       "</table>\n",
       "</div>"
      ],
      "text/plain": [
       "     PassengerId  Survived  Pclass                               Name   Sex  \\\n",
       "449          450       1.0       1     Peuchen, Major. Arthur Godfrey  male   \n",
       "536          537       0.0       1  Butt, Major. Archibald Willingham  male   \n",
       "\n",
       "      Age  SibSp  Parch  Ticket   Fare Cabin Embarked   Deck  Title  \n",
       "449  52.0      0      0  113786  30.50  C104        S  ABCDE  Major  \n",
       "536  45.0      0      0  113050  26.55   B38        S  ABCDE  Major  "
      ]
     },
     "execution_count": 78,
     "metadata": {},
     "output_type": "execute_result"
    }
   ],
   "source": [
    "df_full.loc[df_full.Title.isin(['Major'])]"
   ]
  },
  {
   "cell_type": "code",
   "execution_count": 79,
   "id": "bb213f46-092f-4216-b99a-35df3d1a7037",
   "metadata": {
    "tags": []
   },
   "outputs": [
    {
     "data": {
      "text/html": [
       "<div>\n",
       "<style scoped>\n",
       "    .dataframe tbody tr th:only-of-type {\n",
       "        vertical-align: middle;\n",
       "    }\n",
       "\n",
       "    .dataframe tbody tr th {\n",
       "        vertical-align: top;\n",
       "    }\n",
       "\n",
       "    .dataframe thead th {\n",
       "        text-align: right;\n",
       "    }\n",
       "</style>\n",
       "<table border=\"1\" class=\"dataframe\">\n",
       "  <thead>\n",
       "    <tr style=\"text-align: right;\">\n",
       "      <th></th>\n",
       "      <th>PassengerId</th>\n",
       "      <th>Survived</th>\n",
       "      <th>Pclass</th>\n",
       "      <th>Name</th>\n",
       "      <th>Sex</th>\n",
       "      <th>Age</th>\n",
       "      <th>SibSp</th>\n",
       "      <th>Parch</th>\n",
       "      <th>Ticket</th>\n",
       "      <th>Fare</th>\n",
       "      <th>Cabin</th>\n",
       "      <th>Embarked</th>\n",
       "      <th>Deck</th>\n",
       "      <th>Title</th>\n",
       "    </tr>\n",
       "  </thead>\n",
       "  <tbody>\n",
       "    <tr>\n",
       "      <th>369</th>\n",
       "      <td>370</td>\n",
       "      <td>1.0</td>\n",
       "      <td>1</td>\n",
       "      <td>Aubart, Mme. Leontine Pauline</td>\n",
       "      <td>female</td>\n",
       "      <td>24.0</td>\n",
       "      <td>0</td>\n",
       "      <td>0</td>\n",
       "      <td>PC 17477</td>\n",
       "      <td>69.3</td>\n",
       "      <td>B35</td>\n",
       "      <td>C</td>\n",
       "      <td>ABCDE</td>\n",
       "      <td>Mme</td>\n",
       "    </tr>\n",
       "  </tbody>\n",
       "</table>\n",
       "</div>"
      ],
      "text/plain": [
       "     PassengerId  Survived  Pclass                           Name     Sex  \\\n",
       "369          370       1.0       1  Aubart, Mme. Leontine Pauline  female   \n",
       "\n",
       "      Age  SibSp  Parch    Ticket  Fare Cabin Embarked   Deck Title  \n",
       "369  24.0      0      0  PC 17477  69.3   B35        C  ABCDE   Mme  "
      ]
     },
     "execution_count": 79,
     "metadata": {},
     "output_type": "execute_result"
    }
   ],
   "source": [
    "df_full.loc[df_full.Title.isin(['Mme'])]"
   ]
  },
  {
   "cell_type": "code",
   "execution_count": 80,
   "id": "28e1db1b-7317-4542-9301-5ea71773975d",
   "metadata": {
    "tags": []
   },
   "outputs": [
    {
     "data": {
      "text/html": [
       "<div>\n",
       "<style scoped>\n",
       "    .dataframe tbody tr th:only-of-type {\n",
       "        vertical-align: middle;\n",
       "    }\n",
       "\n",
       "    .dataframe tbody tr th {\n",
       "        vertical-align: top;\n",
       "    }\n",
       "\n",
       "    .dataframe thead th {\n",
       "        text-align: right;\n",
       "    }\n",
       "</style>\n",
       "<table border=\"1\" class=\"dataframe\">\n",
       "  <thead>\n",
       "    <tr style=\"text-align: right;\">\n",
       "      <th></th>\n",
       "      <th>PassengerId</th>\n",
       "      <th>Survived</th>\n",
       "      <th>Pclass</th>\n",
       "      <th>Name</th>\n",
       "      <th>Sex</th>\n",
       "      <th>Age</th>\n",
       "      <th>SibSp</th>\n",
       "      <th>Parch</th>\n",
       "      <th>Ticket</th>\n",
       "      <th>Fare</th>\n",
       "      <th>Cabin</th>\n",
       "      <th>Embarked</th>\n",
       "      <th>Deck</th>\n",
       "      <th>Title</th>\n",
       "    </tr>\n",
       "  </thead>\n",
       "  <tbody>\n",
       "    <tr>\n",
       "      <th>30</th>\n",
       "      <td>31</td>\n",
       "      <td>0.0</td>\n",
       "      <td>1</td>\n",
       "      <td>Uruchurtu, Don. Manuel E</td>\n",
       "      <td>male</td>\n",
       "      <td>40.0</td>\n",
       "      <td>0</td>\n",
       "      <td>0</td>\n",
       "      <td>PC 17601</td>\n",
       "      <td>27.72</td>\n",
       "      <td>NaN</td>\n",
       "      <td>C</td>\n",
       "      <td>ABCDE</td>\n",
       "      <td>Don</td>\n",
       "    </tr>\n",
       "  </tbody>\n",
       "</table>\n",
       "</div>"
      ],
      "text/plain": [
       "    PassengerId  Survived  Pclass                      Name   Sex   Age  \\\n",
       "30           31       0.0       1  Uruchurtu, Don. Manuel E  male  40.0   \n",
       "\n",
       "    SibSp  Parch    Ticket   Fare Cabin Embarked   Deck Title  \n",
       "30      0      0  PC 17601  27.72   NaN        C  ABCDE   Don  "
      ]
     },
     "execution_count": 80,
     "metadata": {},
     "output_type": "execute_result"
    }
   ],
   "source": [
    "df_full.loc[df_full.Title.isin(['Don'])]"
   ]
  },
  {
   "cell_type": "code",
   "execution_count": 81,
   "id": "e7aa9a78-588a-4bf4-a4a3-461d51c9b3c2",
   "metadata": {
    "tags": []
   },
   "outputs": [
    {
     "data": {
      "text/html": [
       "<div>\n",
       "<style scoped>\n",
       "    .dataframe tbody tr th:only-of-type {\n",
       "        vertical-align: middle;\n",
       "    }\n",
       "\n",
       "    .dataframe tbody tr th {\n",
       "        vertical-align: top;\n",
       "    }\n",
       "\n",
       "    .dataframe thead th {\n",
       "        text-align: right;\n",
       "    }\n",
       "</style>\n",
       "<table border=\"1\" class=\"dataframe\">\n",
       "  <thead>\n",
       "    <tr style=\"text-align: right;\">\n",
       "      <th></th>\n",
       "      <th>PassengerId</th>\n",
       "      <th>Survived</th>\n",
       "      <th>Pclass</th>\n",
       "      <th>Name</th>\n",
       "      <th>Sex</th>\n",
       "      <th>Age</th>\n",
       "      <th>SibSp</th>\n",
       "      <th>Parch</th>\n",
       "      <th>Ticket</th>\n",
       "      <th>Fare</th>\n",
       "      <th>Cabin</th>\n",
       "      <th>Embarked</th>\n",
       "      <th>Deck</th>\n",
       "      <th>Title</th>\n",
       "    </tr>\n",
       "  </thead>\n",
       "  <tbody>\n",
       "    <tr>\n",
       "      <th>245</th>\n",
       "      <td>246</td>\n",
       "      <td>0.0</td>\n",
       "      <td>1</td>\n",
       "      <td>Minahan, Dr. William Edward</td>\n",
       "      <td>male</td>\n",
       "      <td>44.0</td>\n",
       "      <td>2</td>\n",
       "      <td>0</td>\n",
       "      <td>19928</td>\n",
       "      <td>90.00</td>\n",
       "      <td>C78</td>\n",
       "      <td>Q</td>\n",
       "      <td>ABCDE</td>\n",
       "      <td>Dr</td>\n",
       "    </tr>\n",
       "    <tr>\n",
       "      <th>317</th>\n",
       "      <td>318</td>\n",
       "      <td>0.0</td>\n",
       "      <td>2</td>\n",
       "      <td>Moraweck, Dr. Ernest</td>\n",
       "      <td>male</td>\n",
       "      <td>54.0</td>\n",
       "      <td>0</td>\n",
       "      <td>0</td>\n",
       "      <td>29011</td>\n",
       "      <td>14.00</td>\n",
       "      <td>NaN</td>\n",
       "      <td>S</td>\n",
       "      <td>DEF</td>\n",
       "      <td>Dr</td>\n",
       "    </tr>\n",
       "    <tr>\n",
       "      <th>398</th>\n",
       "      <td>399</td>\n",
       "      <td>0.0</td>\n",
       "      <td>2</td>\n",
       "      <td>Pain, Dr. Alfred</td>\n",
       "      <td>male</td>\n",
       "      <td>23.0</td>\n",
       "      <td>0</td>\n",
       "      <td>0</td>\n",
       "      <td>244278</td>\n",
       "      <td>10.50</td>\n",
       "      <td>NaN</td>\n",
       "      <td>S</td>\n",
       "      <td>DEF</td>\n",
       "      <td>Dr</td>\n",
       "    </tr>\n",
       "    <tr>\n",
       "      <th>632</th>\n",
       "      <td>633</td>\n",
       "      <td>1.0</td>\n",
       "      <td>1</td>\n",
       "      <td>Stahelin-Maeglin, Dr. Max</td>\n",
       "      <td>male</td>\n",
       "      <td>32.0</td>\n",
       "      <td>0</td>\n",
       "      <td>0</td>\n",
       "      <td>13214</td>\n",
       "      <td>30.50</td>\n",
       "      <td>B50</td>\n",
       "      <td>C</td>\n",
       "      <td>ABCDE</td>\n",
       "      <td>Dr</td>\n",
       "    </tr>\n",
       "    <tr>\n",
       "      <th>660</th>\n",
       "      <td>661</td>\n",
       "      <td>1.0</td>\n",
       "      <td>1</td>\n",
       "      <td>Frauenthal, Dr. Henry William</td>\n",
       "      <td>male</td>\n",
       "      <td>50.0</td>\n",
       "      <td>2</td>\n",
       "      <td>0</td>\n",
       "      <td>PC 17611</td>\n",
       "      <td>133.65</td>\n",
       "      <td>NaN</td>\n",
       "      <td>S</td>\n",
       "      <td>ABCDE</td>\n",
       "      <td>Dr</td>\n",
       "    </tr>\n",
       "    <tr>\n",
       "      <th>766</th>\n",
       "      <td>767</td>\n",
       "      <td>0.0</td>\n",
       "      <td>1</td>\n",
       "      <td>Brewe, Dr. Arthur Jackson</td>\n",
       "      <td>male</td>\n",
       "      <td>NaN</td>\n",
       "      <td>0</td>\n",
       "      <td>0</td>\n",
       "      <td>112379</td>\n",
       "      <td>39.60</td>\n",
       "      <td>NaN</td>\n",
       "      <td>C</td>\n",
       "      <td>ABCDE</td>\n",
       "      <td>Dr</td>\n",
       "    </tr>\n",
       "    <tr>\n",
       "      <th>796</th>\n",
       "      <td>797</td>\n",
       "      <td>1.0</td>\n",
       "      <td>1</td>\n",
       "      <td>Leader, Dr. Alice (Farnham)</td>\n",
       "      <td>female</td>\n",
       "      <td>49.0</td>\n",
       "      <td>0</td>\n",
       "      <td>0</td>\n",
       "      <td>17465</td>\n",
       "      <td>25.93</td>\n",
       "      <td>D17</td>\n",
       "      <td>S</td>\n",
       "      <td>ABCDE</td>\n",
       "      <td>Dr</td>\n",
       "    </tr>\n",
       "    <tr>\n",
       "      <th>1184</th>\n",
       "      <td>1185</td>\n",
       "      <td>NaN</td>\n",
       "      <td>1</td>\n",
       "      <td>Dodge, Dr. Washington</td>\n",
       "      <td>male</td>\n",
       "      <td>53.0</td>\n",
       "      <td>1</td>\n",
       "      <td>1</td>\n",
       "      <td>33638</td>\n",
       "      <td>81.86</td>\n",
       "      <td>A34</td>\n",
       "      <td>S</td>\n",
       "      <td>ABCDE</td>\n",
       "      <td>Dr</td>\n",
       "    </tr>\n",
       "  </tbody>\n",
       "</table>\n",
       "</div>"
      ],
      "text/plain": [
       "      PassengerId  Survived  Pclass                           Name     Sex  \\\n",
       "245           246       0.0       1    Minahan, Dr. William Edward    male   \n",
       "317           318       0.0       2           Moraweck, Dr. Ernest    male   \n",
       "398           399       0.0       2               Pain, Dr. Alfred    male   \n",
       "632           633       1.0       1      Stahelin-Maeglin, Dr. Max    male   \n",
       "660           661       1.0       1  Frauenthal, Dr. Henry William    male   \n",
       "766           767       0.0       1      Brewe, Dr. Arthur Jackson    male   \n",
       "796           797       1.0       1    Leader, Dr. Alice (Farnham)  female   \n",
       "1184         1185       NaN       1          Dodge, Dr. Washington    male   \n",
       "\n",
       "       Age  SibSp  Parch    Ticket    Fare Cabin Embarked   Deck Title  \n",
       "245   44.0      2      0     19928   90.00   C78        Q  ABCDE    Dr  \n",
       "317   54.0      0      0     29011   14.00   NaN        S    DEF    Dr  \n",
       "398   23.0      0      0    244278   10.50   NaN        S    DEF    Dr  \n",
       "632   32.0      0      0     13214   30.50   B50        C  ABCDE    Dr  \n",
       "660   50.0      2      0  PC 17611  133.65   NaN        S  ABCDE    Dr  \n",
       "766    NaN      0      0    112379   39.60   NaN        C  ABCDE    Dr  \n",
       "796   49.0      0      0     17465   25.93   D17        S  ABCDE    Dr  \n",
       "1184  53.0      1      1     33638   81.86   A34        S  ABCDE    Dr  "
      ]
     },
     "execution_count": 81,
     "metadata": {},
     "output_type": "execute_result"
    }
   ],
   "source": [
    "df_full.loc[df_full.Title.isin(['Dr'])]"
   ]
  },
  {
   "cell_type": "code",
   "execution_count": 82,
   "id": "cda6d389-53c8-4845-b260-1b7ec19d7435",
   "metadata": {
    "tags": []
   },
   "outputs": [
    {
     "data": {
      "text/html": [
       "<div>\n",
       "<style scoped>\n",
       "    .dataframe tbody tr th:only-of-type {\n",
       "        vertical-align: middle;\n",
       "    }\n",
       "\n",
       "    .dataframe tbody tr th {\n",
       "        vertical-align: top;\n",
       "    }\n",
       "\n",
       "    .dataframe thead th {\n",
       "        text-align: right;\n",
       "    }\n",
       "</style>\n",
       "<table border=\"1\" class=\"dataframe\">\n",
       "  <thead>\n",
       "    <tr style=\"text-align: right;\">\n",
       "      <th></th>\n",
       "      <th>PassengerId</th>\n",
       "      <th>Survived</th>\n",
       "      <th>Pclass</th>\n",
       "      <th>Name</th>\n",
       "      <th>Sex</th>\n",
       "      <th>Age</th>\n",
       "      <th>SibSp</th>\n",
       "      <th>Parch</th>\n",
       "      <th>Ticket</th>\n",
       "      <th>Fare</th>\n",
       "      <th>Cabin</th>\n",
       "      <th>Embarked</th>\n",
       "      <th>Deck</th>\n",
       "      <th>Title</th>\n",
       "    </tr>\n",
       "  </thead>\n",
       "  <tbody>\n",
       "    <tr>\n",
       "      <th>149</th>\n",
       "      <td>150</td>\n",
       "      <td>0.0</td>\n",
       "      <td>2</td>\n",
       "      <td>Byles, Rev. Thomas Roussel Davids</td>\n",
       "      <td>male</td>\n",
       "      <td>42.0</td>\n",
       "      <td>0</td>\n",
       "      <td>0</td>\n",
       "      <td>244310</td>\n",
       "      <td>13.00</td>\n",
       "      <td>NaN</td>\n",
       "      <td>S</td>\n",
       "      <td>DEF</td>\n",
       "      <td>Rev</td>\n",
       "    </tr>\n",
       "    <tr>\n",
       "      <th>150</th>\n",
       "      <td>151</td>\n",
       "      <td>0.0</td>\n",
       "      <td>2</td>\n",
       "      <td>Bateman, Rev. Robert James</td>\n",
       "      <td>male</td>\n",
       "      <td>51.0</td>\n",
       "      <td>0</td>\n",
       "      <td>0</td>\n",
       "      <td>S.O.P. 1166</td>\n",
       "      <td>12.52</td>\n",
       "      <td>NaN</td>\n",
       "      <td>S</td>\n",
       "      <td>DEF</td>\n",
       "      <td>Rev</td>\n",
       "    </tr>\n",
       "    <tr>\n",
       "      <th>249</th>\n",
       "      <td>250</td>\n",
       "      <td>0.0</td>\n",
       "      <td>2</td>\n",
       "      <td>Carter, Rev. Ernest Courtenay</td>\n",
       "      <td>male</td>\n",
       "      <td>54.0</td>\n",
       "      <td>1</td>\n",
       "      <td>0</td>\n",
       "      <td>244252</td>\n",
       "      <td>26.00</td>\n",
       "      <td>NaN</td>\n",
       "      <td>S</td>\n",
       "      <td>DEF</td>\n",
       "      <td>Rev</td>\n",
       "    </tr>\n",
       "    <tr>\n",
       "      <th>626</th>\n",
       "      <td>627</td>\n",
       "      <td>0.0</td>\n",
       "      <td>2</td>\n",
       "      <td>Kirkland, Rev. Charles Leonard</td>\n",
       "      <td>male</td>\n",
       "      <td>57.0</td>\n",
       "      <td>0</td>\n",
       "      <td>0</td>\n",
       "      <td>219533</td>\n",
       "      <td>12.35</td>\n",
       "      <td>NaN</td>\n",
       "      <td>Q</td>\n",
       "      <td>DEF</td>\n",
       "      <td>Rev</td>\n",
       "    </tr>\n",
       "    <tr>\n",
       "      <th>848</th>\n",
       "      <td>849</td>\n",
       "      <td>0.0</td>\n",
       "      <td>2</td>\n",
       "      <td>Harper, Rev. John</td>\n",
       "      <td>male</td>\n",
       "      <td>28.0</td>\n",
       "      <td>0</td>\n",
       "      <td>1</td>\n",
       "      <td>248727</td>\n",
       "      <td>33.00</td>\n",
       "      <td>NaN</td>\n",
       "      <td>S</td>\n",
       "      <td>DEF</td>\n",
       "      <td>Rev</td>\n",
       "    </tr>\n",
       "    <tr>\n",
       "      <th>886</th>\n",
       "      <td>887</td>\n",
       "      <td>0.0</td>\n",
       "      <td>2</td>\n",
       "      <td>Montvila, Rev. Juozas</td>\n",
       "      <td>male</td>\n",
       "      <td>27.0</td>\n",
       "      <td>0</td>\n",
       "      <td>0</td>\n",
       "      <td>211536</td>\n",
       "      <td>13.00</td>\n",
       "      <td>NaN</td>\n",
       "      <td>S</td>\n",
       "      <td>DEF</td>\n",
       "      <td>Rev</td>\n",
       "    </tr>\n",
       "    <tr>\n",
       "      <th>1040</th>\n",
       "      <td>1041</td>\n",
       "      <td>NaN</td>\n",
       "      <td>2</td>\n",
       "      <td>Lahtinen, Rev. William</td>\n",
       "      <td>male</td>\n",
       "      <td>30.0</td>\n",
       "      <td>1</td>\n",
       "      <td>1</td>\n",
       "      <td>250651</td>\n",
       "      <td>26.00</td>\n",
       "      <td>NaN</td>\n",
       "      <td>S</td>\n",
       "      <td>DEF</td>\n",
       "      <td>Rev</td>\n",
       "    </tr>\n",
       "    <tr>\n",
       "      <th>1055</th>\n",
       "      <td>1056</td>\n",
       "      <td>NaN</td>\n",
       "      <td>2</td>\n",
       "      <td>Peruschitz, Rev. Joseph Maria</td>\n",
       "      <td>male</td>\n",
       "      <td>41.0</td>\n",
       "      <td>0</td>\n",
       "      <td>0</td>\n",
       "      <td>237393</td>\n",
       "      <td>13.00</td>\n",
       "      <td>NaN</td>\n",
       "      <td>S</td>\n",
       "      <td>DEF</td>\n",
       "      <td>Rev</td>\n",
       "    </tr>\n",
       "  </tbody>\n",
       "</table>\n",
       "</div>"
      ],
      "text/plain": [
       "      PassengerId  Survived  Pclass                               Name   Sex  \\\n",
       "149           150       0.0       2  Byles, Rev. Thomas Roussel Davids  male   \n",
       "150           151       0.0       2         Bateman, Rev. Robert James  male   \n",
       "249           250       0.0       2      Carter, Rev. Ernest Courtenay  male   \n",
       "626           627       0.0       2     Kirkland, Rev. Charles Leonard  male   \n",
       "848           849       0.0       2                  Harper, Rev. John  male   \n",
       "886           887       0.0       2              Montvila, Rev. Juozas  male   \n",
       "1040         1041       NaN       2             Lahtinen, Rev. William  male   \n",
       "1055         1056       NaN       2      Peruschitz, Rev. Joseph Maria  male   \n",
       "\n",
       "       Age  SibSp  Parch       Ticket   Fare Cabin Embarked Deck Title  \n",
       "149   42.0      0      0       244310  13.00   NaN        S  DEF   Rev  \n",
       "150   51.0      0      0  S.O.P. 1166  12.52   NaN        S  DEF   Rev  \n",
       "249   54.0      1      0       244252  26.00   NaN        S  DEF   Rev  \n",
       "626   57.0      0      0       219533  12.35   NaN        Q  DEF   Rev  \n",
       "848   28.0      0      1       248727  33.00   NaN        S  DEF   Rev  \n",
       "886   27.0      0      0       211536  13.00   NaN        S  DEF   Rev  \n",
       "1040  30.0      1      1       250651  26.00   NaN        S  DEF   Rev  \n",
       "1055  41.0      0      0       237393  13.00   NaN        S  DEF   Rev  "
      ]
     },
     "execution_count": 82,
     "metadata": {},
     "output_type": "execute_result"
    }
   ],
   "source": [
    "df_full.loc[df_full.Title.isin(['Rev'])]"
   ]
  },
  {
   "cell_type": "code",
   "execution_count": 83,
   "id": "00535e56",
   "metadata": {},
   "outputs": [],
   "source": [
    "# Os titulos abaixo se referem a mulheres, portanto iremos agrupa-los somente em Miss/Mrs/Ms\n",
    "df_full['Title'] = df_full['Title'].replace(['Miss', 'Mrs','Ms', 'Mlle', 'Lady', 'Mme', 'the Countess', 'Dona'], 'Miss/Mrs/Ms')"
   ]
  },
  {
   "cell_type": "code",
   "execution_count": 84,
   "id": "867f8a43",
   "metadata": {},
   "outputs": [],
   "source": [
    "# Os titulos abaixo ocorrem pouquíssimas vezes, poranto iremos considerar que os titulos abaixo sejam Dr/Military/Noble/Clergy\n",
    "df_full['Title'] = df_full['Title'].replace(['Dr', 'Col', 'Major', 'Jonkheer', 'Capt', 'Sir', 'Don', 'Rev'], 'Dr/Military/Noble/Clergy')"
   ]
  },
  {
   "cell_type": "code",
   "execution_count": 85,
   "id": "01828695",
   "metadata": {},
   "outputs": [
    {
     "name": "stdout",
     "output_type": "stream",
     "text": [
      "Quantidade de valores únicos: 4\n",
      "\n",
      "Quais são os valores únicos: Mr, Miss/Mrs/Ms, Master, Dr/Military/Noble/Clergy\n",
      "\n",
      "Quantidade de valores nulos: 0\n",
      "\n",
      "Quantidade por valor: \n",
      "Title\n",
      "Mr                          757\n",
      "Miss/Mrs/Ms                 465\n",
      "Master                       61\n",
      "Dr/Military/Noble/Clergy     26\n",
      "Name: count, dtype: int64\n"
     ]
    },
    {
     "data": {
      "image/png": "[encoded data removed]",
      "text/plain": [
       "<Figure size 500x500 with 1 Axes>"
      ]
     },
     "metadata": {},
     "output_type": "display_data"
    }
   ],
   "source": [
    "check_feature(df_full, 'Title')"
   ]
  },
  {
   "cell_type": "code",
   "execution_count": 86,
   "id": "879c8d2b-c1f2-4714-82f2-fb469dc03ba2",
   "metadata": {
    "tags": []
   },
   "outputs": [
    {
     "data": {
      "text/html": [
       "<div>\n",
       "<style scoped>\n",
       "    .dataframe tbody tr th:only-of-type {\n",
       "        vertical-align: middle;\n",
       "    }\n",
       "\n",
       "    .dataframe tbody tr th {\n",
       "        vertical-align: top;\n",
       "    }\n",
       "\n",
       "    .dataframe thead th {\n",
       "        text-align: right;\n",
       "    }\n",
       "</style>\n",
       "<table border=\"1\" class=\"dataframe\">\n",
       "  <thead>\n",
       "    <tr style=\"text-align: right;\">\n",
       "      <th></th>\n",
       "      <th>Survived</th>\n",
       "      <th>Pclass</th>\n",
       "      <th>Sex</th>\n",
       "      <th>SibSp</th>\n",
       "      <th>Parch</th>\n",
       "      <th>Fare</th>\n",
       "      <th>Embarked</th>\n",
       "      <th>Deck</th>\n",
       "      <th>Title</th>\n",
       "    </tr>\n",
       "  </thead>\n",
       "  <tbody>\n",
       "    <tr>\n",
       "      <th>0</th>\n",
       "      <td>0.0</td>\n",
       "      <td>3</td>\n",
       "      <td>male</td>\n",
       "      <td>1</td>\n",
       "      <td>0</td>\n",
       "      <td>7.25</td>\n",
       "      <td>S</td>\n",
       "      <td>EFG</td>\n",
       "      <td>Mr</td>\n",
       "    </tr>\n",
       "    <tr>\n",
       "      <th>1</th>\n",
       "      <td>1.0</td>\n",
       "      <td>1</td>\n",
       "      <td>female</td>\n",
       "      <td>1</td>\n",
       "      <td>0</td>\n",
       "      <td>71.28</td>\n",
       "      <td>C</td>\n",
       "      <td>ABCDE</td>\n",
       "      <td>Miss/Mrs/Ms</td>\n",
       "    </tr>\n",
       "    <tr>\n",
       "      <th>2</th>\n",
       "      <td>1.0</td>\n",
       "      <td>3</td>\n",
       "      <td>female</td>\n",
       "      <td>0</td>\n",
       "      <td>0</td>\n",
       "      <td>7.92</td>\n",
       "      <td>S</td>\n",
       "      <td>EFG</td>\n",
       "      <td>Miss/Mrs/Ms</td>\n",
       "    </tr>\n",
       "    <tr>\n",
       "      <th>3</th>\n",
       "      <td>1.0</td>\n",
       "      <td>1</td>\n",
       "      <td>female</td>\n",
       "      <td>1</td>\n",
       "      <td>0</td>\n",
       "      <td>53.10</td>\n",
       "      <td>S</td>\n",
       "      <td>ABCDE</td>\n",
       "      <td>Miss/Mrs/Ms</td>\n",
       "    </tr>\n",
       "    <tr>\n",
       "      <th>4</th>\n",
       "      <td>0.0</td>\n",
       "      <td>3</td>\n",
       "      <td>male</td>\n",
       "      <td>0</td>\n",
       "      <td>0</td>\n",
       "      <td>8.05</td>\n",
       "      <td>S</td>\n",
       "      <td>EFG</td>\n",
       "      <td>Mr</td>\n",
       "    </tr>\n",
       "  </tbody>\n",
       "</table>\n",
       "</div>"
      ],
      "text/plain": [
       "   Survived  Pclass     Sex  SibSp  Parch   Fare Embarked   Deck        Title\n",
       "0       0.0       3    male      1      0   7.25        S    EFG           Mr\n",
       "1       1.0       1  female      1      0  71.28        C  ABCDE  Miss/Mrs/Ms\n",
       "2       1.0       3  female      0      0   7.92        S    EFG  Miss/Mrs/Ms\n",
       "3       1.0       1  female      1      0  53.10        S  ABCDE  Miss/Mrs/Ms\n",
       "4       0.0       3    male      0      0   8.05        S    EFG           Mr"
      ]
     },
     "execution_count": 86,
     "metadata": {},
     "output_type": "execute_result"
    }
   ],
   "source": [
    "# Adicionando a feature Title no DF novo\n",
    "df['Title'] = df_full['Title']\n",
    "df.head()"
   ]
  },
  {
   "cell_type": "markdown",
   "id": "c2f19b72-ee17-44b9-8fd5-a4115bf6596e",
   "metadata": {},
   "source": [
    "# Age\n",
    "#### Entendendo a coluna Age\n",
    "- **Age**: Idade dos passageiros\n",
    "    - Possui 263 valores ausentes\n",
    "    - Os valores ausentes em Age são preenchidos com a idade mediana, mas usar a idade mediana de todo o conjunto de dados não é uma boa escolha. A idade mediana dos grupos `Pclass` é a melhor escolha devido à sua alta correlação com `Idade`. Também é mais lógico agrupar as idades por classes de passageiros em vez de outras características."
   ]
  },
  {
   "cell_type": "code",
   "execution_count": 87,
   "id": "11328b3c-ee5c-4157-b880-0c8d051d5fd2",
   "metadata": {
    "tags": []
   },
   "outputs": [
    {
     "name": "stdout",
     "output_type": "stream",
     "text": [
      "Quantidade de valores únicos: 98\n",
      "\n",
      "Quais são os valores únicos: 22.0, 38.0, 26.0, 35.0, nan, 54.0, 2.0, 27.0, 14.0, 4.0, 58.0, 20.0, 39.0, 55.0, 31.0, 34.0, 15.0, 28.0, 8.0, 19.0, 40.0, 66.0, 42.0, 21.0, 18.0, 3.0, 7.0, 49.0, 29.0, 65.0, 28.5, 5.0, 11.0, 45.0, 17.0, 32.0, 16.0, 25.0, 0.83, 30.0, 33.0, 23.0, 24.0, 46.0, 59.0, 71.0, 37.0, 47.0, 14.5, 70.5, 32.5, 12.0, 9.0, 36.5, 51.0, 55.5, 40.5, 44.0, 1.0, 61.0, 56.0, 50.0, 36.0, 45.5, 20.5, 62.0, 41.0, 52.0, 63.0, 23.5, 0.92, 43.0, 60.0, 10.0, 64.0, 13.0, 48.0, 0.75, 53.0, 57.0, 80.0, 70.0, 24.5, 6.0, 0.67, 30.5, 0.42, 34.5, 74.0, 22.5, 18.5, 67.0, 76.0, 26.5, 60.5, 11.5, 0.33, 0.17, 38.5\n",
      "\n",
      "Quantidade de valores nulos: 263\n",
      "\n",
      "Quantidade por valor: \n",
      "Age\n",
      "24.0    47\n",
      "22.0    43\n",
      "21.0    41\n",
      "30.0    40\n",
      "18.0    39\n",
      "        ..\n",
      "23.5     1\n",
      "70.5     1\n",
      "55.5     1\n",
      "20.5     1\n",
      "38.5     1\n",
      "Name: count, Length: 98, dtype: int64\n"
     ]
    },
    {
     "data": {
      "image/png": "[encoded data removed]",
      "text/plain": [
       "<Figure size 500x500 with 1 Axes>"
      ]
     },
     "metadata": {},
     "output_type": "display_data"
    }
   ],
   "source": [
    "check_feature(df_full, 'Age')"
   ]
  },
  {
   "cell_type": "code",
   "execution_count": 88,
   "id": "533566dc-3cc3-4d17-8b44-5939e0b26901",
   "metadata": {
    "tags": []
   },
   "outputs": [
    {
     "name": "stdout",
     "output_type": "stream",
     "text": [
      "Quantidade de registros nulos na feature Age da 1° classe: 39\n",
      "Quantidade de registros nulos na feature Age da 2° classe: 16\n",
      "Quantidade de registros nulos na feature Age da 3° classe: 208\n"
     ]
    }
   ],
   "source": [
    "primeira = df_full[df_full['Age'].isnull() & (df_full['Pclass'] == 1)].shape[0]\n",
    "segunda = df_full[df_full['Age'].isnull() & (df_full['Pclass'] == 2)].shape[0]\n",
    "terceira = df_full[df_full['Age'].isnull() & (df_full['Pclass'] == 3)].shape[0]\n",
    "\n",
    "print(f'Quantidade de registros nulos na feature Age da 1° classe: {primeira}')\n",
    "print(f'Quantidade de registros nulos na feature Age da 2° classe: {segunda}')\n",
    "print(f'Quantidade de registros nulos na feature Age da 3° classe: {terceira}')"
   ]
  },
  {
   "cell_type": "code",
   "execution_count": 89,
   "id": "21efe3ab-352e-4f9c-8c2e-54d8a9278154",
   "metadata": {
    "tags": []
   },
   "outputs": [
    {
     "data": {
      "text/plain": [
       "Pclass\n",
       "1    39.159930\n",
       "2    29.506705\n",
       "3    24.816367\n",
       "Name: Age, dtype: float64"
      ]
     },
     "execution_count": 89,
     "metadata": {},
     "output_type": "execute_result"
    }
   ],
   "source": [
    "# Pegando a media de idade de cada classe\n",
    "df_full.groupby('Pclass').Age.mean()"
   ]
  },
  {
   "cell_type": "code",
   "execution_count": 90,
   "id": "45b702b2",
   "metadata": {},
   "outputs": [
    {
     "data": {
      "text/plain": [
       "Pclass\n",
       "1    39.0\n",
       "2    29.0\n",
       "3    24.0\n",
       "Name: Age, dtype: float64"
      ]
     },
     "execution_count": 90,
     "metadata": {},
     "output_type": "execute_result"
    }
   ],
   "source": [
    "# Pegando a mediana de idade de cada classe\n",
    "df_full.groupby('Pclass').Age.median()"
   ]
  },
  {
   "cell_type": "code",
   "execution_count": 91,
   "id": "2c6961c9-6723-4ce7-a6fb-9af19645d359",
   "metadata": {
    "tags": []
   },
   "outputs": [
    {
     "name": "stdout",
     "output_type": "stream",
     "text": [
      "Mediana Homens 3 classe: 25.0\n",
      "Mediana Homens 2 classe: 29.5\n",
      "Mediana Homens 1 classe: 42.0\n",
      "Mediana Mulheres 3 classe: 22.0\n",
      "Mediana Mulheres 2 classe: 28.0\n",
      "Mediana Mulheres 1 classe: 36.0\n"
     ]
    }
   ],
   "source": [
    "# Pegando as medianas de idade dos sexos e das classes\n",
    "m_3 = df_full[(df_full['Pclass'] == 3) & (df_full['Sex'] == 'male')]['Age'].median()\n",
    "f_3 = df_full[(df_full['Pclass'] == 3) & (df_full['Sex'] == 'female')]['Age'].median()\n",
    "m_2 = df_full[(df_full['Pclass'] == 2) & (df_full['Sex'] == 'male')]['Age'].median()\n",
    "f_2 = df_full[(df_full['Pclass'] == 2) & (df_full['Sex'] == 'female')]['Age'].median()\n",
    "m_1 = df_full[(df_full['Pclass'] == 1) & (df_full['Sex'] == 'male')]['Age'].median()\n",
    "f_1 = df_full[(df_full['Pclass'] == 1) & (df_full['Sex'] == 'female')]['Age'].median()\n",
    "\n",
    "print(f'Mediana Homens 3 classe: {m_3}')\n",
    "print(f'Mediana Homens 2 classe: {m_2}')\n",
    "print(f'Mediana Homens 1 classe: {m_1}')\n",
    "print(f'Mediana Mulheres 3 classe: {f_3}')\n",
    "print(f'Mediana Mulheres 2 classe: {f_2}')\n",
    "print(f'Mediana Mulheres 1 classe: {f_1}')"
   ]
  },
  {
   "cell_type": "code",
   "execution_count": 92,
   "id": "a7fbb782-e3c7-412d-a3fd-d40e8f1db1af",
   "metadata": {
    "tags": []
   },
   "outputs": [
    {
     "data": {
      "text/plain": [
       "Title\n",
       "Dr/Military/Noble/Clergy    45.800000\n",
       "Master                       5.482642\n",
       "Miss/Mrs/Ms                 28.634599\n",
       "Mr                          32.252151\n",
       "Name: Age, dtype: float64"
      ]
     },
     "execution_count": 92,
     "metadata": {},
     "output_type": "execute_result"
    }
   ],
   "source": [
    "# Pegando a media de idade por titulo\n",
    "df_full.groupby('Title')['Age'].mean()"
   ]
  },
  {
   "cell_type": "code",
   "execution_count": 93,
   "id": "cbf5af22",
   "metadata": {},
   "outputs": [
    {
     "data": {
      "text/plain": [
       "Title\n",
       "Dr/Military/Noble/Clergy    49.0\n",
       "Master                       4.0\n",
       "Miss/Mrs/Ms                 27.0\n",
       "Mr                          29.0\n",
       "Name: Age, dtype: float64"
      ]
     },
     "execution_count": 93,
     "metadata": {},
     "output_type": "execute_result"
    }
   ],
   "source": [
    "# Pegando a mediana de idade por titulo\n",
    "df_full.groupby('Title')['Age'].median()"
   ]
  },
  {
   "cell_type": "code",
   "execution_count": 94,
   "id": "4e700dbd",
   "metadata": {},
   "outputs": [
    {
     "name": "stdout",
     "output_type": "stream",
     "text": [
      "Mediana Mr 3 classe: 26.0\n",
      "Mediana Mr 2 classe: 30.0\n",
      "Mediana Mr 1 classe: 41.5\n",
      "Mediana Miss/Mrs/Ms 3 classe: 22.0\n",
      "Mediana Miss/Mrs/Ms 2 classe: 28.0\n",
      "Mediana Miss/Mrs/Ms 1 classe: 35.5\n",
      "Mediana Master 3 classe: 6.0\n",
      "Mediana Master 2 classe: 2.0\n",
      "Mediana Master 1 classe: 6.0\n",
      "Mediana Dr/Military/Noble/Clergy 3 classe: nan\n",
      "Mediana Dr/Military/Noble/Clergy 2 classe: 41.5\n",
      "Mediana Dr/Military/Noble/Clergy 1 classe: 49.0\n"
     ]
    }
   ],
   "source": [
    "# Mediana por titulo e classe\n",
    "mr_3 = df_full[(df_full['Pclass'] == 3) & (df_full['Title'] == 'Mr')]['Age'].median()\n",
    "miss_3 = df_full[(df_full['Pclass'] == 3) & (df_full['Title'] == 'Miss/Mrs/Ms')]['Age'].median()\n",
    "m_3 = df_full[(df_full['Pclass'] == 3) & (df_full['Title'] == 'Master')]['Age'].median()\n",
    "dr_3 = df_full[(df_full['Pclass'] == 3) & (df_full['Title'] == 'Dr/Military/Noble/Clergy')]['Age'].median()\n",
    "\n",
    "mr_2 = df_full[(df_full['Pclass'] == 2) & (df_full['Title'] == 'Mr')]['Age'].median()\n",
    "miss_2 = df_full[(df_full['Pclass'] == 2) & (df_full['Title'] == 'Miss/Mrs/Ms')]['Age'].median()\n",
    "m_2 = df_full[(df_full['Pclass'] == 2) & (df_full['Title'] == 'Master')]['Age'].median()\n",
    "dr_2 = df_full[(df_full['Pclass'] == 2) & (df_full['Title'] == 'Dr/Military/Noble/Clergy')]['Age'].median()\n",
    "\n",
    "mr_1 = df_full[(df_full['Pclass'] == 1) & (df_full['Title'] == 'Mr')]['Age'].median()\n",
    "miss_1 = df_full[(df_full['Pclass'] == 1) & (df_full['Title'] == 'Miss/Mrs/Ms')]['Age'].median()\n",
    "m_1 = df_full[(df_full['Pclass'] == 1) & (df_full['Title'] == 'Master')]['Age'].median()\n",
    "dr_1 = df_full[(df_full['Pclass'] == 1) & (df_full['Title'] == 'Dr/Military/Noble/Clergy')]['Age'].median()\n",
    "\n",
    "print(f'Mediana Mr 3 classe: {mr_3}')\n",
    "print(f'Mediana Mr 2 classe: {mr_2}')\n",
    "print(f'Mediana Mr 1 classe: {mr_1}')\n",
    "print(f'Mediana Miss/Mrs/Ms 3 classe: {miss_3}')\n",
    "print(f'Mediana Miss/Mrs/Ms 2 classe: {miss_2}')\n",
    "print(f'Mediana Miss/Mrs/Ms 1 classe: {miss_1}')\n",
    "print(f'Mediana Master 3 classe: {m_3}')\n",
    "print(f'Mediana Master 2 classe: {m_2}')\n",
    "print(f'Mediana Master 1 classe: {m_1}')\n",
    "print(f'Mediana Dr/Military/Noble/Clergy 3 classe: {dr_3}')\n",
    "print(f'Mediana Dr/Military/Noble/Clergy 2 classe: {dr_2}')\n",
    "print(f'Mediana Dr/Military/Noble/Clergy 1 classe: {dr_1}')"
   ]
  },
  {
   "cell_type": "code",
   "execution_count": 95,
   "id": "95b00036-5afb-4d58-aa51-448c16e09f07",
   "metadata": {
    "tags": []
   },
   "outputs": [
    {
     "data": {
      "image/png": "[encoded data removed]",
      "text/plain": [
       "<Figure size 640x480 with 1 Axes>"
      ]
     },
     "metadata": {},
     "output_type": "display_data"
    }
   ],
   "source": [
    "# Verificando a distribuição dos dados\n",
    "# Histograma da coluna 'Age'\n",
    "plt.hist(df_full['Age'], bins=20, color='skyblue', edgecolor='black')\n",
    "plt.xlabel('Idade')\n",
    "plt.ylabel('Frequência')\n",
    "plt.title('Distribuição de Idade')\n",
    "plt.show()"
   ]
  },
  {
   "cell_type": "code",
   "execution_count": 96,
   "id": "a208eccf-c227-4121-8f9b-fac007da41a0",
   "metadata": {
    "tags": []
   },
   "outputs": [
    {
     "data": {
      "image/png": "[encoded data removed]",
      "text/plain": [
       "<Figure size 640x480 with 1 Axes>"
      ]
     },
     "metadata": {},
     "output_type": "display_data"
    }
   ],
   "source": [
    "# Verificando a distribuição dos dados\n",
    "# Gráfico de densidade\n",
    "sns.kdeplot(df_full['Age'], color='skyblue')\n",
    "plt.xlabel('Idade')\n",
    "plt.ylabel('Densidade')\n",
    "plt.title('Distribuição de Idade')\n",
    "plt.show()"
   ]
  },
  {
   "cell_type": "code",
   "execution_count": 97,
   "id": "5ce49573-573f-4a1f-95bf-8179c7b00e8c",
   "metadata": {
    "tags": []
   },
   "outputs": [
    {
     "name": "stdout",
     "output_type": "stream",
     "text": [
      "Os dados não seguem uma distribuição normal\n"
     ]
    }
   ],
   "source": [
    "# Fazendo o teste de Shapiro para identificar se Age possui uma distribuição normal\n",
    "alpha = 0.05\n",
    "_, p_value = shapiro(df_full['Age'].dropna())\n",
    "\n",
    "if p_value > alpha:\n",
    "    print(\"Os dados seguem uma distribuição normal\")\n",
    "else:\n",
    "    print(\"Os dados não seguem uma distribuição normal\")"
   ]
  },
  {
   "cell_type": "code",
   "execution_count": 98,
   "id": "a854bdae-f6df-442b-8286-e9effd62d5c8",
   "metadata": {
    "tags": []
   },
   "outputs": [
    {
     "data": {
      "text/plain": [
       "count    1046.000000\n",
       "mean       29.881138\n",
       "std        14.413493\n",
       "min         0.170000\n",
       "25%        21.000000\n",
       "50%        28.000000\n",
       "75%        39.000000\n",
       "max        80.000000\n",
       "Name: Age, dtype: float64"
      ]
     },
     "execution_count": 98,
     "metadata": {},
     "output_type": "execute_result"
    }
   ],
   "source": [
    "# O desvio padrão de Age é 14, portanto as idades variam 14 anos para mais ou para menos\n",
    "df_full['Age'].describe()"
   ]
  },
  {
   "cell_type": "code",
   "execution_count": 99,
   "id": "b14c64f0-bba0-4dc5-9694-26e642111c8c",
   "metadata": {
    "tags": []
   },
   "outputs": [
    {
     "data": {
      "text/plain": [
       "6.0"
      ]
     },
     "execution_count": 99,
     "metadata": {},
     "output_type": "execute_result"
    }
   ],
   "source": [
    "# Pegando a mediana de idade da 3 classe pelo titulo 'Master' \n",
    "df_full[(df_full['Pclass'] == 3) & (df_full['Title'] == 'Master')]['Age'].median()"
   ]
  },
  {
   "cell_type": "code",
   "execution_count": 100,
   "id": "6254ceb3-746b-45c0-ae8e-8062dd16fcc3",
   "metadata": {
    "tags": []
   },
   "outputs": [
    {
     "data": {
      "text/plain": [
       "count    37.000000\n",
       "mean      6.090000\n",
       "std       4.152566\n",
       "min       0.330000\n",
       "25%       2.000000\n",
       "50%       6.000000\n",
       "75%       9.000000\n",
       "max      14.500000\n",
       "Name: Age, dtype: float64"
      ]
     },
     "execution_count": 100,
     "metadata": {},
     "output_type": "execute_result"
    }
   ],
   "source": [
    "# Registros com titulo Master e que são da terceira classe:\n",
    "# 37 registros\n",
    "# Media: 6\n",
    "# Desvio padrão: 4\n",
    "df_full[(df_full['Pclass'] == 3) & (df_full['Title'] == 'Master')]['Age'].describe()"
   ]
  },
  {
   "cell_type": "code",
   "execution_count": 101,
   "id": "c4ea204b-cf5b-4f63-bc7e-8b47faaa4405",
   "metadata": {
    "tags": []
   },
   "outputs": [
    {
     "data": {
      "text/html": [
       "<div>\n",
       "<style scoped>\n",
       "    .dataframe tbody tr th:only-of-type {\n",
       "        vertical-align: middle;\n",
       "    }\n",
       "\n",
       "    .dataframe tbody tr th {\n",
       "        vertical-align: top;\n",
       "    }\n",
       "\n",
       "    .dataframe thead th {\n",
       "        text-align: right;\n",
       "    }\n",
       "</style>\n",
       "<table border=\"1\" class=\"dataframe\">\n",
       "  <thead>\n",
       "    <tr style=\"text-align: right;\">\n",
       "      <th></th>\n",
       "      <th>PassengerId</th>\n",
       "      <th>Survived</th>\n",
       "      <th>Pclass</th>\n",
       "      <th>Name</th>\n",
       "      <th>Sex</th>\n",
       "      <th>Age</th>\n",
       "      <th>SibSp</th>\n",
       "      <th>Parch</th>\n",
       "      <th>Ticket</th>\n",
       "      <th>Fare</th>\n",
       "      <th>Cabin</th>\n",
       "      <th>Embarked</th>\n",
       "      <th>Deck</th>\n",
       "      <th>Title</th>\n",
       "    </tr>\n",
       "  </thead>\n",
       "  <tbody>\n",
       "    <tr>\n",
       "      <th>65</th>\n",
       "      <td>66</td>\n",
       "      <td>1.0</td>\n",
       "      <td>3</td>\n",
       "      <td>Moubarek, Master. Gerios</td>\n",
       "      <td>male</td>\n",
       "      <td>NaN</td>\n",
       "      <td>1</td>\n",
       "      <td>1</td>\n",
       "      <td>2661</td>\n",
       "      <td>15.25</td>\n",
       "      <td>NaN</td>\n",
       "      <td>C</td>\n",
       "      <td>EFG</td>\n",
       "      <td>Master</td>\n",
       "    </tr>\n",
       "    <tr>\n",
       "      <th>159</th>\n",
       "      <td>160</td>\n",
       "      <td>0.0</td>\n",
       "      <td>3</td>\n",
       "      <td>Sage, Master. Thomas Henry</td>\n",
       "      <td>male</td>\n",
       "      <td>NaN</td>\n",
       "      <td>8</td>\n",
       "      <td>2</td>\n",
       "      <td>CA. 2343</td>\n",
       "      <td>69.55</td>\n",
       "      <td>NaN</td>\n",
       "      <td>S</td>\n",
       "      <td>EFG</td>\n",
       "      <td>Master</td>\n",
       "    </tr>\n",
       "    <tr>\n",
       "      <th>176</th>\n",
       "      <td>177</td>\n",
       "      <td>0.0</td>\n",
       "      <td>3</td>\n",
       "      <td>Lefebre, Master. Henry Forbes</td>\n",
       "      <td>male</td>\n",
       "      <td>NaN</td>\n",
       "      <td>3</td>\n",
       "      <td>1</td>\n",
       "      <td>4133</td>\n",
       "      <td>25.47</td>\n",
       "      <td>NaN</td>\n",
       "      <td>S</td>\n",
       "      <td>EFG</td>\n",
       "      <td>Master</td>\n",
       "    </tr>\n",
       "    <tr>\n",
       "      <th>709</th>\n",
       "      <td>710</td>\n",
       "      <td>1.0</td>\n",
       "      <td>3</td>\n",
       "      <td>Moubarek, Master. Halim Gonios (\"William George\")</td>\n",
       "      <td>male</td>\n",
       "      <td>NaN</td>\n",
       "      <td>1</td>\n",
       "      <td>1</td>\n",
       "      <td>2661</td>\n",
       "      <td>15.25</td>\n",
       "      <td>NaN</td>\n",
       "      <td>C</td>\n",
       "      <td>EFG</td>\n",
       "      <td>Master</td>\n",
       "    </tr>\n",
       "    <tr>\n",
       "      <th>1135</th>\n",
       "      <td>1136</td>\n",
       "      <td>NaN</td>\n",
       "      <td>3</td>\n",
       "      <td>Johnston, Master. William Arthur Willie\"\"</td>\n",
       "      <td>male</td>\n",
       "      <td>NaN</td>\n",
       "      <td>1</td>\n",
       "      <td>2</td>\n",
       "      <td>W./C. 6607</td>\n",
       "      <td>23.45</td>\n",
       "      <td>NaN</td>\n",
       "      <td>S</td>\n",
       "      <td>EFG</td>\n",
       "      <td>Master</td>\n",
       "    </tr>\n",
       "    <tr>\n",
       "      <th>1230</th>\n",
       "      <td>1231</td>\n",
       "      <td>NaN</td>\n",
       "      <td>3</td>\n",
       "      <td>Betros, Master. Seman</td>\n",
       "      <td>male</td>\n",
       "      <td>NaN</td>\n",
       "      <td>0</td>\n",
       "      <td>0</td>\n",
       "      <td>2622</td>\n",
       "      <td>7.23</td>\n",
       "      <td>NaN</td>\n",
       "      <td>C</td>\n",
       "      <td>EFG</td>\n",
       "      <td>Master</td>\n",
       "    </tr>\n",
       "    <tr>\n",
       "      <th>1235</th>\n",
       "      <td>1236</td>\n",
       "      <td>NaN</td>\n",
       "      <td>3</td>\n",
       "      <td>van Billiard, Master. James William</td>\n",
       "      <td>male</td>\n",
       "      <td>NaN</td>\n",
       "      <td>1</td>\n",
       "      <td>1</td>\n",
       "      <td>A/5. 851</td>\n",
       "      <td>14.50</td>\n",
       "      <td>NaN</td>\n",
       "      <td>S</td>\n",
       "      <td>EFG</td>\n",
       "      <td>Master</td>\n",
       "    </tr>\n",
       "    <tr>\n",
       "      <th>1308</th>\n",
       "      <td>1309</td>\n",
       "      <td>NaN</td>\n",
       "      <td>3</td>\n",
       "      <td>Peter, Master. Michael J</td>\n",
       "      <td>male</td>\n",
       "      <td>NaN</td>\n",
       "      <td>1</td>\n",
       "      <td>1</td>\n",
       "      <td>2668</td>\n",
       "      <td>22.36</td>\n",
       "      <td>NaN</td>\n",
       "      <td>C</td>\n",
       "      <td>EFG</td>\n",
       "      <td>Master</td>\n",
       "    </tr>\n",
       "  </tbody>\n",
       "</table>\n",
       "</div>"
      ],
      "text/plain": [
       "      PassengerId  Survived  Pclass  \\\n",
       "65             66       1.0       3   \n",
       "159           160       0.0       3   \n",
       "176           177       0.0       3   \n",
       "709           710       1.0       3   \n",
       "1135         1136       NaN       3   \n",
       "1230         1231       NaN       3   \n",
       "1235         1236       NaN       3   \n",
       "1308         1309       NaN       3   \n",
       "\n",
       "                                                   Name   Sex  Age  SibSp  \\\n",
       "65                             Moubarek, Master. Gerios  male  NaN      1   \n",
       "159                          Sage, Master. Thomas Henry  male  NaN      8   \n",
       "176                       Lefebre, Master. Henry Forbes  male  NaN      3   \n",
       "709   Moubarek, Master. Halim Gonios (\"William George\")  male  NaN      1   \n",
       "1135          Johnston, Master. William Arthur Willie\"\"  male  NaN      1   \n",
       "1230                              Betros, Master. Seman  male  NaN      0   \n",
       "1235                van Billiard, Master. James William  male  NaN      1   \n",
       "1308                           Peter, Master. Michael J  male  NaN      1   \n",
       "\n",
       "      Parch      Ticket   Fare Cabin Embarked Deck   Title  \n",
       "65        1        2661  15.25   NaN        C  EFG  Master  \n",
       "159       2    CA. 2343  69.55   NaN        S  EFG  Master  \n",
       "176       1        4133  25.47   NaN        S  EFG  Master  \n",
       "709       1        2661  15.25   NaN        C  EFG  Master  \n",
       "1135      2  W./C. 6607  23.45   NaN        S  EFG  Master  \n",
       "1230      0        2622   7.23   NaN        C  EFG  Master  \n",
       "1235      1    A/5. 851  14.50   NaN        S  EFG  Master  \n",
       "1308      1        2668  22.36   NaN        C  EFG  Master  "
      ]
     },
     "execution_count": 101,
     "metadata": {},
     "output_type": "execute_result"
    }
   ],
   "source": [
    "# Verificando os registros que possuem o titulo 'Master' com a idade nula\n",
    "df_full.loc[(df_full['Title'] == 'Master') & (df_full['Age'].isnull())]"
   ]
  },
  {
   "cell_type": "markdown",
   "id": "f49586e9-9d97-4a21-8fec-f79789ec9f13",
   "metadata": {
    "tags": []
   },
   "source": [
    "- #### Todos os registros com idades nulas e titulo 'Master' são da 3 classe, portanto a média de idades é 6, e variam 4 anos para mais ou para menos"
   ]
  },
  {
   "cell_type": "code",
   "execution_count": 102,
   "id": "bf3ee4e8-b6c5-4236-a3ae-7d114463b08e",
   "metadata": {
    "tags": []
   },
   "outputs": [
    {
     "data": {
      "text/plain": [
       "22.185328947368422"
      ]
     },
     "execution_count": 102,
     "metadata": {},
     "output_type": "execute_result"
    }
   ],
   "source": [
    "# Pegando a media de idade da 3 classe e sexo feminino \n",
    "df_full[(df_full['Pclass'] == 3) & (df_full['Sex'] == 'female')]['Age'].mean()"
   ]
  },
  {
   "cell_type": "code",
   "execution_count": 103,
   "id": "67f525dc-894b-4939-9cf7-2f5d364dcff5",
   "metadata": {
    "tags": []
   },
   "outputs": [
    {
     "data": {
      "text/html": [
       "<div>\n",
       "<style scoped>\n",
       "    .dataframe tbody tr th:only-of-type {\n",
       "        vertical-align: middle;\n",
       "    }\n",
       "\n",
       "    .dataframe tbody tr th {\n",
       "        vertical-align: top;\n",
       "    }\n",
       "\n",
       "    .dataframe thead th {\n",
       "        text-align: right;\n",
       "    }\n",
       "</style>\n",
       "<table border=\"1\" class=\"dataframe\">\n",
       "  <thead>\n",
       "    <tr style=\"text-align: right;\">\n",
       "      <th></th>\n",
       "      <th>PassengerId</th>\n",
       "      <th>Survived</th>\n",
       "      <th>Pclass</th>\n",
       "      <th>Name</th>\n",
       "      <th>Sex</th>\n",
       "      <th>Age</th>\n",
       "      <th>SibSp</th>\n",
       "      <th>Parch</th>\n",
       "      <th>Ticket</th>\n",
       "      <th>Fare</th>\n",
       "      <th>Cabin</th>\n",
       "      <th>Embarked</th>\n",
       "      <th>Deck</th>\n",
       "      <th>Title</th>\n",
       "    </tr>\n",
       "  </thead>\n",
       "  <tbody>\n",
       "    <tr>\n",
       "      <th>5</th>\n",
       "      <td>6</td>\n",
       "      <td>0.0</td>\n",
       "      <td>3</td>\n",
       "      <td>Moran, Mr. James</td>\n",
       "      <td>male</td>\n",
       "      <td>NaN</td>\n",
       "      <td>0</td>\n",
       "      <td>0</td>\n",
       "      <td>330877</td>\n",
       "      <td>8.46</td>\n",
       "      <td>NaN</td>\n",
       "      <td>Q</td>\n",
       "      <td>EFG</td>\n",
       "      <td>Mr</td>\n",
       "    </tr>\n",
       "    <tr>\n",
       "      <th>17</th>\n",
       "      <td>18</td>\n",
       "      <td>1.0</td>\n",
       "      <td>2</td>\n",
       "      <td>Williams, Mr. Charles Eugene</td>\n",
       "      <td>male</td>\n",
       "      <td>NaN</td>\n",
       "      <td>0</td>\n",
       "      <td>0</td>\n",
       "      <td>244373</td>\n",
       "      <td>13.00</td>\n",
       "      <td>NaN</td>\n",
       "      <td>S</td>\n",
       "      <td>DEF</td>\n",
       "      <td>Mr</td>\n",
       "    </tr>\n",
       "    <tr>\n",
       "      <th>26</th>\n",
       "      <td>27</td>\n",
       "      <td>0.0</td>\n",
       "      <td>3</td>\n",
       "      <td>Emir, Mr. Farred Chehab</td>\n",
       "      <td>male</td>\n",
       "      <td>NaN</td>\n",
       "      <td>0</td>\n",
       "      <td>0</td>\n",
       "      <td>2631</td>\n",
       "      <td>7.22</td>\n",
       "      <td>NaN</td>\n",
       "      <td>C</td>\n",
       "      <td>EFG</td>\n",
       "      <td>Mr</td>\n",
       "    </tr>\n",
       "    <tr>\n",
       "      <th>29</th>\n",
       "      <td>30</td>\n",
       "      <td>0.0</td>\n",
       "      <td>3</td>\n",
       "      <td>Todoroff, Mr. Lalio</td>\n",
       "      <td>male</td>\n",
       "      <td>NaN</td>\n",
       "      <td>0</td>\n",
       "      <td>0</td>\n",
       "      <td>349216</td>\n",
       "      <td>7.90</td>\n",
       "      <td>NaN</td>\n",
       "      <td>S</td>\n",
       "      <td>EFG</td>\n",
       "      <td>Mr</td>\n",
       "    </tr>\n",
       "    <tr>\n",
       "      <th>36</th>\n",
       "      <td>37</td>\n",
       "      <td>1.0</td>\n",
       "      <td>3</td>\n",
       "      <td>Mamee, Mr. Hanna</td>\n",
       "      <td>male</td>\n",
       "      <td>NaN</td>\n",
       "      <td>0</td>\n",
       "      <td>0</td>\n",
       "      <td>2677</td>\n",
       "      <td>7.23</td>\n",
       "      <td>NaN</td>\n",
       "      <td>C</td>\n",
       "      <td>EFG</td>\n",
       "      <td>Mr</td>\n",
       "    </tr>\n",
       "    <tr>\n",
       "      <th>...</th>\n",
       "      <td>...</td>\n",
       "      <td>...</td>\n",
       "      <td>...</td>\n",
       "      <td>...</td>\n",
       "      <td>...</td>\n",
       "      <td>...</td>\n",
       "      <td>...</td>\n",
       "      <td>...</td>\n",
       "      <td>...</td>\n",
       "      <td>...</td>\n",
       "      <td>...</td>\n",
       "      <td>...</td>\n",
       "      <td>...</td>\n",
       "      <td>...</td>\n",
       "    </tr>\n",
       "    <tr>\n",
       "      <th>1257</th>\n",
       "      <td>1258</td>\n",
       "      <td>NaN</td>\n",
       "      <td>3</td>\n",
       "      <td>Caram, Mr. Joseph</td>\n",
       "      <td>male</td>\n",
       "      <td>NaN</td>\n",
       "      <td>1</td>\n",
       "      <td>0</td>\n",
       "      <td>2689</td>\n",
       "      <td>14.46</td>\n",
       "      <td>NaN</td>\n",
       "      <td>C</td>\n",
       "      <td>EFG</td>\n",
       "      <td>Mr</td>\n",
       "    </tr>\n",
       "    <tr>\n",
       "      <th>1271</th>\n",
       "      <td>1272</td>\n",
       "      <td>NaN</td>\n",
       "      <td>3</td>\n",
       "      <td>O'Connor, Mr. Patrick</td>\n",
       "      <td>male</td>\n",
       "      <td>NaN</td>\n",
       "      <td>0</td>\n",
       "      <td>0</td>\n",
       "      <td>366713</td>\n",
       "      <td>7.75</td>\n",
       "      <td>NaN</td>\n",
       "      <td>Q</td>\n",
       "      <td>EFG</td>\n",
       "      <td>Mr</td>\n",
       "    </tr>\n",
       "    <tr>\n",
       "      <th>1275</th>\n",
       "      <td>1276</td>\n",
       "      <td>NaN</td>\n",
       "      <td>2</td>\n",
       "      <td>Wheeler, Mr. Edwin Frederick\"\"</td>\n",
       "      <td>male</td>\n",
       "      <td>NaN</td>\n",
       "      <td>0</td>\n",
       "      <td>0</td>\n",
       "      <td>SC/PARIS 2159</td>\n",
       "      <td>12.88</td>\n",
       "      <td>NaN</td>\n",
       "      <td>S</td>\n",
       "      <td>DEF</td>\n",
       "      <td>Mr</td>\n",
       "    </tr>\n",
       "    <tr>\n",
       "      <th>1304</th>\n",
       "      <td>1305</td>\n",
       "      <td>NaN</td>\n",
       "      <td>3</td>\n",
       "      <td>Spector, Mr. Woolf</td>\n",
       "      <td>male</td>\n",
       "      <td>NaN</td>\n",
       "      <td>0</td>\n",
       "      <td>0</td>\n",
       "      <td>A.5. 3236</td>\n",
       "      <td>8.05</td>\n",
       "      <td>NaN</td>\n",
       "      <td>S</td>\n",
       "      <td>EFG</td>\n",
       "      <td>Mr</td>\n",
       "    </tr>\n",
       "    <tr>\n",
       "      <th>1307</th>\n",
       "      <td>1308</td>\n",
       "      <td>NaN</td>\n",
       "      <td>3</td>\n",
       "      <td>Ware, Mr. Frederick</td>\n",
       "      <td>male</td>\n",
       "      <td>NaN</td>\n",
       "      <td>0</td>\n",
       "      <td>0</td>\n",
       "      <td>359309</td>\n",
       "      <td>8.05</td>\n",
       "      <td>NaN</td>\n",
       "      <td>S</td>\n",
       "      <td>EFG</td>\n",
       "      <td>Mr</td>\n",
       "    </tr>\n",
       "  </tbody>\n",
       "</table>\n",
       "<p>176 rows × 14 columns</p>\n",
       "</div>"
      ],
      "text/plain": [
       "      PassengerId  Survived  Pclass                            Name   Sex  \\\n",
       "5               6       0.0       3                Moran, Mr. James  male   \n",
       "17             18       1.0       2    Williams, Mr. Charles Eugene  male   \n",
       "26             27       0.0       3         Emir, Mr. Farred Chehab  male   \n",
       "29             30       0.0       3             Todoroff, Mr. Lalio  male   \n",
       "36             37       1.0       3                Mamee, Mr. Hanna  male   \n",
       "...           ...       ...     ...                             ...   ...   \n",
       "1257         1258       NaN       3               Caram, Mr. Joseph  male   \n",
       "1271         1272       NaN       3           O'Connor, Mr. Patrick  male   \n",
       "1275         1276       NaN       2  Wheeler, Mr. Edwin Frederick\"\"  male   \n",
       "1304         1305       NaN       3              Spector, Mr. Woolf  male   \n",
       "1307         1308       NaN       3             Ware, Mr. Frederick  male   \n",
       "\n",
       "      Age  SibSp  Parch         Ticket   Fare Cabin Embarked Deck Title  \n",
       "5     NaN      0      0         330877   8.46   NaN        Q  EFG    Mr  \n",
       "17    NaN      0      0         244373  13.00   NaN        S  DEF    Mr  \n",
       "26    NaN      0      0           2631   7.22   NaN        C  EFG    Mr  \n",
       "29    NaN      0      0         349216   7.90   NaN        S  EFG    Mr  \n",
       "36    NaN      0      0           2677   7.23   NaN        C  EFG    Mr  \n",
       "...   ...    ...    ...            ...    ...   ...      ...  ...   ...  \n",
       "1257  NaN      1      0           2689  14.46   NaN        C  EFG    Mr  \n",
       "1271  NaN      0      0         366713   7.75   NaN        Q  EFG    Mr  \n",
       "1275  NaN      0      0  SC/PARIS 2159  12.88   NaN        S  DEF    Mr  \n",
       "1304  NaN      0      0      A.5. 3236   8.05   NaN        S  EFG    Mr  \n",
       "1307  NaN      0      0         359309   8.05   NaN        S  EFG    Mr  \n",
       "\n",
       "[176 rows x 14 columns]"
      ]
     },
     "execution_count": 103,
     "metadata": {},
     "output_type": "execute_result"
    }
   ],
   "source": [
    "# Verificando os registros que possuem o titulo 'Mr' com a idade nula\n",
    "df_full.loc[(df_full['Title'] == 'Mr') & (df_full['Age'].isnull())]"
   ]
  },
  {
   "cell_type": "code",
   "execution_count": 104,
   "id": "8ad4bf97-392e-42ff-8d79-28306d06f5d9",
   "metadata": {
    "tags": []
   },
   "outputs": [
    {
     "data": {
      "text/plain": [
       "count    312.000000\n",
       "mean      28.318910\n",
       "std        9.907858\n",
       "min       11.000000\n",
       "25%       21.000000\n",
       "50%       26.000000\n",
       "75%       33.000000\n",
       "max       74.000000\n",
       "Name: Age, dtype: float64"
      ]
     },
     "execution_count": 104,
     "metadata": {},
     "output_type": "execute_result"
    }
   ],
   "source": [
    "# Registros com titulo Mrs e que são da 3 classe:\n",
    "# Media: 28\n",
    "# Desvio padrão: 9\n",
    "df_full[(df_full['Pclass'] == 3) & (df_full['Title'] == 'Mr')]['Age'].describe()"
   ]
  },
  {
   "cell_type": "code",
   "execution_count": 105,
   "id": "7e304087-e5ac-4d8a-80f3-8f2498e24309",
   "metadata": {
    "tags": []
   },
   "outputs": [
    {
     "data": {
      "text/plain": [
       "count    137.000000\n",
       "mean      32.346715\n",
       "std       11.862038\n",
       "min       14.000000\n",
       "25%       24.000000\n",
       "50%       30.000000\n",
       "75%       38.000000\n",
       "max       70.000000\n",
       "Name: Age, dtype: float64"
      ]
     },
     "execution_count": 105,
     "metadata": {},
     "output_type": "execute_result"
    }
   ],
   "source": [
    "# Registros com titulo Mrs e que são da 2 classe:\n",
    "# Media: 32\n",
    "# Desvio padrão: 12\n",
    "df_full[(df_full['Pclass'] == 2) & (df_full['Title'] == 'Mr')]['Age'].describe()"
   ]
  },
  {
   "cell_type": "code",
   "execution_count": 106,
   "id": "0b354582-6149-41d0-8994-8525dda642fe",
   "metadata": {
    "tags": []
   },
   "outputs": [
    {
     "data": {
      "text/plain": [
       "count    132.000000\n",
       "mean      41.450758\n",
       "std       13.489020\n",
       "min       17.000000\n",
       "25%       30.000000\n",
       "50%       41.500000\n",
       "75%       50.000000\n",
       "max       80.000000\n",
       "Name: Age, dtype: float64"
      ]
     },
     "execution_count": 106,
     "metadata": {},
     "output_type": "execute_result"
    }
   ],
   "source": [
    "# Registros com titulo Mrs e que são da 2 classe:\n",
    "# Media: 42\n",
    "# Desvio padrão: 13\n",
    "df_full[(df_full['Pclass'] == 1) & (df_full['Title'] == 'Mr')]['Age'].describe()"
   ]
  },
  {
   "cell_type": "markdown",
   "id": "9bc353ca",
   "metadata": {},
   "source": [
    "# Data Cleaning"
   ]
  },
  {
   "cell_type": "code",
   "execution_count": 107,
   "id": "f0235b18-d310-4354-b38c-f31c62cff39d",
   "metadata": {
    "tags": []
   },
   "outputs": [],
   "source": [
    "# Função para preencher os dados nulos na coluna Age\n",
    "# 4 valores já foram preenchidos manualmente\n",
    "from random import randint\n",
    "\n",
    "def preencher_nulos(row):\n",
    "    if pd.isnull(row['Age']):\n",
    "        if row['Title'] == 'Mr':\n",
    "            if row['Pclass'] == 3:\n",
    "                return randint(25, 26)\n",
    "            elif row['Pclass'] == 2:\n",
    "                return randint(29, 30)\n",
    "            elif row['Pclass'] == 1:\n",
    "                return randint(41, 42)\n",
    "        elif row['Title'] == 'Miss/Mrs/Ms':\n",
    "            if row['Pclass'] == 3:\n",
    "                return 22\n",
    "            elif row['Pclass'] == 2:\n",
    "                return 28\n",
    "            elif row['Pclass'] == 1:\n",
    "                return randint(35, 36)\n",
    "        elif row['Title'] == 'Master':\n",
    "            return 6\n",
    "        elif row['Title'] == 'Dr/Military/Noble/Clergy':\n",
    "            if row['Pclass'] == 2:\n",
    "                return 41\n",
    "            if row['Pclass'] == 1:\n",
    "                return 49\n",
    "    else:\n",
    "        return row['Age']"
   ]
  },
  {
   "cell_type": "code",
   "execution_count": 108,
   "id": "3d1b49c0-8758-4a64-b4c5-e1166a7cee5c",
   "metadata": {
    "tags": []
   },
   "outputs": [],
   "source": [
    "df_full['Age'] = df_full.apply(preencher_nulos, axis=1)"
   ]
  },
  {
   "cell_type": "code",
   "execution_count": 109,
   "id": "243814e8-b06f-401d-b1ac-baddabc56b73",
   "metadata": {
    "tags": []
   },
   "outputs": [
    {
     "name": "stdout",
     "output_type": "stream",
     "text": [
      "Quantidade de valores únicos: 98\n",
      "\n",
      "Quais são os valores únicos: 22.0, 38.0, 26.0, 35.0, 25.0, 54.0, 2.0, 27.0, 14.0, 4.0, 58.0, 20.0, 39.0, 55.0, 29.0, 31.0, 34.0, 15.0, 28.0, 8.0, 19.0, 40.0, 36.0, 66.0, 42.0, 21.0, 18.0, 3.0, 7.0, 49.0, 65.0, 41.0, 28.5, 5.0, 11.0, 45.0, 6.0, 17.0, 32.0, 16.0, 0.83, 30.0, 33.0, 23.0, 24.0, 46.0, 59.0, 71.0, 37.0, 47.0, 14.5, 70.5, 32.5, 12.0, 9.0, 36.5, 51.0, 55.5, 40.5, 44.0, 1.0, 61.0, 56.0, 50.0, 45.5, 20.5, 62.0, 52.0, 63.0, 23.5, 0.92, 43.0, 60.0, 10.0, 64.0, 13.0, 48.0, 0.75, 53.0, 57.0, 80.0, 70.0, 24.5, 0.67, 30.5, 0.42, 34.5, 74.0, 22.5, 18.5, 67.0, 76.0, 26.5, 60.5, 11.5, 0.33, 0.17, 38.5\n",
      "\n",
      "Quantidade de valores nulos: 0\n",
      "\n",
      "Quantidade por valor: \n",
      "Age\n",
      "22.00    107\n",
      "26.00    100\n",
      "25.00    100\n",
      "24.00     47\n",
      "30.00     46\n",
      "        ... \n",
      "20.50      1\n",
      "0.67       1\n",
      "24.50      1\n",
      "70.50      1\n",
      "38.50      1\n",
      "Name: count, Length: 98, dtype: int64\n"
     ]
    },
    {
     "data": {
      "image/png": "[encoded data removed]",
      "text/plain": [
       "<Figure size 500x500 with 1 Axes>"
      ]
     },
     "metadata": {},
     "output_type": "display_data"
    }
   ],
   "source": [
    "check_feature(df_full, 'Age')"
   ]
  },
  {
   "cell_type": "code",
   "execution_count": 110,
   "id": "e223b9e1-fe06-49f7-bac6-3db19d3cbee0",
   "metadata": {
    "tags": []
   },
   "outputs": [],
   "source": [
    "# Transformando a idade em um numero inteiro\n",
    "df_full['Age'] = df_full['Age'].astype('int64')"
   ]
  },
  {
   "cell_type": "code",
   "execution_count": 111,
   "id": "9905f117-090b-4ca0-af5e-0fd5a3be3514",
   "metadata": {
    "tags": []
   },
   "outputs": [
    {
     "name": "stdout",
     "output_type": "stream",
     "text": [
      "Age\n",
      "0      12\n",
      "1      10\n",
      "2      12\n",
      "3       7\n",
      "4      10\n",
      "5       5\n",
      "6      14\n",
      "7       4\n",
      "8       6\n",
      "9      10\n",
      "10      4\n",
      "11      5\n",
      "12      3\n",
      "13      5\n",
      "14     10\n",
      "15      6\n",
      "16     19\n",
      "17     20\n",
      "18     42\n",
      "19     29\n",
      "20     24\n",
      "21     41\n",
      "22    108\n",
      "23     27\n",
      "24     48\n",
      "25    100\n",
      "26    101\n",
      "27     30\n",
      "28     38\n",
      "29     37\n",
      "30     48\n",
      "31     23\n",
      "32     28\n",
      "33     21\n",
      "34     18\n",
      "35     27\n",
      "36     40\n",
      "37      9\n",
      "38     15\n",
      "39     20\n",
      "40     21\n",
      "41     26\n",
      "42     30\n",
      "43      9\n",
      "44     10\n",
      "45     23\n",
      "46      6\n",
      "47     14\n",
      "48     14\n",
      "49     10\n",
      "50     15\n",
      "51      8\n",
      "52      6\n",
      "53      4\n",
      "54     10\n",
      "55      9\n",
      "56      4\n",
      "57      5\n",
      "58      6\n",
      "59      3\n",
      "60      8\n",
      "61      5\n",
      "62      5\n",
      "63      4\n",
      "64      5\n",
      "65      3\n",
      "66      1\n",
      "67      1\n",
      "70      3\n",
      "71      2\n",
      "74      1\n",
      "76      1\n",
      "80      1\n",
      "Name: count, dtype: int64\n"
     ]
    }
   ],
   "source": [
    "# Configurando o Pandas para exibir o output completo, somente nesse codigo\n",
    "# Para vermos como ficou a distribuição das idades\n",
    "with pd.option_context('display.max_rows', None):\n",
    "    print(df_full['Age'].value_counts().sort_index())"
   ]
  },
  {
   "cell_type": "code",
   "execution_count": 112,
   "id": "21acc388-1439-4110-a007-e4515c9fc121",
   "metadata": {
    "tags": []
   },
   "outputs": [
    {
     "name": "stdout",
     "output_type": "stream",
     "text": [
      "Quantidade de valores únicos: 73\n",
      "\n",
      "Quais são os valores únicos: 22, 38, 26, 35, 25, 54, 2, 27, 14, 4, 58, 20, 39, 55, 29, 31, 34, 15, 28, 8, 19, 40, 36, 66, 42, 21, 18, 3, 7, 49, 65, 41, 5, 11, 45, 6, 17, 32, 16, 0, 30, 33, 23, 24, 46, 59, 71, 37, 47, 70, 12, 9, 51, 44, 1, 61, 56, 50, 62, 52, 63, 43, 60, 10, 64, 13, 48, 53, 57, 80, 74, 67, 76\n",
      "\n",
      "Quantidade de valores nulos: 0\n",
      "\n",
      "Quantidade por valor: \n",
      "Age\n",
      "22    108\n",
      "26    101\n",
      "25    100\n",
      "24     48\n",
      "30     48\n",
      "     ... \n",
      "74      1\n",
      "67      1\n",
      "66      1\n",
      "80      1\n",
      "76      1\n",
      "Name: count, Length: 73, dtype: int64\n"
     ]
    },
    {
     "data": {
      "image/png": "[encoded data removed]",
      "text/plain": [
       "<Figure size 500x500 with 1 Axes>"
      ]
     },
     "metadata": {},
     "output_type": "display_data"
    }
   ],
   "source": [
    "check_feature(df_full, 'Age')"
   ]
  },
  {
   "cell_type": "code",
   "execution_count": 113,
   "id": "868074c5-6d75-4e4c-ac8f-bbd7715e277f",
   "metadata": {
    "tags": []
   },
   "outputs": [
    {
     "data": {
      "text/html": [
       "<div>\n",
       "<style scoped>\n",
       "    .dataframe tbody tr th:only-of-type {\n",
       "        vertical-align: middle;\n",
       "    }\n",
       "\n",
       "    .dataframe tbody tr th {\n",
       "        vertical-align: top;\n",
       "    }\n",
       "\n",
       "    .dataframe thead th {\n",
       "        text-align: right;\n",
       "    }\n",
       "</style>\n",
       "<table border=\"1\" class=\"dataframe\">\n",
       "  <thead>\n",
       "    <tr style=\"text-align: right;\">\n",
       "      <th></th>\n",
       "      <th>Survived</th>\n",
       "      <th>Pclass</th>\n",
       "      <th>Sex</th>\n",
       "      <th>SibSp</th>\n",
       "      <th>Parch</th>\n",
       "      <th>Fare</th>\n",
       "      <th>Embarked</th>\n",
       "      <th>Deck</th>\n",
       "      <th>Title</th>\n",
       "      <th>Age</th>\n",
       "    </tr>\n",
       "  </thead>\n",
       "  <tbody>\n",
       "    <tr>\n",
       "      <th>0</th>\n",
       "      <td>0.0</td>\n",
       "      <td>3</td>\n",
       "      <td>male</td>\n",
       "      <td>1</td>\n",
       "      <td>0</td>\n",
       "      <td>7.25</td>\n",
       "      <td>S</td>\n",
       "      <td>EFG</td>\n",
       "      <td>Mr</td>\n",
       "      <td>22</td>\n",
       "    </tr>\n",
       "    <tr>\n",
       "      <th>1</th>\n",
       "      <td>1.0</td>\n",
       "      <td>1</td>\n",
       "      <td>female</td>\n",
       "      <td>1</td>\n",
       "      <td>0</td>\n",
       "      <td>71.28</td>\n",
       "      <td>C</td>\n",
       "      <td>ABCDE</td>\n",
       "      <td>Miss/Mrs/Ms</td>\n",
       "      <td>38</td>\n",
       "    </tr>\n",
       "    <tr>\n",
       "      <th>2</th>\n",
       "      <td>1.0</td>\n",
       "      <td>3</td>\n",
       "      <td>female</td>\n",
       "      <td>0</td>\n",
       "      <td>0</td>\n",
       "      <td>7.92</td>\n",
       "      <td>S</td>\n",
       "      <td>EFG</td>\n",
       "      <td>Miss/Mrs/Ms</td>\n",
       "      <td>26</td>\n",
       "    </tr>\n",
       "    <tr>\n",
       "      <th>3</th>\n",
       "      <td>1.0</td>\n",
       "      <td>1</td>\n",
       "      <td>female</td>\n",
       "      <td>1</td>\n",
       "      <td>0</td>\n",
       "      <td>53.10</td>\n",
       "      <td>S</td>\n",
       "      <td>ABCDE</td>\n",
       "      <td>Miss/Mrs/Ms</td>\n",
       "      <td>35</td>\n",
       "    </tr>\n",
       "    <tr>\n",
       "      <th>4</th>\n",
       "      <td>0.0</td>\n",
       "      <td>3</td>\n",
       "      <td>male</td>\n",
       "      <td>0</td>\n",
       "      <td>0</td>\n",
       "      <td>8.05</td>\n",
       "      <td>S</td>\n",
       "      <td>EFG</td>\n",
       "      <td>Mr</td>\n",
       "      <td>35</td>\n",
       "    </tr>\n",
       "  </tbody>\n",
       "</table>\n",
       "</div>"
      ],
      "text/plain": [
       "   Survived  Pclass     Sex  SibSp  Parch   Fare Embarked   Deck        Title  \\\n",
       "0       0.0       3    male      1      0   7.25        S    EFG           Mr   \n",
       "1       1.0       1  female      1      0  71.28        C  ABCDE  Miss/Mrs/Ms   \n",
       "2       1.0       3  female      0      0   7.92        S    EFG  Miss/Mrs/Ms   \n",
       "3       1.0       1  female      1      0  53.10        S  ABCDE  Miss/Mrs/Ms   \n",
       "4       0.0       3    male      0      0   8.05        S    EFG           Mr   \n",
       "\n",
       "   Age  \n",
       "0   22  \n",
       "1   38  \n",
       "2   26  \n",
       "3   35  \n",
       "4   35  "
      ]
     },
     "execution_count": 113,
     "metadata": {},
     "output_type": "execute_result"
    }
   ],
   "source": [
    "df['Age'] = df_full['Age']\n",
    "df.head()"
   ]
  },
  {
   "cell_type": "markdown",
   "id": "7b134db8",
   "metadata": {},
   "source": [
    "# Relatives\n",
    "#### Entendendo a coluna Relatives\n",
    "- **Relatives**: Contagem de membros da famila a bordo do Titanic\n",
    "    - Iremos criar essa feature pois o numero de familiares a bordo influencia na taxa de sobrevivencia"
   ]
  },
  {
   "cell_type": "code",
   "execution_count": 114,
   "id": "4e994e80",
   "metadata": {},
   "outputs": [
    {
     "data": {
      "image/png": "[encoded data removed]",
      "text/plain": [
       "<Figure size 640x480 with 1 Axes>"
      ]
     },
     "metadata": {},
     "output_type": "display_data"
    }
   ],
   "source": [
    "# Criando a feature 'Relatives'\n",
    "df_full['Relatives'] = df_full['SibSp'] + df_full['Parch']\n",
    "\n",
    "# Plotar o gráfico de barras da taxa de sobrevivência em relação ao tamanho da família\n",
    "sns.barplot(x='Relatives', y='Survived', data=df_full, hue='Relatives', palette='pastel', legend=False)\n",
    "plt.title('Taxa de sobrevivência por tamanho da família')\n",
    "plt.xlabel('Número de membros da família')\n",
    "plt.ylabel('Taxa de sobrevivência')\n",
    "plt.show()"
   ]
  },
  {
   "cell_type": "markdown",
   "id": "67d8b22b",
   "metadata": {},
   "source": [
    "- #### Como podemos ver, dependendo da quantidade de familiares que estão a bordo pode influenciar na sobrevivencia do passageiro\n",
    "- #### A maior taxa de sobrevivencia é quando o passageiro possui 3 familiares, seguido de 2 e 1. Porém quando o tamanho da familia passa de 4 as taxas caem drasticamente"
   ]
  },
  {
   "cell_type": "code",
   "execution_count": 115,
   "id": "806dd1e4",
   "metadata": {},
   "outputs": [
    {
     "data": {
      "text/html": [
       "<div>\n",
       "<style scoped>\n",
       "    .dataframe tbody tr th:only-of-type {\n",
       "        vertical-align: middle;\n",
       "    }\n",
       "\n",
       "    .dataframe tbody tr th {\n",
       "        vertical-align: top;\n",
       "    }\n",
       "\n",
       "    .dataframe thead th {\n",
       "        text-align: right;\n",
       "    }\n",
       "</style>\n",
       "<table border=\"1\" class=\"dataframe\">\n",
       "  <thead>\n",
       "    <tr style=\"text-align: right;\">\n",
       "      <th></th>\n",
       "      <th>Survived</th>\n",
       "      <th>Pclass</th>\n",
       "      <th>Sex</th>\n",
       "      <th>SibSp</th>\n",
       "      <th>Parch</th>\n",
       "      <th>Fare</th>\n",
       "      <th>Embarked</th>\n",
       "      <th>Deck</th>\n",
       "      <th>Title</th>\n",
       "      <th>Age</th>\n",
       "      <th>Relatives</th>\n",
       "    </tr>\n",
       "  </thead>\n",
       "  <tbody>\n",
       "    <tr>\n",
       "      <th>0</th>\n",
       "      <td>0.0</td>\n",
       "      <td>3</td>\n",
       "      <td>male</td>\n",
       "      <td>1</td>\n",
       "      <td>0</td>\n",
       "      <td>7.25</td>\n",
       "      <td>S</td>\n",
       "      <td>EFG</td>\n",
       "      <td>Mr</td>\n",
       "      <td>22</td>\n",
       "      <td>1</td>\n",
       "    </tr>\n",
       "    <tr>\n",
       "      <th>1</th>\n",
       "      <td>1.0</td>\n",
       "      <td>1</td>\n",
       "      <td>female</td>\n",
       "      <td>1</td>\n",
       "      <td>0</td>\n",
       "      <td>71.28</td>\n",
       "      <td>C</td>\n",
       "      <td>ABCDE</td>\n",
       "      <td>Miss/Mrs/Ms</td>\n",
       "      <td>38</td>\n",
       "      <td>1</td>\n",
       "    </tr>\n",
       "    <tr>\n",
       "      <th>2</th>\n",
       "      <td>1.0</td>\n",
       "      <td>3</td>\n",
       "      <td>female</td>\n",
       "      <td>0</td>\n",
       "      <td>0</td>\n",
       "      <td>7.92</td>\n",
       "      <td>S</td>\n",
       "      <td>EFG</td>\n",
       "      <td>Miss/Mrs/Ms</td>\n",
       "      <td>26</td>\n",
       "      <td>0</td>\n",
       "    </tr>\n",
       "    <tr>\n",
       "      <th>3</th>\n",
       "      <td>1.0</td>\n",
       "      <td>1</td>\n",
       "      <td>female</td>\n",
       "      <td>1</td>\n",
       "      <td>0</td>\n",
       "      <td>53.10</td>\n",
       "      <td>S</td>\n",
       "      <td>ABCDE</td>\n",
       "      <td>Miss/Mrs/Ms</td>\n",
       "      <td>35</td>\n",
       "      <td>1</td>\n",
       "    </tr>\n",
       "    <tr>\n",
       "      <th>4</th>\n",
       "      <td>0.0</td>\n",
       "      <td>3</td>\n",
       "      <td>male</td>\n",
       "      <td>0</td>\n",
       "      <td>0</td>\n",
       "      <td>8.05</td>\n",
       "      <td>S</td>\n",
       "      <td>EFG</td>\n",
       "      <td>Mr</td>\n",
       "      <td>35</td>\n",
       "      <td>0</td>\n",
       "    </tr>\n",
       "  </tbody>\n",
       "</table>\n",
       "</div>"
      ],
      "text/plain": [
       "   Survived  Pclass     Sex  SibSp  Parch   Fare Embarked   Deck        Title  \\\n",
       "0       0.0       3    male      1      0   7.25        S    EFG           Mr   \n",
       "1       1.0       1  female      1      0  71.28        C  ABCDE  Miss/Mrs/Ms   \n",
       "2       1.0       3  female      0      0   7.92        S    EFG  Miss/Mrs/Ms   \n",
       "3       1.0       1  female      1      0  53.10        S  ABCDE  Miss/Mrs/Ms   \n",
       "4       0.0       3    male      0      0   8.05        S    EFG           Mr   \n",
       "\n",
       "   Age  Relatives  \n",
       "0   22          1  \n",
       "1   38          1  \n",
       "2   26          0  \n",
       "3   35          1  \n",
       "4   35          0  "
      ]
     },
     "execution_count": 115,
     "metadata": {},
     "output_type": "execute_result"
    }
   ],
   "source": [
    "# Adicionando a feature Relatives no DF novo\n",
    "df['Relatives'] = df_full['SibSp'] + df_full['Parch']\n",
    "df.head()"
   ]
  },
  {
   "cell_type": "markdown",
   "id": "c60fca2f",
   "metadata": {},
   "source": [
    "# Alone\n",
    "#### Entendendo a coluna Alone\n",
    "- **Alone**: Numero binario, se o passageiro possui ao menos 1 membro da familia á bordo do Titanic\n",
    "    - Para passageiros sozinhos é atribuido o valor 1\n",
    "    - Para casos com um membro ou mais é atribuido o valor 0"
   ]
  },
  {
   "cell_type": "code",
   "execution_count": 116,
   "id": "2f30e8e0",
   "metadata": {},
   "outputs": [],
   "source": [
    "# Criando uma função para verificar se os dois valores são vazios (0)\n",
    "def alone(a, b):\n",
    "    if a == 0 and b == 0:\n",
    "        return 1\n",
    "    else:\n",
    "        return 0"
   ]
  },
  {
   "cell_type": "code",
   "execution_count": 117,
   "id": "cfad4e28",
   "metadata": {},
   "outputs": [],
   "source": [
    "# Aplicando essa função no DataFrame\n",
    "df_full['Alone'] = df_full.apply(lambda x: alone(x.SibSp,x.Parch),axis=1)"
   ]
  },
  {
   "cell_type": "code",
   "execution_count": 118,
   "id": "aace5036",
   "metadata": {},
   "outputs": [
    {
     "data": {
      "text/html": [
       "<div>\n",
       "<style scoped>\n",
       "    .dataframe tbody tr th:only-of-type {\n",
       "        vertical-align: middle;\n",
       "    }\n",
       "\n",
       "    .dataframe tbody tr th {\n",
       "        vertical-align: top;\n",
       "    }\n",
       "\n",
       "    .dataframe thead th {\n",
       "        text-align: right;\n",
       "    }\n",
       "</style>\n",
       "<table border=\"1\" class=\"dataframe\">\n",
       "  <thead>\n",
       "    <tr style=\"text-align: right;\">\n",
       "      <th></th>\n",
       "      <th>Survived</th>\n",
       "      <th>Pclass</th>\n",
       "      <th>Sex</th>\n",
       "      <th>SibSp</th>\n",
       "      <th>Parch</th>\n",
       "      <th>Fare</th>\n",
       "      <th>Embarked</th>\n",
       "      <th>Deck</th>\n",
       "      <th>Title</th>\n",
       "      <th>Age</th>\n",
       "      <th>Relatives</th>\n",
       "      <th>Alone</th>\n",
       "    </tr>\n",
       "  </thead>\n",
       "  <tbody>\n",
       "    <tr>\n",
       "      <th>0</th>\n",
       "      <td>0.0</td>\n",
       "      <td>3</td>\n",
       "      <td>male</td>\n",
       "      <td>1</td>\n",
       "      <td>0</td>\n",
       "      <td>7.25</td>\n",
       "      <td>S</td>\n",
       "      <td>EFG</td>\n",
       "      <td>Mr</td>\n",
       "      <td>22</td>\n",
       "      <td>1</td>\n",
       "      <td>0</td>\n",
       "    </tr>\n",
       "    <tr>\n",
       "      <th>1</th>\n",
       "      <td>1.0</td>\n",
       "      <td>1</td>\n",
       "      <td>female</td>\n",
       "      <td>1</td>\n",
       "      <td>0</td>\n",
       "      <td>71.28</td>\n",
       "      <td>C</td>\n",
       "      <td>ABCDE</td>\n",
       "      <td>Miss/Mrs/Ms</td>\n",
       "      <td>38</td>\n",
       "      <td>1</td>\n",
       "      <td>0</td>\n",
       "    </tr>\n",
       "    <tr>\n",
       "      <th>2</th>\n",
       "      <td>1.0</td>\n",
       "      <td>3</td>\n",
       "      <td>female</td>\n",
       "      <td>0</td>\n",
       "      <td>0</td>\n",
       "      <td>7.92</td>\n",
       "      <td>S</td>\n",
       "      <td>EFG</td>\n",
       "      <td>Miss/Mrs/Ms</td>\n",
       "      <td>26</td>\n",
       "      <td>0</td>\n",
       "      <td>1</td>\n",
       "    </tr>\n",
       "    <tr>\n",
       "      <th>3</th>\n",
       "      <td>1.0</td>\n",
       "      <td>1</td>\n",
       "      <td>female</td>\n",
       "      <td>1</td>\n",
       "      <td>0</td>\n",
       "      <td>53.10</td>\n",
       "      <td>S</td>\n",
       "      <td>ABCDE</td>\n",
       "      <td>Miss/Mrs/Ms</td>\n",
       "      <td>35</td>\n",
       "      <td>1</td>\n",
       "      <td>0</td>\n",
       "    </tr>\n",
       "    <tr>\n",
       "      <th>4</th>\n",
       "      <td>0.0</td>\n",
       "      <td>3</td>\n",
       "      <td>male</td>\n",
       "      <td>0</td>\n",
       "      <td>0</td>\n",
       "      <td>8.05</td>\n",
       "      <td>S</td>\n",
       "      <td>EFG</td>\n",
       "      <td>Mr</td>\n",
       "      <td>35</td>\n",
       "      <td>0</td>\n",
       "      <td>1</td>\n",
       "    </tr>\n",
       "  </tbody>\n",
       "</table>\n",
       "</div>"
      ],
      "text/plain": [
       "   Survived  Pclass     Sex  SibSp  Parch   Fare Embarked   Deck        Title  \\\n",
       "0       0.0       3    male      1      0   7.25        S    EFG           Mr   \n",
       "1       1.0       1  female      1      0  71.28        C  ABCDE  Miss/Mrs/Ms   \n",
       "2       1.0       3  female      0      0   7.92        S    EFG  Miss/Mrs/Ms   \n",
       "3       1.0       1  female      1      0  53.10        S  ABCDE  Miss/Mrs/Ms   \n",
       "4       0.0       3    male      0      0   8.05        S    EFG           Mr   \n",
       "\n",
       "   Age  Relatives  Alone  \n",
       "0   22          1      0  \n",
       "1   38          1      0  \n",
       "2   26          0      1  \n",
       "3   35          1      0  \n",
       "4   35          0      1  "
      ]
     },
     "execution_count": 118,
     "metadata": {},
     "output_type": "execute_result"
    }
   ],
   "source": [
    "# Adicionando a feature Alone no DF novo\n",
    "df['Alone'] = df_full['Alone']\n",
    "df.head()"
   ]
  },
  {
   "cell_type": "markdown",
   "id": "fc49de9d",
   "metadata": {},
   "source": [
    "# Pre Processing\n",
    "- Agora faremos todo o pré-processamento, transformação dos dados categoricos e escalonamento"
   ]
  },
  {
   "cell_type": "code",
   "execution_count": 119,
   "id": "639ce16c",
   "metadata": {},
   "outputs": [
    {
     "name": "stdout",
     "output_type": "stream",
     "text": [
      "<class 'pandas.core.frame.DataFrame'>\n",
      "RangeIndex: 1309 entries, 0 to 1308\n",
      "Data columns (total 12 columns):\n",
      " #   Column     Non-Null Count  Dtype  \n",
      "---  ------     --------------  -----  \n",
      " 0   Survived   891 non-null    float64\n",
      " 1   Pclass     1309 non-null   int64  \n",
      " 2   Sex        1309 non-null   object \n",
      " 3   SibSp      1309 non-null   int64  \n",
      " 4   Parch      1309 non-null   int64  \n",
      " 5   Fare       1309 non-null   float64\n",
      " 6   Embarked   1309 non-null   object \n",
      " 7   Deck       1309 non-null   object \n",
      " 8   Title      1309 non-null   object \n",
      " 9   Age        1309 non-null   int64  \n",
      " 10  Relatives  1309 non-null   int64  \n",
      " 11  Alone      1309 non-null   int64  \n",
      "dtypes: float64(2), int64(6), object(4)\n",
      "memory usage: 122.8+ KB\n"
     ]
    }
   ],
   "source": [
    "df.info()"
   ]
  },
  {
   "cell_type": "code",
   "execution_count": 120,
   "id": "695d395b-8fa3-4445-955f-802385fbc3d0",
   "metadata": {
    "tags": []
   },
   "outputs": [],
   "source": [
    "# Separando a base de dados em X e y para fazermos o pre-processamento\n",
    "X = df.iloc[:, 1:].values\n",
    "y = df.iloc[:, 0].values"
   ]
  },
  {
   "cell_type": "code",
   "execution_count": 121,
   "id": "2c4fe4a1-b77b-48dd-901e-949243f36696",
   "metadata": {
    "tags": []
   },
   "outputs": [
    {
     "data": {
      "text/plain": [
       "array([[3, 'male', 1, ..., 22, 1, 0],\n",
       "       [1, 'female', 1, ..., 38, 1, 0],\n",
       "       [3, 'female', 0, ..., 26, 0, 1],\n",
       "       ...,\n",
       "       [3, 'male', 0, ..., 38, 0, 1],\n",
       "       [3, 'male', 0, ..., 25, 0, 1],\n",
       "       [3, 'male', 1, ..., 6, 2, 0]], dtype=object)"
      ]
     },
     "execution_count": 121,
     "metadata": {},
     "output_type": "execute_result"
    }
   ],
   "source": [
    "# Visualizando\n",
    "X"
   ]
  },
  {
   "cell_type": "code",
   "execution_count": 122,
   "id": "c3c0ceb6",
   "metadata": {},
   "outputs": [
    {
     "data": {
      "text/plain": [
       "array([3, 'male', 1, 0, 7.25, 'S', 'EFG', 'Mr', 22, 1, 0], dtype=object)"
      ]
     },
     "execution_count": 122,
     "metadata": {},
     "output_type": "execute_result"
    }
   ],
   "source": [
    "# [Pclass, Sex, SibSp, Parch, Fare,\tEmbarked, Deck,\tTitle, Age,\tRelatives, Alone]\n",
    "X[0]"
   ]
  },
  {
   "cell_type": "code",
   "execution_count": 123,
   "id": "b11f8efd-b5d7-431a-8184-79210c4c30d3",
   "metadata": {
    "tags": []
   },
   "outputs": [
    {
     "data": {
      "text/plain": [
       "array([ 0.,  1.,  1., ..., nan, nan, nan])"
      ]
     },
     "execution_count": 123,
     "metadata": {},
     "output_type": "execute_result"
    }
   ],
   "source": [
    "# Visualizando a classe\n",
    "y"
   ]
  },
  {
   "cell_type": "code",
   "execution_count": 124,
   "id": "7bcd7e67-9f88-4ed1-8871-1281c5d704bc",
   "metadata": {
    "tags": []
   },
   "outputs": [
    {
     "data": {
      "text/plain": [
       "(1309, 11)"
      ]
     },
     "execution_count": 124,
     "metadata": {},
     "output_type": "execute_result"
    }
   ],
   "source": [
    "X.shape"
   ]
  },
  {
   "cell_type": "code",
   "execution_count": 125,
   "id": "84ff845b-e392-4ed6-b911-5577bf8e72d9",
   "metadata": {
    "tags": []
   },
   "outputs": [
    {
     "data": {
      "text/plain": [
       "(1309,)"
      ]
     },
     "execution_count": 125,
     "metadata": {},
     "output_type": "execute_result"
    }
   ],
   "source": [
    "y.shape"
   ]
  },
  {
   "cell_type": "markdown",
   "id": "40302a1e",
   "metadata": {},
   "source": [
    "# Feature Transformation"
   ]
  },
  {
   "cell_type": "code",
   "execution_count": 126,
   "id": "8a922ef7-ba39-466d-9d6b-7aa4d61f03c9",
   "metadata": {
    "tags": []
   },
   "outputs": [
    {
     "data": {
      "text/plain": [
       "(1309, 14)"
      ]
     },
     "execution_count": 126,
     "metadata": {},
     "output_type": "execute_result"
    }
   ],
   "source": [
    "# One-Hot-Encoder\n",
    "# [Pclass, Sex, SibSp, Parch, Fare,\tEmbarked, Deck,\tTitle, Age,\tRelatives, Alone]\n",
    "onehotencoder = OneHotEncoder()\n",
    "onehotencorder = ColumnTransformer(transformers=[(\"OneHotEncoder\", onehotencoder, [1, 5])], remainder='passthrough')\n",
    "# Ajuste e transforme os dados\n",
    "X = onehotencorder.fit_transform(X)\n",
    "X.shape\n"
   ]
  },
  {
   "cell_type": "code",
   "execution_count": 127,
   "id": "4ddb7a91",
   "metadata": {},
   "outputs": [
    {
     "data": {
      "text/plain": [
       "array([0.0, 1.0, 0.0, 0.0, 1.0, 3, 1, 0, 7.25, 'EFG', 'Mr', 22, 1, 0],\n",
       "      dtype=object)"
      ]
     },
     "execution_count": 127,
     "metadata": {},
     "output_type": "execute_result"
    }
   ],
   "source": [
    "# Visualizando\n",
    "X[0]"
   ]
  },
  {
   "cell_type": "code",
   "execution_count": 128,
   "id": "41d08fb8",
   "metadata": {},
   "outputs": [
    {
     "data": {
      "text/plain": [
       "array([0.0, 1.0, 0.0, 0.0, 1.0, 3, 1, 0, 7.25, 2.0, 3.0, 22, 1, 0],\n",
       "      dtype=object)"
      ]
     },
     "execution_count": 128,
     "metadata": {},
     "output_type": "execute_result"
    }
   ],
   "source": [
    "# Ordinal Encoder\n",
    "ordinal_encoder = OrdinalEncoder()\n",
    "X[:, [9, 10]] = ordinal_encoder.fit_transform(X[:, [9, 10]])\n",
    "\n",
    "X[0]"
   ]
  },
  {
   "cell_type": "markdown",
   "id": "a670dbaf-09fb-4ed5-866c-60b2308fe60e",
   "metadata": {},
   "source": [
    "# Attribute Scaling"
   ]
  },
  {
   "cell_type": "code",
   "execution_count": 129,
   "id": "286f760f-5e66-49f5-8588-30b6f6db3e38",
   "metadata": {
    "tags": []
   },
   "outputs": [],
   "source": [
    "# Fazendo o escalonamento com Padronização\n",
    "scaler = StandardScaler()\n",
    "X = scaler.fit_transform(X)"
   ]
  },
  {
   "cell_type": "code",
   "execution_count": 130,
   "id": "475d3094-6635-4a92-ab4f-826b08dd6f34",
   "metadata": {
    "tags": []
   },
   "outputs": [
    {
     "data": {
      "text/plain": [
       "array([-0.74349692,  0.74349692, -0.50976981, -0.32204029,  0.65501092,\n",
       "        0.84191642,  0.48128777, -0.4449995 , -0.50317566,  0.84191642,\n",
       "        0.74716177, -0.53816802,  0.07335229, -1.23375767])"
      ]
     },
     "execution_count": 130,
     "metadata": {},
     "output_type": "execute_result"
    }
   ],
   "source": [
    "X[0]"
   ]
  },
  {
   "cell_type": "code",
   "execution_count": 131,
   "id": "b958d4ae-c67e-4374-a6bd-7aed395b2435",
   "metadata": {
    "tags": []
   },
   "outputs": [
    {
     "data": {
      "text/plain": [
       "0.0"
      ]
     },
     "execution_count": 131,
     "metadata": {},
     "output_type": "execute_result"
    }
   ],
   "source": [
    "y[890]"
   ]
  },
  {
   "cell_type": "code",
   "execution_count": 132,
   "id": "ef5ff521-6a79-450a-bfa3-5729ea6a5291",
   "metadata": {
    "tags": []
   },
   "outputs": [],
   "source": [
    "# Juntando X e y do df completo\n",
    "arr = np.column_stack((X, y))"
   ]
  },
  {
   "cell_type": "code",
   "execution_count": 133,
   "id": "db62d1d6-4898-4196-94b6-ca9d35901f11",
   "metadata": {
    "tags": []
   },
   "outputs": [
    {
     "data": {
      "text/plain": [
       "array([-0.74349692,  0.74349692, -0.50976981,  3.10520151, -1.52669211,\n",
       "        0.84191642, -0.47908676, -0.4449995 , -0.49350896,  0.84191642,\n",
       "        0.74716177,  0.21237741, -0.55834605,  0.81053194,  0.        ])"
      ]
     },
     "execution_count": 133,
     "metadata": {},
     "output_type": "execute_result"
    }
   ],
   "source": [
    "arr[890]"
   ]
  },
  {
   "cell_type": "code",
   "execution_count": 134,
   "id": "f6c2f04b-067f-4166-87de-bc5a5f05cb3b",
   "metadata": {
    "tags": []
   },
   "outputs": [],
   "source": [
    "# Separando as bases de treino e teste usando o índice\n",
    "index = 891\n",
    "train = arr[:index]\n",
    "test = arr[index:]"
   ]
  },
  {
   "cell_type": "code",
   "execution_count": 135,
   "id": "3c07a282-0e0c-4c53-ba19-0d959ec27d60",
   "metadata": {
    "tags": []
   },
   "outputs": [
    {
     "data": {
      "text/plain": [
       "array([-0.74349692,  0.74349692, -0.50976981, -0.32204029,  0.65501092,\n",
       "        0.84191642,  0.48128777, -0.4449995 , -0.50317566,  0.84191642,\n",
       "        0.74716177, -0.53816802,  0.07335229, -1.23375767,  0.        ])"
      ]
     },
     "execution_count": 135,
     "metadata": {},
     "output_type": "execute_result"
    }
   ],
   "source": [
    "train[0]"
   ]
  },
  {
   "cell_type": "code",
   "execution_count": 136,
   "id": "ac3ce318-4d5d-481e-8b5a-53fd3ac598c6",
   "metadata": {
    "tags": []
   },
   "outputs": [
    {
     "data": {
      "text/plain": [
       "(891, 15)"
      ]
     },
     "execution_count": 136,
     "metadata": {},
     "output_type": "execute_result"
    }
   ],
   "source": [
    "train.shape"
   ]
  },
  {
   "cell_type": "code",
   "execution_count": 137,
   "id": "0a6680a8-53b0-4fff-b11b-1b665e5d8c4a",
   "metadata": {
    "tags": []
   },
   "outputs": [
    {
     "data": {
      "text/plain": [
       "(418, 15)"
      ]
     },
     "execution_count": 137,
     "metadata": {},
     "output_type": "execute_result"
    }
   ],
   "source": [
    "test.shape"
   ]
  },
  {
   "cell_type": "code",
   "execution_count": 138,
   "id": "c0b4355b-4288-47f8-ae7c-8f2727b580fc",
   "metadata": {
    "tags": []
   },
   "outputs": [
    {
     "data": {
      "text/plain": [
       "array([-0.74349692,  0.74349692, -0.50976981,  3.10520151, -1.52669211,\n",
       "        0.84191642, -0.47908676, -0.4449995 , -0.49196229,  0.84191642,\n",
       "        0.74716177,  0.36248649, -0.55834605,  0.81053194,         nan])"
      ]
     },
     "execution_count": 138,
     "metadata": {},
     "output_type": "execute_result"
    }
   ],
   "source": [
    "test[0]"
   ]
  },
  {
   "cell_type": "code",
   "execution_count": 139,
   "id": "6186fccf-2011-404e-9e03-b318d946a627",
   "metadata": {
    "tags": []
   },
   "outputs": [],
   "source": [
    "# Removendo a ultima coluna do array test, pois a nossa base de dados NÃO TEM A CLASSE\n",
    "test = test[:, :-1]"
   ]
  },
  {
   "cell_type": "code",
   "execution_count": 140,
   "id": "f66999f4-efba-4ae6-b712-a9facdf2fc69",
   "metadata": {
    "tags": []
   },
   "outputs": [
    {
     "data": {
      "text/plain": [
       "array([-0.74349692,  0.74349692, -0.50976981,  3.10520151, -1.52669211,\n",
       "        0.84191642, -0.47908676, -0.4449995 , -0.49196229,  0.84191642,\n",
       "        0.74716177,  0.36248649, -0.55834605,  0.81053194])"
      ]
     },
     "execution_count": 140,
     "metadata": {},
     "output_type": "execute_result"
    }
   ],
   "source": [
    "test[0]"
   ]
  },
  {
   "cell_type": "markdown",
   "id": "b719cf45-8607-4b40-840e-a99b1610e407",
   "metadata": {},
   "source": [
    "# Final Considerations\n",
    "- Agora os dados estão prontos para serem processados em um modelo\n",
    "- A variavel test vamos usar somente para enviar a submissão ao Kaggle\n",
    "- Train será separado por treino e teste com train_test_split\n",
    "- As variaveis serão salvas para não ser necessário repetir todo esse processamento, usando-as na próxima parte do projeto"
   ]
  },
  {
   "cell_type": "code",
   "execution_count": 141,
   "id": "56bd5b51-a51e-4b72-9826-2bd830108888",
   "metadata": {
    "tags": []
   },
   "outputs": [],
   "source": [
    "# Separar o X e y DO TRAIN\n",
    "X = train[:, :-1]  # Todas as linhas, todas as colunas exceto a última\n",
    "y = train[:, -1]   # Todas as linhas, somente a última coluna"
   ]
  },
  {
   "cell_type": "code",
   "execution_count": 142,
   "id": "c02181d5-e4e3-4539-b046-f3e087aa169e",
   "metadata": {},
   "outputs": [],
   "source": [
    "# Transformando o target em um inteiro para a submissão do Kaggle\n",
    "y = y.astype(int)"
   ]
  },
  {
   "cell_type": "code",
   "execution_count": 143,
   "id": "7b7924cc-0027-4b6e-baae-6bb31f4b6f0c",
   "metadata": {},
   "outputs": [],
   "source": [
    "# Declarando as variaveis que vamos usar para avaliar nossos modelos\n",
    "X_train, X_test, y_train, y_test = train_test_split(X, y, test_size = 0.2, random_state = 42)"
   ]
  },
  {
   "cell_type": "code",
   "execution_count": 144,
   "id": "6b5472c5-1681-4537-989b-b0af45d59057",
   "metadata": {
    "tags": []
   },
   "outputs": [],
   "source": [
    "# Salvando a variavel train e test\n",
    "with open('Titanic.pkl', mode = 'wb') as f:\n",
    "  pickle.dump([X_train, X_test, y_train, y_test, test], f)"
   ]
  }
 ],
 "metadata": {
  "kernelspec": {
   "display_name": "Python 3 (ipykernel)",
   "language": "python",
   "name": "python3"
  },
  "language_info": {
   "codemirror_mode": {
    "name": "ipython",
    "version": 3
   },
   "file_extension": ".py",
   "mimetype": "text/x-python",
   "name": "python",
   "nbconvert_exporter": "python",
   "pygments_lexer": "ipython3",
   "version": "3.11.5"
  }
 },
 "nbformat": 4,
 "nbformat_minor": 5
}
