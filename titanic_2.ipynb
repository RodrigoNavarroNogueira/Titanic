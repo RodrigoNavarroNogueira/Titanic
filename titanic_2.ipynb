{
 "cells": [
  {
   "cell_type": "markdown",
   "id": "e9b8605c-628b-41bc-bf15-2bff2cc61e27",
   "metadata": {
    "tags": []
   },
   "source": [
    "# Titanic - Machine Learning from Disaster"
   ]
  },
  {
   "cell_type": "markdown",
   "id": "cd06e657-9425-45f1-a9eb-7a1858acc086",
   "metadata": {
    "tags": []
   },
   "source": [
    "<img src=\"titanic1.webp\">"
   ]
  },
  {
   "cell_type": "markdown",
   "id": "7144f377-aa7e-4fa4-8432-8f64f4d7805a",
   "metadata": {},
   "source": [
    "# Projeto Titanic - Parte 2\n",
    "\n",
    "- Parte 1: [Clique aqui](titanic_1.ipynb)\n",
    "\n",
    "Nessa segunda parte iremos criar os primeiros modelos sem parametros, depois fazer o tuning melhorando os desempenhos. Por fim executando uma combinação dos modelos e visualização dos resultados\n",
    "\n",
    "**Melhores resultados: 78.468% de precisão**\n",
    "\n",
    "## Overview \n",
    "- ### Basic Model Building\n",
    "    - [Naive Bayes](#Naive-Bayes)\n",
    "    - [Regressão Logística](#Regressão-Logística)\n",
    "    - [Arvore de Decisão](#Arvore-de-Decisão)\n",
    "    - [Random Forest](#Random-Forest)\n",
    "    - [KNN](#KNN)\n",
    "    - [SVM](#SVM)\n",
    "    - [Redes Neurais](#Redes-Neurais)\n",
    "    - [Gradient Boosting Classifier](#Gradient-Boosting-Classifier) \n",
    "- ### Model Tuning\n",
    "    - [Tuning](#Tuning)\n",
    "- ### Results\n",
    "    - [Comparing The Results](#Comparing)\n",
    "    - [Validação Cruzada](#Cross-Validation)\n",
    "    - [Teste de Normalidade](#Teste-de-Normalidade)\n",
    "    - [ANOVA/Tukey](#ANOVA/Tukey)\n",
    "    - [Saving/Load Classifier](#Saving/Load-Classifier)\n",
    "- ### Ensemble Modle Building\n",
    "    - [Voting Classifier](#Voting-Classifier)\n",
    "    - [Final Results](#Final-Results)"
   ]
  },
  {
   "cell_type": "code",
   "execution_count": 1,
   "id": "06351704",
   "metadata": {
    "tags": []
   },
   "outputs": [],
   "source": [
    "# Importando as bibliotecas necessárias\n",
    "import pandas as pd\n",
    "import numpy as np\n",
    "import pickle\n",
    "import seaborn as sns\n",
    "from sklearn.metrics import precision_score, recall_score, accuracy_score\n",
    "from sklearn.model_selection import cross_val_score, KFold\n",
    "from sklearn.naive_bayes import GaussianNB\n",
    "from sklearn.linear_model import LogisticRegression\n",
    "from sklearn import tree\n",
    "from sklearn.neighbors import KNeighborsClassifier\n",
    "from sklearn.ensemble import RandomForestClassifier, VotingClassifier\n",
    "from sklearn.neural_network import MLPClassifier\n",
    "from sklearn.svm import SVC\n",
    "from sklearn.ensemble import GradientBoostingClassifier\n",
    "from sklearn.model_selection import GridSearchCV\n",
    "from yellowbrick.classifier import ConfusionMatrix\n",
    "from scipy.stats import shapiro\n",
    "from scipy.stats import f_oneway\n",
    "from statsmodels.stats.multicomp import MultiComparison"
   ]
  },
  {
   "cell_type": "code",
   "execution_count": 2,
   "id": "20089e0d-3bf1-4c1b-be08-d01f5dbe3b6c",
   "metadata": {
    "tags": []
   },
   "outputs": [],
   "source": [
    "# Salvando a feature PassengerId pois precisamos dessa coluna para submeter os resultados ao Kaggle\n",
    "test = pd.read_csv('test.csv')\n",
    "PassengerId = test['PassengerId']"
   ]
  },
  {
   "cell_type": "code",
   "execution_count": 3,
   "id": "abd4de26-1eed-47e3-b9ec-1b5d9d1ac85a",
   "metadata": {
    "tags": []
   },
   "outputs": [],
   "source": [
    "# Carregando os dados que foram tratados na parte 1\n",
    "with open('Titanic.pkl', 'rb') as f:\n",
    "  X_train, X_test, y_train, y_test, test = pickle.load(f)"
   ]
  },
  {
   "cell_type": "markdown",
   "id": "bcf3e7fa-e1db-4c41-ae83-5c454f30fb65",
   "metadata": {},
   "source": [
    "# Basic Model Building\n",
    "#### Construção dos modelos (sem parametros)\n",
    "- Antes de prosseguir, gosto de ver o desempenho de vários modelos diferentes com parâmetros padrão. Tentei os seguintes modelos usando validação cruzada de 10 vezes para obter uma linha de base. Com uma linha de base do conjunto de validação, podemos ver o quanto o ajuste dos parametros melhora cada um dos modelos.\n",
    "- Vamos criar um função que avalia o modelo com varias metricas diferentes, além de gerar uma matriz de confusão"
   ]
  },
  {
   "cell_type": "code",
   "execution_count": 4,
   "id": "97132ac0-b359-414d-abf7-f0ddba4737a5",
   "metadata": {
    "tags": []
   },
   "outputs": [],
   "source": [
    "algoritmos = ['Naive Bayes', 'Regressão Logistica', 'Arvore', 'Random Forest', 'KNN', 'SVM', 'Redes Neurais', 'Gradient']\n",
    "resultados = ['Validação Cruzada Máximo', 'Validação Cruzada Mínimo', 'Validação Cruzada Média', 'Accuracy Score', 'Precision', 'Recall']\n",
    "resultados_metricas = pd.DataFrame(columns=resultados)"
   ]
  },
  {
   "cell_type": "code",
   "execution_count": 5,
   "id": "1fc335f6-2299-4abd-b943-72c5c599e6bc",
   "metadata": {
    "tags": []
   },
   "outputs": [
    {
     "data": {
      "text/html": [
       "<div>\n",
       "<style scoped>\n",
       "    .dataframe tbody tr th:only-of-type {\n",
       "        vertical-align: middle;\n",
       "    }\n",
       "\n",
       "    .dataframe tbody tr th {\n",
       "        vertical-align: top;\n",
       "    }\n",
       "\n",
       "    .dataframe thead th {\n",
       "        text-align: right;\n",
       "    }\n",
       "</style>\n",
       "<table border=\"1\" class=\"dataframe\">\n",
       "  <thead>\n",
       "    <tr style=\"text-align: right;\">\n",
       "      <th></th>\n",
       "      <th>Validação Cruzada Máximo</th>\n",
       "      <th>Validação Cruzada Mínimo</th>\n",
       "      <th>Validação Cruzada Média</th>\n",
       "      <th>Accuracy Score</th>\n",
       "      <th>Precision</th>\n",
       "      <th>Recall</th>\n",
       "    </tr>\n",
       "  </thead>\n",
       "  <tbody>\n",
       "  </tbody>\n",
       "</table>\n",
       "</div>"
      ],
      "text/plain": [
       "Empty DataFrame\n",
       "Columns: [Validação Cruzada Máximo, Validação Cruzada Mínimo, Validação Cruzada Média, Accuracy Score, Precision, Recall]\n",
       "Index: []"
      ]
     },
     "execution_count": 5,
     "metadata": {},
     "output_type": "execute_result"
    }
   ],
   "source": [
    "resultados_metricas"
   ]
  },
  {
   "cell_type": "code",
   "execution_count": 6,
   "id": "df29157f-866a-40d9-861b-5c5b49dbe683",
   "metadata": {
    "tags": []
   },
   "outputs": [],
   "source": [
    "def avaliador_de_algoritmos(modelo):\n",
    "    modelo.fit(X_train, y_train)\n",
    "    cv = cross_val_score(modelo,X_train,y_train,cv=10)\n",
    "    previsoes = modelo.predict(X_test)\n",
    "    ac = accuracy_score(y_test, previsoes)\n",
    "    cm = ConfusionMatrix(modelo)\n",
    "    cm.fit(X_train, y_train)\n",
    "    cm.score(X_test, y_test)\n",
    "    precision = precision_score(y_test, previsoes)\n",
    "    recall = recall_score(y_test, previsoes)\n",
    "\n",
    "    resultados = {\n",
    "    'Validação Cruzada Máximo': cv.max(),\n",
    "    'Validação Cruzada Mínimo': cv.min(),\n",
    "    'Validação Cruzada Média': cv.mean(),\n",
    "    'Accuracy Score': ac,\n",
    "    'Precision': precision,\n",
    "    'Recall': recall\n",
    "    }\n",
    "    \n",
    "    str_modelo = str(modelo)\n",
    "    index = str_modelo.split('(')\n",
    "    resultados_metricas.loc[index[0]] = resultados\n",
    "    \n",
    "    return resultados_metricas"
   ]
  },
  {
   "cell_type": "markdown",
   "id": "228ac8a4-9d92-4f28-8ac9-6f67c59597fd",
   "metadata": {},
   "source": [
    "# Naive Bayes"
   ]
  },
  {
   "cell_type": "code",
   "execution_count": 7,
   "id": "29cc073c-9801-4336-9206-41431b0f9ea0",
   "metadata": {
    "tags": []
   },
   "outputs": [
    {
     "data": {
      "text/html": [
       "<div>\n",
       "<style scoped>\n",
       "    .dataframe tbody tr th:only-of-type {\n",
       "        vertical-align: middle;\n",
       "    }\n",
       "\n",
       "    .dataframe tbody tr th {\n",
       "        vertical-align: top;\n",
       "    }\n",
       "\n",
       "    .dataframe thead th {\n",
       "        text-align: right;\n",
       "    }\n",
       "</style>\n",
       "<table border=\"1\" class=\"dataframe\">\n",
       "  <thead>\n",
       "    <tr style=\"text-align: right;\">\n",
       "      <th></th>\n",
       "      <th>Validação Cruzada Máximo</th>\n",
       "      <th>Validação Cruzada Mínimo</th>\n",
       "      <th>Validação Cruzada Média</th>\n",
       "      <th>Accuracy Score</th>\n",
       "      <th>Precision</th>\n",
       "      <th>Recall</th>\n",
       "    </tr>\n",
       "  </thead>\n",
       "  <tbody>\n",
       "    <tr>\n",
       "      <th>GaussianNB</th>\n",
       "      <td>0.915493</td>\n",
       "      <td>0.704225</td>\n",
       "      <td>0.792077</td>\n",
       "      <td>0.782123</td>\n",
       "      <td>0.710843</td>\n",
       "      <td>0.797297</td>\n",
       "    </tr>\n",
       "  </tbody>\n",
       "</table>\n",
       "</div>"
      ],
      "text/plain": [
       "            Validação Cruzada Máximo  Validação Cruzada Mínimo  \\\n",
       "GaussianNB                  0.915493                  0.704225   \n",
       "\n",
       "            Validação Cruzada Média  Accuracy Score  Precision    Recall  \n",
       "GaussianNB                 0.792077        0.782123   0.710843  0.797297  "
      ]
     },
     "execution_count": 7,
     "metadata": {},
     "output_type": "execute_result"
    },
    {
     "data": {
      "image/png": "[encoded data removed]",
      "text/plain": [
       "<Figure size 800x550 with 1 Axes>"
      ]
     },
     "metadata": {},
     "output_type": "display_data"
    }
   ],
   "source": [
    "naive_bayes = GaussianNB()\n",
    "avaliador_de_algoritmos(naive_bayes)"
   ]
  },
  {
   "cell_type": "markdown",
   "id": "8d0e11ac-4f15-4023-ab63-ae66a0679fc2",
   "metadata": {},
   "source": [
    "# Regressão Logística"
   ]
  },
  {
   "cell_type": "code",
   "execution_count": 8,
   "id": "c48d893f-5a19-499c-8013-d4b1c82eed71",
   "metadata": {
    "tags": []
   },
   "outputs": [
    {
     "data": {
      "text/html": [
       "<div>\n",
       "<style scoped>\n",
       "    .dataframe tbody tr th:only-of-type {\n",
       "        vertical-align: middle;\n",
       "    }\n",
       "\n",
       "    .dataframe tbody tr th {\n",
       "        vertical-align: top;\n",
       "    }\n",
       "\n",
       "    .dataframe thead th {\n",
       "        text-align: right;\n",
       "    }\n",
       "</style>\n",
       "<table border=\"1\" class=\"dataframe\">\n",
       "  <thead>\n",
       "    <tr style=\"text-align: right;\">\n",
       "      <th></th>\n",
       "      <th>Validação Cruzada Máximo</th>\n",
       "      <th>Validação Cruzada Mínimo</th>\n",
       "      <th>Validação Cruzada Média</th>\n",
       "      <th>Accuracy Score</th>\n",
       "      <th>Precision</th>\n",
       "      <th>Recall</th>\n",
       "    </tr>\n",
       "  </thead>\n",
       "  <tbody>\n",
       "    <tr>\n",
       "      <th>GaussianNB</th>\n",
       "      <td>0.915493</td>\n",
       "      <td>0.704225</td>\n",
       "      <td>0.792077</td>\n",
       "      <td>0.782123</td>\n",
       "      <td>0.710843</td>\n",
       "      <td>0.797297</td>\n",
       "    </tr>\n",
       "    <tr>\n",
       "      <th>LogisticRegression</th>\n",
       "      <td>0.957746</td>\n",
       "      <td>0.746479</td>\n",
       "      <td>0.813165</td>\n",
       "      <td>0.793296</td>\n",
       "      <td>0.753425</td>\n",
       "      <td>0.743243</td>\n",
       "    </tr>\n",
       "  </tbody>\n",
       "</table>\n",
       "</div>"
      ],
      "text/plain": [
       "                    Validação Cruzada Máximo  Validação Cruzada Mínimo  \\\n",
       "GaussianNB                          0.915493                  0.704225   \n",
       "LogisticRegression                  0.957746                  0.746479   \n",
       "\n",
       "                    Validação Cruzada Média  Accuracy Score  Precision  \\\n",
       "GaussianNB                         0.792077        0.782123   0.710843   \n",
       "LogisticRegression                 0.813165        0.793296   0.753425   \n",
       "\n",
       "                      Recall  \n",
       "GaussianNB          0.797297  \n",
       "LogisticRegression  0.743243  "
      ]
     },
     "execution_count": 8,
     "metadata": {},
     "output_type": "execute_result"
    },
    {
     "data": {
      "image/png": "[encoded data removed]",
      "text/plain": [
       "<Figure size 800x550 with 1 Axes>"
      ]
     },
     "metadata": {},
     "output_type": "display_data"
    }
   ],
   "source": [
    "regressao = LogisticRegression(max_iter = 2000)\n",
    "avaliador_de_algoritmos(regressao)"
   ]
  },
  {
   "cell_type": "markdown",
   "id": "c72ed832-a318-4a1b-81e2-7a07c78f5c88",
   "metadata": {},
   "source": [
    "# Arvore de Decisão"
   ]
  },
  {
   "cell_type": "code",
   "execution_count": 9,
   "id": "065d01a2-13e9-408c-a09a-3dd781dcda5f",
   "metadata": {
    "tags": []
   },
   "outputs": [
    {
     "data": {
      "text/html": [
       "<div>\n",
       "<style scoped>\n",
       "    .dataframe tbody tr th:only-of-type {\n",
       "        vertical-align: middle;\n",
       "    }\n",
       "\n",
       "    .dataframe tbody tr th {\n",
       "        vertical-align: top;\n",
       "    }\n",
       "\n",
       "    .dataframe thead th {\n",
       "        text-align: right;\n",
       "    }\n",
       "</style>\n",
       "<table border=\"1\" class=\"dataframe\">\n",
       "  <thead>\n",
       "    <tr style=\"text-align: right;\">\n",
       "      <th></th>\n",
       "      <th>Validação Cruzada Máximo</th>\n",
       "      <th>Validação Cruzada Mínimo</th>\n",
       "      <th>Validação Cruzada Média</th>\n",
       "      <th>Accuracy Score</th>\n",
       "      <th>Precision</th>\n",
       "      <th>Recall</th>\n",
       "    </tr>\n",
       "  </thead>\n",
       "  <tbody>\n",
       "    <tr>\n",
       "      <th>GaussianNB</th>\n",
       "      <td>0.915493</td>\n",
       "      <td>0.704225</td>\n",
       "      <td>0.792077</td>\n",
       "      <td>0.782123</td>\n",
       "      <td>0.710843</td>\n",
       "      <td>0.797297</td>\n",
       "    </tr>\n",
       "    <tr>\n",
       "      <th>LogisticRegression</th>\n",
       "      <td>0.957746</td>\n",
       "      <td>0.746479</td>\n",
       "      <td>0.813165</td>\n",
       "      <td>0.793296</td>\n",
       "      <td>0.753425</td>\n",
       "      <td>0.743243</td>\n",
       "    </tr>\n",
       "    <tr>\n",
       "      <th>DecisionTreeClassifier</th>\n",
       "      <td>0.805556</td>\n",
       "      <td>0.760563</td>\n",
       "      <td>0.780888</td>\n",
       "      <td>0.776536</td>\n",
       "      <td>0.723684</td>\n",
       "      <td>0.743243</td>\n",
       "    </tr>\n",
       "  </tbody>\n",
       "</table>\n",
       "</div>"
      ],
      "text/plain": [
       "                        Validação Cruzada Máximo  Validação Cruzada Mínimo  \\\n",
       "GaussianNB                              0.915493                  0.704225   \n",
       "LogisticRegression                      0.957746                  0.746479   \n",
       "DecisionTreeClassifier                  0.805556                  0.760563   \n",
       "\n",
       "                        Validação Cruzada Média  Accuracy Score  Precision  \\\n",
       "GaussianNB                             0.792077        0.782123   0.710843   \n",
       "LogisticRegression                     0.813165        0.793296   0.753425   \n",
       "DecisionTreeClassifier                 0.780888        0.776536   0.723684   \n",
       "\n",
       "                          Recall  \n",
       "GaussianNB              0.797297  \n",
       "LogisticRegression      0.743243  \n",
       "DecisionTreeClassifier  0.743243  "
      ]
     },
     "execution_count": 9,
     "metadata": {},
     "output_type": "execute_result"
    },
    {
     "data": {
      "image/png": "[encoded data removed]",
      "text/plain": [
       "<Figure size 800x550 with 1 Axes>"
      ]
     },
     "metadata": {},
     "output_type": "display_data"
    }
   ],
   "source": [
    "arvore = tree.DecisionTreeClassifier(random_state = 1)\n",
    "avaliador_de_algoritmos(arvore)"
   ]
  },
  {
   "cell_type": "markdown",
   "id": "8b5977f5-d30e-43ad-a0a1-600652379e8b",
   "metadata": {},
   "source": [
    "# Random Forest"
   ]
  },
  {
   "cell_type": "code",
   "execution_count": 10,
   "id": "2bcec6a7-b046-4e41-a919-77a6a8d99fe8",
   "metadata": {
    "tags": []
   },
   "outputs": [
    {
     "data": {
      "text/html": [
       "<div>\n",
       "<style scoped>\n",
       "    .dataframe tbody tr th:only-of-type {\n",
       "        vertical-align: middle;\n",
       "    }\n",
       "\n",
       "    .dataframe tbody tr th {\n",
       "        vertical-align: top;\n",
       "    }\n",
       "\n",
       "    .dataframe thead th {\n",
       "        text-align: right;\n",
       "    }\n",
       "</style>\n",
       "<table border=\"1\" class=\"dataframe\">\n",
       "  <thead>\n",
       "    <tr style=\"text-align: right;\">\n",
       "      <th></th>\n",
       "      <th>Validação Cruzada Máximo</th>\n",
       "      <th>Validação Cruzada Mínimo</th>\n",
       "      <th>Validação Cruzada Média</th>\n",
       "      <th>Accuracy Score</th>\n",
       "      <th>Precision</th>\n",
       "      <th>Recall</th>\n",
       "    </tr>\n",
       "  </thead>\n",
       "  <tbody>\n",
       "    <tr>\n",
       "      <th>GaussianNB</th>\n",
       "      <td>0.915493</td>\n",
       "      <td>0.704225</td>\n",
       "      <td>0.792077</td>\n",
       "      <td>0.782123</td>\n",
       "      <td>0.710843</td>\n",
       "      <td>0.797297</td>\n",
       "    </tr>\n",
       "    <tr>\n",
       "      <th>LogisticRegression</th>\n",
       "      <td>0.957746</td>\n",
       "      <td>0.746479</td>\n",
       "      <td>0.813165</td>\n",
       "      <td>0.793296</td>\n",
       "      <td>0.753425</td>\n",
       "      <td>0.743243</td>\n",
       "    </tr>\n",
       "    <tr>\n",
       "      <th>DecisionTreeClassifier</th>\n",
       "      <td>0.805556</td>\n",
       "      <td>0.760563</td>\n",
       "      <td>0.780888</td>\n",
       "      <td>0.776536</td>\n",
       "      <td>0.723684</td>\n",
       "      <td>0.743243</td>\n",
       "    </tr>\n",
       "    <tr>\n",
       "      <th>RandomForestClassifier</th>\n",
       "      <td>0.873239</td>\n",
       "      <td>0.732394</td>\n",
       "      <td>0.799218</td>\n",
       "      <td>0.843575</td>\n",
       "      <td>0.810811</td>\n",
       "      <td>0.810811</td>\n",
       "    </tr>\n",
       "  </tbody>\n",
       "</table>\n",
       "</div>"
      ],
      "text/plain": [
       "                        Validação Cruzada Máximo  Validação Cruzada Mínimo  \\\n",
       "GaussianNB                              0.915493                  0.704225   \n",
       "LogisticRegression                      0.957746                  0.746479   \n",
       "DecisionTreeClassifier                  0.805556                  0.760563   \n",
       "RandomForestClassifier                  0.873239                  0.732394   \n",
       "\n",
       "                        Validação Cruzada Média  Accuracy Score  Precision  \\\n",
       "GaussianNB                             0.792077        0.782123   0.710843   \n",
       "LogisticRegression                     0.813165        0.793296   0.753425   \n",
       "DecisionTreeClassifier                 0.780888        0.776536   0.723684   \n",
       "RandomForestClassifier                 0.799218        0.843575   0.810811   \n",
       "\n",
       "                          Recall  \n",
       "GaussianNB              0.797297  \n",
       "LogisticRegression      0.743243  \n",
       "DecisionTreeClassifier  0.743243  \n",
       "RandomForestClassifier  0.810811  "
      ]
     },
     "execution_count": 10,
     "metadata": {},
     "output_type": "execute_result"
    },
    {
     "data": {
      "image/png": "[encoded data removed]",
      "text/plain": [
       "<Figure size 800x550 with 1 Axes>"
      ]
     },
     "metadata": {},
     "output_type": "display_data"
    }
   ],
   "source": [
    "rf = RandomForestClassifier(random_state = 1)\n",
    "avaliador_de_algoritmos(rf)"
   ]
  },
  {
   "cell_type": "markdown",
   "id": "32b31534-bb42-4317-a13a-02f4629b09f3",
   "metadata": {},
   "source": [
    "# KNN"
   ]
  },
  {
   "cell_type": "code",
   "execution_count": 11,
   "id": "83225ba5-2755-4d10-abaf-196304b8edf6",
   "metadata": {
    "tags": []
   },
   "outputs": [
    {
     "data": {
      "text/html": [
       "<div>\n",
       "<style scoped>\n",
       "    .dataframe tbody tr th:only-of-type {\n",
       "        vertical-align: middle;\n",
       "    }\n",
       "\n",
       "    .dataframe tbody tr th {\n",
       "        vertical-align: top;\n",
       "    }\n",
       "\n",
       "    .dataframe thead th {\n",
       "        text-align: right;\n",
       "    }\n",
       "</style>\n",
       "<table border=\"1\" class=\"dataframe\">\n",
       "  <thead>\n",
       "    <tr style=\"text-align: right;\">\n",
       "      <th></th>\n",
       "      <th>Validação Cruzada Máximo</th>\n",
       "      <th>Validação Cruzada Mínimo</th>\n",
       "      <th>Validação Cruzada Média</th>\n",
       "      <th>Accuracy Score</th>\n",
       "      <th>Precision</th>\n",
       "      <th>Recall</th>\n",
       "    </tr>\n",
       "  </thead>\n",
       "  <tbody>\n",
       "    <tr>\n",
       "      <th>GaussianNB</th>\n",
       "      <td>0.915493</td>\n",
       "      <td>0.704225</td>\n",
       "      <td>0.792077</td>\n",
       "      <td>0.782123</td>\n",
       "      <td>0.710843</td>\n",
       "      <td>0.797297</td>\n",
       "    </tr>\n",
       "    <tr>\n",
       "      <th>LogisticRegression</th>\n",
       "      <td>0.957746</td>\n",
       "      <td>0.746479</td>\n",
       "      <td>0.813165</td>\n",
       "      <td>0.793296</td>\n",
       "      <td>0.753425</td>\n",
       "      <td>0.743243</td>\n",
       "    </tr>\n",
       "    <tr>\n",
       "      <th>DecisionTreeClassifier</th>\n",
       "      <td>0.805556</td>\n",
       "      <td>0.760563</td>\n",
       "      <td>0.780888</td>\n",
       "      <td>0.776536</td>\n",
       "      <td>0.723684</td>\n",
       "      <td>0.743243</td>\n",
       "    </tr>\n",
       "    <tr>\n",
       "      <th>RandomForestClassifier</th>\n",
       "      <td>0.873239</td>\n",
       "      <td>0.732394</td>\n",
       "      <td>0.799218</td>\n",
       "      <td>0.843575</td>\n",
       "      <td>0.810811</td>\n",
       "      <td>0.810811</td>\n",
       "    </tr>\n",
       "    <tr>\n",
       "      <th>KNeighborsClassifier</th>\n",
       "      <td>0.873239</td>\n",
       "      <td>0.732394</td>\n",
       "      <td>0.803326</td>\n",
       "      <td>0.826816</td>\n",
       "      <td>0.794521</td>\n",
       "      <td>0.783784</td>\n",
       "    </tr>\n",
       "  </tbody>\n",
       "</table>\n",
       "</div>"
      ],
      "text/plain": [
       "                        Validação Cruzada Máximo  Validação Cruzada Mínimo  \\\n",
       "GaussianNB                              0.915493                  0.704225   \n",
       "LogisticRegression                      0.957746                  0.746479   \n",
       "DecisionTreeClassifier                  0.805556                  0.760563   \n",
       "RandomForestClassifier                  0.873239                  0.732394   \n",
       "KNeighborsClassifier                    0.873239                  0.732394   \n",
       "\n",
       "                        Validação Cruzada Média  Accuracy Score  Precision  \\\n",
       "GaussianNB                             0.792077        0.782123   0.710843   \n",
       "LogisticRegression                     0.813165        0.793296   0.753425   \n",
       "DecisionTreeClassifier                 0.780888        0.776536   0.723684   \n",
       "RandomForestClassifier                 0.799218        0.843575   0.810811   \n",
       "KNeighborsClassifier                   0.803326        0.826816   0.794521   \n",
       "\n",
       "                          Recall  \n",
       "GaussianNB              0.797297  \n",
       "LogisticRegression      0.743243  \n",
       "DecisionTreeClassifier  0.743243  \n",
       "RandomForestClassifier  0.810811  \n",
       "KNeighborsClassifier    0.783784  "
      ]
     },
     "execution_count": 11,
     "metadata": {},
     "output_type": "execute_result"
    },
    {
     "data": {
      "image/png": "[encoded data removed]",
      "text/plain": [
       "<Figure size 800x550 with 1 Axes>"
      ]
     },
     "metadata": {},
     "output_type": "display_data"
    }
   ],
   "source": [
    "knn = KNeighborsClassifier()\n",
    "avaliador_de_algoritmos(knn)"
   ]
  },
  {
   "cell_type": "markdown",
   "id": "6d353dd4-ec18-43e9-957f-9993a4ba9225",
   "metadata": {},
   "source": [
    "# SVM"
   ]
  },
  {
   "cell_type": "code",
   "execution_count": 12,
   "id": "d115ab31-ecda-49ca-8379-1cc540b055f4",
   "metadata": {
    "tags": []
   },
   "outputs": [
    {
     "data": {
      "text/html": [
       "<div>\n",
       "<style scoped>\n",
       "    .dataframe tbody tr th:only-of-type {\n",
       "        vertical-align: middle;\n",
       "    }\n",
       "\n",
       "    .dataframe tbody tr th {\n",
       "        vertical-align: top;\n",
       "    }\n",
       "\n",
       "    .dataframe thead th {\n",
       "        text-align: right;\n",
       "    }\n",
       "</style>\n",
       "<table border=\"1\" class=\"dataframe\">\n",
       "  <thead>\n",
       "    <tr style=\"text-align: right;\">\n",
       "      <th></th>\n",
       "      <th>Validação Cruzada Máximo</th>\n",
       "      <th>Validação Cruzada Mínimo</th>\n",
       "      <th>Validação Cruzada Média</th>\n",
       "      <th>Accuracy Score</th>\n",
       "      <th>Precision</th>\n",
       "      <th>Recall</th>\n",
       "    </tr>\n",
       "  </thead>\n",
       "  <tbody>\n",
       "    <tr>\n",
       "      <th>GaussianNB</th>\n",
       "      <td>0.915493</td>\n",
       "      <td>0.704225</td>\n",
       "      <td>0.792077</td>\n",
       "      <td>0.782123</td>\n",
       "      <td>0.710843</td>\n",
       "      <td>0.797297</td>\n",
       "    </tr>\n",
       "    <tr>\n",
       "      <th>LogisticRegression</th>\n",
       "      <td>0.957746</td>\n",
       "      <td>0.746479</td>\n",
       "      <td>0.813165</td>\n",
       "      <td>0.793296</td>\n",
       "      <td>0.753425</td>\n",
       "      <td>0.743243</td>\n",
       "    </tr>\n",
       "    <tr>\n",
       "      <th>DecisionTreeClassifier</th>\n",
       "      <td>0.805556</td>\n",
       "      <td>0.760563</td>\n",
       "      <td>0.780888</td>\n",
       "      <td>0.776536</td>\n",
       "      <td>0.723684</td>\n",
       "      <td>0.743243</td>\n",
       "    </tr>\n",
       "    <tr>\n",
       "      <th>RandomForestClassifier</th>\n",
       "      <td>0.873239</td>\n",
       "      <td>0.732394</td>\n",
       "      <td>0.799218</td>\n",
       "      <td>0.843575</td>\n",
       "      <td>0.810811</td>\n",
       "      <td>0.810811</td>\n",
       "    </tr>\n",
       "    <tr>\n",
       "      <th>KNeighborsClassifier</th>\n",
       "      <td>0.873239</td>\n",
       "      <td>0.732394</td>\n",
       "      <td>0.803326</td>\n",
       "      <td>0.826816</td>\n",
       "      <td>0.794521</td>\n",
       "      <td>0.783784</td>\n",
       "    </tr>\n",
       "    <tr>\n",
       "      <th>SVC</th>\n",
       "      <td>0.943662</td>\n",
       "      <td>0.732394</td>\n",
       "      <td>0.823044</td>\n",
       "      <td>0.826816</td>\n",
       "      <td>0.811594</td>\n",
       "      <td>0.756757</td>\n",
       "    </tr>\n",
       "  </tbody>\n",
       "</table>\n",
       "</div>"
      ],
      "text/plain": [
       "                        Validação Cruzada Máximo  Validação Cruzada Mínimo  \\\n",
       "GaussianNB                              0.915493                  0.704225   \n",
       "LogisticRegression                      0.957746                  0.746479   \n",
       "DecisionTreeClassifier                  0.805556                  0.760563   \n",
       "RandomForestClassifier                  0.873239                  0.732394   \n",
       "KNeighborsClassifier                    0.873239                  0.732394   \n",
       "SVC                                     0.943662                  0.732394   \n",
       "\n",
       "                        Validação Cruzada Média  Accuracy Score  Precision  \\\n",
       "GaussianNB                             0.792077        0.782123   0.710843   \n",
       "LogisticRegression                     0.813165        0.793296   0.753425   \n",
       "DecisionTreeClassifier                 0.780888        0.776536   0.723684   \n",
       "RandomForestClassifier                 0.799218        0.843575   0.810811   \n",
       "KNeighborsClassifier                   0.803326        0.826816   0.794521   \n",
       "SVC                                    0.823044        0.826816   0.811594   \n",
       "\n",
       "                          Recall  \n",
       "GaussianNB              0.797297  \n",
       "LogisticRegression      0.743243  \n",
       "DecisionTreeClassifier  0.743243  \n",
       "RandomForestClassifier  0.810811  \n",
       "KNeighborsClassifier    0.783784  \n",
       "SVC                     0.756757  "
      ]
     },
     "execution_count": 12,
     "metadata": {},
     "output_type": "execute_result"
    },
    {
     "data": {
      "image/png": "[encoded data removed]",
      "text/plain": [
       "<Figure size 800x550 with 1 Axes>"
      ]
     },
     "metadata": {},
     "output_type": "display_data"
    }
   ],
   "source": [
    "svm = SVC()\n",
    "avaliador_de_algoritmos(svm)"
   ]
  },
  {
   "cell_type": "markdown",
   "id": "2ab80aef-7392-486d-a8d4-98bd7ef70d96",
   "metadata": {},
   "source": [
    "# Redes Neurais"
   ]
  },
  {
   "cell_type": "code",
   "execution_count": 13,
   "id": "638ecf58-1123-4585-9e53-062a8a7a5d4e",
   "metadata": {
    "tags": []
   },
   "outputs": [
    {
     "data": {
      "text/html": [
       "<div>\n",
       "<style scoped>\n",
       "    .dataframe tbody tr th:only-of-type {\n",
       "        vertical-align: middle;\n",
       "    }\n",
       "\n",
       "    .dataframe tbody tr th {\n",
       "        vertical-align: top;\n",
       "    }\n",
       "\n",
       "    .dataframe thead th {\n",
       "        text-align: right;\n",
       "    }\n",
       "</style>\n",
       "<table border=\"1\" class=\"dataframe\">\n",
       "  <thead>\n",
       "    <tr style=\"text-align: right;\">\n",
       "      <th></th>\n",
       "      <th>Validação Cruzada Máximo</th>\n",
       "      <th>Validação Cruzada Mínimo</th>\n",
       "      <th>Validação Cruzada Média</th>\n",
       "      <th>Accuracy Score</th>\n",
       "      <th>Precision</th>\n",
       "      <th>Recall</th>\n",
       "    </tr>\n",
       "  </thead>\n",
       "  <tbody>\n",
       "    <tr>\n",
       "      <th>GaussianNB</th>\n",
       "      <td>0.915493</td>\n",
       "      <td>0.704225</td>\n",
       "      <td>0.792077</td>\n",
       "      <td>0.782123</td>\n",
       "      <td>0.710843</td>\n",
       "      <td>0.797297</td>\n",
       "    </tr>\n",
       "    <tr>\n",
       "      <th>LogisticRegression</th>\n",
       "      <td>0.957746</td>\n",
       "      <td>0.746479</td>\n",
       "      <td>0.813165</td>\n",
       "      <td>0.793296</td>\n",
       "      <td>0.753425</td>\n",
       "      <td>0.743243</td>\n",
       "    </tr>\n",
       "    <tr>\n",
       "      <th>DecisionTreeClassifier</th>\n",
       "      <td>0.805556</td>\n",
       "      <td>0.760563</td>\n",
       "      <td>0.780888</td>\n",
       "      <td>0.776536</td>\n",
       "      <td>0.723684</td>\n",
       "      <td>0.743243</td>\n",
       "    </tr>\n",
       "    <tr>\n",
       "      <th>RandomForestClassifier</th>\n",
       "      <td>0.873239</td>\n",
       "      <td>0.732394</td>\n",
       "      <td>0.799218</td>\n",
       "      <td>0.843575</td>\n",
       "      <td>0.810811</td>\n",
       "      <td>0.810811</td>\n",
       "    </tr>\n",
       "    <tr>\n",
       "      <th>KNeighborsClassifier</th>\n",
       "      <td>0.873239</td>\n",
       "      <td>0.732394</td>\n",
       "      <td>0.803326</td>\n",
       "      <td>0.826816</td>\n",
       "      <td>0.794521</td>\n",
       "      <td>0.783784</td>\n",
       "    </tr>\n",
       "    <tr>\n",
       "      <th>SVC</th>\n",
       "      <td>0.943662</td>\n",
       "      <td>0.732394</td>\n",
       "      <td>0.823044</td>\n",
       "      <td>0.826816</td>\n",
       "      <td>0.811594</td>\n",
       "      <td>0.756757</td>\n",
       "    </tr>\n",
       "    <tr>\n",
       "      <th>MLPClassifier</th>\n",
       "      <td>0.915493</td>\n",
       "      <td>0.746479</td>\n",
       "      <td>0.811776</td>\n",
       "      <td>0.810056</td>\n",
       "      <td>0.803030</td>\n",
       "      <td>0.716216</td>\n",
       "    </tr>\n",
       "  </tbody>\n",
       "</table>\n",
       "</div>"
      ],
      "text/plain": [
       "                        Validação Cruzada Máximo  Validação Cruzada Mínimo  \\\n",
       "GaussianNB                              0.915493                  0.704225   \n",
       "LogisticRegression                      0.957746                  0.746479   \n",
       "DecisionTreeClassifier                  0.805556                  0.760563   \n",
       "RandomForestClassifier                  0.873239                  0.732394   \n",
       "KNeighborsClassifier                    0.873239                  0.732394   \n",
       "SVC                                     0.943662                  0.732394   \n",
       "MLPClassifier                           0.915493                  0.746479   \n",
       "\n",
       "                        Validação Cruzada Média  Accuracy Score  Precision  \\\n",
       "GaussianNB                             0.792077        0.782123   0.710843   \n",
       "LogisticRegression                     0.813165        0.793296   0.753425   \n",
       "DecisionTreeClassifier                 0.780888        0.776536   0.723684   \n",
       "RandomForestClassifier                 0.799218        0.843575   0.810811   \n",
       "KNeighborsClassifier                   0.803326        0.826816   0.794521   \n",
       "SVC                                    0.823044        0.826816   0.811594   \n",
       "MLPClassifier                          0.811776        0.810056   0.803030   \n",
       "\n",
       "                          Recall  \n",
       "GaussianNB              0.797297  \n",
       "LogisticRegression      0.743243  \n",
       "DecisionTreeClassifier  0.743243  \n",
       "RandomForestClassifier  0.810811  \n",
       "KNeighborsClassifier    0.783784  \n",
       "SVC                     0.756757  \n",
       "MLPClassifier           0.716216  "
      ]
     },
     "execution_count": 13,
     "metadata": {},
     "output_type": "execute_result"
    },
    {
     "data": {
      "image/png": "[encoded data removed]",
      "text/plain": [
       "<Figure size 800x550 with 1 Axes>"
      ]
     },
     "metadata": {},
     "output_type": "display_data"
    }
   ],
   "source": [
    "rna = MLPClassifier(max_iter = 900, random_state = 1)\n",
    "avaliador_de_algoritmos(rna)"
   ]
  },
  {
   "cell_type": "markdown",
   "id": "60553bdd",
   "metadata": {},
   "source": [
    "# Gradient Boosting Classifier"
   ]
  },
  {
   "cell_type": "code",
   "execution_count": 14,
   "id": "690e676d-85a2-4319-bd9c-7e4bed361670",
   "metadata": {
    "tags": []
   },
   "outputs": [
    {
     "data": {
      "text/html": [
       "<div>\n",
       "<style scoped>\n",
       "    .dataframe tbody tr th:only-of-type {\n",
       "        vertical-align: middle;\n",
       "    }\n",
       "\n",
       "    .dataframe tbody tr th {\n",
       "        vertical-align: top;\n",
       "    }\n",
       "\n",
       "    .dataframe thead th {\n",
       "        text-align: right;\n",
       "    }\n",
       "</style>\n",
       "<table border=\"1\" class=\"dataframe\">\n",
       "  <thead>\n",
       "    <tr style=\"text-align: right;\">\n",
       "      <th></th>\n",
       "      <th>Validação Cruzada Máximo</th>\n",
       "      <th>Validação Cruzada Mínimo</th>\n",
       "      <th>Validação Cruzada Média</th>\n",
       "      <th>Accuracy Score</th>\n",
       "      <th>Precision</th>\n",
       "      <th>Recall</th>\n",
       "    </tr>\n",
       "  </thead>\n",
       "  <tbody>\n",
       "    <tr>\n",
       "      <th>GaussianNB</th>\n",
       "      <td>0.915493</td>\n",
       "      <td>0.704225</td>\n",
       "      <td>0.792077</td>\n",
       "      <td>0.782123</td>\n",
       "      <td>0.710843</td>\n",
       "      <td>0.797297</td>\n",
       "    </tr>\n",
       "    <tr>\n",
       "      <th>LogisticRegression</th>\n",
       "      <td>0.957746</td>\n",
       "      <td>0.746479</td>\n",
       "      <td>0.813165</td>\n",
       "      <td>0.793296</td>\n",
       "      <td>0.753425</td>\n",
       "      <td>0.743243</td>\n",
       "    </tr>\n",
       "    <tr>\n",
       "      <th>DecisionTreeClassifier</th>\n",
       "      <td>0.805556</td>\n",
       "      <td>0.760563</td>\n",
       "      <td>0.780888</td>\n",
       "      <td>0.776536</td>\n",
       "      <td>0.723684</td>\n",
       "      <td>0.743243</td>\n",
       "    </tr>\n",
       "    <tr>\n",
       "      <th>RandomForestClassifier</th>\n",
       "      <td>0.873239</td>\n",
       "      <td>0.732394</td>\n",
       "      <td>0.799218</td>\n",
       "      <td>0.843575</td>\n",
       "      <td>0.810811</td>\n",
       "      <td>0.810811</td>\n",
       "    </tr>\n",
       "    <tr>\n",
       "      <th>KNeighborsClassifier</th>\n",
       "      <td>0.873239</td>\n",
       "      <td>0.732394</td>\n",
       "      <td>0.803326</td>\n",
       "      <td>0.826816</td>\n",
       "      <td>0.794521</td>\n",
       "      <td>0.783784</td>\n",
       "    </tr>\n",
       "    <tr>\n",
       "      <th>SVC</th>\n",
       "      <td>0.943662</td>\n",
       "      <td>0.732394</td>\n",
       "      <td>0.823044</td>\n",
       "      <td>0.826816</td>\n",
       "      <td>0.811594</td>\n",
       "      <td>0.756757</td>\n",
       "    </tr>\n",
       "    <tr>\n",
       "      <th>MLPClassifier</th>\n",
       "      <td>0.915493</td>\n",
       "      <td>0.746479</td>\n",
       "      <td>0.811776</td>\n",
       "      <td>0.810056</td>\n",
       "      <td>0.803030</td>\n",
       "      <td>0.716216</td>\n",
       "    </tr>\n",
       "    <tr>\n",
       "      <th>GradientBoostingClassifier</th>\n",
       "      <td>0.915493</td>\n",
       "      <td>0.760563</td>\n",
       "      <td>0.825802</td>\n",
       "      <td>0.821229</td>\n",
       "      <td>0.818182</td>\n",
       "      <td>0.729730</td>\n",
       "    </tr>\n",
       "  </tbody>\n",
       "</table>\n",
       "</div>"
      ],
      "text/plain": [
       "                            Validação Cruzada Máximo  \\\n",
       "GaussianNB                                  0.915493   \n",
       "LogisticRegression                          0.957746   \n",
       "DecisionTreeClassifier                      0.805556   \n",
       "RandomForestClassifier                      0.873239   \n",
       "KNeighborsClassifier                        0.873239   \n",
       "SVC                                         0.943662   \n",
       "MLPClassifier                               0.915493   \n",
       "GradientBoostingClassifier                  0.915493   \n",
       "\n",
       "                            Validação Cruzada Mínimo  Validação Cruzada Média  \\\n",
       "GaussianNB                                  0.704225                 0.792077   \n",
       "LogisticRegression                          0.746479                 0.813165   \n",
       "DecisionTreeClassifier                      0.760563                 0.780888   \n",
       "RandomForestClassifier                      0.732394                 0.799218   \n",
       "KNeighborsClassifier                        0.732394                 0.803326   \n",
       "SVC                                         0.732394                 0.823044   \n",
       "MLPClassifier                               0.746479                 0.811776   \n",
       "GradientBoostingClassifier                  0.760563                 0.825802   \n",
       "\n",
       "                            Accuracy Score  Precision    Recall  \n",
       "GaussianNB                        0.782123   0.710843  0.797297  \n",
       "LogisticRegression                0.793296   0.753425  0.743243  \n",
       "DecisionTreeClassifier            0.776536   0.723684  0.743243  \n",
       "RandomForestClassifier            0.843575   0.810811  0.810811  \n",
       "KNeighborsClassifier              0.826816   0.794521  0.783784  \n",
       "SVC                               0.826816   0.811594  0.756757  \n",
       "MLPClassifier                     0.810056   0.803030  0.716216  \n",
       "GradientBoostingClassifier        0.821229   0.818182  0.729730  "
      ]
     },
     "execution_count": 14,
     "metadata": {},
     "output_type": "execute_result"
    },
    {
     "data": {
      "image/png": "[encoded data removed]",
      "text/plain": [
       "<Figure size 800x550 with 1 Axes>"
      ]
     },
     "metadata": {},
     "output_type": "display_data"
    }
   ],
   "source": [
    "gradient = GradientBoostingClassifier()\n",
    "avaliador_de_algoritmos(gradient)"
   ]
  },
  {
   "cell_type": "code",
   "execution_count": 15,
   "id": "1c406001-454b-4c19-95e9-385b96e735b4",
   "metadata": {
    "tags": []
   },
   "outputs": [
    {
     "data": {
      "text/html": [
       "<div>\n",
       "<style scoped>\n",
       "    .dataframe tbody tr th:only-of-type {\n",
       "        vertical-align: middle;\n",
       "    }\n",
       "\n",
       "    .dataframe tbody tr th {\n",
       "        vertical-align: top;\n",
       "    }\n",
       "\n",
       "    .dataframe thead th {\n",
       "        text-align: right;\n",
       "    }\n",
       "</style>\n",
       "<table border=\"1\" class=\"dataframe\">\n",
       "  <thead>\n",
       "    <tr style=\"text-align: right;\">\n",
       "      <th></th>\n",
       "      <th>Validação Cruzada Máximo</th>\n",
       "      <th>Validação Cruzada Mínimo</th>\n",
       "      <th>Validação Cruzada Média</th>\n",
       "      <th>Accuracy Score</th>\n",
       "      <th>Precision</th>\n",
       "      <th>Recall</th>\n",
       "    </tr>\n",
       "  </thead>\n",
       "  <tbody>\n",
       "    <tr>\n",
       "      <th>GaussianNB</th>\n",
       "      <td>0.915493</td>\n",
       "      <td>0.704225</td>\n",
       "      <td>0.792077</td>\n",
       "      <td>0.782123</td>\n",
       "      <td>0.710843</td>\n",
       "      <td>0.797297</td>\n",
       "    </tr>\n",
       "    <tr>\n",
       "      <th>LogisticRegression</th>\n",
       "      <td>0.957746</td>\n",
       "      <td>0.746479</td>\n",
       "      <td>0.813165</td>\n",
       "      <td>0.793296</td>\n",
       "      <td>0.753425</td>\n",
       "      <td>0.743243</td>\n",
       "    </tr>\n",
       "    <tr>\n",
       "      <th>DecisionTreeClassifier</th>\n",
       "      <td>0.805556</td>\n",
       "      <td>0.760563</td>\n",
       "      <td>0.780888</td>\n",
       "      <td>0.776536</td>\n",
       "      <td>0.723684</td>\n",
       "      <td>0.743243</td>\n",
       "    </tr>\n",
       "    <tr>\n",
       "      <th>RandomForestClassifier</th>\n",
       "      <td>0.873239</td>\n",
       "      <td>0.732394</td>\n",
       "      <td>0.799218</td>\n",
       "      <td>0.843575</td>\n",
       "      <td>0.810811</td>\n",
       "      <td>0.810811</td>\n",
       "    </tr>\n",
       "    <tr>\n",
       "      <th>KNeighborsClassifier</th>\n",
       "      <td>0.873239</td>\n",
       "      <td>0.732394</td>\n",
       "      <td>0.803326</td>\n",
       "      <td>0.826816</td>\n",
       "      <td>0.794521</td>\n",
       "      <td>0.783784</td>\n",
       "    </tr>\n",
       "    <tr>\n",
       "      <th>SVC</th>\n",
       "      <td>0.943662</td>\n",
       "      <td>0.732394</td>\n",
       "      <td>0.823044</td>\n",
       "      <td>0.826816</td>\n",
       "      <td>0.811594</td>\n",
       "      <td>0.756757</td>\n",
       "    </tr>\n",
       "    <tr>\n",
       "      <th>MLPClassifier</th>\n",
       "      <td>0.915493</td>\n",
       "      <td>0.746479</td>\n",
       "      <td>0.811776</td>\n",
       "      <td>0.810056</td>\n",
       "      <td>0.803030</td>\n",
       "      <td>0.716216</td>\n",
       "    </tr>\n",
       "    <tr>\n",
       "      <th>GradientBoostingClassifier</th>\n",
       "      <td>0.915493</td>\n",
       "      <td>0.760563</td>\n",
       "      <td>0.825802</td>\n",
       "      <td>0.821229</td>\n",
       "      <td>0.818182</td>\n",
       "      <td>0.729730</td>\n",
       "    </tr>\n",
       "  </tbody>\n",
       "</table>\n",
       "</div>"
      ],
      "text/plain": [
       "                            Validação Cruzada Máximo  \\\n",
       "GaussianNB                                  0.915493   \n",
       "LogisticRegression                          0.957746   \n",
       "DecisionTreeClassifier                      0.805556   \n",
       "RandomForestClassifier                      0.873239   \n",
       "KNeighborsClassifier                        0.873239   \n",
       "SVC                                         0.943662   \n",
       "MLPClassifier                               0.915493   \n",
       "GradientBoostingClassifier                  0.915493   \n",
       "\n",
       "                            Validação Cruzada Mínimo  Validação Cruzada Média  \\\n",
       "GaussianNB                                  0.704225                 0.792077   \n",
       "LogisticRegression                          0.746479                 0.813165   \n",
       "DecisionTreeClassifier                      0.760563                 0.780888   \n",
       "RandomForestClassifier                      0.732394                 0.799218   \n",
       "KNeighborsClassifier                        0.732394                 0.803326   \n",
       "SVC                                         0.732394                 0.823044   \n",
       "MLPClassifier                               0.746479                 0.811776   \n",
       "GradientBoostingClassifier                  0.760563                 0.825802   \n",
       "\n",
       "                            Accuracy Score  Precision    Recall  \n",
       "GaussianNB                        0.782123   0.710843  0.797297  \n",
       "LogisticRegression                0.793296   0.753425  0.743243  \n",
       "DecisionTreeClassifier            0.776536   0.723684  0.743243  \n",
       "RandomForestClassifier            0.843575   0.810811  0.810811  \n",
       "KNeighborsClassifier              0.826816   0.794521  0.783784  \n",
       "SVC                               0.826816   0.811594  0.756757  \n",
       "MLPClassifier                     0.810056   0.803030  0.716216  \n",
       "GradientBoostingClassifier        0.821229   0.818182  0.729730  "
      ]
     },
     "execution_count": 15,
     "metadata": {},
     "output_type": "execute_result"
    }
   ],
   "source": [
    "# Exibindo todos os resultados, com validação cruzada, accuracy score, precision e recall\n",
    "resultados_metricas"
   ]
  },
  {
   "cell_type": "markdown",
   "id": "a74aa666",
   "metadata": {},
   "source": [
    "# Tuning\n",
    "#### Teste dos parametros para todos os modelos\n",
    "- Será testado todos os conjuntos de parametros especificados em cada um dos modelos\n",
    "- O Naive Bayes é um algoritmo bastante simples e robusto, e muitas vezes não requer ajuste de hiperparâmetros."
   ]
  },
  {
   "cell_type": "code",
   "execution_count": 16,
   "id": "02f46a30-44b1-4e73-ab5a-3c3763a775a0",
   "metadata": {
    "tags": []
   },
   "outputs": [],
   "source": [
    "res = pd.DataFrame(resultados_metricas['Validação Cruzada Média']) # df novo só com essa coluna\n",
    "res_param = [0.0] # vamos guardar os scores aqui para comparar com o df acima"
   ]
  },
  {
   "cell_type": "code",
   "execution_count": 17,
   "id": "d5f32441",
   "metadata": {
    "tags": []
   },
   "outputs": [],
   "source": [
    "# Função que imprime o nome do classificador, seu melhor resultado e os melhores combinações de parametros encontrados\n",
    "def clf_performance(classifier, model_name, res_param):\n",
    "    print(model_name)\n",
    "    print('Best Score: ' + str(classifier.best_score_))\n",
    "    print('Best Parameters: ' + str(classifier.best_params_))\n",
    "    res_param.append(classifier.best_score_)\n",
    "    return res_param"
   ]
  },
  {
   "cell_type": "code",
   "execution_count": 18,
   "id": "0f6d29b0-1deb-4ced-9c07-ed5da535bdf1",
   "metadata": {
    "tags": []
   },
   "outputs": [],
   "source": [
    "import warnings\n",
    "from sklearn.exceptions import FitFailedWarning\n",
    "\n",
    "# Como vamos testar muitos parametros isso gera um erro nos treinos, vamos ignorar os avisos dos treinos que falharam e exibir os resultados\n",
    "warnings.filterwarnings(\"ignore\", category=FitFailedWarning)\n",
    "warnings.filterwarnings(\"ignore\", category=UserWarning)"
   ]
  },
  {
   "cell_type": "code",
   "execution_count": 19,
   "id": "99fbd15f",
   "metadata": {
    "tags": []
   },
   "outputs": [
    {
     "name": "stdout",
     "output_type": "stream",
     "text": [
      "Fitting 10 folds for each of 144 candidates, totalling 1440 fits\n",
      "Logistic Regression\n",
      "Best Score: 0.8145735524256651\n",
      "Best Parameters: {'C': 0.1, 'max_iter': 2000, 'penalty': 'l2', 'solver': 'saga', 'tol': 0.0001}\n"
     ]
    },
    {
     "data": {
      "text/plain": [
       "[0.0, 0.8145735524256651]"
      ]
     },
     "execution_count": 19,
     "metadata": {},
     "output_type": "execute_result"
    }
   ],
   "source": [
    "# Regressão Logistica\n",
    "lr = LogisticRegression()\n",
    "param_grid = {'penalty' : ['l1', 'l2'],\n",
    "              'tol': [0.0001, 0.001, 0.01],\n",
    "              'C' : [0.001, 0.01, 0.1, 1, 10, 100],\n",
    "              'solver' : ['liblinear', 'saga', 'newton-cg', 'lbfgs'],\n",
    "              'max_iter' : [2000]}\n",
    "\n",
    "clf_lr = GridSearchCV(lr, param_grid = param_grid, verbose = True, cv = 10, n_jobs = -1)\n",
    "best_clf_lr = clf_lr.fit(X_train,y_train)\n",
    "clf_performance(best_clf_lr,'Logistic Regression', res_param)"
   ]
  },
  {
   "cell_type": "code",
   "execution_count": 20,
   "id": "7bb85834",
   "metadata": {
    "tags": []
   },
   "outputs": [
    {
     "name": "stdout",
     "output_type": "stream",
     "text": [
      "Fitting 10 folds for each of 12150 candidates, totalling 121500 fits\n",
      "Decision Tree\n",
      "Best Score: 0.8314162754303599\n",
      "Best Parameters: {'criterion': 'gini', 'max_depth': 5, 'max_features': 'sqrt', 'min_samples_leaf': 9, 'min_samples_split': 2, 'splitter': 'best'}\n"
     ]
    },
    {
     "data": {
      "text/plain": [
       "[0.0, 0.8145735524256651, 0.8314162754303599]"
      ]
     },
     "execution_count": 20,
     "metadata": {},
     "output_type": "execute_result"
    }
   ],
   "source": [
    "# Arvore de Decisão\n",
    "arvore = tree.DecisionTreeClassifier()\n",
    "param_grid = {'criterion': ['gini', 'entropy', 'log_loss'],\n",
    "              'splitter': ['best', 'random'],\n",
    "              'max_depth': [None, 3, 5, 10, 20],\n",
    "              'min_samples_split': [n for n in range(2, 11)],\n",
    "              'min_samples_leaf': [n for n in range(1, 16)],\n",
    "              'max_features': ['auto', 'sqrt', 'log2']}\n",
    "\n",
    "clf_arvore = GridSearchCV(arvore, param_grid = param_grid, verbose = True, cv = 10, n_jobs = -1)\n",
    "best_clf_arvore = clf_arvore.fit(X_train,y_train)\n",
    "clf_performance(best_clf_arvore,'Decision Tree', res_param)"
   ]
  },
  {
   "cell_type": "code",
   "execution_count": 21,
   "id": "bd0fa22e-b2ce-4c01-9a67-f7ca9af2be86",
   "metadata": {
    "tags": []
   },
   "outputs": [
    {
     "name": "stdout",
     "output_type": "stream",
     "text": [
      "Fitting 5 folds for each of 4608 candidates, totalling 23040 fits\n",
      "Random Forest\n",
      "Best Score: 0.8482812961686201\n",
      "Best Parameters: {'bootstrap': True, 'criterion': 'entropy', 'max_depth': 10, 'max_features': None, 'min_samples_leaf': 2, 'min_samples_split': 10, 'n_estimators': 50}\n"
     ]
    },
    {
     "data": {
      "text/plain": [
       "[0.0, 0.8145735524256651, 0.8314162754303599, 0.8482812961686201]"
      ]
     },
     "execution_count": 21,
     "metadata": {},
     "output_type": "execute_result"
    }
   ],
   "source": [
    "# Random Forest\n",
    "rf = RandomForestClassifier()\n",
    "param_grid = {'n_estimators': [50, 100, 150, 200],\n",
    "              'criterion': ['gini','entropy'],\n",
    "              'max_depth': [None, 3, 5, 10, 20, 25],\n",
    "              'min_samples_split': [2, 3, 5, 10],\n",
    "              'min_samples_leaf': [1, 2, 4],\n",
    "              'max_features': ['auto','sqrt','log2', None],\n",
    "              'bootstrap': [True, False]}\n",
    "                                  \n",
    "clf_rf = GridSearchCV(rf, param_grid = param_grid, cv = 5, verbose = True, n_jobs = -1)\n",
    "best_clf_rf = clf_rf.fit(X_train,y_train)\n",
    "clf_performance(best_clf_rf,'Random Forest', res_param)"
   ]
  },
  {
   "cell_type": "code",
   "execution_count": 22,
   "id": "e780b108",
   "metadata": {
    "tags": []
   },
   "outputs": [
    {
     "name": "stdout",
     "output_type": "stream",
     "text": [
      "KNN\n",
      "Best Score: 0.8314358372456964\n",
      "Best Parameters: {'algorithm': 'auto', 'n_neighbors': 12, 'p': 2, 'weights': 'uniform'}\n"
     ]
    },
    {
     "data": {
      "text/plain": [
       "[0.0,\n",
       " 0.8145735524256651,\n",
       " 0.8314162754303599,\n",
       " 0.8482812961686201,\n",
       " 0.8314358372456964]"
      ]
     },
     "execution_count": 22,
     "metadata": {},
     "output_type": "execute_result"
    }
   ],
   "source": [
    "# KNN\n",
    "knn = KNeighborsClassifier()\n",
    "param_grid = {'n_neighbors' : [n for n in range(3, 25)],\n",
    "              'weights' : ['uniform', 'distance'],\n",
    "              'algorithm': ['auto', 'ball_tree', 'kd_tree', 'brute'],\n",
    "              'p' : [1,2]}\n",
    "clf_knn = GridSearchCV(knn, param_grid = param_grid, cv = 10, n_jobs = -1)\n",
    "best_clf_knn = clf_knn.fit(X_train,y_train)\n",
    "clf_performance(best_clf_knn,'KNN', res_param)"
   ]
  },
  {
   "cell_type": "code",
   "execution_count": 23,
   "id": "195e64f3-716e-4668-8d2a-a17fa5e64511",
   "metadata": {
    "tags": []
   },
   "outputs": [
    {
     "name": "stdout",
     "output_type": "stream",
     "text": [
      "Fitting 5 folds for each of 108 candidates, totalling 540 fits\n",
      "SVC\n",
      "Best Score: 0.8300305328474342\n",
      "Best Parameters: {'C': 0.1, 'degree': 3, 'gamma': 0.1, 'kernel': 'poly'}\n"
     ]
    },
    {
     "data": {
      "text/plain": [
       "[0.0,\n",
       " 0.8145735524256651,\n",
       " 0.8314162754303599,\n",
       " 0.8482812961686201,\n",
       " 0.8314358372456964,\n",
       " 0.8300305328474342]"
      ]
     },
     "execution_count": 23,
     "metadata": {},
     "output_type": "execute_result"
    }
   ],
   "source": [
    "# SVM\n",
    "svc = SVC(probability = True)\n",
    "param_grid = {\n",
    "    'kernel': ['linear', 'rbf', 'poly', 'sigmoid'],\n",
    "    'C': [0.001, 0.01, 0.1],\n",
    "    'gamma': [0.001, 0.01, 0.1],\n",
    "    'degree': [2, 3, 4]\n",
    "}\n",
    "clf_svc = GridSearchCV(svc, param_grid = param_grid, cv = 5, verbose = True, n_jobs = -1)\n",
    "best_clf_svc = clf_svc.fit(X_train,y_train)\n",
    "clf_performance(best_clf_svc,'SVC', res_param)"
   ]
  },
  {
   "cell_type": "code",
   "execution_count": 24,
   "id": "2a8843ba",
   "metadata": {
    "tags": []
   },
   "outputs": [
    {
     "name": "stdout",
     "output_type": "stream",
     "text": [
      "Fitting 5 folds for each of 18 candidates, totalling 90 fits\n",
      "Rede Neurais\n",
      "Best Score: 0.8258150300403821\n",
      "Best Parameters: {'activation': 'relu', 'batch_size': 56, 'hidden_layer_sizes': (10, 10), 'max_iter': 2500, 'solver': 'sgd'}\n"
     ]
    },
    {
     "data": {
      "text/plain": [
       "[0.0,\n",
       " 0.8145735524256651,\n",
       " 0.8314162754303599,\n",
       " 0.8482812961686201,\n",
       " 0.8314358372456964,\n",
       " 0.8300305328474342,\n",
       " 0.8258150300403821]"
      ]
     },
     "execution_count": 24,
     "metadata": {},
     "output_type": "execute_result"
    }
   ],
   "source": [
    "# Rede Neural\n",
    "rna = MLPClassifier(random_state = 1)\n",
    "param_grid = [{'activation': ['relu', 'logistic', 'tanh'],\n",
    "              'solver': ['adam', 'sgd'],\n",
    "              'batch_size': [56],\n",
    "              'max_iter': [2500],\n",
    "              'hidden_layer_sizes': [(5,5), (10,10), (20,20)]}]\n",
    "                                  \n",
    "clf_rna = GridSearchCV(rna, param_grid = param_grid, cv = 5, verbose = True, n_jobs = -1)\n",
    "best_clf_rna = clf_rna.fit(X_train,y_train)\n",
    "clf_performance(best_clf_rna,'Rede Neurais', res_param)"
   ]
  },
  {
   "cell_type": "code",
   "execution_count": 25,
   "id": "e5a9bc14",
   "metadata": {
    "tags": []
   },
   "outputs": [
    {
     "name": "stdout",
     "output_type": "stream",
     "text": [
      "Gradient Boosting\n",
      "Best Score: 0.8328834115805946\n",
      "Best Parameters: {'max_depth': 3, 'min_samples_leaf': 2, 'min_samples_split': 2, 'n_estimators': 10}\n"
     ]
    },
    {
     "data": {
      "text/plain": [
       "[0.0,\n",
       " 0.8145735524256651,\n",
       " 0.8314162754303599,\n",
       " 0.8482812961686201,\n",
       " 0.8314358372456964,\n",
       " 0.8300305328474342,\n",
       " 0.8258150300403821,\n",
       " 0.8328834115805946]"
      ]
     },
     "execution_count": 25,
     "metadata": {},
     "output_type": "execute_result"
    }
   ],
   "source": [
    "# Gradient Boosting\n",
    "gbc = GradientBoostingClassifier()\n",
    "param_grid = [{'max_depth': [n for n in range(1, 5)],     \n",
    "    'min_samples_split': [n for n in range(2, 6)], \n",
    "    'min_samples_leaf': [n for n in range(2, 6)],     \n",
    "    'n_estimators': [n for n in range(10, 50, 10)],}]\n",
    "\n",
    "clf_gbc = GridSearchCV(gbc, param_grid = param_grid, cv = 10, n_jobs = -1)\n",
    "best_clf_gbc = clf_gbc.fit(X_train,y_train)\n",
    "clf_performance(best_clf_gbc,'Gradient Boosting', res_param)"
   ]
  },
  {
   "cell_type": "markdown",
   "id": "6a7909de-d8d0-48bd-8be9-a4cbb930394e",
   "metadata": {},
   "source": [
    "# Comparing\n",
    "#### Comparando os resultados dos modelos com e sem o tuning dos parametros\n",
    "- Podemos notar que todos os modelos tiveram uma melhoria na acuracia\n",
    "- Alguns modelos não sofreram alterações relevantes nos resultados, pois nem sempre o tuning acaba melhorando o desempenho do modelo"
   ]
  },
  {
   "cell_type": "code",
   "execution_count": 26,
   "id": "95c446f7-5e0e-4154-a654-285e0976105b",
   "metadata": {
    "tags": []
   },
   "outputs": [
    {
     "data": {
      "text/html": [
       "<div>\n",
       "<style scoped>\n",
       "    .dataframe tbody tr th:only-of-type {\n",
       "        vertical-align: middle;\n",
       "    }\n",
       "\n",
       "    .dataframe tbody tr th {\n",
       "        vertical-align: top;\n",
       "    }\n",
       "\n",
       "    .dataframe thead th {\n",
       "        text-align: right;\n",
       "    }\n",
       "</style>\n",
       "<table border=\"1\" class=\"dataframe\">\n",
       "  <thead>\n",
       "    <tr style=\"text-align: right;\">\n",
       "      <th></th>\n",
       "      <th>Validação Cruzada Média</th>\n",
       "      <th>Com Tuning</th>\n",
       "    </tr>\n",
       "  </thead>\n",
       "  <tbody>\n",
       "    <tr>\n",
       "      <th>GaussianNB</th>\n",
       "      <td>0.792077</td>\n",
       "      <td>0.000000</td>\n",
       "    </tr>\n",
       "    <tr>\n",
       "      <th>LogisticRegression</th>\n",
       "      <td>0.813165</td>\n",
       "      <td>0.814574</td>\n",
       "    </tr>\n",
       "    <tr>\n",
       "      <th>DecisionTreeClassifier</th>\n",
       "      <td>0.780888</td>\n",
       "      <td>0.831416</td>\n",
       "    </tr>\n",
       "    <tr>\n",
       "      <th>RandomForestClassifier</th>\n",
       "      <td>0.799218</td>\n",
       "      <td>0.848281</td>\n",
       "    </tr>\n",
       "    <tr>\n",
       "      <th>KNeighborsClassifier</th>\n",
       "      <td>0.803326</td>\n",
       "      <td>0.831436</td>\n",
       "    </tr>\n",
       "    <tr>\n",
       "      <th>SVC</th>\n",
       "      <td>0.823044</td>\n",
       "      <td>0.830031</td>\n",
       "    </tr>\n",
       "    <tr>\n",
       "      <th>MLPClassifier</th>\n",
       "      <td>0.811776</td>\n",
       "      <td>0.825815</td>\n",
       "    </tr>\n",
       "    <tr>\n",
       "      <th>GradientBoostingClassifier</th>\n",
       "      <td>0.825802</td>\n",
       "      <td>0.832883</td>\n",
       "    </tr>\n",
       "  </tbody>\n",
       "</table>\n",
       "</div>"
      ],
      "text/plain": [
       "                            Validação Cruzada Média  Com Tuning\n",
       "GaussianNB                                 0.792077    0.000000\n",
       "LogisticRegression                         0.813165    0.814574\n",
       "DecisionTreeClassifier                     0.780888    0.831416\n",
       "RandomForestClassifier                     0.799218    0.848281\n",
       "KNeighborsClassifier                       0.803326    0.831436\n",
       "SVC                                        0.823044    0.830031\n",
       "MLPClassifier                              0.811776    0.825815\n",
       "GradientBoostingClassifier                 0.825802    0.832883"
      ]
     },
     "execution_count": 26,
     "metadata": {},
     "output_type": "execute_result"
    }
   ],
   "source": [
    "# Adicionando os resultados com tuning no DF\n",
    "res['Com Tuning'] = res_param\n",
    "res"
   ]
  },
  {
   "cell_type": "code",
   "execution_count": 27,
   "id": "f0f0729a-fdca-44f4-af7f-dd02bd3b3931",
   "metadata": {
    "tags": []
   },
   "outputs": [],
   "source": [
    "# Criando a coluna diferença para uma melhor visualização\n",
    "diferenca = res['Com Tuning'] - res['Validação Cruzada Média']\n",
    "res['Melhoria'] = diferenca\n",
    "res['Melhoria'] = res.Melhoria.replace(res['Melhoria'].iloc[0], 0.000000)"
   ]
  },
  {
   "cell_type": "code",
   "execution_count": 28,
   "id": "09bcde0b-bb57-43cb-9c00-51d19858f2cb",
   "metadata": {
    "tags": []
   },
   "outputs": [
    {
     "data": {
      "text/html": [
       "<div>\n",
       "<style scoped>\n",
       "    .dataframe tbody tr th:only-of-type {\n",
       "        vertical-align: middle;\n",
       "    }\n",
       "\n",
       "    .dataframe tbody tr th {\n",
       "        vertical-align: top;\n",
       "    }\n",
       "\n",
       "    .dataframe thead th {\n",
       "        text-align: right;\n",
       "    }\n",
       "</style>\n",
       "<table border=\"1\" class=\"dataframe\">\n",
       "  <thead>\n",
       "    <tr style=\"text-align: right;\">\n",
       "      <th></th>\n",
       "      <th>Validação Cruzada Média</th>\n",
       "      <th>Com Tuning</th>\n",
       "      <th>Melhoria</th>\n",
       "    </tr>\n",
       "  </thead>\n",
       "  <tbody>\n",
       "    <tr>\n",
       "      <th>GaussianNB</th>\n",
       "      <td>0.792077</td>\n",
       "      <td>0.000000</td>\n",
       "      <td>0.000000</td>\n",
       "    </tr>\n",
       "    <tr>\n",
       "      <th>LogisticRegression</th>\n",
       "      <td>0.813165</td>\n",
       "      <td>0.814574</td>\n",
       "      <td>0.001408</td>\n",
       "    </tr>\n",
       "    <tr>\n",
       "      <th>DecisionTreeClassifier</th>\n",
       "      <td>0.780888</td>\n",
       "      <td>0.831416</td>\n",
       "      <td>0.050528</td>\n",
       "    </tr>\n",
       "    <tr>\n",
       "      <th>RandomForestClassifier</th>\n",
       "      <td>0.799218</td>\n",
       "      <td>0.848281</td>\n",
       "      <td>0.049064</td>\n",
       "    </tr>\n",
       "    <tr>\n",
       "      <th>KNeighborsClassifier</th>\n",
       "      <td>0.803326</td>\n",
       "      <td>0.831436</td>\n",
       "      <td>0.028110</td>\n",
       "    </tr>\n",
       "    <tr>\n",
       "      <th>SVC</th>\n",
       "      <td>0.823044</td>\n",
       "      <td>0.830031</td>\n",
       "      <td>0.006987</td>\n",
       "    </tr>\n",
       "    <tr>\n",
       "      <th>MLPClassifier</th>\n",
       "      <td>0.811776</td>\n",
       "      <td>0.825815</td>\n",
       "      <td>0.014039</td>\n",
       "    </tr>\n",
       "    <tr>\n",
       "      <th>GradientBoostingClassifier</th>\n",
       "      <td>0.825802</td>\n",
       "      <td>0.832883</td>\n",
       "      <td>0.007081</td>\n",
       "    </tr>\n",
       "  </tbody>\n",
       "</table>\n",
       "</div>"
      ],
      "text/plain": [
       "                            Validação Cruzada Média  Com Tuning  Melhoria\n",
       "GaussianNB                                 0.792077    0.000000  0.000000\n",
       "LogisticRegression                         0.813165    0.814574  0.001408\n",
       "DecisionTreeClassifier                     0.780888    0.831416  0.050528\n",
       "RandomForestClassifier                     0.799218    0.848281  0.049064\n",
       "KNeighborsClassifier                       0.803326    0.831436  0.028110\n",
       "SVC                                        0.823044    0.830031  0.006987\n",
       "MLPClassifier                              0.811776    0.825815  0.014039\n",
       "GradientBoostingClassifier                 0.825802    0.832883  0.007081"
      ]
     },
     "execution_count": 28,
     "metadata": {},
     "output_type": "execute_result"
    }
   ],
   "source": [
    "# Arvore de decisão melhorou 6%\n",
    "# Random Forest melhorou 5%\n",
    "# KNN melhorou 3%\n",
    "# Redes Neurais melhorou 1%\n",
    "res"
   ]
  },
  {
   "cell_type": "markdown",
   "id": "f77da30c-acd4-4526-8ca8-421b1eeb7319",
   "metadata": {},
   "source": [
    "# Cross Validation\n",
    "#### Avaliação dos resultados (com o ajuste de parametros)\n",
    "- Na analise dos resultados dos modelos sem parametros, usamos as métricas validação cruzada, accuracy score, precision, recall e matriz de confusão\n",
    "    - Agora com os melhores parametros, vamos usar a média dos resultados da validação cruzada para vermos se houve uma melhora nos resultados após o Tuning dos parametros"
   ]
  },
  {
   "cell_type": "code",
   "execution_count": 29,
   "id": "6d9377c7-cebc-4932-aa1b-07e3c952a8ef",
   "metadata": {
    "tags": []
   },
   "outputs": [],
   "source": [
    "# Criando cada modelo com a melhor combinação de parametros\n",
    "best_lr = best_clf_lr.best_estimator_\n",
    "best_tree = best_clf_arvore.best_estimator_\n",
    "best_knn = best_clf_knn.best_estimator_\n",
    "best_svc = best_clf_svc.best_estimator_\n",
    "best_rf = best_clf_rf.best_estimator_\n",
    "best_rna = best_clf_rna.best_estimator_\n",
    "best_gbc = best_clf_gbc.best_estimator_"
   ]
  },
  {
   "cell_type": "code",
   "execution_count": 30,
   "id": "c8fdce4a-134b-4137-8cf3-8d96a4664577",
   "metadata": {
    "tags": []
   },
   "outputs": [
    {
     "name": "stdout",
     "output_type": "stream",
     "text": [
      "Teste: 1\n",
      "Teste: 2\n",
      "Teste: 3\n",
      "Teste: 4\n",
      "Teste: 5\n",
      "Teste: 6\n",
      "Teste: 7\n",
      "Teste: 8\n",
      "Teste: 9\n",
      "Teste: 10\n",
      "Teste: 11\n",
      "Teste: 12\n",
      "Teste: 13\n",
      "Teste: 14\n",
      "Teste: 15\n",
      "Teste: 16\n",
      "Teste: 17\n",
      "Teste: 18\n",
      "Teste: 19\n",
      "Teste: 20\n",
      "Teste: 21\n",
      "Teste: 22\n",
      "Teste: 23\n",
      "Teste: 24\n",
      "Teste: 25\n",
      "Teste: 26\n",
      "Teste: 27\n",
      "Teste: 28\n",
      "Teste: 29\n",
      "Teste: 30\n"
     ]
    }
   ],
   "source": [
    "resultados_arvore = []\n",
    "resultados_random_forest = []\n",
    "resultados_knn = []\n",
    "resultados_logistica = []\n",
    "resultados_svm = []\n",
    "resultados_rede_neural = []\n",
    "resultados_gradient = []\n",
    "\n",
    "# folds significa o numero de partes que a base de treino e teste será separada\n",
    "# Na variavel resultados temos a media dos 10 resultados, vamos usar esses resultados para fazer o comparativo entre os algoritmos\n",
    "\n",
    "for i in range(30):\n",
    "    print(f'Teste: {i + 1}')\n",
    "    kfold = KFold(n_splits=10, shuffle=True, random_state=i)\n",
    "\n",
    "    scores = cross_val_score(best_tree, X_train, y_train, cv = kfold)\n",
    "    resultados_arvore.append(scores.mean())\n",
    "\n",
    "    scores = cross_val_score(best_rf, X_train, y_train, cv = kfold)\n",
    "    resultados_random_forest.append(scores.mean())\n",
    "\n",
    "    scores = cross_val_score(best_knn, X_train, y_train, cv = kfold)\n",
    "    resultados_knn.append(scores.mean())\n",
    "\n",
    "    scores = cross_val_score(best_lr, X_train, y_train, cv = kfold)\n",
    "    resultados_logistica.append(scores.mean())\n",
    "\n",
    "    scores = cross_val_score(best_svc, X_train, y_train, cv = kfold)\n",
    "    resultados_svm.append(scores.mean())\n",
    "\n",
    "    scores = cross_val_score(best_rna, X_train, y_train, cv = kfold)\n",
    "    resultados_rede_neural.append(scores.mean())\n",
    "    \n",
    "    scores = cross_val_score(best_gbc, X_train, y_train, cv = kfold)\n",
    "    resultados_gradient.append(scores.mean())"
   ]
  },
  {
   "cell_type": "code",
   "execution_count": 31,
   "id": "9ddf5dc7-925d-43ab-a737-679e7e47f15b",
   "metadata": {
    "tags": []
   },
   "outputs": [
    {
     "data": {
      "text/html": [
       "<div>\n",
       "<style scoped>\n",
       "    .dataframe tbody tr th:only-of-type {\n",
       "        vertical-align: middle;\n",
       "    }\n",
       "\n",
       "    .dataframe tbody tr th {\n",
       "        vertical-align: top;\n",
       "    }\n",
       "\n",
       "    .dataframe thead th {\n",
       "        text-align: right;\n",
       "    }\n",
       "</style>\n",
       "<table border=\"1\" class=\"dataframe\">\n",
       "  <thead>\n",
       "    <tr style=\"text-align: right;\">\n",
       "      <th></th>\n",
       "      <th>Arvore</th>\n",
       "      <th>Random forest</th>\n",
       "      <th>KNN</th>\n",
       "      <th>Logistica</th>\n",
       "      <th>SVM</th>\n",
       "      <th>Rede neural</th>\n",
       "      <th>GBC</th>\n",
       "    </tr>\n",
       "  </thead>\n",
       "  <tbody>\n",
       "    <tr>\n",
       "      <th>0</th>\n",
       "      <td>0.806358</td>\n",
       "      <td>0.841432</td>\n",
       "      <td>0.842860</td>\n",
       "      <td>0.813341</td>\n",
       "      <td>0.833020</td>\n",
       "      <td>0.823220</td>\n",
       "      <td>0.835837</td>\n",
       "    </tr>\n",
       "    <tr>\n",
       "      <th>1</th>\n",
       "      <td>0.780732</td>\n",
       "      <td>0.834174</td>\n",
       "      <td>0.828580</td>\n",
       "      <td>0.807473</td>\n",
       "      <td>0.839808</td>\n",
       "      <td>0.821577</td>\n",
       "      <td>0.828541</td>\n",
       "    </tr>\n",
       "    <tr>\n",
       "      <th>2</th>\n",
       "      <td>0.801917</td>\n",
       "      <td>0.832786</td>\n",
       "      <td>0.841295</td>\n",
       "      <td>0.806123</td>\n",
       "      <td>0.837070</td>\n",
       "      <td>0.821557</td>\n",
       "      <td>0.832844</td>\n",
       "    </tr>\n",
       "    <tr>\n",
       "      <th>3</th>\n",
       "      <td>0.803443</td>\n",
       "      <td>0.832864</td>\n",
       "      <td>0.837070</td>\n",
       "      <td>0.816021</td>\n",
       "      <td>0.837031</td>\n",
       "      <td>0.831397</td>\n",
       "      <td>0.827230</td>\n",
       "    </tr>\n",
       "    <tr>\n",
       "      <th>4</th>\n",
       "      <td>0.804714</td>\n",
       "      <td>0.835681</td>\n",
       "      <td>0.834253</td>\n",
       "      <td>0.811796</td>\n",
       "      <td>0.838439</td>\n",
       "      <td>0.824354</td>\n",
       "      <td>0.830086</td>\n",
       "    </tr>\n",
       "    <tr>\n",
       "      <th>5</th>\n",
       "      <td>0.799139</td>\n",
       "      <td>0.835642</td>\n",
       "      <td>0.834233</td>\n",
       "      <td>0.808959</td>\n",
       "      <td>0.835642</td>\n",
       "      <td>0.815962</td>\n",
       "      <td>0.828678</td>\n",
       "    </tr>\n",
       "    <tr>\n",
       "      <th>6</th>\n",
       "      <td>0.796322</td>\n",
       "      <td>0.835720</td>\n",
       "      <td>0.827210</td>\n",
       "      <td>0.816002</td>\n",
       "      <td>0.839867</td>\n",
       "      <td>0.823044</td>\n",
       "      <td>0.827210</td>\n",
       "    </tr>\n",
       "    <tr>\n",
       "      <th>7</th>\n",
       "      <td>0.811815</td>\n",
       "      <td>0.827445</td>\n",
       "      <td>0.832883</td>\n",
       "      <td>0.807766</td>\n",
       "      <td>0.839906</td>\n",
       "      <td>0.820266</td>\n",
       "      <td>0.828736</td>\n",
       "    </tr>\n",
       "    <tr>\n",
       "      <th>8</th>\n",
       "      <td>0.803365</td>\n",
       "      <td>0.837011</td>\n",
       "      <td>0.835681</td>\n",
       "      <td>0.813126</td>\n",
       "      <td>0.837050</td>\n",
       "      <td>0.828619</td>\n",
       "      <td>0.829988</td>\n",
       "    </tr>\n",
       "    <tr>\n",
       "      <th>9</th>\n",
       "      <td>0.804773</td>\n",
       "      <td>0.827230</td>\n",
       "      <td>0.834292</td>\n",
       "      <td>0.813185</td>\n",
       "      <td>0.835681</td>\n",
       "      <td>0.821557</td>\n",
       "      <td>0.822985</td>\n",
       "    </tr>\n",
       "    <tr>\n",
       "      <th>10</th>\n",
       "      <td>0.802015</td>\n",
       "      <td>0.831455</td>\n",
       "      <td>0.834194</td>\n",
       "      <td>0.810368</td>\n",
       "      <td>0.837070</td>\n",
       "      <td>0.820227</td>\n",
       "      <td>0.827230</td>\n",
       "    </tr>\n",
       "    <tr>\n",
       "      <th>11</th>\n",
       "      <td>0.793486</td>\n",
       "      <td>0.831377</td>\n",
       "      <td>0.835544</td>\n",
       "      <td>0.807610</td>\n",
       "      <td>0.835524</td>\n",
       "      <td>0.824315</td>\n",
       "      <td>0.832805</td>\n",
       "    </tr>\n",
       "    <tr>\n",
       "      <th>12</th>\n",
       "      <td>0.787793</td>\n",
       "      <td>0.830008</td>\n",
       "      <td>0.837050</td>\n",
       "      <td>0.811796</td>\n",
       "      <td>0.837070</td>\n",
       "      <td>0.820168</td>\n",
       "      <td>0.818740</td>\n",
       "    </tr>\n",
       "    <tr>\n",
       "      <th>13</th>\n",
       "      <td>0.803267</td>\n",
       "      <td>0.828521</td>\n",
       "      <td>0.835544</td>\n",
       "      <td>0.801800</td>\n",
       "      <td>0.836933</td>\n",
       "      <td>0.818642</td>\n",
       "      <td>0.824237</td>\n",
       "    </tr>\n",
       "    <tr>\n",
       "      <th>14</th>\n",
       "      <td>0.807610</td>\n",
       "      <td>0.834311</td>\n",
       "      <td>0.835661</td>\n",
       "      <td>0.808940</td>\n",
       "      <td>0.841315</td>\n",
       "      <td>0.827269</td>\n",
       "      <td>0.831397</td>\n",
       "    </tr>\n",
       "    <tr>\n",
       "      <th>15</th>\n",
       "      <td>0.806318</td>\n",
       "      <td>0.838615</td>\n",
       "      <td>0.828795</td>\n",
       "      <td>0.810466</td>\n",
       "      <td>0.835857</td>\n",
       "      <td>0.826037</td>\n",
       "      <td>0.830243</td>\n",
       "    </tr>\n",
       "    <tr>\n",
       "      <th>16</th>\n",
       "      <td>0.804812</td>\n",
       "      <td>0.837148</td>\n",
       "      <td>0.835681</td>\n",
       "      <td>0.808979</td>\n",
       "      <td>0.842664</td>\n",
       "      <td>0.825841</td>\n",
       "      <td>0.827289</td>\n",
       "    </tr>\n",
       "    <tr>\n",
       "      <th>17</th>\n",
       "      <td>0.804890</td>\n",
       "      <td>0.841412</td>\n",
       "      <td>0.833001</td>\n",
       "      <td>0.813185</td>\n",
       "      <td>0.835798</td>\n",
       "      <td>0.818916</td>\n",
       "      <td>0.824472</td>\n",
       "    </tr>\n",
       "    <tr>\n",
       "      <th>18</th>\n",
       "      <td>0.804714</td>\n",
       "      <td>0.828580</td>\n",
       "      <td>0.838478</td>\n",
       "      <td>0.810329</td>\n",
       "      <td>0.837070</td>\n",
       "      <td>0.825782</td>\n",
       "      <td>0.831436</td>\n",
       "    </tr>\n",
       "    <tr>\n",
       "      <th>19</th>\n",
       "      <td>0.803267</td>\n",
       "      <td>0.835622</td>\n",
       "      <td>0.841236</td>\n",
       "      <td>0.814593</td>\n",
       "      <td>0.831416</td>\n",
       "      <td>0.820168</td>\n",
       "      <td>0.832825</td>\n",
       "    </tr>\n",
       "    <tr>\n",
       "      <th>20</th>\n",
       "      <td>0.787930</td>\n",
       "      <td>0.835798</td>\n",
       "      <td>0.840023</td>\n",
       "      <td>0.809116</td>\n",
       "      <td>0.837207</td>\n",
       "      <td>0.823122</td>\n",
       "      <td>0.825939</td>\n",
       "    </tr>\n",
       "    <tr>\n",
       "      <th>21</th>\n",
       "      <td>0.792390</td>\n",
       "      <td>0.834351</td>\n",
       "      <td>0.835759</td>\n",
       "      <td>0.807727</td>\n",
       "      <td>0.839926</td>\n",
       "      <td>0.820364</td>\n",
       "      <td>0.832962</td>\n",
       "    </tr>\n",
       "    <tr>\n",
       "      <th>22</th>\n",
       "      <td>0.809116</td>\n",
       "      <td>0.831534</td>\n",
       "      <td>0.845520</td>\n",
       "      <td>0.813243</td>\n",
       "      <td>0.835700</td>\n",
       "      <td>0.827289</td>\n",
       "      <td>0.828736</td>\n",
       "    </tr>\n",
       "    <tr>\n",
       "      <th>23</th>\n",
       "      <td>0.813243</td>\n",
       "      <td>0.831514</td>\n",
       "      <td>0.835661</td>\n",
       "      <td>0.814652</td>\n",
       "      <td>0.841256</td>\n",
       "      <td>0.817390</td>\n",
       "      <td>0.834370</td>\n",
       "    </tr>\n",
       "    <tr>\n",
       "      <th>24</th>\n",
       "      <td>0.811815</td>\n",
       "      <td>0.832923</td>\n",
       "      <td>0.837070</td>\n",
       "      <td>0.810426</td>\n",
       "      <td>0.839906</td>\n",
       "      <td>0.824491</td>\n",
       "      <td>0.827250</td>\n",
       "    </tr>\n",
       "    <tr>\n",
       "      <th>25</th>\n",
       "      <td>0.804714</td>\n",
       "      <td>0.831534</td>\n",
       "      <td>0.831416</td>\n",
       "      <td>0.810407</td>\n",
       "      <td>0.832825</td>\n",
       "      <td>0.823063</td>\n",
       "      <td>0.824472</td>\n",
       "    </tr>\n",
       "    <tr>\n",
       "      <th>26</th>\n",
       "      <td>0.801897</td>\n",
       "      <td>0.837128</td>\n",
       "      <td>0.830086</td>\n",
       "      <td>0.807610</td>\n",
       "      <td>0.831475</td>\n",
       "      <td>0.830027</td>\n",
       "      <td>0.834292</td>\n",
       "    </tr>\n",
       "    <tr>\n",
       "      <th>27</th>\n",
       "      <td>0.797672</td>\n",
       "      <td>0.834174</td>\n",
       "      <td>0.835583</td>\n",
       "      <td>0.811718</td>\n",
       "      <td>0.836972</td>\n",
       "      <td>0.832746</td>\n",
       "      <td>0.834135</td>\n",
       "    </tr>\n",
       "    <tr>\n",
       "      <th>28</th>\n",
       "      <td>0.821714</td>\n",
       "      <td>0.842723</td>\n",
       "      <td>0.831573</td>\n",
       "      <td>0.813204</td>\n",
       "      <td>0.835720</td>\n",
       "      <td>0.824472</td>\n",
       "      <td>0.831475</td>\n",
       "    </tr>\n",
       "    <tr>\n",
       "      <th>29</th>\n",
       "      <td>0.792195</td>\n",
       "      <td>0.837050</td>\n",
       "      <td>0.831475</td>\n",
       "      <td>0.809038</td>\n",
       "      <td>0.844131</td>\n",
       "      <td>0.830086</td>\n",
       "      <td>0.838517</td>\n",
       "    </tr>\n",
       "  </tbody>\n",
       "</table>\n",
       "</div>"
      ],
      "text/plain": [
       "      Arvore  Random forest       KNN  Logistica       SVM  Rede neural  \\\n",
       "0   0.806358       0.841432  0.842860   0.813341  0.833020     0.823220   \n",
       "1   0.780732       0.834174  0.828580   0.807473  0.839808     0.821577   \n",
       "2   0.801917       0.832786  0.841295   0.806123  0.837070     0.821557   \n",
       "3   0.803443       0.832864  0.837070   0.816021  0.837031     0.831397   \n",
       "4   0.804714       0.835681  0.834253   0.811796  0.838439     0.824354   \n",
       "5   0.799139       0.835642  0.834233   0.808959  0.835642     0.815962   \n",
       "6   0.796322       0.835720  0.827210   0.816002  0.839867     0.823044   \n",
       "7   0.811815       0.827445  0.832883   0.807766  0.839906     0.820266   \n",
       "8   0.803365       0.837011  0.835681   0.813126  0.837050     0.828619   \n",
       "9   0.804773       0.827230  0.834292   0.813185  0.835681     0.821557   \n",
       "10  0.802015       0.831455  0.834194   0.810368  0.837070     0.820227   \n",
       "11  0.793486       0.831377  0.835544   0.807610  0.835524     0.824315   \n",
       "12  0.787793       0.830008  0.837050   0.811796  0.837070     0.820168   \n",
       "13  0.803267       0.828521  0.835544   0.801800  0.836933     0.818642   \n",
       "14  0.807610       0.834311  0.835661   0.808940  0.841315     0.827269   \n",
       "15  0.806318       0.838615  0.828795   0.810466  0.835857     0.826037   \n",
       "16  0.804812       0.837148  0.835681   0.808979  0.842664     0.825841   \n",
       "17  0.804890       0.841412  0.833001   0.813185  0.835798     0.818916   \n",
       "18  0.804714       0.828580  0.838478   0.810329  0.837070     0.825782   \n",
       "19  0.803267       0.835622  0.841236   0.814593  0.831416     0.820168   \n",
       "20  0.787930       0.835798  0.840023   0.809116  0.837207     0.823122   \n",
       "21  0.792390       0.834351  0.835759   0.807727  0.839926     0.820364   \n",
       "22  0.809116       0.831534  0.845520   0.813243  0.835700     0.827289   \n",
       "23  0.813243       0.831514  0.835661   0.814652  0.841256     0.817390   \n",
       "24  0.811815       0.832923  0.837070   0.810426  0.839906     0.824491   \n",
       "25  0.804714       0.831534  0.831416   0.810407  0.832825     0.823063   \n",
       "26  0.801897       0.837128  0.830086   0.807610  0.831475     0.830027   \n",
       "27  0.797672       0.834174  0.835583   0.811718  0.836972     0.832746   \n",
       "28  0.821714       0.842723  0.831573   0.813204  0.835720     0.824472   \n",
       "29  0.792195       0.837050  0.831475   0.809038  0.844131     0.830086   \n",
       "\n",
       "         GBC  \n",
       "0   0.835837  \n",
       "1   0.828541  \n",
       "2   0.832844  \n",
       "3   0.827230  \n",
       "4   0.830086  \n",
       "5   0.828678  \n",
       "6   0.827210  \n",
       "7   0.828736  \n",
       "8   0.829988  \n",
       "9   0.822985  \n",
       "10  0.827230  \n",
       "11  0.832805  \n",
       "12  0.818740  \n",
       "13  0.824237  \n",
       "14  0.831397  \n",
       "15  0.830243  \n",
       "16  0.827289  \n",
       "17  0.824472  \n",
       "18  0.831436  \n",
       "19  0.832825  \n",
       "20  0.825939  \n",
       "21  0.832962  \n",
       "22  0.828736  \n",
       "23  0.834370  \n",
       "24  0.827250  \n",
       "25  0.824472  \n",
       "26  0.834292  \n",
       "27  0.834135  \n",
       "28  0.831475  \n",
       "29  0.838517  "
      ]
     },
     "execution_count": 31,
     "metadata": {},
     "output_type": "execute_result"
    }
   ],
   "source": [
    "# Criando um DataFrame para exibir as médias dos resultados de cada algoritmo\n",
    "resultados = pd.DataFrame({'Arvore': resultados_arvore, 'Random forest': resultados_random_forest,\n",
    "                           'KNN': resultados_knn, 'Logistica': resultados_logistica,\n",
    "                           'SVM': resultados_svm, 'Rede neural': resultados_rede_neural,\n",
    "                           'GBC': resultados_gradient})\n",
    "resultados"
   ]
  },
  {
   "cell_type": "code",
   "execution_count": 32,
   "id": "0924635e-59e0-43d2-a744-aa78f33d75b7",
   "metadata": {
    "tags": []
   },
   "outputs": [
    {
     "data": {
      "text/html": [
       "<div>\n",
       "<style scoped>\n",
       "    .dataframe tbody tr th:only-of-type {\n",
       "        vertical-align: middle;\n",
       "    }\n",
       "\n",
       "    .dataframe tbody tr th {\n",
       "        vertical-align: top;\n",
       "    }\n",
       "\n",
       "    .dataframe thead th {\n",
       "        text-align: right;\n",
       "    }\n",
       "</style>\n",
       "<table border=\"1\" class=\"dataframe\">\n",
       "  <thead>\n",
       "    <tr style=\"text-align: right;\">\n",
       "      <th></th>\n",
       "      <th>Arvore</th>\n",
       "      <th>Random forest</th>\n",
       "      <th>KNN</th>\n",
       "      <th>Logistica</th>\n",
       "      <th>SVM</th>\n",
       "      <th>Rede neural</th>\n",
       "      <th>GBC</th>\n",
       "    </tr>\n",
       "  </thead>\n",
       "  <tbody>\n",
       "    <tr>\n",
       "      <th>count</th>\n",
       "      <td>30.000000</td>\n",
       "      <td>30.000000</td>\n",
       "      <td>30.000000</td>\n",
       "      <td>30.000000</td>\n",
       "      <td>30.000000</td>\n",
       "      <td>30.000000</td>\n",
       "      <td>30.000000</td>\n",
       "    </tr>\n",
       "    <tr>\n",
       "      <th>mean</th>\n",
       "      <td>0.802115</td>\n",
       "      <td>0.834192</td>\n",
       "      <td>0.835257</td>\n",
       "      <td>0.810633</td>\n",
       "      <td>0.837312</td>\n",
       "      <td>0.823732</td>\n",
       "      <td>0.829499</td>\n",
       "    </tr>\n",
       "    <tr>\n",
       "      <th>std</th>\n",
       "      <td>0.008413</td>\n",
       "      <td>0.003978</td>\n",
       "      <td>0.004213</td>\n",
       "      <td>0.003164</td>\n",
       "      <td>0.003036</td>\n",
       "      <td>0.004199</td>\n",
       "      <td>0.004253</td>\n",
       "    </tr>\n",
       "    <tr>\n",
       "      <th>min</th>\n",
       "      <td>0.780732</td>\n",
       "      <td>0.827230</td>\n",
       "      <td>0.827210</td>\n",
       "      <td>0.801800</td>\n",
       "      <td>0.831416</td>\n",
       "      <td>0.815962</td>\n",
       "      <td>0.818740</td>\n",
       "    </tr>\n",
       "    <tr>\n",
       "      <th>25%</th>\n",
       "      <td>0.798039</td>\n",
       "      <td>0.831519</td>\n",
       "      <td>0.832913</td>\n",
       "      <td>0.808945</td>\n",
       "      <td>0.835705</td>\n",
       "      <td>0.820290</td>\n",
       "      <td>0.827230</td>\n",
       "    </tr>\n",
       "    <tr>\n",
       "      <th>50%</th>\n",
       "      <td>0.803404</td>\n",
       "      <td>0.834243</td>\n",
       "      <td>0.835563</td>\n",
       "      <td>0.810417</td>\n",
       "      <td>0.837060</td>\n",
       "      <td>0.823171</td>\n",
       "      <td>0.829362</td>\n",
       "    </tr>\n",
       "    <tr>\n",
       "      <th>75%</th>\n",
       "      <td>0.805961</td>\n",
       "      <td>0.836708</td>\n",
       "      <td>0.837065</td>\n",
       "      <td>0.813185</td>\n",
       "      <td>0.839852</td>\n",
       "      <td>0.825988</td>\n",
       "      <td>0.832820</td>\n",
       "    </tr>\n",
       "    <tr>\n",
       "      <th>max</th>\n",
       "      <td>0.821714</td>\n",
       "      <td>0.842723</td>\n",
       "      <td>0.845520</td>\n",
       "      <td>0.816021</td>\n",
       "      <td>0.844131</td>\n",
       "      <td>0.832746</td>\n",
       "      <td>0.838517</td>\n",
       "    </tr>\n",
       "  </tbody>\n",
       "</table>\n",
       "</div>"
      ],
      "text/plain": [
       "          Arvore  Random forest        KNN  Logistica        SVM  Rede neural  \\\n",
       "count  30.000000      30.000000  30.000000  30.000000  30.000000    30.000000   \n",
       "mean    0.802115       0.834192   0.835257   0.810633   0.837312     0.823732   \n",
       "std     0.008413       0.003978   0.004213   0.003164   0.003036     0.004199   \n",
       "min     0.780732       0.827230   0.827210   0.801800   0.831416     0.815962   \n",
       "25%     0.798039       0.831519   0.832913   0.808945   0.835705     0.820290   \n",
       "50%     0.803404       0.834243   0.835563   0.810417   0.837060     0.823171   \n",
       "75%     0.805961       0.836708   0.837065   0.813185   0.839852     0.825988   \n",
       "max     0.821714       0.842723   0.845520   0.816021   0.844131     0.832746   \n",
       "\n",
       "             GBC  \n",
       "count  30.000000  \n",
       "mean    0.829499  \n",
       "std     0.004253  \n",
       "min     0.818740  \n",
       "25%     0.827230  \n",
       "50%     0.829362  \n",
       "75%     0.832820  \n",
       "max     0.838517  "
      ]
     },
     "execution_count": 32,
     "metadata": {},
     "output_type": "execute_result"
    }
   ],
   "source": [
    "# Resumo estatístico das respostas\n",
    "resultados.describe()"
   ]
  },
  {
   "cell_type": "markdown",
   "id": "a2e65171-0685-43ae-ae39-f326e4879272",
   "metadata": {},
   "source": [
    "# Teste de Normalidade\n",
    "- #### Para fazermos a ANOVA e o teste de Tukey, precisamos fazer primeiro um teste de normalidade para descobrir se os dados possuem uma distribuição normal"
   ]
  },
  {
   "cell_type": "code",
   "execution_count": 33,
   "id": "c0c7c8b0-0e48-453d-aa89-5420617ea99b",
   "metadata": {
    "tags": []
   },
   "outputs": [],
   "source": [
    "alpha = 0.05\n",
    "resultados_shapiro = []\n",
    "shapiro_arvore = shapiro(resultados_arvore)\n",
    "resultados_shapiro.append(shapiro_arvore)\n",
    "shapiro_forest = shapiro(resultados_random_forest)\n",
    "resultados_shapiro.append(shapiro_forest)\n",
    "shapiro_knn = shapiro(resultados_knn)\n",
    "resultados_shapiro.append(shapiro_knn)\n",
    "shapiro_log = shapiro(resultados_logistica)\n",
    "resultados_shapiro.append(shapiro_log)\n",
    "shapiro_svm = shapiro(resultados_svm)\n",
    "resultados_shapiro.append(shapiro_svm)\n",
    "shapiro_rede = shapiro(resultados_rede_neural)\n",
    "resultados_shapiro.append(shapiro_rede)\n",
    "shapiro_gbc = shapiro(resultados_gradient)\n",
    "resultados_shapiro.append(shapiro_gbc)"
   ]
  },
  {
   "cell_type": "code",
   "execution_count": 34,
   "id": "17d140d7-422f-4ade-a3aa-0bc2b5dca0e0",
   "metadata": {
    "tags": []
   },
   "outputs": [],
   "source": [
    "def verifica_distribuicao(resultados_shapiro):\n",
    "    count = 0\n",
    "    limit = len(resultados_shapiro)\n",
    "    for resultado in resultados_shapiro:\n",
    "        if resultado[1] > alpha:\n",
    "            count += 1\n",
    "    if count == limit:\n",
    "        print('Todos os dados estão em uma distribuição normal')\n",
    "    else:\n",
    "        print('Todos os dados NÃO tem uma distribuição normal')"
   ]
  },
  {
   "cell_type": "code",
   "execution_count": 35,
   "id": "3ed0d4d9-b23d-4a9d-b2e5-1a3a963f51be",
   "metadata": {
    "tags": []
   },
   "outputs": [
    {
     "data": {
      "text/plain": [
       "[ShapiroResult(statistic=0.9524590969085693, pvalue=0.19666188955307007),\n",
       " ShapiroResult(statistic=0.9700003862380981, pvalue=0.5391852855682373),\n",
       " ShapiroResult(statistic=0.9688780307769775, pvalue=0.5089505314826965),\n",
       " ShapiroResult(statistic=0.9588580131530762, pvalue=0.28955206274986267),\n",
       " ShapiroResult(statistic=0.9553912281990051, pvalue=0.2351551502943039),\n",
       " ShapiroResult(statistic=0.9757645726203918, pvalue=0.7052520513534546),\n",
       " ShapiroResult(statistic=0.9850515127182007, pvalue=0.9380607008934021)]"
      ]
     },
     "execution_count": 35,
     "metadata": {},
     "output_type": "execute_result"
    }
   ],
   "source": [
    "# Visualizando o p_value\n",
    "resultados_shapiro"
   ]
  },
  {
   "cell_type": "code",
   "execution_count": 36,
   "id": "aedf88c1-58e4-46d4-ab5d-95abf06127ee",
   "metadata": {
    "tags": []
   },
   "outputs": [
    {
     "name": "stdout",
     "output_type": "stream",
     "text": [
      "Todos os dados estão em uma distribuição normal\n"
     ]
    }
   ],
   "source": [
    "verifica_distribuicao(resultados_shapiro)"
   ]
  },
  {
   "cell_type": "code",
   "execution_count": 37,
   "id": "da7c931f-6d24-457e-b4b3-810a86829fb3",
   "metadata": {
    "tags": []
   },
   "outputs": [
    {
     "data": {
      "image/png": "[encoded data removed]",
      "text/plain": [
       "<Figure size 500x500 with 1 Axes>"
      ]
     },
     "metadata": {},
     "output_type": "display_data"
    }
   ],
   "source": [
    "# Visualizando a distribuição dos dados do resultado da arvore de decisão\n",
    "sns.displot(resultados_arvore, kind = 'kde');"
   ]
  },
  {
   "cell_type": "code",
   "execution_count": 38,
   "id": "e2585ab6-00f8-4dfe-9187-22d424677552",
   "metadata": {
    "tags": []
   },
   "outputs": [
    {
     "data": {
      "image/png": "[encoded data removed]",
      "text/plain": [
       "<Figure size 500x500 with 1 Axes>"
      ]
     },
     "metadata": {},
     "output_type": "display_data"
    }
   ],
   "source": [
    "# Visualizando a distribuição dos dados do resultado do random forest\n",
    "sns.displot(resultados_random_forest, kind = 'kde');"
   ]
  },
  {
   "cell_type": "code",
   "execution_count": 39,
   "id": "6056934b-125d-41c1-9479-34b71d7d7c78",
   "metadata": {
    "tags": []
   },
   "outputs": [
    {
     "data": {
      "image/png": "[encoded data removed]",
      "text/plain": [
       "<Figure size 500x500 with 1 Axes>"
      ]
     },
     "metadata": {},
     "output_type": "display_data"
    }
   ],
   "source": [
    "# Visualizando a distribuição dos dados do resultado do knn\n",
    "sns.displot(resultados_knn, kind = 'kde');"
   ]
  },
  {
   "cell_type": "code",
   "execution_count": 40,
   "id": "cf678055-5c63-491b-bcb4-840ac23e75dc",
   "metadata": {
    "tags": []
   },
   "outputs": [
    {
     "data": {
      "image/png": "[encoded data removed]",
      "text/plain": [
       "<Figure size 500x500 with 1 Axes>"
      ]
     },
     "metadata": {},
     "output_type": "display_data"
    }
   ],
   "source": [
    "# Visualizando a distribuição dos dados do resultado da regressão logistica\n",
    "sns.displot(resultados_logistica, kind = 'kde');"
   ]
  },
  {
   "cell_type": "code",
   "execution_count": 41,
   "id": "ba5c5476-5f99-4b73-98a1-793538011b91",
   "metadata": {
    "tags": []
   },
   "outputs": [
    {
     "data": {
      "image/png": "[encoded data removed]",
      "text/plain": [
       "<Figure size 500x500 with 1 Axes>"
      ]
     },
     "metadata": {},
     "output_type": "display_data"
    }
   ],
   "source": [
    "# Visualizando a distribuição dos dados do resultado do SVM\n",
    "sns.displot(resultados_svm, kind = 'kde');"
   ]
  },
  {
   "cell_type": "code",
   "execution_count": 42,
   "id": "951d0109-680b-41fd-9369-19a73880c5f8",
   "metadata": {
    "tags": []
   },
   "outputs": [
    {
     "data": {
      "image/png": "[encoded data removed]",
      "text/plain": [
       "<Figure size 500x500 with 1 Axes>"
      ]
     },
     "metadata": {},
     "output_type": "display_data"
    }
   ],
   "source": [
    "# Visualizando a distribuição dos dados da Rede Neural\n",
    "sns.displot(resultados_rede_neural, kind = 'kde');"
   ]
  },
  {
   "cell_type": "code",
   "execution_count": 43,
   "id": "8cb3192c-2943-41dc-8600-ac4bd3d95e88",
   "metadata": {
    "tags": []
   },
   "outputs": [
    {
     "data": {
      "image/png": "[encoded data removed]",
      "text/plain": [
       "<Figure size 500x500 with 1 Axes>"
      ]
     },
     "metadata": {},
     "output_type": "display_data"
    }
   ],
   "source": [
    "# Visualizando a distribuição dos dados do Gradient Boosting Classifier\n",
    "sns.displot(resultados_gradient, kind = 'kde');"
   ]
  },
  {
   "cell_type": "markdown",
   "id": "69b67498-c835-4a6c-8eed-6c222be7eba8",
   "metadata": {},
   "source": [
    "# ANOVA/Tukey\n",
    "#### Teste de Hipotese\n",
    "- A hipotese nula é que os resultados são iguais, que não existe diferença estatistica entre o resultados dos modelos\n",
    "- A hipotese alternativa é que existe essa diferença\n",
    "    - Se a hipotese nula fosse aceita, não haveria diferença em qual modelo usar\n",
    "    - O teste de ANOVA vai nos ajudar a decidirmos se existe essa diferença estatistica\n",
    "    - O teste de Tukey vai indicar qual modelo de fato é o melhor"
   ]
  },
  {
   "cell_type": "markdown",
   "id": "68e1893f-0d93-48ab-9289-31d6919db7cc",
   "metadata": {},
   "source": [
    "#### ANOVA"
   ]
  },
  {
   "cell_type": "code",
   "execution_count": 44,
   "id": "bb92a041-2df5-4456-b589-9affdb116fa3",
   "metadata": {
    "tags": []
   },
   "outputs": [
    {
     "data": {
      "text/plain": [
       "2.6806752834427654e-89"
      ]
     },
     "execution_count": 44,
     "metadata": {},
     "output_type": "execute_result"
    }
   ],
   "source": [
    "# Essa função retorna dois valores, não precisamos do primeiro valor\n",
    "_, p = f_oneway(resultados_arvore, resultados_random_forest, resultados_knn, resultados_logistica, resultados_svm, resultados_rede_neural, resultados_gradient)\n",
    "p"
   ]
  },
  {
   "cell_type": "code",
   "execution_count": 45,
   "id": "5f681a17-7703-4594-a901-ae86e8b4e0d1",
   "metadata": {
    "tags": []
   },
   "outputs": [
    {
     "name": "stdout",
     "output_type": "stream",
     "text": [
      "Hipótese nula rejeitada. Dados são diferentes\n"
     ]
    }
   ],
   "source": [
    "if p <= alpha:\n",
    "  print('Hipótese nula rejeitada. Dados são diferentes')\n",
    "else:\n",
    "  print('Hipótese alternativa rejeitada. Resultados são iguais')"
   ]
  },
  {
   "cell_type": "markdown",
   "id": "87e92bfc-6f67-428b-8159-f4905b185e19",
   "metadata": {},
   "source": [
    "#### Tukey"
   ]
  },
  {
   "cell_type": "code",
   "execution_count": 46,
   "id": "1c5b442f-0372-4057-9198-899e4a98749f",
   "metadata": {
    "tags": []
   },
   "outputs": [],
   "source": [
    "# Agora vamos verificar de fato qual é o melhor algoritmo\n",
    "# Vamos criar um dataframe, com 2 colunas, accuracy e algoritmo\n",
    "resultados = {\n",
    "    'arvore': resultados_arvore,\n",
    "    'random_forest': resultados_random_forest,\n",
    "    'knn': resultados_knn,\n",
    "    'logistica': resultados_logistica,\n",
    "    'svm': resultados_svm,\n",
    "    'rede_neural': resultados_rede_neural,\n",
    "    'gradient': resultados_gradient\n",
    "}\n",
    "\n",
    "resultados_algoritmos = {'accuracy': np.concatenate([resultado for resultado in resultados.values()]),\n",
    "                         'algoritmo': [algoritmo for algoritmo, _ in resultados.items() for _ in range(len(resultados[algoritmo]))]}"
   ]
  },
  {
   "cell_type": "code",
   "execution_count": 47,
   "id": "b8224f64-2835-4816-9462-41d9899c8069",
   "metadata": {
    "tags": []
   },
   "outputs": [
    {
     "data": {
      "text/html": [
       "<div>\n",
       "<style scoped>\n",
       "    .dataframe tbody tr th:only-of-type {\n",
       "        vertical-align: middle;\n",
       "    }\n",
       "\n",
       "    .dataframe tbody tr th {\n",
       "        vertical-align: top;\n",
       "    }\n",
       "\n",
       "    .dataframe thead th {\n",
       "        text-align: right;\n",
       "    }\n",
       "</style>\n",
       "<table border=\"1\" class=\"dataframe\">\n",
       "  <thead>\n",
       "    <tr style=\"text-align: right;\">\n",
       "      <th></th>\n",
       "      <th>accuracy</th>\n",
       "      <th>algoritmo</th>\n",
       "    </tr>\n",
       "  </thead>\n",
       "  <tbody>\n",
       "    <tr>\n",
       "      <th>0</th>\n",
       "      <td>0.806358</td>\n",
       "      <td>arvore</td>\n",
       "    </tr>\n",
       "    <tr>\n",
       "      <th>1</th>\n",
       "      <td>0.780732</td>\n",
       "      <td>arvore</td>\n",
       "    </tr>\n",
       "    <tr>\n",
       "      <th>2</th>\n",
       "      <td>0.801917</td>\n",
       "      <td>arvore</td>\n",
       "    </tr>\n",
       "    <tr>\n",
       "      <th>3</th>\n",
       "      <td>0.803443</td>\n",
       "      <td>arvore</td>\n",
       "    </tr>\n",
       "    <tr>\n",
       "      <th>4</th>\n",
       "      <td>0.804714</td>\n",
       "      <td>arvore</td>\n",
       "    </tr>\n",
       "    <tr>\n",
       "      <th>...</th>\n",
       "      <td>...</td>\n",
       "      <td>...</td>\n",
       "    </tr>\n",
       "    <tr>\n",
       "      <th>205</th>\n",
       "      <td>0.824472</td>\n",
       "      <td>gradient</td>\n",
       "    </tr>\n",
       "    <tr>\n",
       "      <th>206</th>\n",
       "      <td>0.834292</td>\n",
       "      <td>gradient</td>\n",
       "    </tr>\n",
       "    <tr>\n",
       "      <th>207</th>\n",
       "      <td>0.834135</td>\n",
       "      <td>gradient</td>\n",
       "    </tr>\n",
       "    <tr>\n",
       "      <th>208</th>\n",
       "      <td>0.831475</td>\n",
       "      <td>gradient</td>\n",
       "    </tr>\n",
       "    <tr>\n",
       "      <th>209</th>\n",
       "      <td>0.838517</td>\n",
       "      <td>gradient</td>\n",
       "    </tr>\n",
       "  </tbody>\n",
       "</table>\n",
       "<p>210 rows × 2 columns</p>\n",
       "</div>"
      ],
      "text/plain": [
       "     accuracy algoritmo\n",
       "0    0.806358    arvore\n",
       "1    0.780732    arvore\n",
       "2    0.801917    arvore\n",
       "3    0.803443    arvore\n",
       "4    0.804714    arvore\n",
       "..        ...       ...\n",
       "205  0.824472  gradient\n",
       "206  0.834292  gradient\n",
       "207  0.834135  gradient\n",
       "208  0.831475  gradient\n",
       "209  0.838517  gradient\n",
       "\n",
       "[210 rows x 2 columns]"
      ]
     },
     "execution_count": 47,
     "metadata": {},
     "output_type": "execute_result"
    }
   ],
   "source": [
    "resultados_df = pd.DataFrame(resultados_algoritmos)\n",
    "resultados_df"
   ]
  },
  {
   "cell_type": "code",
   "execution_count": 48,
   "id": "e65b1b61-3fa7-4ef3-ab08-68c13e759fd9",
   "metadata": {
    "tags": []
   },
   "outputs": [],
   "source": [
    "compara_algoritmos = MultiComparison(resultados_df['accuracy'], resultados_df['algoritmo'])"
   ]
  },
  {
   "cell_type": "code",
   "execution_count": 49,
   "id": "a8201c81-ee36-4729-a9e8-156bc2dad0ea",
   "metadata": {
    "tags": []
   },
   "outputs": [
    {
     "name": "stdout",
     "output_type": "stream",
     "text": [
      "       Multiple Comparison of Means - Tukey HSD, FWER=0.05        \n",
      "==================================================================\n",
      "    group1        group2    meandiff p-adj   lower   upper  reject\n",
      "------------------------------------------------------------------\n",
      "       arvore      gradient   0.0274    0.0  0.0237  0.0311   True\n",
      "       arvore           knn   0.0331    0.0  0.0295  0.0368   True\n",
      "       arvore     logistica   0.0085    0.0  0.0049  0.0122   True\n",
      "       arvore random_forest   0.0321    0.0  0.0284  0.0357   True\n",
      "       arvore   rede_neural   0.0216    0.0  0.0179  0.0253   True\n",
      "       arvore           svm   0.0352    0.0  0.0315  0.0389   True\n",
      "     gradient           knn   0.0058 0.0001  0.0021  0.0094   True\n",
      "     gradient     logistica  -0.0189    0.0 -0.0225 -0.0152   True\n",
      "     gradient random_forest   0.0047 0.0034   0.001  0.0084   True\n",
      "     gradient   rede_neural  -0.0058 0.0001 -0.0094 -0.0021   True\n",
      "     gradient           svm   0.0078    0.0  0.0041  0.0115   True\n",
      "          knn     logistica  -0.0246    0.0 -0.0283  -0.021   True\n",
      "          knn random_forest  -0.0011 0.9773 -0.0047  0.0026  False\n",
      "          knn   rede_neural  -0.0115    0.0 -0.0152 -0.0079   True\n",
      "          knn           svm   0.0021 0.6381 -0.0016  0.0057  False\n",
      "    logistica random_forest   0.0236    0.0  0.0199  0.0272   True\n",
      "    logistica   rede_neural   0.0131    0.0  0.0094  0.0168   True\n",
      "    logistica           svm   0.0267    0.0   0.023  0.0303   True\n",
      "random_forest   rede_neural  -0.0105    0.0 -0.0141 -0.0068   True\n",
      "random_forest           svm   0.0031 0.1533 -0.0005  0.0068  False\n",
      "  rede_neural           svm   0.0136    0.0  0.0099  0.0172   True\n",
      "------------------------------------------------------------------\n"
     ]
    }
   ],
   "source": [
    "# Em todos os True quer dizer que há diferença entre os algoritmos, e False não\n",
    "# Portanto, o melhor modelo individualmente, foi o gradient boosting classifier\n",
    "teste_estatistico = compara_algoritmos.tukeyhsd()\n",
    "print(teste_estatistico)"
   ]
  },
  {
   "cell_type": "code",
   "execution_count": 50,
   "id": "c8df8978-3dc1-49ba-9c40-da683f8e5142",
   "metadata": {
    "tags": []
   },
   "outputs": [
    {
     "data": {
      "image/png": "[encoded data removed]",
      "text/plain": [
       "<Figure size 1000x600 with 1 Axes>"
      ]
     },
     "metadata": {},
     "output_type": "display_data"
    }
   ],
   "source": [
    "teste_estatistico.plot_simultaneous();"
   ]
  },
  {
   "cell_type": "markdown",
   "id": "2a5be2cb-f4ac-49f0-a392-b2747a7013ac",
   "metadata": {},
   "source": [
    "# Saving/Load Classifier\n",
    "- #### Salvando os classificadores\n",
    "    - #### Executar apenas se necessário"
   ]
  },
  {
   "cell_type": "code",
   "execution_count": 51,
   "id": "8accb241-8f2a-4bd8-8e11-8fedb94d95b9",
   "metadata": {
    "tags": []
   },
   "outputs": [],
   "source": [
    "pickle.dump(best_lr, open('regressao_logistica.sav', 'wb'))\n",
    "pickle.dump(best_tree, open('arvore_decisao.sav', 'wb'))\n",
    "pickle.dump(best_knn, open('knn.sav', 'wb'))\n",
    "pickle.dump(best_svc, open('svm.sav', 'wb'))\n",
    "pickle.dump(best_rf, open('random_forest.sav', 'wb'))\n",
    "pickle.dump(best_rna, open('redes_neurais.sav', 'wb'))\n",
    "pickle.dump(best_gbc, open('gradient.sav', 'wb'))"
   ]
  },
  {
   "cell_type": "code",
   "execution_count": 52,
   "id": "f6a453fd-de8b-4288-899b-8d46e05bfb88",
   "metadata": {
    "tags": []
   },
   "outputs": [],
   "source": [
    "best_lr = pickle.load(open('regressao_logistica.sav', 'rb'))\n",
    "best_tree = pickle.load(open('arvore_decisao.sav', 'rb'))\n",
    "best_knn = pickle.load(open('knn.sav', 'rb'))\n",
    "best_svc = pickle.load(open('svm.sav', 'rb'))\n",
    "best_rf = pickle.load(open('random_forest.sav', 'rb'))\n",
    "best_rna = pickle.load(open('redes_neurais.sav', 'rb'))\n",
    "best_gbc = pickle.load(open('gradient.sav', 'rb'))"
   ]
  },
  {
   "cell_type": "markdown",
   "id": "6cf229ee-301a-4224-9090-22622e471146",
   "metadata": {
    "tags": []
   },
   "source": [
    "# Ensemble Model Building\n",
    "#### Combinação de modelos\n",
    "- De acordo com o grafico acima, os 3 melhores modelos foram gradient, random forest e svm\n",
    "- Vamos ter 7 modelos finais que usaremos nas nossas previsões:\n",
    "    - Os 3 modelos individuais\n",
    "    - Combinação com votação hard dos 3 melhores\n",
    "    - Combinacao soft dos 3 melhores\n",
    "    - Combinação hard de todos os modelos\n",
    "    - Combincao soft de todos os modelos\n",
    "        - Hard: Votação por quantidade\n",
    "        - Soft: Votação considerando a confiança "
   ]
  },
  {
   "cell_type": "markdown",
   "id": "b6384ccc-17fb-4578-9e11-9b00537c3679",
   "metadata": {},
   "source": [
    "# Voting Classifier"
   ]
  },
  {
   "cell_type": "code",
   "execution_count": 53,
   "id": "fa3c9123",
   "metadata": {
    "tags": []
   },
   "outputs": [
    {
     "name": "stdout",
     "output_type": "stream",
     "text": [
      "voting_clf_hard : [0.84722222 0.83333333 0.76056338 0.97183099 0.91549296 0.74647887\n",
      " 0.85915493 0.81690141 0.8028169  0.91549296]\n",
      "voting_clf_hard mean : 0.8455203442879498\n",
      "voting_clf_soft : [0.86111111 0.81944444 0.76056338 0.94366197 0.88732394 0.74647887\n",
      " 0.83098592 0.8028169  0.8028169  0.92957746]\n",
      "voting_clf_soft mean : 0.8384780907668231\n",
      "Fitting 5 folds for each of 18 candidates, totalling 90 fits\n",
      "Fitting 5 folds for each of 18 candidates, totalling 90 fits\n",
      "Fitting 5 folds for each of 18 candidates, totalling 90 fits\n",
      "Fitting 5 folds for each of 18 candidates, totalling 90 fits\n",
      "Fitting 5 folds for each of 18 candidates, totalling 90 fits\n",
      "Fitting 5 folds for each of 18 candidates, totalling 90 fits\n",
      "Fitting 5 folds for each of 18 candidates, totalling 90 fits\n",
      "Fitting 5 folds for each of 18 candidates, totalling 90 fits\n",
      "Fitting 5 folds for each of 18 candidates, totalling 90 fits\n",
      "Fitting 5 folds for each of 18 candidates, totalling 90 fits\n",
      "voting_clf_all_hard : [0.86111111 0.81944444 0.77464789 0.95774648 0.90140845 0.74647887\n",
      " 0.8028169  0.76056338 0.8028169  0.92957746]\n",
      "Fitting 5 folds for each of 18 candidates, totalling 90 fits\n",
      "Fitting 5 folds for each of 18 candidates, totalling 90 fits\n",
      "Fitting 5 folds for each of 18 candidates, totalling 90 fits\n",
      "Fitting 5 folds for each of 18 candidates, totalling 90 fits\n",
      "Fitting 5 folds for each of 18 candidates, totalling 90 fits\n",
      "Fitting 5 folds for each of 18 candidates, totalling 90 fits\n",
      "Fitting 5 folds for each of 18 candidates, totalling 90 fits\n",
      "Fitting 5 folds for each of 18 candidates, totalling 90 fits\n",
      "Fitting 5 folds for each of 18 candidates, totalling 90 fits\n",
      "Fitting 5 folds for each of 18 candidates, totalling 90 fits\n",
      "voting_clf_all_hard mean : 0.8398474178403756\n",
      "Fitting 5 folds for each of 18 candidates, totalling 90 fits\n",
      "Fitting 5 folds for each of 18 candidates, totalling 90 fits\n",
      "Fitting 5 folds for each of 18 candidates, totalling 90 fits\n",
      "Fitting 5 folds for each of 18 candidates, totalling 90 fits\n",
      "Fitting 5 folds for each of 18 candidates, totalling 90 fits\n",
      "Fitting 5 folds for each of 18 candidates, totalling 90 fits\n",
      "Fitting 5 folds for each of 18 candidates, totalling 90 fits\n",
      "Fitting 5 folds for each of 18 candidates, totalling 90 fits\n",
      "Fitting 5 folds for each of 18 candidates, totalling 90 fits\n",
      "Fitting 5 folds for each of 18 candidates, totalling 90 fits\n",
      "voting_clf_all_soft : [0.86111111 0.83333333 0.76056338 0.94366197 0.87323944 0.74647887\n",
      " 0.81690141 0.8028169  0.78873239 0.91549296]\n",
      "Fitting 5 folds for each of 18 candidates, totalling 90 fits\n",
      "Fitting 5 folds for each of 18 candidates, totalling 90 fits\n",
      "Fitting 5 folds for each of 18 candidates, totalling 90 fits\n",
      "Fitting 5 folds for each of 18 candidates, totalling 90 fits\n",
      "Fitting 5 folds for each of 18 candidates, totalling 90 fits\n",
      "Fitting 5 folds for each of 18 candidates, totalling 90 fits\n",
      "Fitting 5 folds for each of 18 candidates, totalling 90 fits\n",
      "Fitting 5 folds for each of 18 candidates, totalling 90 fits\n",
      "Fitting 5 folds for each of 18 candidates, totalling 90 fits\n",
      "Fitting 5 folds for each of 18 candidates, totalling 90 fits\n",
      "voting_clf_all_soft mean : 0.8314162754303599\n"
     ]
    }
   ],
   "source": [
    "voting_clf_hard = VotingClassifier(estimators = [('gradient',best_gbc),('rf',best_rf),('svc',best_svc)], voting = 'hard') \n",
    "voting_clf_soft = VotingClassifier(estimators = [('gradient',best_gbc),('rf',best_rf),('svc',best_svc)], voting = 'soft') \n",
    "voting_clf_all_hard = VotingClassifier(estimators = [('arvore',best_tree),('knn',best_knn),('rf',best_rf),('svc',best_svc),('lr', best_lr),('RNA',best_clf_rna),('gradient',best_gbc)], voting = 'hard') \n",
    "voting_clf_all_soft = VotingClassifier(estimators = [('arvore',best_tree),('knn',best_knn),('rf',best_rf),('svc',best_svc),('lr', best_lr),('RNA',best_clf_rna),('gradient',best_gbc)], voting = 'soft')\n",
    "\n",
    "print('voting_clf_hard :',cross_val_score(voting_clf_hard,X_train,y_train,cv=10))\n",
    "print('voting_clf_hard mean :',cross_val_score(voting_clf_hard,X_train,y_train,cv=10).mean())\n",
    "\n",
    "print('voting_clf_soft :',cross_val_score(voting_clf_soft,X_train,y_train,cv=10))\n",
    "print('voting_clf_soft mean :',cross_val_score(voting_clf_soft,X_train,y_train,cv=10).mean())\n",
    "\n",
    "print('voting_clf_all_hard :',cross_val_score(voting_clf_all_hard,X_train,y_train,cv=10))\n",
    "print('voting_clf_all_hard mean :',cross_val_score(voting_clf_all_hard,X_train,y_train,cv=10).mean())\n",
    "\n",
    "print('voting_clf_all_soft :',cross_val_score(voting_clf_all_soft,X_train,y_train,cv=10))\n",
    "print('voting_clf_all_soft mean :',cross_val_score(voting_clf_all_soft,X_train,y_train,cv=10).mean())"
   ]
  },
  {
   "cell_type": "code",
   "execution_count": 54,
   "id": "bbeb5380",
   "metadata": {
    "tags": []
   },
   "outputs": [
    {
     "name": "stdout",
     "output_type": "stream",
     "text": [
      "Fitting 5 folds for each of 18 candidates, totalling 90 fits\n",
      "Fitting 5 folds for each of 18 candidates, totalling 90 fits\n"
     ]
    }
   ],
   "source": [
    "# Fazendo os treinamentos e previsões finais\n",
    "voting_clf_hard.fit(X_train, y_train)\n",
    "voting_clf_soft.fit(X_train, y_train)\n",
    "voting_clf_all_hard.fit(X_train, y_train)\n",
    "voting_clf_all_soft.fit(X_train, y_train)\n",
    "best_rf.fit(X_train, y_train)\n",
    "best_gbc.fit(X_train, y_train)\n",
    "best_svc.fit(X_train, y_train)\n",
    "\n",
    "# Individual\n",
    "y_hat_rf = best_rf.predict(test).astype(int)\n",
    "y_hat_gbc = best_gbc.predict(test).astype(int)\n",
    "y_hat_svc = best_svc.predict(test).astype(int)\n",
    "\n",
    "# Votação\n",
    "y_hat_vc_hard = voting_clf_hard.predict(test).astype(int)\n",
    "y_hat_vc_soft =  voting_clf_soft.predict(test).astype(int)\n",
    "y_hat_vc_all_hard = voting_clf_all_hard.predict(test).astype(int)\n",
    "y_hat_vc_all_soft = voting_clf_all_soft.predict(test).astype(int)"
   ]
  },
  {
   "cell_type": "markdown",
   "id": "a9dc582b-ba10-46b8-8f47-be27d285bc92",
   "metadata": {},
   "source": [
    "# Final Results"
   ]
  },
  {
   "cell_type": "code",
   "execution_count": 55,
   "id": "ad384509",
   "metadata": {
    "tags": []
   },
   "outputs": [],
   "source": [
    "# Convertendo os resultados finais em um DataFrame\n",
    "final_data = {'PassengerId': PassengerId, 'Survived': y_hat_rf}\n",
    "random_forest = pd.DataFrame(data=final_data)\n",
    "\n",
    "final_data_2 = {'PassengerId': PassengerId, 'Survived': y_hat_gbc}\n",
    "gradient = pd.DataFrame(data=final_data_2)\n",
    "\n",
    "final_data_3 = {'PassengerId': PassengerId, 'Survived': y_hat_svc}\n",
    "svm = pd.DataFrame(data=final_data_3)\n",
    "\n",
    "final_data_4 = {'PassengerId': PassengerId, 'Survived': y_hat_vc_hard}\n",
    "rf_gb_svm_hard = pd.DataFrame(data=final_data_4)\n",
    "\n",
    "final_data_5 = {'PassengerId': PassengerId, 'Survived': y_hat_vc_soft}\n",
    "rf_gb_svm_soft = pd.DataFrame(data=final_data_5)\n",
    "\n",
    "final_data_6 = {'PassengerId': PassengerId, 'Survived': y_hat_vc_all_hard}\n",
    "all_hard = pd.DataFrame(data=final_data_6)\n",
    "\n",
    "final_data_7 = {'PassengerId': PassengerId, 'Survived': y_hat_vc_all_soft}\n",
    "all_soft = pd.DataFrame(data=final_data_7)"
   ]
  },
  {
   "cell_type": "code",
   "execution_count": 56,
   "id": "b12d0625",
   "metadata": {
    "tags": []
   },
   "outputs": [],
   "source": [
    "# Submissão ao Kaggle\n",
    "random_forest.to_csv('random_forest.csv', index =False)\n",
    "gradient.to_csv('gradient.csv',index=False)\n",
    "svm.to_csv('svm.csv', index=False)\n",
    "rf_gb_svm_hard.to_csv('rf_gb_svm_hard.csv', index=False)\n",
    "rf_gb_svm_soft.to_csv('rf_gb_svm_soft.csv', index=False)\n",
    "all_hard.to_csv('all_hard.csv', index=False)\n",
    "all_soft.to_csv('all_soft.csv', index=False)"
   ]
  },
  {
   "cell_type": "code",
   "execution_count": null,
   "id": "7d674f7e-335d-4cf2-b257-6d3d12ba52b4",
   "metadata": {},
   "outputs": [],
   "source": []
  }
 ],
 "metadata": {
  "kernelspec": {
   "display_name": "Python 3 (ipykernel)",
   "language": "python",
   "name": "python3"
  },
  "language_info": {
   "codemirror_mode": {
    "name": "ipython",
    "version": 3
   },
   "file_extension": ".py",
   "mimetype": "text/x-python",
   "name": "python",
   "nbconvert_exporter": "python",
   "pygments_lexer": "ipython3",
   "version": "3.11.5"
  }
 },
 "nbformat": 4,
 "nbformat_minor": 5
}
